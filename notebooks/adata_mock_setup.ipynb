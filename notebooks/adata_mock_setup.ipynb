{
 "cells": [
  {
   "cell_type": "code",
   "execution_count": 1,
   "id": "afa84e2f",
   "metadata": {},
   "outputs": [
    {
     "name": "stderr",
     "output_type": "stream",
     "text": [
      "Global seed set to 0\n"
     ]
    }
   ],
   "source": [
    "import numpy as np\n",
    "import pandas as pd\n",
    "import scanpy as sc\n",
    "import torch as nn\n",
    "import warnings\n",
    "import anndata as ann\n",
    "\n",
    "from collections import defaultdict\n",
    "\n",
    "import scvi\n",
    "from scvi.dataloaders._ann_dataloader import AnnDataLoader\n",
    "\n",
    "from pynndescent import NNDescent\n",
    "from sklearn.utils.extmath import randomized_svd"
   ]
  },
  {
   "cell_type": "markdown",
   "id": "4b0ae8a7",
   "metadata": {},
   "source": [
    "## Input data"
   ]
  },
  {
   "cell_type": "code",
   "execution_count": 2,
   "id": "1a77f399",
   "metadata": {},
   "outputs": [],
   "source": [
    "adata=sc.AnnData(np.ones((4,5))*[1,2,3,4,5],\n",
    "                obsm={'species_ratio':np.array([ # Species ratios\n",
    "                    [1,0],\n",
    "                    [0,1],\n",
    "                    [0.5,0.5],\n",
    "                    [0.1,0.9]]),\n",
    "                    'eval_o':np.array([0,0,0,1]).reshape(-1,1), # Eval only orthologues},\n",
    "                    'cov_species':np.ones((4,2,1))*[[1],[2]]}, # Species-metadata map\n",
    "                var=pd.DataFrame({'species':['K']*3+['L']*2},\n",
    "                                index=['a','b','c','d','e']), # Species of gene\n",
    "                uns={'orthologues':pd.DataFrame({'K':['c'],'L':['d']}), # Orthgologue map\n",
    "                    'species_order':['K','L']}) # Order of species\n",
    "            "
   ]
  },
  {
   "cell_type": "code",
   "execution_count": 246,
   "id": "35fa6017",
   "metadata": {},
   "outputs": [
    {
     "data": {
      "text/plain": [
       "AnnData object with n_obs × n_vars = 4 × 5\n",
       "    var: 'species'\n",
       "    uns: 'orthologues', 'species_order'\n",
       "    obsm: 'species_ratio', 'eval_o', 'cov_species'"
      ]
     },
     "execution_count": 246,
     "metadata": {},
     "output_type": "execute_result"
    }
   ],
   "source": [
    "adata"
   ]
  },
  {
   "cell_type": "code",
   "execution_count": 247,
   "id": "9063ae05",
   "metadata": {},
   "outputs": [
    {
     "name": "stdout",
     "output_type": "stream",
     "text": [
      "X\n"
     ]
    },
    {
     "data": {
      "text/html": [
       "<div>\n",
       "<style scoped>\n",
       "    .dataframe tbody tr th:only-of-type {\n",
       "        vertical-align: middle;\n",
       "    }\n",
       "\n",
       "    .dataframe tbody tr th {\n",
       "        vertical-align: top;\n",
       "    }\n",
       "\n",
       "    .dataframe thead th {\n",
       "        text-align: right;\n",
       "    }\n",
       "</style>\n",
       "<table border=\"1\" class=\"dataframe\">\n",
       "  <thead>\n",
       "    <tr style=\"text-align: right;\">\n",
       "      <th></th>\n",
       "      <th>a</th>\n",
       "      <th>b</th>\n",
       "      <th>c</th>\n",
       "      <th>d</th>\n",
       "      <th>e</th>\n",
       "    </tr>\n",
       "  </thead>\n",
       "  <tbody>\n",
       "    <tr>\n",
       "      <th>0</th>\n",
       "      <td>1.0</td>\n",
       "      <td>2.0</td>\n",
       "      <td>3.0</td>\n",
       "      <td>4.0</td>\n",
       "      <td>5.0</td>\n",
       "    </tr>\n",
       "    <tr>\n",
       "      <th>1</th>\n",
       "      <td>1.0</td>\n",
       "      <td>2.0</td>\n",
       "      <td>3.0</td>\n",
       "      <td>4.0</td>\n",
       "      <td>5.0</td>\n",
       "    </tr>\n",
       "    <tr>\n",
       "      <th>2</th>\n",
       "      <td>1.0</td>\n",
       "      <td>2.0</td>\n",
       "      <td>3.0</td>\n",
       "      <td>4.0</td>\n",
       "      <td>5.0</td>\n",
       "    </tr>\n",
       "    <tr>\n",
       "      <th>3</th>\n",
       "      <td>1.0</td>\n",
       "      <td>2.0</td>\n",
       "      <td>3.0</td>\n",
       "      <td>4.0</td>\n",
       "      <td>5.0</td>\n",
       "    </tr>\n",
       "  </tbody>\n",
       "</table>\n",
       "</div>"
      ],
      "text/plain": [
       "     a    b    c    d    e\n",
       "0  1.0  2.0  3.0  4.0  5.0\n",
       "1  1.0  2.0  3.0  4.0  5.0\n",
       "2  1.0  2.0  3.0  4.0  5.0\n",
       "3  1.0  2.0  3.0  4.0  5.0"
      ]
     },
     "metadata": {},
     "output_type": "display_data"
    },
    {
     "name": "stdout",
     "output_type": "stream",
     "text": [
      "var\n"
     ]
    },
    {
     "data": {
      "text/html": [
       "<div>\n",
       "<style scoped>\n",
       "    .dataframe tbody tr th:only-of-type {\n",
       "        vertical-align: middle;\n",
       "    }\n",
       "\n",
       "    .dataframe tbody tr th {\n",
       "        vertical-align: top;\n",
       "    }\n",
       "\n",
       "    .dataframe thead th {\n",
       "        text-align: right;\n",
       "    }\n",
       "</style>\n",
       "<table border=\"1\" class=\"dataframe\">\n",
       "  <thead>\n",
       "    <tr style=\"text-align: right;\">\n",
       "      <th></th>\n",
       "      <th>species</th>\n",
       "    </tr>\n",
       "  </thead>\n",
       "  <tbody>\n",
       "    <tr>\n",
       "      <th>a</th>\n",
       "      <td>K</td>\n",
       "    </tr>\n",
       "    <tr>\n",
       "      <th>b</th>\n",
       "      <td>K</td>\n",
       "    </tr>\n",
       "    <tr>\n",
       "      <th>c</th>\n",
       "      <td>K</td>\n",
       "    </tr>\n",
       "    <tr>\n",
       "      <th>d</th>\n",
       "      <td>L</td>\n",
       "    </tr>\n",
       "    <tr>\n",
       "      <th>e</th>\n",
       "      <td>L</td>\n",
       "    </tr>\n",
       "  </tbody>\n",
       "</table>\n",
       "</div>"
      ],
      "text/plain": [
       "  species\n",
       "a       K\n",
       "b       K\n",
       "c       K\n",
       "d       L\n",
       "e       L"
      ]
     },
     "metadata": {},
     "output_type": "display_data"
    },
    {
     "name": "stdout",
     "output_type": "stream",
     "text": [
      "uns orthologues\n"
     ]
    },
    {
     "data": {
      "text/html": [
       "<div>\n",
       "<style scoped>\n",
       "    .dataframe tbody tr th:only-of-type {\n",
       "        vertical-align: middle;\n",
       "    }\n",
       "\n",
       "    .dataframe tbody tr th {\n",
       "        vertical-align: top;\n",
       "    }\n",
       "\n",
       "    .dataframe thead th {\n",
       "        text-align: right;\n",
       "    }\n",
       "</style>\n",
       "<table border=\"1\" class=\"dataframe\">\n",
       "  <thead>\n",
       "    <tr style=\"text-align: right;\">\n",
       "      <th></th>\n",
       "      <th>K</th>\n",
       "      <th>L</th>\n",
       "    </tr>\n",
       "  </thead>\n",
       "  <tbody>\n",
       "    <tr>\n",
       "      <th>0</th>\n",
       "      <td>c</td>\n",
       "      <td>d</td>\n",
       "    </tr>\n",
       "  </tbody>\n",
       "</table>\n",
       "</div>"
      ],
      "text/plain": [
       "   K  L\n",
       "0  c  d"
      ]
     },
     "metadata": {},
     "output_type": "display_data"
    },
    {
     "name": "stdout",
     "output_type": "stream",
     "text": [
      "uns species_order\n"
     ]
    },
    {
     "data": {
      "text/plain": [
       "['K', 'L']"
      ]
     },
     "metadata": {},
     "output_type": "display_data"
    },
    {
     "name": "stdout",
     "output_type": "stream",
     "text": [
      "obsm species_ratio\n"
     ]
    },
    {
     "data": {
      "text/plain": [
       "array([[1. , 0. ],\n",
       "       [0. , 1. ],\n",
       "       [0.5, 0.5],\n",
       "       [0.1, 0.9]])"
      ]
     },
     "metadata": {},
     "output_type": "display_data"
    },
    {
     "name": "stdout",
     "output_type": "stream",
     "text": [
      "obsm eval_o\n"
     ]
    },
    {
     "data": {
      "text/plain": [
       "array([[0],\n",
       "       [0],\n",
       "       [0],\n",
       "       [1]])"
      ]
     },
     "metadata": {},
     "output_type": "display_data"
    },
    {
     "name": "stdout",
     "output_type": "stream",
     "text": [
      "obsm cov_species\n"
     ]
    },
    {
     "data": {
      "text/plain": [
       "array([[[1.],\n",
       "        [2.]],\n",
       "\n",
       "       [[1.],\n",
       "        [2.]],\n",
       "\n",
       "       [[1.],\n",
       "        [2.]],\n",
       "\n",
       "       [[1.],\n",
       "        [2.]]])"
      ]
     },
     "metadata": {},
     "output_type": "display_data"
    }
   ],
   "source": [
    "print('X')\n",
    "display(adata.to_df())\n",
    "print('var')\n",
    "display(adata.var)\n",
    "for k,v in adata.uns.items():\n",
    "    print('uns',k)\n",
    "    display(v)\n",
    "for k,v in adata.obsm.items():\n",
    "    print('obsm',k)\n",
    "    display(v)"
   ]
  },
  {
   "cell_type": "code",
   "execution_count": 3,
   "id": "c91e9338",
   "metadata": {},
   "outputs": [
    {
     "name": "stdout",
     "output_type": "stream",
     "text": [
      "\u001b[34mINFO    \u001b[0m No batch_key inputted, assuming all cells are same batch                            \n",
      "\u001b[34mINFO    \u001b[0m No label_key inputted, assuming all cells have same label                           \n",
      "\u001b[34mINFO    \u001b[0m Using data from adata.X                                                             \n",
      "\u001b[34mINFO    \u001b[0m Successfully registered anndata object containing \u001b[1;36m4\u001b[0m cells, \u001b[1;36m5\u001b[0m vars, \u001b[1;36m1\u001b[0m batches, \u001b[1;36m1\u001b[0m     \n",
      "         labels, and \u001b[1;36m0\u001b[0m proteins. Also registered \u001b[1;36m0\u001b[0m extra categorical covariates and \u001b[1;36m0\u001b[0m extra  \n",
      "         continuous covariates.                                                              \n",
      "\u001b[34mINFO    \u001b[0m Please do not further modify adata until model is trained.                          \n"
     ]
    },
    {
     "name": "stderr",
     "output_type": "stream",
     "text": [
      "/Users/karin.hrovatin/opt/miniconda3/envs/csp/lib/python3.8/site-packages/sklearn/utils/deprecation.py:87: FutureWarning: Function setup_anndata is deprecated; Please use the model-specific setup_anndata methods instead. The global method will be removed in version 0.15.0.\n",
      "  warnings.warn(msg, category=FutureWarning)\n"
     ]
    }
   ],
   "source": [
    "scvi.data.setup_anndata(adata)\n",
    "scvi.data.register_tensor_from_anndata(\n",
    "    adata=adata,\n",
    "    adata_attr_name=\"obsm\",\n",
    "    adata_key_name='species_ratio',\n",
    "    registry_key=\"species_ratio\",\n",
    "    is_categorical=False,\n",
    ")\n",
    "scvi.data.register_tensor_from_anndata(\n",
    "    adata=adata,\n",
    "    adata_attr_name=\"obsm\",\n",
    "    adata_key_name='eval_o',\n",
    "    registry_key=\"eval_o\",\n",
    "    is_categorical=False,\n",
    ")\n",
    "scvi.data.register_tensor_from_anndata(\n",
    "    adata=adata,\n",
    "    adata_attr_name=\"obsm\",\n",
    "    adata_key_name='cov_species',\n",
    "    registry_key=\"cov_species\",\n",
    "    is_categorical=False,\n",
    ")"
   ]
  },
  {
   "cell_type": "code",
   "execution_count": 249,
   "id": "bc954829",
   "metadata": {},
   "outputs": [
    {
     "data": {
      "text/plain": [
       "AnnData object with n_obs × n_vars = 4 × 5\n",
       "    obs: '_scvi_batch', '_scvi_labels'\n",
       "    var: 'species'\n",
       "    uns: 'orthologues', 'species_order', '_scvi'\n",
       "    obsm: 'species_ratio', 'eval_o', 'cov_species'"
      ]
     },
     "execution_count": 249,
     "metadata": {},
     "output_type": "execute_result"
    }
   ],
   "source": [
    "adata"
   ]
  },
  {
   "cell_type": "code",
   "execution_count": 250,
   "id": "025c37e6",
   "metadata": {},
   "outputs": [
    {
     "name": "stderr",
     "output_type": "stream",
     "text": [
      "/Users/karin.hrovatin/opt/miniconda3/envs/csp/lib/python3.8/site-packages/sklearn/utils/deprecation.py:87: FutureWarning: Function view_anndata_setup is deprecated; This method will be removed in 0.15.0. Please avoid building any new dependencies on it.\n",
      "  warnings.warn(msg, category=FutureWarning)\n"
     ]
    },
    {
     "data": {
      "text/html": [
       "<pre style=\"white-space:pre;overflow-x:auto;line-height:normal;font-family:Menlo,'DejaVu Sans Mono',consolas,'Courier New',monospace\">Anndata setup with scvi-tools version <span style=\"color: #008080; text-decoration-color: #008080; font-weight: bold\">0.0</span>.<span style=\"color: #008080; text-decoration-color: #008080; font-weight: bold\">0</span>.\n",
       "</pre>\n"
      ],
      "text/plain": [
       "Anndata setup with scvi-tools version \u001b[1;36m0.0\u001b[0m.\u001b[1;36m0\u001b[0m.\n"
      ]
     },
     "metadata": {},
     "output_type": "display_data"
    },
    {
     "data": {
      "text/html": [
       "<pre style=\"white-space:pre;overflow-x:auto;line-height:normal;font-family:Menlo,'DejaVu Sans Mono',consolas,'Courier New',monospace\"><span style=\"font-style: italic\">              Data Summary              </span>\n",
       "┏━━━━━━━━━━━━━━━━━━━━━━━━━━━━━━┳━━━━━━━┓\n",
       "┃<span style=\"font-weight: bold\">             Data             </span>┃<span style=\"font-weight: bold\"> Count </span>┃\n",
       "┡━━━━━━━━━━━━━━━━━━━━━━━━━━━━━━╇━━━━━━━┩\n",
       "│<span style=\"color: #0087ff; text-decoration-color: #0087ff\">            Cells             </span>│<span style=\"color: #af00d7; text-decoration-color: #af00d7\">   4   </span>│\n",
       "│<span style=\"color: #0087ff; text-decoration-color: #0087ff\">             Vars             </span>│<span style=\"color: #af00d7; text-decoration-color: #af00d7\">   5   </span>│\n",
       "│<span style=\"color: #0087ff; text-decoration-color: #0087ff\">            Labels            </span>│<span style=\"color: #af00d7; text-decoration-color: #af00d7\">   1   </span>│\n",
       "│<span style=\"color: #0087ff; text-decoration-color: #0087ff\">           Batches            </span>│<span style=\"color: #af00d7; text-decoration-color: #af00d7\">   1   </span>│\n",
       "│<span style=\"color: #0087ff; text-decoration-color: #0087ff\">           Proteins           </span>│<span style=\"color: #af00d7; text-decoration-color: #af00d7\">   0   </span>│\n",
       "│<span style=\"color: #0087ff; text-decoration-color: #0087ff\"> Extra Categorical Covariates </span>│<span style=\"color: #af00d7; text-decoration-color: #af00d7\">   0   </span>│\n",
       "│<span style=\"color: #0087ff; text-decoration-color: #0087ff\"> Extra Continuous Covariates  </span>│<span style=\"color: #af00d7; text-decoration-color: #af00d7\">   0   </span>│\n",
       "└──────────────────────────────┴───────┘\n",
       "</pre>\n"
      ],
      "text/plain": [
       "\u001b[3m              Data Summary              \u001b[0m\n",
       "┏━━━━━━━━━━━━━━━━━━━━━━━━━━━━━━┳━━━━━━━┓\n",
       "┃\u001b[1m \u001b[0m\u001b[1m            Data            \u001b[0m\u001b[1m \u001b[0m┃\u001b[1m \u001b[0m\u001b[1mCount\u001b[0m\u001b[1m \u001b[0m┃\n",
       "┡━━━━━━━━━━━━━━━━━━━━━━━━━━━━━━╇━━━━━━━┩\n",
       "│\u001b[38;5;33m \u001b[0m\u001b[38;5;33m           Cells            \u001b[0m\u001b[38;5;33m \u001b[0m│\u001b[38;5;128m \u001b[0m\u001b[38;5;128m  4  \u001b[0m\u001b[38;5;128m \u001b[0m│\n",
       "│\u001b[38;5;33m \u001b[0m\u001b[38;5;33m            Vars            \u001b[0m\u001b[38;5;33m \u001b[0m│\u001b[38;5;128m \u001b[0m\u001b[38;5;128m  5  \u001b[0m\u001b[38;5;128m \u001b[0m│\n",
       "│\u001b[38;5;33m \u001b[0m\u001b[38;5;33m           Labels           \u001b[0m\u001b[38;5;33m \u001b[0m│\u001b[38;5;128m \u001b[0m\u001b[38;5;128m  1  \u001b[0m\u001b[38;5;128m \u001b[0m│\n",
       "│\u001b[38;5;33m \u001b[0m\u001b[38;5;33m          Batches           \u001b[0m\u001b[38;5;33m \u001b[0m│\u001b[38;5;128m \u001b[0m\u001b[38;5;128m  1  \u001b[0m\u001b[38;5;128m \u001b[0m│\n",
       "│\u001b[38;5;33m \u001b[0m\u001b[38;5;33m          Proteins          \u001b[0m\u001b[38;5;33m \u001b[0m│\u001b[38;5;128m \u001b[0m\u001b[38;5;128m  0  \u001b[0m\u001b[38;5;128m \u001b[0m│\n",
       "│\u001b[38;5;33m \u001b[0m\u001b[38;5;33mExtra Categorical Covariates\u001b[0m\u001b[38;5;33m \u001b[0m│\u001b[38;5;128m \u001b[0m\u001b[38;5;128m  0  \u001b[0m\u001b[38;5;128m \u001b[0m│\n",
       "│\u001b[38;5;33m \u001b[0m\u001b[38;5;33mExtra Continuous Covariates \u001b[0m\u001b[38;5;33m \u001b[0m│\u001b[38;5;128m \u001b[0m\u001b[38;5;128m  0  \u001b[0m\u001b[38;5;128m \u001b[0m│\n",
       "└──────────────────────────────┴───────┘\n"
      ]
     },
     "metadata": {},
     "output_type": "display_data"
    },
    {
     "data": {
      "text/html": [
       "<pre style=\"white-space:pre;overflow-x:auto;line-height:normal;font-family:Menlo,'DejaVu Sans Mono',consolas,'Courier New',monospace\"><span style=\"font-style: italic\">              SCVI Data Registry               </span>\n",
       "┏━━━━━━━━━━━━━━━┳━━━━━━━━━━━━━━━━━━━━━━━━━━━━━┓\n",
       "┃<span style=\"font-weight: bold\">     Data      </span>┃<span style=\"font-weight: bold\">     scvi-tools Location     </span>┃\n",
       "┡━━━━━━━━━━━━━━━╇━━━━━━━━━━━━━━━━━━━━━━━━━━━━━┩\n",
       "│<span style=\"color: #0087ff; text-decoration-color: #0087ff\">       X       </span>│<span style=\"color: #af00d7; text-decoration-color: #af00d7\">           adata.X           </span>│\n",
       "│<span style=\"color: #0087ff; text-decoration-color: #0087ff\"> batch_indices </span>│<span style=\"color: #af00d7; text-decoration-color: #af00d7\">  adata.obs['_scvi_batch']   </span>│\n",
       "│<span style=\"color: #0087ff; text-decoration-color: #0087ff\">    labels     </span>│<span style=\"color: #af00d7; text-decoration-color: #af00d7\">  adata.obs['_scvi_labels']  </span>│\n",
       "│<span style=\"color: #0087ff; text-decoration-color: #0087ff\"> species_ratio </span>│<span style=\"color: #af00d7; text-decoration-color: #af00d7\"> adata.obsm['species_ratio'] </span>│\n",
       "│<span style=\"color: #0087ff; text-decoration-color: #0087ff\">    eval_o     </span>│<span style=\"color: #af00d7; text-decoration-color: #af00d7\">    adata.obsm['eval_o']     </span>│\n",
       "│<span style=\"color: #0087ff; text-decoration-color: #0087ff\">  cov_species  </span>│<span style=\"color: #af00d7; text-decoration-color: #af00d7\">  adata.obsm['cov_species']  </span>│\n",
       "└───────────────┴─────────────────────────────┘\n",
       "</pre>\n"
      ],
      "text/plain": [
       "\u001b[3m              SCVI Data Registry               \u001b[0m\n",
       "┏━━━━━━━━━━━━━━━┳━━━━━━━━━━━━━━━━━━━━━━━━━━━━━┓\n",
       "┃\u001b[1m \u001b[0m\u001b[1m    Data     \u001b[0m\u001b[1m \u001b[0m┃\u001b[1m \u001b[0m\u001b[1m    scvi-tools Location    \u001b[0m\u001b[1m \u001b[0m┃\n",
       "┡━━━━━━━━━━━━━━━╇━━━━━━━━━━━━━━━━━━━━━━━━━━━━━┩\n",
       "│\u001b[38;5;33m \u001b[0m\u001b[38;5;33m      X      \u001b[0m\u001b[38;5;33m \u001b[0m│\u001b[38;5;128m \u001b[0m\u001b[38;5;128m          adata.X          \u001b[0m\u001b[38;5;128m \u001b[0m│\n",
       "│\u001b[38;5;33m \u001b[0m\u001b[38;5;33mbatch_indices\u001b[0m\u001b[38;5;33m \u001b[0m│\u001b[38;5;128m \u001b[0m\u001b[38;5;128m adata.obs['_scvi_batch']  \u001b[0m\u001b[38;5;128m \u001b[0m│\n",
       "│\u001b[38;5;33m \u001b[0m\u001b[38;5;33m   labels    \u001b[0m\u001b[38;5;33m \u001b[0m│\u001b[38;5;128m \u001b[0m\u001b[38;5;128m adata.obs['_scvi_labels'] \u001b[0m\u001b[38;5;128m \u001b[0m│\n",
       "│\u001b[38;5;33m \u001b[0m\u001b[38;5;33mspecies_ratio\u001b[0m\u001b[38;5;33m \u001b[0m│\u001b[38;5;128m \u001b[0m\u001b[38;5;128madata.obsm['species_ratio']\u001b[0m\u001b[38;5;128m \u001b[0m│\n",
       "│\u001b[38;5;33m \u001b[0m\u001b[38;5;33m   eval_o    \u001b[0m\u001b[38;5;33m \u001b[0m│\u001b[38;5;128m \u001b[0m\u001b[38;5;128m   adata.obsm['eval_o']    \u001b[0m\u001b[38;5;128m \u001b[0m│\n",
       "│\u001b[38;5;33m \u001b[0m\u001b[38;5;33m cov_species \u001b[0m\u001b[38;5;33m \u001b[0m│\u001b[38;5;128m \u001b[0m\u001b[38;5;128m adata.obsm['cov_species'] \u001b[0m\u001b[38;5;128m \u001b[0m│\n",
       "└───────────────┴─────────────────────────────┘\n"
      ]
     },
     "metadata": {},
     "output_type": "display_data"
    },
    {
     "data": {
      "text/html": [
       "<pre style=\"white-space:pre;overflow-x:auto;line-height:normal;font-family:Menlo,'DejaVu Sans Mono',consolas,'Courier New',monospace\"><span style=\"font-style: italic\">                        Label Categories                        </span>\n",
       "┏━━━━━━━━━━━━━━━━━━━━━━━━━━━┳━━━━━━━━━━━━┳━━━━━━━━━━━━━━━━━━━━━┓\n",
       "┃<span style=\"font-weight: bold\">      Source Location      </span>┃<span style=\"font-weight: bold\"> Categories </span>┃<span style=\"font-weight: bold\"> scvi-tools Encoding </span>┃\n",
       "┡━━━━━━━━━━━━━━━━━━━━━━━━━━━╇━━━━━━━━━━━━╇━━━━━━━━━━━━━━━━━━━━━┩\n",
       "│<span style=\"color: #0087ff; text-decoration-color: #0087ff\"> adata.obs['_scvi_labels'] </span>│<span style=\"color: #008000; text-decoration-color: #008000\">     0      </span>│<span style=\"color: #af00d7; text-decoration-color: #af00d7\">          0          </span>│\n",
       "└───────────────────────────┴────────────┴─────────────────────┘\n",
       "</pre>\n"
      ],
      "text/plain": [
       "\u001b[3m                        Label Categories                        \u001b[0m\n",
       "┏━━━━━━━━━━━━━━━━━━━━━━━━━━━┳━━━━━━━━━━━━┳━━━━━━━━━━━━━━━━━━━━━┓\n",
       "┃\u001b[1m \u001b[0m\u001b[1m     Source Location     \u001b[0m\u001b[1m \u001b[0m┃\u001b[1m \u001b[0m\u001b[1mCategories\u001b[0m\u001b[1m \u001b[0m┃\u001b[1m \u001b[0m\u001b[1mscvi-tools Encoding\u001b[0m\u001b[1m \u001b[0m┃\n",
       "┡━━━━━━━━━━━━━━━━━━━━━━━━━━━╇━━━━━━━━━━━━╇━━━━━━━━━━━━━━━━━━━━━┩\n",
       "│\u001b[38;5;33m \u001b[0m\u001b[38;5;33madata.obs['_scvi_labels']\u001b[0m\u001b[38;5;33m \u001b[0m│\u001b[32m \u001b[0m\u001b[32m    0     \u001b[0m\u001b[32m \u001b[0m│\u001b[38;5;128m \u001b[0m\u001b[38;5;128m         0         \u001b[0m\u001b[38;5;128m \u001b[0m│\n",
       "└───────────────────────────┴────────────┴─────────────────────┘\n"
      ]
     },
     "metadata": {},
     "output_type": "display_data"
    },
    {
     "data": {
      "text/html": [
       "<pre style=\"white-space:pre;overflow-x:auto;line-height:normal;font-family:Menlo,'DejaVu Sans Mono',consolas,'Courier New',monospace\"><span style=\"font-style: italic\">                       Batch Categories                        </span>\n",
       "┏━━━━━━━━━━━━━━━━━━━━━━━━━━┳━━━━━━━━━━━━┳━━━━━━━━━━━━━━━━━━━━━┓\n",
       "┃<span style=\"font-weight: bold\">     Source Location      </span>┃<span style=\"font-weight: bold\"> Categories </span>┃<span style=\"font-weight: bold\"> scvi-tools Encoding </span>┃\n",
       "┡━━━━━━━━━━━━━━━━━━━━━━━━━━╇━━━━━━━━━━━━╇━━━━━━━━━━━━━━━━━━━━━┩\n",
       "│<span style=\"color: #0087ff; text-decoration-color: #0087ff\"> adata.obs['_scvi_batch'] </span>│<span style=\"color: #008000; text-decoration-color: #008000\">     0      </span>│<span style=\"color: #af00d7; text-decoration-color: #af00d7\">          0          </span>│\n",
       "└──────────────────────────┴────────────┴─────────────────────┘\n",
       "</pre>\n"
      ],
      "text/plain": [
       "\u001b[3m                       Batch Categories                        \u001b[0m\n",
       "┏━━━━━━━━━━━━━━━━━━━━━━━━━━┳━━━━━━━━━━━━┳━━━━━━━━━━━━━━━━━━━━━┓\n",
       "┃\u001b[1m \u001b[0m\u001b[1m    Source Location     \u001b[0m\u001b[1m \u001b[0m┃\u001b[1m \u001b[0m\u001b[1mCategories\u001b[0m\u001b[1m \u001b[0m┃\u001b[1m \u001b[0m\u001b[1mscvi-tools Encoding\u001b[0m\u001b[1m \u001b[0m┃\n",
       "┡━━━━━━━━━━━━━━━━━━━━━━━━━━╇━━━━━━━━━━━━╇━━━━━━━━━━━━━━━━━━━━━┩\n",
       "│\u001b[38;5;33m \u001b[0m\u001b[38;5;33madata.obs['_scvi_batch']\u001b[0m\u001b[38;5;33m \u001b[0m│\u001b[32m \u001b[0m\u001b[32m    0     \u001b[0m\u001b[32m \u001b[0m│\u001b[38;5;128m \u001b[0m\u001b[38;5;128m         0         \u001b[0m\u001b[38;5;128m \u001b[0m│\n",
       "└──────────────────────────┴────────────┴─────────────────────┘\n"
      ]
     },
     "metadata": {},
     "output_type": "display_data"
    }
   ],
   "source": [
    "scvi.data.view_anndata_setup(adata)"
   ]
  },
  {
   "cell_type": "code",
   "execution_count": 251,
   "id": "ba2edd0c",
   "metadata": {},
   "outputs": [
    {
     "data": {
      "text/plain": [
       "{'scvi_version': '0.0.0',\n",
       " 'categorical_mappings': {'_scvi_batch': {'original_key': '_scvi_batch',\n",
       "   'mapping': array([0])},\n",
       "  '_scvi_labels': {'original_key': '_scvi_labels', 'mapping': array([0])}},\n",
       " 'data_registry': {'X': {'attr_name': 'X', 'attr_key': 'None'},\n",
       "  'batch_indices': {'attr_name': 'obs', 'attr_key': '_scvi_batch'},\n",
       "  'labels': {'attr_name': 'obs', 'attr_key': '_scvi_labels'},\n",
       "  'species_ratio': {'attr_name': 'obsm', 'attr_key': 'species_ratio'},\n",
       "  'eval_o': {'attr_name': 'obsm', 'attr_key': 'eval_o'},\n",
       "  'cov_species': {'attr_name': 'obsm', 'attr_key': 'cov_species'}},\n",
       " 'summary_stats': {'n_batch': 1,\n",
       "  'n_cells': 4,\n",
       "  'n_vars': 5,\n",
       "  'n_labels': 1,\n",
       "  'n_proteins': 0,\n",
       "  'n_continuous_covs': 0}}"
      ]
     },
     "execution_count": 251,
     "metadata": {},
     "output_type": "execute_result"
    }
   ],
   "source": [
    "adata.uns['_scvi']"
   ]
  },
  {
   "cell_type": "code",
   "execution_count": 6,
   "id": "002ae401",
   "metadata": {},
   "outputs": [
    {
     "data": {
      "text/plain": [
       "{'X': {'attr_name': 'X', 'attr_key': 'None'},\n",
       " 'batch_indices': {'attr_name': 'obs', 'attr_key': '_scvi_batch'},\n",
       " 'labels': {'attr_name': 'obs', 'attr_key': '_scvi_labels'},\n",
       " 'species_ratio': {'attr_name': 'obsm', 'attr_key': 'species_ratio'},\n",
       " 'eval_o': {'attr_name': 'obsm', 'attr_key': 'eval_o'},\n",
       " 'cov_species': {'attr_name': 'obsm', 'attr_key': 'cov_species'}}"
      ]
     },
     "execution_count": 6,
     "metadata": {},
     "output_type": "execute_result"
    }
   ],
   "source": [
    "adata.uns['_scvi']['data_registry']"
   ]
  },
  {
   "cell_type": "code",
   "execution_count": 252,
   "id": "95d3371b",
   "metadata": {},
   "outputs": [
    {
     "data": {
      "text/plain": [
       "_CONSTANTS_NT(X_KEY='X', BATCH_KEY='batch_indices', LABELS_KEY='labels', PROTEIN_EXP_KEY='protein_expression', CAT_COVS_KEY='cat_covs', CONT_COVS_KEY='cont_covs')"
      ]
     },
     "execution_count": 252,
     "metadata": {},
     "output_type": "execute_result"
    }
   ],
   "source": [
    "scvi._CONSTANTS"
   ]
  },
  {
   "cell_type": "code",
   "execution_count": 253,
   "id": "7dfbaf42",
   "metadata": {},
   "outputs": [],
   "source": [
    "adl = AnnDataLoader(adata, shuffle=False, batch_size = 10)"
   ]
  },
  {
   "cell_type": "code",
   "execution_count": 254,
   "id": "e0fcdc21",
   "metadata": {},
   "outputs": [
    {
     "data": {
      "text/plain": [
       "{'X': tensor([[1., 2., 3., 4., 5.],\n",
       "         [1., 2., 3., 4., 5.],\n",
       "         [1., 2., 3., 4., 5.],\n",
       "         [1., 2., 3., 4., 5.]]),\n",
       " 'batch_indices': tensor([[0.],\n",
       "         [0.],\n",
       "         [0.],\n",
       "         [0.]]),\n",
       " 'labels': tensor([[0.],\n",
       "         [0.],\n",
       "         [0.],\n",
       "         [0.]]),\n",
       " 'species_ratio': tensor([[1.0000, 0.0000],\n",
       "         [0.0000, 1.0000],\n",
       "         [0.5000, 0.5000],\n",
       "         [0.1000, 0.9000]]),\n",
       " 'eval_o': tensor([[0.],\n",
       "         [0.],\n",
       "         [0.],\n",
       "         [1.]]),\n",
       " 'cov_species': tensor([[[1.],\n",
       "          [2.]],\n",
       " \n",
       "         [[1.],\n",
       "          [2.]],\n",
       " \n",
       "         [[1.],\n",
       "          [2.]],\n",
       " \n",
       "         [[1.],\n",
       "          [2.]]])}"
      ]
     },
     "execution_count": 254,
     "metadata": {},
     "output_type": "execute_result"
    }
   ],
   "source": [
    "data_batch = next(tensors for tensors in adl)\n",
    "data_batch"
   ]
  },
  {
   "cell_type": "markdown",
   "id": "bd4502ad",
   "metadata": {},
   "source": [
    "## Maps"
   ]
  },
  {
   "cell_type": "code",
   "execution_count": 255,
   "id": "41a3480c",
   "metadata": {
    "scrolled": true
   },
   "outputs": [
    {
     "data": {
      "text/plain": [
       "AnnData object with n_obs × n_vars = 4 × 5\n",
       "    obs: '_scvi_batch', '_scvi_labels'\n",
       "    var: 'species'\n",
       "    uns: 'orthologues', 'species_order', '_scvi'\n",
       "    obsm: 'species_ratio', 'eval_o', 'cov_species'"
      ]
     },
     "execution_count": 255,
     "metadata": {},
     "output_type": "execute_result"
    }
   ],
   "source": [
    "adata"
   ]
  },
  {
   "cell_type": "markdown",
   "id": "59a17e2c",
   "metadata": {},
   "source": [
    "### Gene maps"
   ]
  },
  {
   "cell_type": "code",
   "execution_count": 527,
   "id": "285272d1",
   "metadata": {},
   "outputs": [
    {
     "name": "stdout",
     "output_type": "stream",
     "text": [
      "{'c': 0, 'd': 0, 'a': 1, 'b': 2, 'e': 3}\n",
      "{'orthologues': 1, 'species_specific': [2, 1]}\n"
     ]
    },
    {
     "data": {
      "text/plain": [
       "tensor([[[0., 1., 0., 0.],\n",
       "         [0., 0., 1., 0.],\n",
       "         [1., 0., 0., 0.],\n",
       "         [0., 0., 0., 0.],\n",
       "         [0., 0., 0., 0.]],\n",
       "\n",
       "        [[0., 0., 0., 0.],\n",
       "         [0., 0., 0., 0.],\n",
       "         [0., 0., 0., 0.],\n",
       "         [1., 0., 0., 0.],\n",
       "         [0., 0., 0., 1.]]], dtype=torch.float64)"
      ]
     },
     "metadata": {},
     "output_type": "display_data"
    }
   ],
   "source": [
    "# Species gene maps\n",
    "\n",
    "# Map genes to orthologues (not species specific)\n",
    "\n",
    "# TODO add check that gene is only 1x in orthologues of species\n",
    "orthologues=adata.uns['orthologues'].values.ravel() \n",
    "n_genes=adata.var.shape[0]\n",
    "n_genes_mapped=n_genes-orthologues.shape[0]+adata.uns['orthologues'].shape[0]\n",
    "gene_map=np.zeros((n_genes,n_genes_mapped))\n",
    "\n",
    "# Map index to integers for latter determining orthologue position\n",
    "orthologues_df=adata.uns['orthologues'].copy()\n",
    "orthologues_df.index=range(adata.uns['orthologues'].shape[0])\n",
    "\n",
    "# Ensure orthologue and species ordering of genes\n",
    "# Orthologue order\n",
    "# Assumes that var names are unique across all species and each genes is in orthologues of species only 1x,\n",
    "# e.g. each gene name is present in orthologues_df only 1x # TODO check\n",
    "gene_order = {gene: idx\n",
    "                    for idx, data in orthologues_df.iterrows()\n",
    "                    for gene in data.values}\n",
    "\n",
    "# Number of genes per gene group\n",
    "# For orthologues specify number, for species-specific specify list with numbers per species\n",
    "gene_numbers = {'orthologues': orthologues_df.shape[0],\n",
    "                'species_specific': []}\n",
    "        \n",
    "# Species-specific order, starting at idx positions after orthologues\n",
    "idx = orthologues_df.shape[0]\n",
    "for species in adata.uns['species_order']:\n",
    "    n_species_specific = 0\n",
    "    genes_species = adata.var.query('species==@species').index\n",
    "    for gene in genes_species:\n",
    "        if gene not in orthologues:\n",
    "            gene_order[gene] = idx\n",
    "            idx += 1                    \n",
    "            n_species_specific += 1\n",
    "    gene_numbers['species_specific'].append(n_species_specific)\n",
    "print(gene_order)\n",
    "print(gene_numbers)\n",
    "\n",
    "# Map between original genes order and sorted genes with merged orthologues across species\n",
    "for gene_idx, gene in enumerate(adata.var.index):\n",
    "    gene_map[gene_idx, gene_order[gene]] = 1\n",
    "\n",
    "# Make species-specific gene-orthologue maps\n",
    "# Modify general gene-orthologue map to contain only species specific genes\n",
    "species_maps=[]\n",
    "for species in adata.uns['species_order']:\n",
    "    species_maps.append(gene_map*(adata.var['species']==species).values.reshape(-1,1))\n",
    "species_maps=nn.tensor(np.array(species_maps))\n",
    "display(species_maps)"
   ]
  },
  {
   "cell_type": "code",
   "execution_count": 192,
   "id": "bcaa0c37",
   "metadata": {},
   "outputs": [
    {
     "data": {
      "text/plain": [
       "tensor([False, False,  True,  True, False])"
      ]
     },
     "metadata": {},
     "output_type": "display_data"
    }
   ],
   "source": [
    "# Map of whether a gene is orthologue or not\n",
    "orthologue_map=nn.tensor(np.array([g in orthologues for g in adata.var.index]))\n",
    "display(orthologue_map)"
   ]
  },
  {
   "cell_type": "markdown",
   "id": "325a6c40",
   "metadata": {},
   "source": [
    "### Mixup maps"
   ]
  },
  {
   "cell_type": "code",
   "execution_count": 163,
   "id": "11d8131a",
   "metadata": {},
   "outputs": [
    {
     "name": "stdout",
     "output_type": "stream",
     "text": [
      "torch.Size([4, 2, 5, 4])\n",
      "tensor([[[[0.0000, 1.0000, 0.0000, 0.0000],\n",
      "          [0.0000, 0.0000, 1.0000, 0.0000],\n",
      "          [1.0000, 0.0000, 0.0000, 0.0000],\n",
      "          [0.0000, 0.0000, 0.0000, 0.0000],\n",
      "          [0.0000, 0.0000, 0.0000, 0.0000]],\n",
      "\n",
      "         [[0.0000, 0.0000, 0.0000, 0.0000],\n",
      "          [0.0000, 0.0000, 0.0000, 0.0000],\n",
      "          [0.0000, 0.0000, 0.0000, 0.0000],\n",
      "          [0.0000, 0.0000, 0.0000, 0.0000],\n",
      "          [0.0000, 0.0000, 0.0000, 0.0000]]],\n",
      "\n",
      "\n",
      "        [[[0.0000, 0.0000, 0.0000, 0.0000],\n",
      "          [0.0000, 0.0000, 0.0000, 0.0000],\n",
      "          [0.0000, 0.0000, 0.0000, 0.0000],\n",
      "          [0.0000, 0.0000, 0.0000, 0.0000],\n",
      "          [0.0000, 0.0000, 0.0000, 0.0000]],\n",
      "\n",
      "         [[0.0000, 0.0000, 0.0000, 0.0000],\n",
      "          [0.0000, 0.0000, 0.0000, 0.0000],\n",
      "          [0.0000, 0.0000, 0.0000, 0.0000],\n",
      "          [1.0000, 0.0000, 0.0000, 0.0000],\n",
      "          [0.0000, 0.0000, 0.0000, 1.0000]]],\n",
      "\n",
      "\n",
      "        [[[0.0000, 1.0000, 0.0000, 0.0000],\n",
      "          [0.0000, 0.0000, 1.0000, 0.0000],\n",
      "          [0.5000, 0.0000, 0.0000, 0.0000],\n",
      "          [0.0000, 0.0000, 0.0000, 0.0000],\n",
      "          [0.0000, 0.0000, 0.0000, 0.0000]],\n",
      "\n",
      "         [[0.0000, 0.0000, 0.0000, 0.0000],\n",
      "          [0.0000, 0.0000, 0.0000, 0.0000],\n",
      "          [0.0000, 0.0000, 0.0000, 0.0000],\n",
      "          [0.5000, 0.0000, 0.0000, 0.0000],\n",
      "          [0.0000, 0.0000, 0.0000, 1.0000]]],\n",
      "\n",
      "\n",
      "        [[[0.0000, 1.0000, 0.0000, 0.0000],\n",
      "          [0.0000, 0.0000, 1.0000, 0.0000],\n",
      "          [0.1000, 0.0000, 0.0000, 0.0000],\n",
      "          [0.0000, 0.0000, 0.0000, 0.0000],\n",
      "          [0.0000, 0.0000, 0.0000, 0.0000]],\n",
      "\n",
      "         [[0.0000, 0.0000, 0.0000, 0.0000],\n",
      "          [0.0000, 0.0000, 0.0000, 0.0000],\n",
      "          [0.0000, 0.0000, 0.0000, 0.0000],\n",
      "          [0.9000, 0.0000, 0.0000, 0.0000],\n",
      "          [0.0000, 0.0000, 0.0000, 1.0000]]]], dtype=torch.float64)\n"
     ]
    }
   ],
   "source": [
    "# Mixup orthologues, dim = samples*species*genes\n",
    "orthologue_mixup=data_batch['species_ratio'].unsqueeze(2)*\\\n",
    "    (orthologue_map.expand(data_batch['species_ratio'].shape[0],1,-1)).float() \n",
    "# Use species specific genes if species is present in mixup, dim = samples*species*genes\n",
    "non_orthologue_mixup=(data_batch['species_ratio'].unsqueeze(2)>0).float()*\\\n",
    "    (~(orthologue_map.expand(data_batch['species_ratio'].shape[0],1,-1))).float()\n",
    "# Make combined orthologue and species-specific genes maps, dim = samples*species*genes\n",
    "gene_mixup_map=(orthologue_mixup+non_orthologue_mixup).unsqueeze(3)\n",
    "# Make gene maps species specific (keep only genes from the species) and summarized\n",
    "# in terms of orthologues, dim = samples*species*genes*genes_mapped\n",
    "mixup_map=gene_mixup_map*species_maps\n",
    "print(mixup_map.shape)\n",
    "print(mixup_map)"
   ]
  },
  {
   "cell_type": "code",
   "execution_count": 303,
   "id": "2aa86cb8",
   "metadata": {},
   "outputs": [
    {
     "name": "stdout",
     "output_type": "stream",
     "text": [
      "torch.Size([4, 4])\n",
      "tensor([[3.0000, 1.0000, 2.0000, 0.0000],\n",
      "        [4.0000, 0.0000, 0.0000, 5.0000],\n",
      "        [3.5000, 1.0000, 2.0000, 5.0000],\n",
      "        [3.9000, 1.0000, 2.0000, 5.0000]], dtype=torch.float64)\n"
     ]
    }
   ],
   "source": [
    "# Expression mixup across species\n",
    "expr_mixup=(data_batch['X'].unsqueeze(1).expand(-1,mixup_map.shape[1],-1).unsqueeze(3)*\\\n",
    "            mixup_map).sum(1).sum(1)\n",
    "print(expr_mixup.shape)\n",
    "print(expr_mixup)"
   ]
  },
  {
   "cell_type": "code",
   "execution_count": 288,
   "id": "af75a153",
   "metadata": {},
   "outputs": [
    {
     "name": "stdout",
     "output_type": "stream",
     "text": [
      "torch.Size([4, 1])\n",
      "tensor([[1.0000],\n",
      "        [2.0000],\n",
      "        [1.5000],\n",
      "        [1.9000]])\n"
     ]
    }
   ],
   "source": [
    "# Metadata/cov mixup\n",
    "cov_mixup=nn.matmul(data_batch['species_ratio'].unsqueeze(1),data_batch['cov_species']\n",
    "                   ).squeeze(1)\n",
    "print(cov_mixup.shape)\n",
    "print(cov_mixup)"
   ]
  },
  {
   "cell_type": "code",
   "execution_count": 404,
   "id": "b3f1ab06",
   "metadata": {},
   "outputs": [
    {
     "name": "stdout",
     "output_type": "stream",
     "text": [
      "torch.Size([4, 4])\n",
      "tensor([[1., 1., 1., 0.],\n",
      "        [1., 0., 0., 1.],\n",
      "        [1., 1., 1., 1.],\n",
      "        [1., 0., 0., 0.]])\n"
     ]
    }
   ],
   "source": [
    "# Genes to evaluate/compute loss on\n",
    "# Genes to eval in each sample based on orthologues/not\n",
    "eval_genes=nn.matmul(nn.logical_not(data_batch['eval_o']).float(),\n",
    "          (~orthologue_map).float().unsqueeze(0) # Eval species specific genes or not\n",
    "         )+orthologue_map # Orthologues - always evaluated\n",
    "# Genes to eval in each sample based on mixup species and orthologue/not\n",
    "eval_map=nn.matmul(eval_genes.unsqueeze(1),mixup_map.sum(axis=1).float()).squeeze(1)\n",
    "print(eval_map.shape)\n",
    "print(eval_map)"
   ]
  },
  {
   "cell_type": "code",
   "execution_count": 472,
   "id": "799532a6",
   "metadata": {},
   "outputs": [
    {
     "name": "stdout",
     "output_type": "stream",
     "text": [
      "torch.Size([4, 2, 4])\n",
      "tensor([[[3., 1., 2., 0.],\n",
      "         [4., 0., 0., 5.]],\n",
      "\n",
      "        [[3., 1., 2., 0.],\n",
      "         [4., 0., 0., 5.]],\n",
      "\n",
      "        [[3., 1., 2., 0.],\n",
      "         [4., 0., 0., 5.]],\n",
      "\n",
      "        [[3., 1., 2., 0.],\n",
      "         [4., 0., 0., 5.]]], dtype=torch.float64)\n"
     ]
    }
   ],
   "source": [
    "# Per-species expression with non-species genes masked, dim = samples * species * genes_mapped\n",
    "expr_species=(data_batch['X'].unsqueeze(1).expand(-1,species_maps.shape[0],-1).unsqueeze(3)*\\\n",
    "          species_maps.unsqueeze(0).expand(data_batch['X'].shape[0],-1,-1,-1)).sum(axis=2)\n",
    "print(expr_species.shape)\n",
    "print(expr_species)"
   ]
  },
  {
   "cell_type": "markdown",
   "id": "ea1430b1",
   "metadata": {},
   "source": [
    "### Metrics"
   ]
  },
  {
   "cell_type": "code",
   "execution_count": 535,
   "id": "4e8b58fc",
   "metadata": {},
   "outputs": [
    {
     "name": "stdout",
     "output_type": "stream",
     "text": [
      "tensor([[-0.9761, -0.5708, -0.1844, -0.0000],\n",
      "        [-0.1604,  0.0000,  0.0000, -0.2468],\n",
      "        [ 0.0865, -0.3398, -0.2585, -1.4728],\n",
      "        [ 0.3304, -0.0000, -0.0000, -0.0000]])\n",
      "tensor([-0.5771, -0.2036, -0.4962,  0.3304])\n"
     ]
    }
   ],
   "source": [
    "def gaussian_nll_mask(m,x,v,mask):\n",
    "    \"\"\"\n",
    "    Compute Gausian negative log likelihood loss with sample-specific masked features.\n",
    "    :param m: Predicted mean of target\n",
    "    :param x: True target\n",
    "    :param v: predicted v of target\n",
    "    :param mask: Sample-specific feature mask of same shape as x specifiying by 1/0 if\n",
    "        sample-feature should be used for computing loss or not, respectively.\n",
    "    :return: loss\n",
    "    \"\"\"\n",
    "    l=nn.nn.GaussianNLLLoss(reduction='none')(m,x,v)\n",
    "    l=l*mask # Set some sample-specific features to 0\n",
    "    print(l)\n",
    "    l=l.sum(dim=1)/mask.sum(dim=1) # Normalise accounting for masking\n",
    "    return l\n",
    "\n",
    "# Example output\n",
    "a=nn.tensor(abs(np.random.normal(size=eval_map.shape))).float()\n",
    "print(gaussian_nll_mask(a,a,a,eval_map))"
   ]
  },
  {
   "cell_type": "markdown",
   "id": "205d28df",
   "metadata": {},
   "source": [
    "## Prepare mixup and adata"
   ]
  },
  {
   "cell_type": "code",
   "execution_count": 3,
   "id": "061fdf9d",
   "metadata": {},
   "outputs": [],
   "source": [
    "# Input adata - as expected from the user\n",
    "adata_in=sc.AnnData(np.random.normal(size=(4,5))*[1,2,3,4,5],\n",
    "                obs={'species':[ 'K']*2+['L','M'], # Species\n",
    "                    'cov_c':['a','b']*2, # Covariates - categorical example\n",
    "                    'cov_n':[0,1]*2}, # Covariates - continous (numerical) example\n",
    "                var=pd.DataFrame({'species':['K']*2+['L']*2+['M']},\n",
    "                                index=['a','b','c','d','e']), # Species of gene\n",
    "                uns={'orthologues':pd.DataFrame(\n",
    "                    {'K':['b'],'L':['c'],'M':['e']}), # Orthgologue map\n",
    "                    }) "
   ]
  },
  {
   "cell_type": "code",
   "execution_count": 4,
   "id": "0b253d9e",
   "metadata": {},
   "outputs": [
    {
     "data": {
      "text/plain": [
       "AnnData object with n_obs × n_vars = 4 × 5\n",
       "    obs: 'species', 'cov_c', 'cov_n'\n",
       "    var: 'species'\n",
       "    uns: 'orthologues'"
      ]
     },
     "execution_count": 4,
     "metadata": {},
     "output_type": "execute_result"
    }
   ],
   "source": [
    "adata_in"
   ]
  },
  {
   "cell_type": "code",
   "execution_count": 5,
   "id": "48e8c2e5",
   "metadata": {},
   "outputs": [],
   "source": [
    "species_key='species'\n",
    "cov_cat_keys=['cov_c']\n",
    "cov_cont_keys=['cov_n']\n",
    "seed=0\n",
    "alpha=0.1"
   ]
  },
  {
   "cell_type": "code",
   "execution_count": 134,
   "id": "930d1ee9",
   "metadata": {},
   "outputs": [],
   "source": [
    "# Prepare data\n",
    "adata_pp=sc.AnnData(adata_in.X,var=adata_in.var)\n",
    "# Species encoding\n",
    "species=adata_in.obs[species_key].values\n",
    "species_order=pd.Categorical(species).categories.values\n",
    "adata_pp.obsm['species_ratio']=pd.get_dummies(species)[species_order].values\n",
    "# Covariate encoding\n",
    "# One-hot encoding of categorical covariates\n",
    "cov_cat_data=[]\n",
    "for cov_cat_key in cov_cat_keys:\n",
    "    cat_order=pd.Categorical(adata_in.obs[cov_cat_key]).categories.values\n",
    "    cov_cat_data.append(pd.get_dummies(adata_in.obs[cov_cat_key])[cat_order].values)\n",
    "    adata_pp.uns[cov_cat_key+'_order']=cat_order\n",
    "# Prepare single cov array for all covariates and in per-species format\n",
    "cov_data=np.concatenate(cov_cat_data+[adata_in.obs[cov_cont_keys].values],axis=1)\n",
    "adata_pp.obsm['cov_species']=np.broadcast_to(np.expand_dims(cov_data,axis=1),\n",
    "                (cov_data.shape[0],len(species_order),cov_data.shape[1]))\n",
    "# Whether to eval only orthologues - always false here\n",
    "adata_pp.obsm['eval_o']=np.array([0]*adata_pp.shape[0]).reshape(-1,1)"
   ]
  },
  {
   "cell_type": "code",
   "execution_count": 159,
   "id": "733d76b6",
   "metadata": {},
   "outputs": [],
   "source": [
    "def create_mixup(indices,adata,obs_prefix,seed=0):\n",
    "    \"\"\"\n",
    "    Mixup.\n",
    "    Vars from outer scope: species, species_order, alpha\n",
    "    :param indices: Iter (cell pairs form mixup) of iters (cells in pairs) - 2 cells \n",
    "    for mixup should be specified for each pair. Indices are obs positions from adata.\n",
    "    :param adata: Adata used for making the mixup. Should have \n",
    "    col species in var and cov_species in obsm.\n",
    "    :param seed: Set seed for mixup ratio generation. If None does not set the seed.\n",
    "    \"\"\"\n",
    "    xs=[]\n",
    "    covs=[]\n",
    "    species_ratios=[]\n",
    "    obs_names=[]\n",
    "    if seed is not None:\n",
    "        np.random.seed(seed)\n",
    "    for i,j in indices: \n",
    "        mixup_ratio_i=np.random.beta(alpha, alpha)\n",
    "        mixup_ratio_j=1-mixup_ratio_i\n",
    "        species_i=species[i]\n",
    "        species_j=species[j]\n",
    "        # Get expression, expression of unused species genes will be set to 0\n",
    "        x_i=adata[i,:].X.copy().ravel()\n",
    "        x_i[adata.var['species']!=species_i]=0\n",
    "        x_j=adata[j,:].X.copy().ravel()\n",
    "        x_j[adata.var['species']!=species_j]=0\n",
    "        xs.append(x_i+x_j)\n",
    "        cov_i=adata.obsm['cov_species'][i,0]\n",
    "        cov_j=adata.obsm['cov_species'][j,0]\n",
    "        # For species that are not being validated just set cov to mixup ratio, \n",
    "        # but this is not very relevant for the model as it is not being validated\n",
    "        cov_ij=cov_i*mixup_ratio_i+cov_j*mixup_ratio_j\n",
    "        covs.append(np.array([cov_i,cov_j]+[cov_ij]*(len(species_order)-2)))\n",
    "        species_ratio=np.zeros(len(species_order))\n",
    "        species_ratio[species_order==species_i]=mixup_ratio_i\n",
    "        species_ratio[species_order==species_j]=mixup_ratio_j\n",
    "        species_ratios.append(species_ratio)\n",
    "        obs_names.append('_'.join([obs_prefix,str(i),str(j)]))\n",
    "    adata_mixup=sc.AnnData(\n",
    "        X=pd.DataFrame(np.array(xs),index=obs_names,columns=adata.var_names),\n",
    "        obsm={'cov_species':np.array(covs),'species_ratio':np.array(species_ratios)}\n",
    "    )\n",
    "    \n",
    "    return adata_mixup"
   ]
  },
  {
   "cell_type": "code",
   "execution_count": 160,
   "id": "cb1830bf",
   "metadata": {},
   "outputs": [],
   "source": [
    "def count_species_pairs(adata,description):\n",
    "    \"\"\"\n",
    "    Counts N species pairs per species combination\n",
    "    :param adata: Adata with species_ratio in obsm\n",
    "    :param description: For printing out, adata name/description\n",
    "    \"\"\"\n",
    "    species_pairs=dict()\n",
    "    for row_idx in range(adata.obsm['species_ratio'].shape[0]):\n",
    "        species_idxs=np.argwhere(adata.obsm['species_ratio'][row_idx]>0)\n",
    "        pair_name=' and '.join([species_order[idx][0] for idx in species_idxs])\n",
    "        if pair_name not in species_pairs:\n",
    "            species_pairs[pair_name]=0\n",
    "        species_pairs[pair_name]=species_pairs[pair_name]+1\n",
    "    print('N pairs per species combination for',description,':',species_pairs)"
   ]
  },
  {
   "cell_type": "code",
   "execution_count": 161,
   "id": "f41b038e",
   "metadata": {},
   "outputs": [
    {
     "name": "stdout",
     "output_type": "stream",
     "text": [
      "N pairs per species combination for random corss-species mixup : {'K and L': 2, 'K and M': 2}\n",
      "X\n"
     ]
    },
    {
     "data": {
      "text/html": [
       "<div>\n",
       "<style scoped>\n",
       "    .dataframe tbody tr th:only-of-type {\n",
       "        vertical-align: middle;\n",
       "    }\n",
       "\n",
       "    .dataframe tbody tr th {\n",
       "        vertical-align: top;\n",
       "    }\n",
       "\n",
       "    .dataframe thead th {\n",
       "        text-align: right;\n",
       "    }\n",
       "</style>\n",
       "<table border=\"1\" class=\"dataframe\">\n",
       "  <thead>\n",
       "    <tr style=\"text-align: right;\">\n",
       "      <th></th>\n",
       "      <th>a</th>\n",
       "      <th>b</th>\n",
       "      <th>c</th>\n",
       "      <th>d</th>\n",
       "      <th>e</th>\n",
       "    </tr>\n",
       "  </thead>\n",
       "  <tbody>\n",
       "    <tr>\n",
       "      <th>mixup_species_random_0_2</th>\n",
       "      <td>1.764052</td>\n",
       "      <td>0.800314</td>\n",
       "      <td>2.283113</td>\n",
       "      <td>0.4867</td>\n",
       "      <td>0.000000</td>\n",
       "    </tr>\n",
       "    <tr>\n",
       "      <th>mixup_species_random_1_3</th>\n",
       "      <td>-0.977278</td>\n",
       "      <td>1.900177</td>\n",
       "      <td>0.000000</td>\n",
       "      <td>0.0000</td>\n",
       "      <td>-4.270479</td>\n",
       "    </tr>\n",
       "    <tr>\n",
       "      <th>mixup_species_random_1_2</th>\n",
       "      <td>-0.977278</td>\n",
       "      <td>1.900177</td>\n",
       "      <td>2.283113</td>\n",
       "      <td>0.4867</td>\n",
       "      <td>0.000000</td>\n",
       "    </tr>\n",
       "    <tr>\n",
       "      <th>mixup_species_random_0_3</th>\n",
       "      <td>1.764052</td>\n",
       "      <td>0.800314</td>\n",
       "      <td>0.000000</td>\n",
       "      <td>0.0000</td>\n",
       "      <td>-4.270479</td>\n",
       "    </tr>\n",
       "  </tbody>\n",
       "</table>\n",
       "</div>"
      ],
      "text/plain": [
       "                                 a         b         c       d         e\n",
       "mixup_species_random_0_2  1.764052  0.800314  2.283113  0.4867  0.000000\n",
       "mixup_species_random_1_3 -0.977278  1.900177  0.000000  0.0000 -4.270479\n",
       "mixup_species_random_1_2 -0.977278  1.900177  2.283113  0.4867  0.000000\n",
       "mixup_species_random_0_3  1.764052  0.800314  0.000000  0.0000 -4.270479"
      ]
     },
     "metadata": {},
     "output_type": "display_data"
    },
    {
     "name": "stdout",
     "output_type": "stream",
     "text": [
      "obsm cov_species\n"
     ]
    },
    {
     "data": {
      "text/plain": [
       "array([[[1.00000000e+00, 0.00000000e+00, 0.00000000e+00],\n",
       "        [1.00000000e+00, 0.00000000e+00, 0.00000000e+00],\n",
       "        [1.00000000e+00, 0.00000000e+00, 0.00000000e+00]],\n",
       "\n",
       "       [[0.00000000e+00, 1.00000000e+00, 1.00000000e+00],\n",
       "        [0.00000000e+00, 1.00000000e+00, 1.00000000e+00],\n",
       "        [0.00000000e+00, 1.00000000e+00, 1.00000000e+00]],\n",
       "\n",
       "       [[0.00000000e+00, 1.00000000e+00, 1.00000000e+00],\n",
       "        [1.00000000e+00, 0.00000000e+00, 0.00000000e+00],\n",
       "        [9.85473764e-01, 1.45262365e-02, 1.45262365e-02]],\n",
       "\n",
       "       [[1.00000000e+00, 0.00000000e+00, 0.00000000e+00],\n",
       "        [0.00000000e+00, 1.00000000e+00, 1.00000000e+00],\n",
       "        [8.08633422e-04, 9.99191367e-01, 9.99191367e-01]]])"
      ]
     },
     "metadata": {},
     "output_type": "display_data"
    },
    {
     "name": "stdout",
     "output_type": "stream",
     "text": [
      "obsm species_ratio\n"
     ]
    },
    {
     "data": {
      "text/plain": [
       "array([[6.61193791e-02, 9.33880621e-01, 0.00000000e+00],\n",
       "       [7.32928707e-01, 0.00000000e+00, 2.67071293e-01],\n",
       "       [1.45262365e-02, 9.85473764e-01, 0.00000000e+00],\n",
       "       [8.08633422e-04, 0.00000000e+00, 9.99191367e-01]])"
      ]
     },
     "metadata": {},
     "output_type": "display_data"
    },
    {
     "name": "stdout",
     "output_type": "stream",
     "text": [
      "obsm eval_o\n"
     ]
    },
    {
     "data": {
      "text/plain": [
       "array([[1],\n",
       "       [1],\n",
       "       [1],\n",
       "       [1]])"
      ]
     },
     "metadata": {},
     "output_type": "display_data"
    }
   ],
   "source": [
    "# Random cross-species mixup\n",
    "random_mixup_ratio=1\n",
    "desired_n=int(random_mixup_ratio*adata_pp.shape[0])\n",
    "random_mixup_idx=set()\n",
    "idxs=list(range(adata_pp.shape[0]))\n",
    "if seed is not None:\n",
    "    np.random.seed(seed)\n",
    "# Try to generate N random corss-species pairs \n",
    "# TODO may be problematic as could run indefinitely, for now a quick fix is added\n",
    "tries=0\n",
    "while len(random_mixup_idx)<desired_n and\\\n",
    "    tries<adata_in.shape[0]*10: # Quick fix to stop if can not find combionations\n",
    "    # Randomly sample cells and make sure that species differ\n",
    "    # TODO could make quicker by selecting random cell pairs from pairs \n",
    "    # of species directly\n",
    "    i=np.random.choice(idxs)\n",
    "    j=np.random.choice(idxs)\n",
    "    species_i=species[i]\n",
    "    species_j=species[j]\n",
    "    # TODO could add check not to use same cell 2x, but maybe less important as \n",
    "    # mixup ratio will differ\n",
    "    if species_i!=species_j: \n",
    "        # Could be used for checking that same cell par was not used before\n",
    "        random_mixup_idx.add(frozenset((i,j)))\n",
    "    tries+=1\n",
    "if len(random_mixup_idx)<desired_n:\n",
    "    warnings.warn('Found less than desired  number of random mixup samples.')\n",
    "    print('Found %i/%i random mixup samples'%(\n",
    "                  len(random_mixup_idx),desired_n))\n",
    "# Make adata from selected mixup cells\n",
    "adata_random_species_mixup=create_mixup(indices=random_mixup_idx,\n",
    "                                        adata=adata_pp,obs_prefix='mixup_species_random',\n",
    "                                        seed=seed)\n",
    "count_species_pairs(adata_random_species_mixup,description='random corss-species mixup')\n",
    "adata_random_species_mixup.obsm['eval_o']=np.array([1]*adata_random_species_mixup.shape[0]\n",
    "                                                   ).reshape(-1,1)\n",
    "\n",
    "# Check what came out\n",
    "print('X')\n",
    "display(adata_random_species_mixup.to_df())\n",
    "for k,v in adata_random_species_mixup.obsm.items():\n",
    "    print('obsm',k)\n",
    "    display(v)"
   ]
  },
  {
   "cell_type": "code",
   "execution_count": 162,
   "id": "2349c161",
   "metadata": {},
   "outputs": [
    {
     "name": "stdout",
     "output_type": "stream",
     "text": [
      "[[0.]\n",
      " [1.]\n",
      " [1.]\n",
      " [0.]\n",
      " [1.]]\n"
     ]
    }
   ],
   "source": [
    "# Map for transofming input epxression to orthologues only\n",
    "# matmul(X,otm) = expression of orthologues only, combined by orthologuesacross species\n",
    "# dim otm = n_genes * n_orthologues (summarized across species)\n",
    "orthologues_transform_map=np.zeros((adata_pp.shape[1],adata_in.uns['orthologues'].shape[0]))\n",
    "for idx,(name,data) in enumerate(adata_in.uns['orthologues'].iterrows()):\n",
    "    for gene in data:\n",
    "        orthologues_transform_map[np.argwhere(adata_in.var_names==gene),idx]=1\n",
    "print(orthologues_transform_map)"
   ]
  },
  {
   "cell_type": "code",
   "execution_count": 163,
   "id": "a00d90f9",
   "metadata": {},
   "outputs": [
    {
     "name": "stderr",
     "output_type": "stream",
     "text": [
      "/Users/karin.hrovatin/opt/miniconda3/envs/csp/lib/python3.8/site-packages/anndata/_core/anndata.py:120: ImplicitModificationWarning: Transforming to str index.\n",
      "  warnings.warn(\"Transforming to str index.\", ImplicitModificationWarning)\n",
      "/Users/karin.hrovatin/opt/miniconda3/envs/csp/lib/python3.8/site-packages/anndata/_core/anndata.py:1220: FutureWarning: The `inplace` parameter in pandas.Categorical.reorder_categories is deprecated and will be removed in a future version. Reordering categories will always return a new Categorical object.\n",
      "  c.reorder_categories(natsorted(c.categories), inplace=True)\n",
      "... storing 'species' as categorical\n",
      "/Users/karin.hrovatin/opt/miniconda3/envs/csp/lib/python3.8/site-packages/pandas/core/indexing.py:1732: SettingWithCopyWarning: \n",
      "A value is trying to be set on a copy of a slice from a DataFrame\n",
      "\n",
      "See the caveats in the documentation: https://pandas.pydata.org/pandas-docs/stable/user_guide/indexing.html#returning-a-view-versus-a-copy\n",
      "  self._setitem_single_block(indexer, value, name)\n"
     ]
    },
    {
     "name": "stdout",
     "output_type": "stream",
     "text": [
      "N pairs per species combination for similar corss-species mixup : {'K and L': 2, 'K and M': 2}\n",
      "X\n"
     ]
    },
    {
     "data": {
      "text/html": [
       "<div>\n",
       "<style scoped>\n",
       "    .dataframe tbody tr th:only-of-type {\n",
       "        vertical-align: middle;\n",
       "    }\n",
       "\n",
       "    .dataframe tbody tr th {\n",
       "        vertical-align: top;\n",
       "    }\n",
       "\n",
       "    .dataframe thead th {\n",
       "        text-align: right;\n",
       "    }\n",
       "</style>\n",
       "<table border=\"1\" class=\"dataframe\">\n",
       "  <thead>\n",
       "    <tr style=\"text-align: right;\">\n",
       "      <th></th>\n",
       "      <th>a</th>\n",
       "      <th>b</th>\n",
       "      <th>c</th>\n",
       "      <th>d</th>\n",
       "      <th>e</th>\n",
       "    </tr>\n",
       "  </thead>\n",
       "  <tbody>\n",
       "    <tr>\n",
       "      <th>mixup_species_similar_0_2</th>\n",
       "      <td>1.764052</td>\n",
       "      <td>0.800314</td>\n",
       "      <td>2.283113</td>\n",
       "      <td>0.4867</td>\n",
       "      <td>0.000000</td>\n",
       "    </tr>\n",
       "    <tr>\n",
       "      <th>mixup_species_similar_1_2</th>\n",
       "      <td>-0.977278</td>\n",
       "      <td>1.900177</td>\n",
       "      <td>2.283113</td>\n",
       "      <td>0.4867</td>\n",
       "      <td>0.000000</td>\n",
       "    </tr>\n",
       "    <tr>\n",
       "      <th>mixup_species_similar_1_3</th>\n",
       "      <td>-0.977278</td>\n",
       "      <td>1.900177</td>\n",
       "      <td>0.000000</td>\n",
       "      <td>0.0000</td>\n",
       "      <td>-4.270479</td>\n",
       "    </tr>\n",
       "    <tr>\n",
       "      <th>mixup_species_similar_0_3</th>\n",
       "      <td>1.764052</td>\n",
       "      <td>0.800314</td>\n",
       "      <td>0.000000</td>\n",
       "      <td>0.0000</td>\n",
       "      <td>-4.270479</td>\n",
       "    </tr>\n",
       "  </tbody>\n",
       "</table>\n",
       "</div>"
      ],
      "text/plain": [
       "                                  a         b         c       d         e\n",
       "mixup_species_similar_0_2  1.764052  0.800314  2.283113  0.4867  0.000000\n",
       "mixup_species_similar_1_2 -0.977278  1.900177  2.283113  0.4867  0.000000\n",
       "mixup_species_similar_1_3 -0.977278  1.900177  0.000000  0.0000 -4.270479\n",
       "mixup_species_similar_0_3  1.764052  0.800314  0.000000  0.0000 -4.270479"
      ]
     },
     "metadata": {},
     "output_type": "display_data"
    },
    {
     "name": "stdout",
     "output_type": "stream",
     "text": [
      "obsm cov_species\n"
     ]
    },
    {
     "data": {
      "text/plain": [
       "array([[[1.00000000e+00, 0.00000000e+00, 0.00000000e+00],\n",
       "        [1.00000000e+00, 0.00000000e+00, 0.00000000e+00],\n",
       "        [1.00000000e+00, 0.00000000e+00, 0.00000000e+00]],\n",
       "\n",
       "       [[0.00000000e+00, 1.00000000e+00, 1.00000000e+00],\n",
       "        [1.00000000e+00, 0.00000000e+00, 0.00000000e+00],\n",
       "        [2.67071293e-01, 7.32928707e-01, 7.32928707e-01]],\n",
       "\n",
       "       [[0.00000000e+00, 1.00000000e+00, 1.00000000e+00],\n",
       "        [0.00000000e+00, 1.00000000e+00, 1.00000000e+00],\n",
       "        [0.00000000e+00, 1.00000000e+00, 1.00000000e+00]],\n",
       "\n",
       "       [[1.00000000e+00, 0.00000000e+00, 0.00000000e+00],\n",
       "        [0.00000000e+00, 1.00000000e+00, 1.00000000e+00],\n",
       "        [8.08633422e-04, 9.99191367e-01, 9.99191367e-01]]])"
      ]
     },
     "metadata": {},
     "output_type": "display_data"
    },
    {
     "name": "stdout",
     "output_type": "stream",
     "text": [
      "obsm species_ratio\n"
     ]
    },
    {
     "data": {
      "text/plain": [
       "array([[6.61193791e-02, 9.33880621e-01, 0.00000000e+00],\n",
       "       [7.32928707e-01, 2.67071293e-01, 0.00000000e+00],\n",
       "       [1.45262365e-02, 0.00000000e+00, 9.85473764e-01],\n",
       "       [8.08633422e-04, 0.00000000e+00, 9.99191367e-01]])"
      ]
     },
     "metadata": {},
     "output_type": "display_data"
    },
    {
     "name": "stdout",
     "output_type": "stream",
     "text": [
      "obsm eval_o\n"
     ]
    },
    {
     "data": {
      "text/plain": [
       "array([[0],\n",
       "       [0],\n",
       "       [0],\n",
       "       [0]])"
      ]
     },
     "metadata": {},
     "output_type": "display_data"
    }
   ],
   "source": [
    "# Similar cells cross-species mixup\n",
    "# For all pairs of species find shared neighbours and then pick randomly \n",
    "# cell pairs from all possible cell pairs\n",
    "\n",
    "n_pca=15 # PCS for embedding\n",
    "k=30 # N neighbours\n",
    "\n",
    "similar_mixup_ratio=1\n",
    "desired_n=int(similar_mixup_ratio*adata_pp.shape[0])\n",
    "similar_mixup_idx=set()\n",
    "# Adata mapped to orthologues summarised across species\n",
    "# Change for testing TODO!!!! remove - need larger object than original one to build neighbours\n",
    "if False:\n",
    "    adata_orthologues=sc.AnnData(np.matmul(adata_pp.X,orthologues_transform_map),\n",
    "                             obs=pd.DataFrame({'species':species},index=adata_pp.obs_names))\n",
    "else:\n",
    "    adata_orthologues=sc.AnnData(np.random.normal(size=(99,5000)),\n",
    "                             obs=pd.DataFrame({'species':['K','L','M']*33}))\n",
    "# Compute embedding\n",
    "sc.pp.highly_variable_genes(adata_orthologues,\n",
    "                                 # Can only compute as many HVGs as there are genes\n",
    "                                 n_top_genes=min([2000,adata_orthologues.shape[1]]),\n",
    "                                 flavor='cell_ranger', subset=True, inplace=True, \n",
    "                                 batch_key='species')\n",
    "sc.pp.scale(adata_orthologues)\n",
    "sc.pp.pca(adata_orthologues, n_comps=n_pca, zero_center=True)\n",
    "# Neighbours for all species pairs\n",
    "pairs_all=[]\n",
    "for i in range(len(species_order)-1):\n",
    "    for j in range(i+1,len(species_order)):\n",
    "        # Prepare species data\n",
    "        s_i=species_order[i]\n",
    "        s_j=species_order[j]\n",
    "        e_i=adata_orthologues[adata_orthologues.obs['species']==s_i,:].obsm['X_pca']\n",
    "        e_j=adata_orthologues[adata_orthologues.obs['species']==s_j,:].obsm['X_pca']\n",
    "        # On which position was originally each cell\n",
    "        idxs_i=np.argwhere(adata_orthologues.obs['species'].values==s_i).ravel()\n",
    "        idxs_j=np.argwhere(adata_orthologues.obs['species'].values==s_j).ravel()\n",
    "        # KNN\n",
    "        index_i = NNDescent(e_i, metric='correlation', n_jobs=-1)\n",
    "        neighbours_j, distances_j = index_i.query(e_j, k=k)\n",
    "        index_j = NNDescent(e_j, metric='correlation', n_jobs=-1)\n",
    "        neighbours_i, distances_i = index_j.query(e_i, k=k)\n",
    "        neighbours=np.zeros((e_i.shape[0],e_j.shape[0]))\n",
    "        # Parse KNN - count if presnet for both directions\n",
    "        pairs={}\n",
    "        for cell_j in range(neighbours_j.shape[0]):\n",
    "            for idx_i in range(k):\n",
    "                cell_i=neighbours_j[cell_j][idx_i]\n",
    "                pair=str(cell_i)+'_'+str(cell_j)\n",
    "                if pair not in pairs:\n",
    "                    pairs[pair]=0\n",
    "                pairs[pair]=pairs[pair]+1\n",
    "        for cell_i in range(neighbours_i.shape[0]):\n",
    "            for idx_j in range(k):\n",
    "                cell_j=neighbours_i[cell_i][idx_j]\n",
    "                pair=str(cell_i)+'_'+str(cell_j)\n",
    "                if pair not in pairs:\n",
    "                    pairs[pair]=0\n",
    "                pairs[pair]=pairs[pair]+1\n",
    "        # Get shared neighbors based on counts of directions\n",
    "        for pair,n in pairs.items():\n",
    "            if n==2:\n",
    "                idx_i=int(pair.split('_')[0])\n",
    "                idx_j=int(pair.split('_')[1])\n",
    "                # Map neighbors to original indices\n",
    "                pairs_all.append((idxs_i[idx_i],idxs_j[idx_j])) \n",
    "# Testing, TODO remove\n",
    "if True:\n",
    "    pairs_all=[(1,2),(1,3),(0,2),(0,3),(2,3)]\n",
    "\n",
    "# Subset to desired N of pairs\n",
    "if seed is not None:\n",
    "    np.random.seed(seed)\n",
    "pairs_all=np.array(pairs_all)\n",
    "pairs_idx=np.random.choice(range(pairs_all.shape[0]), size=desired_n, replace=False) \n",
    "pairs_all=pairs_all[pairs_idx]\n",
    "\n",
    "# Create adata\n",
    "adata_similar_species_mixup=create_mixup(indices=pairs_all,\n",
    "                                        adata=adata_pp,obs_prefix='mixup_species_similar',\n",
    "                                         seed=seed)\n",
    "count_species_pairs(adata_similar_species_mixup,description='similar corss-species mixup')\n",
    "adata_similar_species_mixup.obsm['eval_o']=np.array([0]*adata_similar_species_mixup.shape[0]\n",
    "                                                   ).reshape(-1,1)\n",
    "\n",
    "# Check what came out\n",
    "print('X')\n",
    "display(adata_similar_species_mixup.to_df())\n",
    "for k,v in adata_similar_species_mixup.obsm.items():\n",
    "    print('obsm',k)\n",
    "    display(v)"
   ]
  },
  {
   "cell_type": "code",
   "execution_count": 166,
   "id": "296b4c20",
   "metadata": {},
   "outputs": [
    {
     "name": "stdout",
     "output_type": "stream",
     "text": [
      "AnnData object with n_obs × n_vars = 12 × 5\n",
      "    var: 'species'\n",
      "    uns: 'cov_c_order'\n",
      "    obsm: 'cov_species', 'species_ratio', 'eval_o'\n"
     ]
    }
   ],
   "source": [
    "# Combine adatas\n",
    "adata_combined=ann.concat([adata_pp,adata_random_species_mixup,adata_similar_species_mixup])\n",
    "# Add extra info from processed adata\n",
    "adata_combined.var=adata_pp.var\n",
    "adata_combined.uns=adata_pp.uns\n",
    "print(adata_combined)"
   ]
  }
 ],
 "metadata": {
  "kernelspec": {
   "display_name": "csp",
   "language": "python",
   "name": "csp"
  },
  "language_info": {
   "codemirror_mode": {
    "name": "ipython",
    "version": 3
   },
   "file_extension": ".py",
   "mimetype": "text/x-python",
   "name": "python",
   "nbconvert_exporter": "python",
   "pygments_lexer": "ipython3",
   "version": "3.8.12"
  }
 },
 "nbformat": 4,
 "nbformat_minor": 5
}
