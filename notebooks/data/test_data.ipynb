{
 "cells": [
  {
   "cell_type": "code",
   "execution_count": 9,
   "id": "e096f7dd-4302-4c43-9b38-eef3f7c22e2e",
   "metadata": {},
   "outputs": [],
   "source": [
    "import scanpy as sc\n",
    "import glob"
   ]
  },
  {
   "cell_type": "code",
   "execution_count": 2,
   "id": "f712785d-9028-4ca7-badb-ef0a495b8f3a",
   "metadata": {},
   "outputs": [],
   "source": [
    "path='/om2/user/khrovati/data/cross_system_integration/pancreas_conditions_MIA_HPAP2/'"
   ]
  },
  {
   "cell_type": "code",
   "execution_count": 12,
   "id": "07d7070d-8490-4e9e-ac34-529addf7fe4b",
   "metadata": {},
   "outputs": [],
   "source": [
    "batches=['STZ_G2','VSG_MUC13632','HPAP-020','HPAP-029']"
   ]
  },
  {
   "cell_type": "code",
   "execution_count": 13,
   "id": "2af52133-ee65-4e0c-a5c0-9b44bac56fe7",
   "metadata": {},
   "outputs": [
    {
     "name": "stdout",
     "output_type": "stream",
     "text": [
      "/om2/user/khrovati/data/cross_system_integration/pancreas_conditions_MIA_HPAP2/combined-hsPart_nonortholHVG.h5ad\n",
      "(11345, 3000)\n",
      "/om2/user/khrovati/data/cross_system_integration/pancreas_conditions_MIA_HPAP2/combined-hsPart_orthologuesHVG.h5ad\n",
      "(11345, 1768)\n",
      "/om2/user/khrovati/data/cross_system_integration/pancreas_conditions_MIA_HPAP2/combined-mmPart_nonortholHVG.h5ad\n",
      "(28977, 3000)\n",
      "/om2/user/khrovati/data/cross_system_integration/pancreas_conditions_MIA_HPAP2/combined-mmPart_orthologuesHVG.h5ad\n",
      "(28977, 1768)\n",
      "/om2/user/khrovati/data/cross_system_integration/pancreas_conditions_MIA_HPAP2/combined_orthologuesHVG.h5ad\n",
      "(40322, 1768)\n"
     ]
    }
   ],
   "source": [
    "for f in glob.glob(path+'*h5ad'):\n",
    "    print(f)\n",
    "    #print(f.replace('HPAP2/','HPAP2/test/'))\n",
    "    a=sc.read(f)\n",
    "    a=a[a.obs.batch.isin(batches),:]\n",
    "    print(a.shape)\n",
    "    a.write(f.replace('HPAP2/','HPAP2/test/'))"
   ]
  }
 ],
 "metadata": {
  "jupytext": {
   "formats": "ipynb,auto:percent"
  },
  "kernelspec": {
   "display_name": "csi",
   "language": "python",
   "name": "csi"
  },
  "language_info": {
   "codemirror_mode": {
    "name": "ipython",
    "version": 3
   },
   "file_extension": ".py",
   "mimetype": "text/x-python",
   "name": "python",
   "nbconvert_exporter": "python",
   "pygments_lexer": "ipython3",
   "version": "3.9.16"
  }
 },
 "nbformat": 4,
 "nbformat_minor": 5
}
