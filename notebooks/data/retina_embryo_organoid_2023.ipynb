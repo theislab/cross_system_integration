{
 "cells": [
  {
   "cell_type": "code",
   "execution_count": 3,
   "id": "eaa271bc-7d27-4cb3-b175-84a9a790a3cd",
   "metadata": {
    "tags": []
   },
   "outputs": [],
   "source": [
    "import scanpy as sc\n",
    "import pandas as pd\n",
    "import numpy as np\n",
    "from scipy.io import mmread\n",
    "from scipy.sparse import csr_matrix\n",
    "import glob"
   ]
  },
  {
   "cell_type": "code",
   "execution_count": 4,
   "id": "dbcc335f-ab95-448e-b54a-726f24b52973",
   "metadata": {
    "tags": []
   },
   "outputs": [],
   "source": [
    "path_ds='/net/bmc-lab6/data/lab/kellis/users/khrovati/data/datasets/d10_1038_s41598-023-28429-y/'"
   ]
  },
  {
   "cell_type": "code",
   "execution_count": 5,
   "id": "62af791e-06df-469f-b19c-6e7e8c8fa3a5",
   "metadata": {
    "tags": []
   },
   "outputs": [],
   "source": [
    "path_train='/net/bmc-lab6/data/lab/kellis/users/khrovati/data/cross_system_integration/retina_embryo_organoid_2023/'"
   ]
  },
  {
   "cell_type": "markdown",
   "id": "1868af97-3424-4a78-82aa-ef5e4f305eb5",
   "metadata": {},
   "source": [
    "## Make AnnData"
   ]
  },
  {
   "cell_type": "markdown",
   "id": "ab1ec10f-8007-45ff-8b74-0a0e32d9983d",
   "metadata": {},
   "source": [
    "Load data"
   ]
  },
  {
   "cell_type": "code",
   "execution_count": 11,
   "id": "b779dd7f-fb43-4f01-8a19-5a3a2e03f892",
   "metadata": {
    "tags": []
   },
   "outputs": [
    {
     "name": "stdout",
     "output_type": "stream",
     "text": [
      "['IPS1 ', 'IPS2', 'IPS3', 'IPS4', 'RE1', 'RE2', 'RE3', 'RE4']\n"
     ]
    }
   ],
   "source": [
    "# Get all samples, file names based on them\n",
    "samples=[]\n",
    "for f in sorted(glob.glob(path_ds+'Seurat_velocyto_monocle*matrix.mtx')):\n",
    "    samples.append(f.split('Seurat_velocyto_monocle :')[1].replace(':matrix.mtx',''))\n",
    "print(samples)"
   ]
  },
  {
   "cell_type": "code",
   "execution_count": 12,
   "id": "18b6ae51-38a8-4e08-a88e-5dc03a9fcec8",
   "metadata": {
    "tags": []
   },
   "outputs": [],
   "source": [
    "# Mapping between file name samples and annotation samples\n",
    "sample_map={\n",
    "    'IPS1 ':'DD13',\n",
    "    'IPS2':'DD21',\n",
    "    'IPS3':'DD25',\n",
    "    'IPS4':'DD29',\n",
    "    'RE1':'E13',\n",
    "    'RE2':'P0',\n",
    "    'RE3':'P5',\n",
    "    'RE4':'P9',\n",
    "}"
   ]
  },
  {
   "cell_type": "code",
   "execution_count": null,
   "id": "f96d6114-1a7a-49e6-987e-5d0b465bbbfa",
   "metadata": {
    "tags": []
   },
   "outputs": [],
   "source": [
    "# Load data\n",
    "adata={}\n",
    "for fn,sample in sample_map.items():\n",
    "    #print(sample)\n",
    "    var=pd.read_table(path_ds+'Seurat_velocyto_monocle :'+fn+':genes.tsv',header=None,index_col=0)\n",
    "    var.columns=['gene_symbol']\n",
    "    obs=pd.read_table(path_ds+'Seurat_velocyto_monocle :'+fn+':barcodes.tsv',header=None,index_col=0)\n",
    "    obs.index.name=None\n",
    "    var.index.name=None\n",
    "    fn_mtx=path_ds+'Seurat_velocyto_monocle :'+fn+':matrix.mtx'\n",
    "    try:\n",
    "        mtx=csr_matrix(mmread(fn_mtx)).T\n",
    "    except ValueError: \n",
    "        fn_mtx=path_ds+'Seurat_velocyto_monocle :'+fn+':matrix.mtx'\n",
    "        mtx=pd.read_table(fn_mtx,header=None,sep=' ').values\n",
    "        mtx=csr_matrix((mtx[:,2],(mtx[:,1]-1,mtx[:,0]-1)),shape=(obs.shape[0],var.shape[0]))\n",
    "    adata[sample]=sc.AnnData(mtx,obs=obs,var=var)\n",
    "adata=sc.concat(adata.values(),label='sample',keys=adata.keys(),index_unique ='-',merge ='same')"
   ]
  },
  {
   "cell_type": "code",
   "execution_count": 62,
   "id": "957f3e9b-4850-4f98-adb3-31921ecee62b",
   "metadata": {
    "tags": []
   },
   "outputs": [
    {
     "data": {
      "text/plain": [
       "AnnData object with n_obs × n_vars = 40299 × 27998\n",
       "    obs: 'sample'\n",
       "    var: 'gene_symbol'"
      ]
     },
     "execution_count": 62,
     "metadata": {},
     "output_type": "execute_result"
    }
   ],
   "source": [
    "adata"
   ]
  },
  {
   "cell_type": "markdown",
   "id": "12067b46-4fd2-4847-a22d-246467ffe07d",
   "metadata": {},
   "source": [
    "Add annotation"
   ]
  },
  {
   "cell_type": "code",
   "execution_count": 15,
   "id": "cdaacc52-a63e-458f-92c8-a6cf212847e0",
   "metadata": {
    "tags": []
   },
   "outputs": [],
   "source": [
    "anno=pd.read_table(path_ds+'Annotations_cells.csv',sep=',',index_col=0)"
   ]
  },
  {
   "cell_type": "code",
   "execution_count": 16,
   "id": "771b51dd-c289-49c6-86f0-efda5ee67a5e",
   "metadata": {
    "tags": []
   },
   "outputs": [
    {
     "data": {
      "text/plain": [
       "[P5, 1]      3733\n",
       "[P5, 2]      3671\n",
       "[P9]         3576\n",
       "[DD25, 2]    3153\n",
       "[DD25, 1]    2463\n",
       "[DD29]       2204\n",
       "[DD13, 2]    1568\n",
       "[P0, 2]      1517\n",
       "[E13, 1]     1372\n",
       "[DD21, 2]    1326\n",
       "[E13, 2]     1323\n",
       "[P0, 1]      1227\n",
       "[DD13, 1]    1129\n",
       "[DD21, 1]    1105\n",
       "Name: Cells, dtype: int64"
      ]
     },
     "execution_count": 16,
     "metadata": {},
     "output_type": "execute_result"
    }
   ],
   "source": [
    "anno.index.map(lambda x: x.split('_')[:-1]).value_counts()"
   ]
  },
  {
   "cell_type": "code",
   "execution_count": 17,
   "id": "9c050f5f-272b-4f15-85cd-1efc9d59fd8f",
   "metadata": {
    "tags": []
   },
   "outputs": [
    {
     "data": {
      "text/plain": [
       "[2, P5]      6212\n",
       "[1, P5]      4513\n",
       "[1, P9]      4468\n",
       "[1, DD29]    3993\n",
       "[2, DD25]    3890\n",
       "[1, DD25]    3543\n",
       "[2, DD13]    2291\n",
       "[2, DD21]    1895\n",
       "[2, P0]      1761\n",
       "[1, E13]     1641\n",
       "[2, E13]     1571\n",
       "[1, DD13]    1567\n",
       "[1, DD21]    1498\n",
       "[1, P0]      1456\n",
       "dtype: int64"
      ]
     },
     "execution_count": 17,
     "metadata": {},
     "output_type": "execute_result"
    }
   ],
   "source": [
    "adata.obs.index.map(lambda x: x.split('-')[1:]).value_counts()"
   ]
  },
  {
   "cell_type": "code",
   "execution_count": 18,
   "id": "6d517186-a797-4690-afa5-3c8ca7a7b5f1",
   "metadata": {
    "tags": []
   },
   "outputs": [],
   "source": [
    "anno.index=anno.index.map(lambda x: '-'.join(\n",
    "    [x.split('_')[-1],x.split('_')[1] if len(x.split('_'))==3 else '1',x.split('_')[0]]))"
   ]
  },
  {
   "cell_type": "code",
   "execution_count": 19,
   "id": "777e36d9-0963-4790-a62b-31939fdd97e0",
   "metadata": {
    "tags": []
   },
   "outputs": [
    {
     "data": {
      "text/plain": [
       "[1, P5]      3733\n",
       "[2, P5]      3671\n",
       "[1, P9]      3576\n",
       "[2, DD25]    3153\n",
       "[1, DD25]    2463\n",
       "[1, DD29]    2204\n",
       "[2, DD13]    1568\n",
       "[2, P0]      1517\n",
       "[1, E13]     1372\n",
       "[2, DD21]    1326\n",
       "[2, E13]     1323\n",
       "[1, P0]      1227\n",
       "[1, DD13]    1129\n",
       "[1, DD21]    1105\n",
       "Name: Cells, dtype: int64"
      ]
     },
     "execution_count": 19,
     "metadata": {},
     "output_type": "execute_result"
    }
   ],
   "source": [
    "anno.index.map(lambda x: x.split('-')[1:]).value_counts()"
   ]
  },
  {
   "cell_type": "code",
   "execution_count": 97,
   "id": "37f89e02-902a-4ecd-85ad-36008055e6b2",
   "metadata": {
    "tags": []
   },
   "outputs": [
    {
     "name": "stdout",
     "output_type": "stream",
     "text": [
      "{'ACACCCTCAGTTTACG-2-DD21'}\n"
     ]
    }
   ],
   "source": [
    "# Find cells that are probably not correct from anno\n",
    "adata_cells=set(adata.obs_names)\n",
    "anno_cells=set(anno.index)\n",
    "print(anno_cells-adata_cells)"
   ]
  },
  {
   "cell_type": "code",
   "execution_count": 99,
   "id": "b5925223-8e21-4a7e-bdc7-44733715cbde",
   "metadata": {
    "tags": []
   },
   "outputs": [],
   "source": [
    "cols=['TimePoint','Model','Annotations']\n",
    "cells=list(anno_cells&adata_cells)\n",
    "adata.obs.loc[cells,cols]=anno.loc[cells,cols]"
   ]
  },
  {
   "cell_type": "code",
   "execution_count": 25,
   "id": "95b3f268-935a-463f-aa0d-770a8265160e",
   "metadata": {
    "tags": []
   },
   "outputs": [],
   "source": [
    "# Fix condition and sample (bio replicates)\n",
    "adata.obs['sample']=adata.obs.index.map(\n",
    "    lambda x: x.split('-')[2] +'_'+x.split('-')[1] if len(x.split('-'))==3 else x.split('-')[1]+'_1')"
   ]
  },
  {
   "cell_type": "code",
   "execution_count": 28,
   "id": "6f8ef978-6766-4579-8c9b-ab1fa234201e",
   "metadata": {
    "tags": []
   },
   "outputs": [
    {
     "data": {
      "text/plain": [
       "DD13_1    1567\n",
       "DD13_2    2291\n",
       "DD21_1    1498\n",
       "DD21_2    1895\n",
       "DD25_1    3543\n",
       "DD25_2    3890\n",
       "DD29_1    3993\n",
       "E13_1     1641\n",
       "E13_2     1571\n",
       "P0_1      1456\n",
       "P0_2      1761\n",
       "P5_1      4513\n",
       "P5_2      6212\n",
       "P9_1      4468\n",
       "Name: sample, dtype: int64"
      ]
     },
     "execution_count": 28,
     "metadata": {},
     "output_type": "execute_result"
    }
   ],
   "source": [
    "adata.obs['sample'].value_counts(sort=False)"
   ]
  },
  {
   "cell_type": "code",
   "execution_count": 32,
   "id": "2fc61db6-82c2-4ef7-bf39-a1a82b60fb60",
   "metadata": {
    "tags": []
   },
   "outputs": [],
   "source": [
    "adata.obs['batch']=adata.obs['sample'].map(lambda x: x.split('_')[0])"
   ]
  },
  {
   "cell_type": "markdown",
   "id": "98e64bc5-6441-4cb2-8dc6-447e0013f7b9",
   "metadata": {},
   "source": [
    "There are two bio samples per condition, except for the 4th stage in both models. But they were sequenced together:\n",
    "\n",
    "We generated two biological replicate samples (NaR and RO) for stages I to III and one biological replicate for stage IV. We loaded ~ 15,700 cells for biological replicate 1 (stage I–IV) and ~ 10,000 cells for biological replicate 2 (stage I–III) in a Chromium Controller instrument (10× Genomics, Pleasanton, CA)."
   ]
  },
  {
   "cell_type": "code",
   "execution_count": 64,
   "id": "34b14679-4f46-4d19-8ff9-e18cd0fca08e",
   "metadata": {
    "tags": []
   },
   "outputs": [
    {
     "data": {
      "text/plain": [
       "['DD13', 'DD21', 'DD25', 'DD29', 'E13', 'P0', 'P5', 'P9']"
      ]
     },
     "execution_count": 64,
     "metadata": {},
     "output_type": "execute_result"
    }
   ],
   "source": [
    "sorted(adata.obs['TimePoint'].dropna().unique())"
   ]
  },
  {
   "cell_type": "code",
   "execution_count": 65,
   "id": "5f54da3a-9371-4b12-9b8e-f2e7bb677563",
   "metadata": {
    "tags": []
   },
   "outputs": [],
   "source": [
    "adata.obs['stage']=adata.obs['TimePoint'].map({\n",
    "    'DD13':1, \n",
    "    'DD21':2, \n",
    "    'DD25':3, \n",
    "    'DD29':4, \n",
    "    'E13':1, \n",
    "    'P0':2, \n",
    "    'P5':3, \n",
    "    'P9':4\n",
    "})"
   ]
  },
  {
   "cell_type": "code",
   "execution_count": 66,
   "id": "09eb5d82-b7b3-4288-99f7-a04aa33a59fc",
   "metadata": {
    "tags": []
   },
   "outputs": [
    {
     "data": {
      "text/plain": [
       "AnnData object with n_obs × n_vars = 40299 × 27998\n",
       "    obs: 'sample', 'TimePoint', 'Model', 'Annotations', 'batch', 'stage'\n",
       "    var: 'gene_symbol'"
      ]
     },
     "execution_count": 66,
     "metadata": {},
     "output_type": "execute_result"
    }
   ],
   "source": [
    "adata"
   ]
  },
  {
   "cell_type": "markdown",
   "id": "86a1ab51-2432-4c3b-8223-f4325faf63ca",
   "metadata": {},
   "source": [
    "Save data"
   ]
  },
  {
   "cell_type": "code",
   "execution_count": 70,
   "id": "e4a5415e-a751-4d41-af22-cf62f9536c74",
   "metadata": {
    "tags": []
   },
   "outputs": [],
   "source": [
    "adata.write(path_ds+'adata_Seurat_velocyto_monocle.h5ad')"
   ]
  },
  {
   "cell_type": "markdown",
   "id": "8278d816-3a89-4859-adb9-b8762da0bb11",
   "metadata": {},
   "source": [
    "## Training data"
   ]
  },
  {
   "cell_type": "code",
   "execution_count": 6,
   "id": "61008550-d4ca-4010-967b-5be150c9a19a",
   "metadata": {
    "tags": []
   },
   "outputs": [],
   "source": [
    "#adata=sc.read(path_ds+'adata_Seurat_velocyto_monocle.h5ad')"
   ]
  },
  {
   "cell_type": "code",
   "execution_count": 31,
   "id": "ed9e8e92-3e29-41e4-b0bb-73090ed8f8d2",
   "metadata": {
    "tags": []
   },
   "outputs": [
    {
     "data": {
      "text/plain": [
       "AnnData object with n_obs × n_vars = 40299 × 27998\n",
       "    obs: 'sample', 'TimePoint', 'Model', 'Annotations'\n",
       "    var: 'gene_symbol'"
      ]
     },
     "execution_count": 31,
     "metadata": {},
     "output_type": "execute_result"
    }
   ],
   "source": [
    "adata"
   ]
  },
  {
   "cell_type": "code",
   "execution_count": 75,
   "id": "f4dd527e-9505-45e5-85fa-404bc2337a97",
   "metadata": {
    "tags": []
   },
   "outputs": [],
   "source": [
    "# Subset to annotated cells\n",
    "adata_sub=adata[~adata.obs.Annotations.isna(),:].copy()"
   ]
  },
  {
   "cell_type": "code",
   "execution_count": 80,
   "id": "c7abd998-a931-400b-b5ca-bbf460452deb",
   "metadata": {
    "tags": []
   },
   "outputs": [],
   "source": [
    "# Keep not too lowly expressed genes as intersection of the two systems\n",
    "adata_sub=adata_sub[:,\n",
    "                    np.array((adata_sub[adata_sub.obs.Model==\"iPS\",:].X>0).sum(axis=0)>20).ravel()&\\\n",
    "                    np.array((adata_sub[adata_sub.obs.Model==\"Retinal\",:].X>0).sum(axis=0)>20).ravel()\n",
    "                   ]"
   ]
  },
  {
   "cell_type": "code",
   "execution_count": 81,
   "id": "30dbd7fc-532d-4fec-9f72-d5bf6f195002",
   "metadata": {
    "tags": []
   },
   "outputs": [
    {
     "data": {
      "text/plain": [
       "(29366, 14833)"
      ]
     },
     "execution_count": 81,
     "metadata": {},
     "output_type": "execute_result"
    }
   ],
   "source": [
    "adata_sub.shape"
   ]
  },
  {
   "cell_type": "code",
   "execution_count": 82,
   "id": "b49ef010-7b61-4750-b490-93f33801d596",
   "metadata": {
    "tags": []
   },
   "outputs": [
    {
     "name": "stderr",
     "output_type": "stream",
     "text": [
      "/net/bmc-lab5/data/kellis/users/khrovati/miniconda/envs/analysis/lib/python3.10/site-packages/scanpy/preprocessing/_normalization.py:170: UserWarning: Received a view of an AnnData. Making a copy.\n",
      "  view_to_actual(adata)\n"
     ]
    }
   ],
   "source": [
    "# Normalize and log scale\n",
    "# Can normalize together as just CPM\n",
    "sc.pp.normalize_total(adata_sub, target_sum=1e4)\n",
    "sc.pp.log1p(adata_sub)"
   ]
  },
  {
   "cell_type": "code",
   "execution_count": 83,
   "id": "e9a41b63-a878-4f59-9748-01571e2ea7ef",
   "metadata": {
    "tags": []
   },
   "outputs": [
    {
     "name": "stdout",
     "output_type": "stream",
     "text": [
      "2143\n"
     ]
    }
   ],
   "source": [
    "hvgs=set(sc.pp.highly_variable_genes(\n",
    "    adata_sub[adata_sub.obs.Model==\"iPS\",:], \n",
    "    n_top_genes=3000, flavor='cell_ranger', inplace=False, batch_key='sample').query('highly_variable==True').index)&\\\n",
    "set(sc.pp.highly_variable_genes(\n",
    "    adata_sub[adata_sub.obs.Model==\"Retinal\",:], \n",
    "    n_top_genes=3000, flavor='cell_ranger', inplace=False, batch_key='sample').query('highly_variable==True').index)\n",
    "print(len(hvgs))"
   ]
  },
  {
   "cell_type": "code",
   "execution_count": 84,
   "id": "bca19559-7889-48fe-9c97-7559867a706a",
   "metadata": {
    "tags": []
   },
   "outputs": [],
   "source": [
    "adata_sub=adata_sub[:,list(hvgs)]"
   ]
  },
  {
   "cell_type": "code",
   "execution_count": 85,
   "id": "c249cdad-9b4a-49ca-8f18-59c9fa7fc505",
   "metadata": {
    "tags": []
   },
   "outputs": [],
   "source": [
    "del adata_sub.uns"
   ]
  },
  {
   "cell_type": "code",
   "execution_count": 86,
   "id": "dc0ac053-32ca-4c57-be16-ec272ef4a690",
   "metadata": {
    "tags": []
   },
   "outputs": [],
   "source": [
    "adata_sub.obs['system']=adata_sub.obs['Model'].map({\"iPS\":0,'Retinal':1})"
   ]
  },
  {
   "cell_type": "code",
   "execution_count": 8,
   "id": "477f6978-1580-4c83-851f-00f9b6fbff4f",
   "metadata": {
    "tags": []
   },
   "outputs": [],
   "source": [
    "adata_sub.layers['counts']=adata[adata_sub.obs_names,adata_sub.var_names].X.copy()"
   ]
  },
  {
   "cell_type": "code",
   "execution_count": 9,
   "id": "0cbd5be2-0b38-4bfe-9ef9-5babe771841a",
   "metadata": {
    "tags": []
   },
   "outputs": [
    {
     "data": {
      "text/plain": [
       "AnnData object with n_obs × n_vars = 29366 × 2143\n",
       "    obs: 'sample', 'TimePoint', 'Model', 'Annotations', 'batch', 'stage', 'system'\n",
       "    var: 'gene_symbol'\n",
       "    layers: 'counts'"
      ]
     },
     "execution_count": 9,
     "metadata": {},
     "output_type": "execute_result"
    }
   ],
   "source": [
    "adata_sub"
   ]
  },
  {
   "cell_type": "code",
   "execution_count": 10,
   "id": "b43dcdcc-3e11-4f09-9dda-221b539d7e0c",
   "metadata": {
    "tags": []
   },
   "outputs": [],
   "source": [
    "adata_sub.write(path_train+'combined_HVG.h5ad')"
   ]
  },
  {
   "cell_type": "code",
   "execution_count": 7,
   "id": "83d26472-5338-4dd7-9f4e-cd2297fad801",
   "metadata": {},
   "outputs": [],
   "source": [
    "#adata_sub=sc.read(path_train+'combined_HVG.h5ad')"
   ]
  },
  {
   "cell_type": "code",
   "execution_count": null,
   "id": "8cbf6efd-b96a-4c3b-b323-77e1268f2856",
   "metadata": {},
   "outputs": [],
   "source": []
  }
 ],
 "metadata": {
  "jupytext": {
   "formats": "ipynb,py:percent"
  },
  "kernelspec": {
   "display_name": "analysis",
   "language": "python",
   "name": "analysis"
  },
  "language_info": {
   "codemirror_mode": {
    "name": "ipython",
    "version": 3
   },
   "file_extension": ".py",
   "mimetype": "text/x-python",
   "name": "python",
   "nbconvert_exporter": "python",
   "pygments_lexer": "ipython3",
   "version": "3.10.9"
  }
 },
 "nbformat": 4,
 "nbformat_minor": 5
}
