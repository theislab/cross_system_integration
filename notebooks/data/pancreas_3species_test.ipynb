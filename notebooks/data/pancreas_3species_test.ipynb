{
 "cells": [
  {
   "cell_type": "markdown",
   "id": "766d1659-63c3-44b6-afc0-3c049a9d95df",
   "metadata": {},
   "source": [
    "Mock dataset just to see if multi-system integration works. E.g. using mouse/human subset, no proper gene matching, no pig HVGs,..."
   ]
  },
  {
   "cell_type": "code",
   "execution_count": 1,
   "id": "f79c43fb-1dc7-4f94-8702-d61a3dcb917a",
   "metadata": {},
   "outputs": [],
   "source": [
    "import scanpy as sc\n",
    "import pandas as pd\n",
    "import numpy as np"
   ]
  },
  {
   "cell_type": "code",
   "execution_count": 2,
   "id": "46c21a52-9e36-4277-8b03-c35c1cc70a54",
   "metadata": {},
   "outputs": [],
   "source": [
    "# Tutorial mouse&human data\n",
    "adata_mmhs=sc.read('../../tutorials/data/mouse-human_pancreas_subset10000.h5ad')"
   ]
  },
  {
   "cell_type": "code",
   "execution_count": 3,
   "id": "dba8de88-c601-40a7-baaa-9f32654bf764",
   "metadata": {},
   "outputs": [
    {
     "data": {
      "text/plain": [
       "AnnData object with n_obs × n_vars = 10000 × 1768\n",
       "    obs: 'batch', 'mm_study', 'mm_sex', 'mm_age', 'mm_study_sample_design', 'mm_hc_gene_programs_parsed', 'mm_leiden_r1.5_parsed', 'cell_type_eval', 'system', 'hs_Sex', 'hs_Diabetes Status', 'leiden_system'\n",
       "    var: 'gs_mm', 'gs_hs'\n",
       "    obsm: 'X_pca_system'\n",
       "    layers: 'counts'"
      ]
     },
     "execution_count": 3,
     "metadata": {},
     "output_type": "execute_result"
    }
   ],
   "source": [
    "adata_mmhs"
   ]
  },
  {
   "cell_type": "code",
   "execution_count": 27,
   "id": "c9cbf13e-9b82-4dd1-b010-178c7e775f9e",
   "metadata": {},
   "outputs": [],
   "source": [
    "# pig data full\n",
    "adata_sd=sc.read('/om2/user/khrovati/data/datasets/d10_1016_j_molmet_2022_101595/15202490-e1d4-43ee-bb0d-f3494f21fba2.h5ad')"
   ]
  },
  {
   "cell_type": "code",
   "execution_count": 28,
   "id": "2ef62aef-4410-4993-80f1-bbc10051597d",
   "metadata": {},
   "outputs": [
    {
     "data": {
      "text/plain": [
       "AnnData object with n_obs × n_vars = 22056 × 15824\n",
       "    obs: 'mt_frac', 'n_counts', 'n_genes', 'sample', 'size_factors', 'doublet_score', 'louvain_anno_broad', 'assay_ontology_term_id', 'cell_type_ontology_term_id', 'development_stage_ontology_term_id', 'organism_ontology_term_id', 'disease_ontology_term_id', 'self_reported_ethnicity_ontology_term_id', 'is_primary_data', 'sex_ontology_term_id', 'tissue_ontology_term_id', 'donor_id', 'suspension_type', 'cell_type', 'assay', 'disease', 'organism', 'sex', 'tissue', 'self_reported_ethnicity', 'development_stage'\n",
       "    var: 'pig_gene_names', 'feature_is_filtered', 'pig_ensembl_ID', 'feature_name', 'feature_reference', 'feature_biotype'\n",
       "    uns: 'batch_condition', 'default_embedding', 'schema_version', 'title'\n",
       "    obsm: 'X_pca', 'X_umap'"
      ]
     },
     "execution_count": 28,
     "metadata": {},
     "output_type": "execute_result"
    }
   ],
   "source": [
    "adata_sd"
   ]
  },
  {
   "cell_type": "code",
   "execution_count": 29,
   "id": "dc1465e0-ecc5-49ac-9e02-1a65dec47d27",
   "metadata": {},
   "outputs": [
    {
     "name": "stderr",
     "output_type": "stream",
     "text": [
      "/om2/user/khrovati/miniconda/envs/csi/lib/python3.9/site-packages/scanpy/preprocessing/_normalization.py:170: UserWarning: Received a view of an AnnData. Making a copy.\n",
      "  view_to_actual(adata)\n",
      "/om2/user/khrovati/miniconda/envs/csi/lib/python3.9/site-packages/anndata/_core/anndata.py:879: UserWarning: \n",
      "AnnData expects .var.index to contain strings, but got values like:\n",
      "    ['PSMB1', 'FAM120B', 'DLL1', 'ERMARD', 'PHF10']\n",
      "\n",
      "    Inferred to be: categorical\n",
      "\n",
      "  names = self._prep_dim_index(names, \"var\")\n"
     ]
    }
   ],
   "source": [
    "# prep pig data\n",
    "adata_sd=adata_sd[np.random.RandomState(seed=0).permutation(adata_sd.obs_names)[:5000],:]\n",
    "adata_sd=adata_sd.raw.to_adata()\n",
    "adata_sd=adata_sd[:,np.array((adata_sd.X>0).sum(axis=0)>20).ravel()]\n",
    "sc.pp.normalize_total(adata_sd, target_sum=1e4)\n",
    "sc.pp.log1p(adata_sd)\n",
    "adata_sd.obs['cell_type_eval']=adata_sd.obs['cell_type'].map({\n",
    "    'type B pancreatic cell':'beta',\n",
    "    'pancreatic A cell':'alpha', \n",
    "    'pancreatic D cell':'delta', \n",
    "    'pancreatic PP cell':'gamma'\n",
    "})\n",
    "adata_sd.obs['system']=2\n",
    "adata_sd.obs['batch']=adata_sd.obs['sample']\n",
    "adata_sd.obs=adata_sd.obs[['cell_type_eval','system','batch']]\n",
    "adata_sd.var['gs_sd']=adata_sd.var['feature_name']\n",
    "adata_sd.var=adata_sd.var[['gs_sd']]\n",
    "adata_sd.var_names=adata_sd.var['gs_sd']\n",
    "del adata_sd.uns\n",
    "del adata_sd.obsm"
   ]
  },
  {
   "cell_type": "code",
   "execution_count": 26,
   "id": "c8a8b19b-2cfc-49f9-ba54-ae1ee528d6ea",
   "metadata": {},
   "outputs": [],
   "source": [
    "# matching based on human gene names\n",
    "adata_mmhs.var_names=adata_mmhs.var['gs_hs']"
   ]
  },
  {
   "cell_type": "code",
   "execution_count": 32,
   "id": "72c3624e-aa71-4f8f-9a7d-ee6ece71e78e",
   "metadata": {},
   "outputs": [],
   "source": [
    "adata=sc.concat([adata_mmhs,adata_sd])"
   ]
  },
  {
   "cell_type": "code",
   "execution_count": 33,
   "id": "54d5e8d4-589d-4bac-90a2-d8ac6969bda5",
   "metadata": {},
   "outputs": [
    {
     "data": {
      "text/plain": [
       "AnnData object with n_obs × n_vars = 15000 × 1003\n",
       "    obs: 'batch', 'cell_type_eval', 'system'"
      ]
     },
     "execution_count": 33,
     "metadata": {},
     "output_type": "execute_result"
    }
   ],
   "source": [
    "adata"
   ]
  },
  {
   "cell_type": "code",
   "execution_count": 34,
   "id": "61a08dc8-c5db-4332-822b-ee44e16ae8be",
   "metadata": {},
   "outputs": [],
   "source": [
    "adata.write('/om2/user/khrovati/data/cross_system_integration/test_data/pancreas_3species_15000.h5ad')"
   ]
  },
  {
   "cell_type": "code",
   "execution_count": null,
   "id": "b14ea5e4-a380-448c-bc0f-7fc9d84042b7",
   "metadata": {},
   "outputs": [],
   "source": []
  }
 ],
 "metadata": {
  "kernelspec": {
   "display_name": "csi",
   "language": "python",
   "name": "csi"
  },
  "language_info": {
   "codemirror_mode": {
    "name": "ipython",
    "version": 3
   },
   "file_extension": ".py",
   "mimetype": "text/x-python",
   "name": "python",
   "nbconvert_exporter": "python",
   "pygments_lexer": "ipython3",
   "version": "3.9.16"
  }
 },
 "nbformat": 4,
 "nbformat_minor": 5
}
