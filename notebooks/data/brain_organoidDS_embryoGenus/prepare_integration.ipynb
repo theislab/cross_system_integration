{
 "cells": [
  {
   "cell_type": "code",
   "execution_count": 1,
   "id": "e260c56e-8ec1-4ab6-802c-6da4bb41b99f",
   "metadata": {
    "tags": []
   },
   "outputs": [],
   "source": [
    "import scanpy as sc\n",
    "import pandas as pd\n",
    "import numpy as np\n",
    "from collections import defaultdict\n",
    "from scipy.io import mmread\n",
    "from scipy.sparse import csr_matrix\n",
    "\n",
    "import gc\n",
    "\n",
    "from matplotlib import rcParams"
   ]
  },
  {
   "cell_type": "code",
   "execution_count": 138,
   "id": "8d5eb2fb-b2dc-497e-a90e-41c275070cb3",
   "metadata": {
    "tags": []
   },
   "outputs": [],
   "source": [
    "path_data='/net/bmc-lab6/data/lab/kellis/users/khrovati/data/'\n",
    "path_mm=path_data+'datasets/mouse_brain_devel_genus/'\n",
    "path_hs=path_data+'datasets/human_brain_organoid_DS/'\n",
    "path_genes=path_data+'gene_info/'\n",
    "path_save=path_data+'cross_species_prediction/brain_mmEmbryo_hsOrganoid/'"
   ]
  },
  {
   "cell_type": "code",
   "execution_count": 3,
   "id": "5f422ec7-bd84-479f-ae35-94e465e45316",
   "metadata": {
    "tags": []
   },
   "outputs": [],
   "source": [
    "# Orthologues\n",
    "orthology_info=pd.read_table(path_genes+'orthologues_ORGmus_musculus_ORG2homo_sapiens_V109.tsv'\n",
    "                         ).rename(\n",
    "    {'Gene name':'gs_mm','Human gene name':'gs_hs',\n",
    "     'Gene stable ID':'eid_mm','Human gene stable ID':'eid_hs'},axis=1)"
   ]
  },
  {
   "cell_type": "code",
   "execution_count": 4,
   "id": "65ae064d-48fd-44d7-a10d-e7d3042da09e",
   "metadata": {
    "tags": []
   },
   "outputs": [],
   "source": [
    "# One to one orthologues - dont have same mm/hs gene in the table 2x\n",
    "# USe here human gs as dont have EIDs\n",
    "oto_orthologues=orthology_info[~orthology_info.duplicated('eid_mm',keep=False).values & \n",
    "               ~orthology_info.duplicated('gs_hs',keep=False).values]"
   ]
  },
  {
   "cell_type": "code",
   "execution_count": 5,
   "id": "83cb8bb6-6fc8-4c10-b0fe-ea63ae2bdd15",
   "metadata": {
    "tags": []
   },
   "outputs": [
    {
     "data": {
      "text/html": [
       "<div>\n",
       "<style scoped>\n",
       "    .dataframe tbody tr th:only-of-type {\n",
       "        vertical-align: middle;\n",
       "    }\n",
       "\n",
       "    .dataframe tbody tr th {\n",
       "        vertical-align: top;\n",
       "    }\n",
       "\n",
       "    .dataframe thead th {\n",
       "        text-align: right;\n",
       "    }\n",
       "</style>\n",
       "<table border=\"1\" class=\"dataframe\">\n",
       "  <thead>\n",
       "    <tr style=\"text-align: right;\">\n",
       "      <th></th>\n",
       "      <th>eid_mm</th>\n",
       "      <th>gs_mm</th>\n",
       "      <th>eid_hs</th>\n",
       "      <th>gs_hs</th>\n",
       "    </tr>\n",
       "  </thead>\n",
       "  <tbody>\n",
       "    <tr>\n",
       "      <th>0</th>\n",
       "      <td>ENSMUSG00000064341</td>\n",
       "      <td>mt-Nd1</td>\n",
       "      <td>ENSG00000198888</td>\n",
       "      <td>MT-ND1</td>\n",
       "    </tr>\n",
       "    <tr>\n",
       "      <th>1</th>\n",
       "      <td>ENSMUSG00000064345</td>\n",
       "      <td>mt-Nd2</td>\n",
       "      <td>ENSG00000198763</td>\n",
       "      <td>MT-ND2</td>\n",
       "    </tr>\n",
       "    <tr>\n",
       "      <th>2</th>\n",
       "      <td>ENSMUSG00000064351</td>\n",
       "      <td>mt-Co1</td>\n",
       "      <td>ENSG00000198804</td>\n",
       "      <td>MT-CO1</td>\n",
       "    </tr>\n",
       "    <tr>\n",
       "      <th>3</th>\n",
       "      <td>ENSMUSG00000064354</td>\n",
       "      <td>mt-Co2</td>\n",
       "      <td>ENSG00000198712</td>\n",
       "      <td>MT-CO2</td>\n",
       "    </tr>\n",
       "    <tr>\n",
       "      <th>4</th>\n",
       "      <td>ENSMUSG00000064356</td>\n",
       "      <td>mt-Atp8</td>\n",
       "      <td>ENSG00000228253</td>\n",
       "      <td>MT-ATP8</td>\n",
       "    </tr>\n",
       "    <tr>\n",
       "      <th>...</th>\n",
       "      <td>...</td>\n",
       "      <td>...</td>\n",
       "      <td>...</td>\n",
       "      <td>...</td>\n",
       "    </tr>\n",
       "    <tr>\n",
       "      <th>25713</th>\n",
       "      <td>ENSMUSG00000027133</td>\n",
       "      <td>Nop10</td>\n",
       "      <td>ENSG00000182117</td>\n",
       "      <td>NOP10</td>\n",
       "    </tr>\n",
       "    <tr>\n",
       "      <th>25714</th>\n",
       "      <td>ENSMUSG00000027596</td>\n",
       "      <td>a</td>\n",
       "      <td>ENSG00000101440</td>\n",
       "      <td>ASIP</td>\n",
       "    </tr>\n",
       "    <tr>\n",
       "      <th>25716</th>\n",
       "      <td>ENSMUSG00000027454</td>\n",
       "      <td>Gins1</td>\n",
       "      <td>ENSG00000101003</td>\n",
       "      <td>GINS1</td>\n",
       "    </tr>\n",
       "    <tr>\n",
       "      <th>25717</th>\n",
       "      <td>ENSMUSG00000068115</td>\n",
       "      <td>Ninl</td>\n",
       "      <td>ENSG00000101004</td>\n",
       "      <td>NINL</td>\n",
       "    </tr>\n",
       "    <tr>\n",
       "      <th>25718</th>\n",
       "      <td>ENSMUSG00000053916</td>\n",
       "      <td>Nanp</td>\n",
       "      <td>ENSG00000170191</td>\n",
       "      <td>NANP</td>\n",
       "    </tr>\n",
       "  </tbody>\n",
       "</table>\n",
       "<p>17033 rows × 4 columns</p>\n",
       "</div>"
      ],
      "text/plain": [
       "                   eid_mm    gs_mm           eid_hs    gs_hs\n",
       "0      ENSMUSG00000064341   mt-Nd1  ENSG00000198888   MT-ND1\n",
       "1      ENSMUSG00000064345   mt-Nd2  ENSG00000198763   MT-ND2\n",
       "2      ENSMUSG00000064351   mt-Co1  ENSG00000198804   MT-CO1\n",
       "3      ENSMUSG00000064354   mt-Co2  ENSG00000198712   MT-CO2\n",
       "4      ENSMUSG00000064356  mt-Atp8  ENSG00000228253  MT-ATP8\n",
       "...                   ...      ...              ...      ...\n",
       "25713  ENSMUSG00000027133    Nop10  ENSG00000182117    NOP10\n",
       "25714  ENSMUSG00000027596        a  ENSG00000101440     ASIP\n",
       "25716  ENSMUSG00000027454    Gins1  ENSG00000101003    GINS1\n",
       "25717  ENSMUSG00000068115     Ninl  ENSG00000101004     NINL\n",
       "25718  ENSMUSG00000053916     Nanp  ENSG00000170191     NANP\n",
       "\n",
       "[17033 rows x 4 columns]"
      ]
     },
     "execution_count": 5,
     "metadata": {},
     "output_type": "execute_result"
    }
   ],
   "source": [
    "oto_orthologues"
   ]
  },
  {
   "cell_type": "code",
   "execution_count": 53,
   "id": "a8e43420-5ca8-428f-80a4-c0d152acba3e",
   "metadata": {
    "tags": []
   },
   "outputs": [
    {
     "data": {
      "text/plain": [
       "False"
      ]
     },
     "execution_count": 53,
     "metadata": {},
     "output_type": "execute_result"
    }
   ],
   "source": [
    "oto_orthologues['gs_mm'].nunique()==oto_orthologues.shape[0]"
   ]
  },
  {
   "cell_type": "code",
   "execution_count": 56,
   "id": "03a54d66-6e2a-4a9d-a92d-3bfa2d697620",
   "metadata": {
    "tags": []
   },
   "outputs": [
    {
     "data": {
      "text/plain": [
       "Gm26457    2\n",
       "mt-Nd1     1\n",
       "Bpgm       1\n",
       "Name: gs_mm, dtype: int64"
      ]
     },
     "execution_count": 56,
     "metadata": {},
     "output_type": "execute_result"
    }
   ],
   "source": [
    "oto_orthologues['gs_mm'].value_counts().head(3)"
   ]
  },
  {
   "cell_type": "code",
   "execution_count": 54,
   "id": "940e1f22-1a0c-413c-b5b3-fcf8820552cd",
   "metadata": {
    "tags": []
   },
   "outputs": [
    {
     "data": {
      "text/plain": [
       "True"
      ]
     },
     "execution_count": 54,
     "metadata": {},
     "output_type": "execute_result"
    }
   ],
   "source": [
    "oto_orthologues['gs_hs'].nunique()==oto_orthologues.shape[0]"
   ]
  },
  {
   "cell_type": "markdown",
   "id": "eeb31f27-e8f3-4350-935a-3a642a9ca499",
   "metadata": {},
   "source": [
    "C: Mouse symbols are not unique but for now it may be resolved after HVG selection."
   ]
  },
  {
   "cell_type": "markdown",
   "id": "f5ff404a-579e-4c14-841a-39dd2ed29506",
   "metadata": {},
   "source": [
    "## Mouse"
   ]
  },
  {
   "cell_type": "code",
   "execution_count": 120,
   "id": "3087a4db-5803-419a-a4cc-46015d125bc7",
   "metadata": {
    "tags": []
   },
   "outputs": [],
   "source": [
    "adata=sc.read(path_mm+'filtered_celltype_subset_labelled.h5ad')"
   ]
  },
  {
   "cell_type": "code",
   "execution_count": 121,
   "id": "50c35077-0e70-46fa-913b-62fdce404d5b",
   "metadata": {
    "tags": []
   },
   "outputs": [
    {
     "data": {
      "text/plain": [
       "(23376, 20478)"
      ]
     },
     "execution_count": 121,
     "metadata": {},
     "output_type": "execute_result"
    }
   ],
   "source": [
    "adata.shape"
   ]
  },
  {
   "cell_type": "code",
   "execution_count": 122,
   "id": "6074c5d9-b312-4a00-903a-519a04c3494a",
   "metadata": {
    "tags": []
   },
   "outputs": [],
   "source": [
    "# normalise\n",
    "adata.layers['counts']=adata.X.copy()\n",
    "sc.pp.normalize_total(adata,target_sum =1e4)\n",
    "sc.pp.log1p(adata)"
   ]
  },
  {
   "cell_type": "code",
   "execution_count": 123,
   "id": "f94ed5cd-4b90-4d8d-b88d-0e237302a33d",
   "metadata": {
    "tags": []
   },
   "outputs": [
    {
     "data": {
      "text/plain": [
       "(23376, 14168)"
      ]
     },
     "execution_count": 123,
     "metadata": {},
     "output_type": "execute_result"
    }
   ],
   "source": [
    "# Subset to orthologues\n",
    "oto=set(oto_orthologues['gs_mm'])\n",
    "adata=adata[:,[v for v in adata.var_names if v in oto]]\n",
    "adata.shape"
   ]
  },
  {
   "cell_type": "code",
   "execution_count": 124,
   "id": "9d09e209-5aef-4a26-a150-ffdca07d6c67",
   "metadata": {
    "tags": []
   },
   "outputs": [
    {
     "name": "stderr",
     "output_type": "stream",
     "text": [
      "/net/bmc-lab5/data/kellis/users/khrovati/miniconda/envs/analysis/lib/python3.10/site-packages/scanpy/preprocessing/_highly_variable_genes.py:269: UserWarning: `n_top_genes` > number of normalized dispersions, returning all genes with normalized dispersions.\n",
      "  warnings.warn(\n",
      "/net/bmc-lab5/data/kellis/users/khrovati/miniconda/envs/analysis/lib/python3.10/site-packages/anndata/compat/_overloaded_dict.py:106: ImplicitModificationWarning: Trying to modify attribute `._uns` of view, initializing view as actual.\n",
      "  self.data[key] = value\n"
     ]
    }
   ],
   "source": [
    "n_hvg=4000\n",
    "sc.pp.highly_variable_genes(\n",
    "     adata=adata, n_top_genes=n_hvg, flavor='cell_ranger', subset=True,batch_key='ID')"
   ]
  },
  {
   "cell_type": "code",
   "execution_count": 125,
   "id": "b4657963-f10b-4117-822f-84ba866d5baf",
   "metadata": {
    "tags": []
   },
   "outputs": [],
   "source": [
    "# Parse obs\n",
    "del adata.uns\n",
    "del adata.obsm\n",
    "del adata.var\n",
    "obs=adata.obs\n",
    "del adata.obs\n",
    "adata.obs['cell_type']=obs['celltype']\n",
    "adata.obs['condition']=obs['Genotype_Treatment']\n",
    "adata.obs['sample']=obs['ID']\n",
    "adata.obs['system']=0"
   ]
  },
  {
   "cell_type": "code",
   "execution_count": 126,
   "id": "db752aee-85f3-4546-8c85-8452f931c652",
   "metadata": {
    "tags": []
   },
   "outputs": [
    {
     "data": {
      "text/plain": [
       "AnnData object with n_obs × n_vars = 23376 × 4000\n",
       "    obs: 'cell_type', 'condition', 'sample', 'system'\n",
       "    layers: 'counts'"
      ]
     },
     "execution_count": 126,
     "metadata": {},
     "output_type": "execute_result"
    }
   ],
   "source": [
    "adata"
   ]
  },
  {
   "cell_type": "code",
   "execution_count": 127,
   "id": "18f2edf5-ac11-4d09-90bc-ca5586d00e17",
   "metadata": {
    "tags": []
   },
   "outputs": [],
   "source": [
    "adata_mm=adata"
   ]
  },
  {
   "cell_type": "markdown",
   "id": "e44049f6-3624-46af-935b-a182b7d50e4d",
   "metadata": {},
   "source": [
    "## Human"
   ]
  },
  {
   "cell_type": "code",
   "execution_count": 128,
   "id": "4306be35-6100-492b-ac98-3974cdf42286",
   "metadata": {
    "tags": []
   },
   "outputs": [],
   "source": [
    "adata=sc.read(path_hs+'all_combined_cycling.h5ad')"
   ]
  },
  {
   "cell_type": "code",
   "execution_count": 129,
   "id": "65fb45d7-556e-44b6-b75f-af9302891d43",
   "metadata": {
    "tags": []
   },
   "outputs": [
    {
     "data": {
      "text/plain": [
       "(49320, 15706)"
      ]
     },
     "execution_count": 129,
     "metadata": {},
     "output_type": "execute_result"
    }
   ],
   "source": [
    "adata.shape"
   ]
  },
  {
   "cell_type": "code",
   "execution_count": 130,
   "id": "0ee71e1d-bf27-46e2-a320-adfa208a3d75",
   "metadata": {
    "tags": []
   },
   "outputs": [],
   "source": [
    "# normalise\n",
    "adata.layers['counts']=adata.X.copy()\n",
    "sc.pp.normalize_total(adata,target_sum =1e4)\n",
    "sc.pp.log1p(adata)"
   ]
  },
  {
   "cell_type": "code",
   "execution_count": 131,
   "id": "68c11ccf-7bdf-4bd0-b326-09ba91941872",
   "metadata": {
    "tags": []
   },
   "outputs": [
    {
     "data": {
      "text/plain": [
       "(49320, 12341)"
      ]
     },
     "execution_count": 131,
     "metadata": {},
     "output_type": "execute_result"
    }
   ],
   "source": [
    "# Subset to orthologues and change to mouse symbols\n",
    "oto=set(oto_orthologues['gs_hs'])\n",
    "adata=adata[:,[v for v in adata.var_names if v in oto]]\n",
    "oto_orthologues.index=oto_orthologues.gs_hs\n",
    "adata.var_names=oto_orthologues.loc[adata.var_names,'gs_mm']\n",
    "adata.shape"
   ]
  },
  {
   "cell_type": "code",
   "execution_count": 132,
   "id": "ed69a596-7d37-4973-8ef2-68393b391f25",
   "metadata": {
    "tags": []
   },
   "outputs": [],
   "source": [
    "n_hvg=4000\n",
    "sc.pp.highly_variable_genes(\n",
    "     adata=adata, n_top_genes=n_hvg, flavor='cell_ranger', subset=True,batch_key='Sample')"
   ]
  },
  {
   "cell_type": "code",
   "execution_count": 133,
   "id": "f60179aa-55a3-4885-8a2d-a3a42d960236",
   "metadata": {
    "tags": []
   },
   "outputs": [],
   "source": [
    "# Parse obs\n",
    "del adata.uns\n",
    "del adata.obsm\n",
    "del adata.var\n",
    "obs=adata.obs\n",
    "del adata.obs\n",
    "adata.obs['cell_type']=obs['LineComp']\n",
    "adata.obs['cell_type_fine']=obs['FullLineage']\n",
    "adata.obs['condition']=obs.apply(lambda x: str(x['Genotype'])+'_'+str(x['Time']),axis=1)\n",
    "adata.obs['sample']=obs['Sample']\n",
    "adata.obs['system']=1"
   ]
  },
  {
   "cell_type": "code",
   "execution_count": 134,
   "id": "7f04c57b-bc01-4415-85d4-99028573201f",
   "metadata": {
    "tags": []
   },
   "outputs": [
    {
     "data": {
      "text/plain": [
       "AnnData object with n_obs × n_vars = 49320 × 4000\n",
       "    obs: 'cell_type', 'cell_type_fine', 'condition', 'sample', 'system'\n",
       "    layers: 'counts'"
      ]
     },
     "execution_count": 134,
     "metadata": {},
     "output_type": "execute_result"
    }
   ],
   "source": [
    "adata"
   ]
  },
  {
   "cell_type": "code",
   "execution_count": 135,
   "id": "be79272b-b811-4fce-b1c0-eef6d67986c9",
   "metadata": {
    "tags": []
   },
   "outputs": [],
   "source": [
    "adata_hs=adata"
   ]
  },
  {
   "cell_type": "markdown",
   "id": "1c16b5e5-9a5e-4102-a797-5ae371cf496d",
   "metadata": {},
   "source": [
    "## Combine adatas"
   ]
  },
  {
   "cell_type": "code",
   "execution_count": 136,
   "id": "9e69b56e-afb6-4b8d-84b3-bbe2d6d317d7",
   "metadata": {
    "tags": []
   },
   "outputs": [],
   "source": [
    "genes=list(set(adata_mm.var_names)&set(adata_hs.var_names))\n",
    "adata=sc.concat([adata_mm[:,genes],adata_hs[:,genes]],join='outer')"
   ]
  },
  {
   "cell_type": "code",
   "execution_count": 137,
   "id": "02e412c0-5925-4383-af70-5c104f142d3a",
   "metadata": {
    "tags": []
   },
   "outputs": [
    {
     "data": {
      "text/plain": [
       "AnnData object with n_obs × n_vars = 72696 × 1347\n",
       "    obs: 'cell_type', 'condition', 'sample', 'system', 'cell_type_fine'\n",
       "    layers: 'counts'"
      ]
     },
     "execution_count": 137,
     "metadata": {},
     "output_type": "execute_result"
    }
   ],
   "source": [
    "adata"
   ]
  },
  {
   "cell_type": "code",
   "execution_count": 139,
   "id": "17d4bd5f-3186-4ecf-bab3-60de7868192b",
   "metadata": {
    "tags": []
   },
   "outputs": [],
   "source": [
    "adata.write(path_save+'combined_orthologuesHVG.h5ad')"
   ]
  }
 ],
 "metadata": {
  "jupytext": {
   "formats": "ipynb,auto:percent"
  },
  "kernelspec": {
   "display_name": "analysis",
   "language": "python",
   "name": "analysis"
  },
  "language_info": {
   "codemirror_mode": {
    "name": "ipython",
    "version": 3
   },
   "file_extension": ".py",
   "mimetype": "text/x-python",
   "name": "python",
   "nbconvert_exporter": "python",
   "pygments_lexer": "ipython3",
   "version": "3.10.9"
  }
 },
 "nbformat": 4,
 "nbformat_minor": 5
}
