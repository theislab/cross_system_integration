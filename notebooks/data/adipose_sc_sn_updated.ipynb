{
 "cells": [
  {
   "cell_type": "code",
   "execution_count": 1,
   "id": "1f581424",
   "metadata": {
    "lines_to_next_cell": 2
   },
   "outputs": [],
   "source": [
    "import scanpy as sc\n",
    "import pandas as pd\n",
    "import numpy as np\n",
    "from collections import defaultdict\n",
    "from scipy.io import mmread\n",
    "from scipy.sparse import csr_matrix\n",
    "import pickle as pkl\n",
    "\n",
    "from sklearn.metrics.pairwise import euclidean_distances\n",
    "from scipy.stats import mannwhitneyu\n",
    "from statsmodels.stats.multitest import multipletests\n",
    "\n",
    "import gc\n",
    "\n",
    "from matplotlib import rcParams\n",
    "import matplotlib.pyplot as plt\n",
    "import seaborn as sb\n",
    "\n",
    "import scib_metrics as sm\n",
    "import sys\n",
    "import os\n",
    "sys.path.append('/'.join(os.getcwd().split('/')[:-1]+['eval','cleaned','']))\n",
    "from metrics import ilisi, asw_batch\n",
    "\n",
    "%load_ext autoreload\n",
    "%autoreload 2"
   ]
  },
  {
   "cell_type": "code",
   "execution_count": 2,
   "id": "15ac3245",
   "metadata": {},
   "outputs": [],
   "source": [
    "#path_data='/lustre/groups/ml01/workspace/karin.hrovatin/data/'\n",
    "path_data='/net/bmc-lab4/data/kellis/users/khrovati/data/'\n",
    "path_sub=path_data+'datasets/d10_1038_s41586-022-04518-2/SCP1376/'\n",
    "path_save=path_data+'cross_system_integration/adipose_sc_sn_updated/'"
   ]
  },
  {
   "cell_type": "markdown",
   "id": "345be3f4-368e-4779-b670-15062d56a605",
   "metadata": {},
   "source": [
    "# Prepare adatas from mtx"
   ]
  },
  {
   "cell_type": "markdown",
   "id": "44bd1496",
   "metadata": {},
   "source": [
    "## Metadata of cells"
   ]
  },
  {
   "cell_type": "code",
   "execution_count": null,
   "id": "33319b4f",
   "metadata": {},
   "outputs": [],
   "source": [
    "# Metadata for both sc and sn\n",
    "meta=pd.read_table(path_sub+'metadata/metadata.scp.tsv',index_col=0,skiprows=[1])"
   ]
  },
  {
   "cell_type": "code",
   "execution_count": null,
   "id": "84f269d0",
   "metadata": {},
   "outputs": [],
   "source": [
    "for col in meta.columns:\n",
    "    print('\\n***',col,meta[col].nunique())\n",
    "    if meta[col].nunique()<30:\n",
    "        print(meta[col].unique())\n",
    "        display(meta[col].value_counts())"
   ]
  },
  {
   "cell_type": "markdown",
   "id": "8fbdf064",
   "metadata": {},
   "source": [
    "## Sc data"
   ]
  },
  {
   "cell_type": "code",
   "execution_count": null,
   "id": "a3ac7e42",
   "metadata": {},
   "outputs": [],
   "source": [
    "fn=path_sub+'expression/618069d6771a5b396cca7a7d/HsDrop.counts'"
   ]
  },
  {
   "cell_type": "code",
   "execution_count": null,
   "id": "ccc3f311",
   "metadata": {},
   "outputs": [],
   "source": [
    "x=mmread(fn+'.mtx.gz')\n",
    "features=pd.DataFrame(pd.read_table(fn+'.features.tsv.gz',header=None,index_col=0)[1])\n",
    "features.index.name=None\n",
    "features.columns=['gene_symbol']\n",
    "barcodes=pd.read_table(fn+'.barcodes.tsv.gz',header=None,index_col=0)\n",
    "barcodes.index.name=None"
   ]
  },
  {
   "cell_type": "code",
   "execution_count": null,
   "id": "95fa1dab",
   "metadata": {},
   "outputs": [],
   "source": [
    "adata=sc.AnnData(csr_matrix(x.T),var=features,obs=barcodes)\n",
    "adata"
   ]
  },
  {
   "cell_type": "code",
   "execution_count": null,
   "id": "49fe224f",
   "metadata": {},
   "outputs": [],
   "source": [
    "cols=['depot__ontology_label','donor_id','sex','disease__ontology_label',\n",
    "    'fat__type','cell_cycle__phase','cluster','subcluster']\n",
    "adata.obs[cols]=meta.loc[adata.obs_names,cols]"
   ]
  },
  {
   "cell_type": "code",
   "execution_count": null,
   "id": "ddeaa401",
   "metadata": {},
   "outputs": [],
   "source": [
    "for col in cols:\n",
    "    print('\\n***',col,adata.obs[col].nunique())\n",
    "    if adata.obs[col].nunique()<30:\n",
    "        print(adata.obs[col].unique())\n",
    "        display(adata.obs[col].value_counts())"
   ]
  },
  {
   "cell_type": "code",
   "execution_count": null,
   "id": "aadf2765",
   "metadata": {},
   "outputs": [],
   "source": [
    "pd.crosstab(adata.obs['subcluster'],adata.obs['cluster'])"
   ]
  },
  {
   "cell_type": "code",
   "execution_count": null,
   "id": "3bc22a07",
   "metadata": {},
   "outputs": [],
   "source": [
    "adata"
   ]
  },
  {
   "cell_type": "code",
   "execution_count": null,
   "id": "862452db",
   "metadata": {},
   "outputs": [],
   "source": [
    "adata.write(path_sub+'HsDrop.h5ad')"
   ]
  },
  {
   "cell_type": "markdown",
   "id": "e82d7e1a",
   "metadata": {},
   "source": [
    "## Sn data"
   ]
  },
  {
   "cell_type": "code",
   "execution_count": null,
   "id": "215124b2",
   "metadata": {},
   "outputs": [],
   "source": [
    "fn=path_sub+'expression/618065be771a5b54fcddaed6/Hs10X.counts'"
   ]
  },
  {
   "cell_type": "code",
   "execution_count": null,
   "id": "ee19fa56",
   "metadata": {},
   "outputs": [],
   "source": [
    "x=mmread(fn+'.mtx.gz')\n",
    "features=pd.DataFrame(pd.read_table(fn+'.features.tsv.gz',header=None,index_col=0)[1])\n",
    "features.index.name=None\n",
    "features.columns=['gene_symbol']\n",
    "barcodes=pd.read_table(fn+'.barcodes.tsv.gz',header=None,index_col=0)\n",
    "barcodes.index.name=None"
   ]
  },
  {
   "cell_type": "code",
   "execution_count": null,
   "id": "b6a9d56d",
   "metadata": {},
   "outputs": [],
   "source": [
    "adata=sc.AnnData(csr_matrix(x.T),var=features,obs=barcodes)\n",
    "adata"
   ]
  },
  {
   "cell_type": "code",
   "execution_count": null,
   "id": "f9dff9f0",
   "metadata": {},
   "outputs": [],
   "source": [
    "cols=['depot__ontology_label','donor_id','sex','disease__ontology_label',\n",
    "    'fat__type','cell_cycle__phase','cluster','subcluster']\n",
    "adata.obs[cols]=meta.loc[adata.obs_names,cols]"
   ]
  },
  {
   "cell_type": "code",
   "execution_count": null,
   "id": "0e1d6ac0",
   "metadata": {},
   "outputs": [],
   "source": [
    "for col in cols:\n",
    "    print('\\n***',col,adata.obs[col].nunique())\n",
    "    if adata.obs[col].nunique()<30:\n",
    "        print(adata.obs[col].unique())\n",
    "        display(adata.obs[col].value_counts())"
   ]
  },
  {
   "cell_type": "code",
   "execution_count": null,
   "id": "060a75cb",
   "metadata": {},
   "outputs": [],
   "source": [
    "pd.crosstab(adata.obs['subcluster'],adata.obs['cluster'])"
   ]
  },
  {
   "cell_type": "code",
   "execution_count": null,
   "id": "b700e8fb",
   "metadata": {},
   "outputs": [],
   "source": [
    "adata"
   ]
  },
  {
   "cell_type": "code",
   "execution_count": null,
   "id": "99583ef8",
   "metadata": {},
   "outputs": [],
   "source": [
    "adata.write(path_sub+'Hs10X.h5ad')"
   ]
  },
  {
   "cell_type": "markdown",
   "id": "7f09abfb",
   "metadata": {},
   "source": [
    "# Combien adatas for training"
   ]
  },
  {
   "cell_type": "markdown",
   "id": "38c0429e",
   "metadata": {},
   "source": [
    "Sn need to subset to same type of fat as sc as else there are a lot of unmatched cts. In cs dont need to remove cancer partients as this does not seem to affect fat."
   ]
  },
  {
   "cell_type": "code",
   "execution_count": 3,
   "id": "ec49c5ba",
   "metadata": {},
   "outputs": [
    {
     "name": "stderr",
     "output_type": "stream",
     "text": [
      "/tmp/ipykernel_312512/1543660554.py:7: ImplicitModificationWarning: Trying to modify attribute `.obs` of view, initializing view as actual.\n",
      "  adata_sc.obs['system']=0\n"
     ]
    },
    {
     "data": {
      "text/plain": [
       "AnnData object with n_obs × n_vars = 28465 × 3000\n",
       "    obs: 'system', 'donor_id', 'cluster', 'subcluster'\n",
       "    var: 'gene_symbol', 'highly_variable', 'means', 'dispersions', 'dispersions_norm', 'highly_variable_nbatches', 'highly_variable_intersection'\n",
       "    uns: 'log1p', 'hvg'\n",
       "    layers: 'counts'"
      ]
     },
     "metadata": {},
     "output_type": "display_data"
    }
   ],
   "source": [
    "# PP sc\n",
    "adata_sc=sc.read(path_sub+'HsDrop.h5ad')\n",
    "# Subset to fat type and annotated cells\n",
    "adata_sc=adata_sc[adata_sc.obs.fat__type==\"SAT\",:]\n",
    "adata_sc=adata_sc[~adata_sc.obs.cluster.isna(),:]\n",
    "# metadata\n",
    "adata_sc.obs['system']=0\n",
    "adata_sc.obs=adata_sc.obs[['system','donor_id','cluster','subcluster']]\n",
    "\n",
    "\n",
    "# Subset to expr genes and normalise\n",
    "adata_sc=adata_sc[:,np.array((adata_sc.X>0).sum(axis=0)>20).ravel()].copy()\n",
    "adata_sc.layers['counts']=adata_sc.X.copy()\n",
    "sc.pp.normalize_total(adata_sc, target_sum=1e4)\n",
    "sc.pp.log1p(adata_sc)\n",
    "# HVG\n",
    "sc.pp.highly_variable_genes(\n",
    "     adata=adata_sc, n_top_genes=3000, flavor='cell_ranger', batch_key='donor_id', subset=True)\n",
    "\n",
    "display(adata_sc)"
   ]
  },
  {
   "cell_type": "code",
   "execution_count": 4,
   "id": "088bb9b8",
   "metadata": {},
   "outputs": [
    {
     "name": "stderr",
     "output_type": "stream",
     "text": [
      "/tmp/ipykernel_312512/528794825.py:7: ImplicitModificationWarning: Trying to modify attribute `.obs` of view, initializing view as actual.\n",
      "  adata_sn.obs['system']=1\n"
     ]
    },
    {
     "data": {
      "text/plain": [
       "AnnData object with n_obs × n_vars = 57599 × 3000\n",
       "    obs: 'system', 'donor_id', 'cluster', 'subcluster'\n",
       "    var: 'gene_symbol', 'highly_variable', 'means', 'dispersions', 'dispersions_norm', 'highly_variable_nbatches', 'highly_variable_intersection'\n",
       "    uns: 'log1p', 'hvg'\n",
       "    layers: 'counts'"
      ]
     },
     "metadata": {},
     "output_type": "display_data"
    }
   ],
   "source": [
    "# PP sn\n",
    "adata_sn=sc.read(path_sub+'Hs10X.h5ad')\n",
    "# Subset to fat type and annotated cells\n",
    "adata_sn=adata_sn[adata_sn.obs.fat__type==\"SAT\",:]\n",
    "adata_sn=adata_sn[~adata_sn.obs.cluster.isna(),:]\n",
    "# metadata\n",
    "adata_sn.obs['system']=1\n",
    "adata_sn.obs=adata_sn.obs[['system','donor_id','cluster','subcluster']]\n",
    "\n",
    "\n",
    "# Subset to expr genes and normalise\n",
    "adata_sn=adata_sn[:,np.array((adata_sn.X>0).sum(axis=0)>20).ravel()].copy()\n",
    "adata_sn.layers['counts']=adata_sn.X.copy()\n",
    "sc.pp.normalize_total(adata_sn, target_sum=1e4)\n",
    "sc.pp.log1p(adata_sn)\n",
    "# HVG\n",
    "sc.pp.highly_variable_genes(\n",
    "     adata=adata_sn, n_top_genes=3000, flavor='cell_ranger', batch_key='donor_id', subset=True)\n",
    "\n",
    "display(adata_sn)"
   ]
  },
  {
   "cell_type": "code",
   "execution_count": 5,
   "id": "de2e6fc1",
   "metadata": {},
   "outputs": [
    {
     "data": {
      "text/plain": [
       "1346"
      ]
     },
     "execution_count": 5,
     "metadata": {},
     "output_type": "execute_result"
    }
   ],
   "source": [
    "# Shared HVGs\n",
    "shared_hvgs=list(set(adata_sc.var_names) & set(adata_sn.var_names))\n",
    "len(shared_hvgs)"
   ]
  },
  {
   "cell_type": "markdown",
   "id": "7dfab8a0-ffc7-4a49-8450-63624a4ed966",
   "metadata": {},
   "source": [
    "Match cell type names"
   ]
  },
  {
   "cell_type": "code",
   "execution_count": 6,
   "id": "aa581b34",
   "metadata": {},
   "outputs": [
    {
     "data": {
      "text/plain": [
       "['ASPC',\n",
       " 'LEC',\n",
       " 'SMC',\n",
       " 'b_cell',\n",
       " 'dendritic_cell',\n",
       " 'endometrium',\n",
       " 'endothelial',\n",
       " 'macrophage',\n",
       " 'mast_cell',\n",
       " 'monocyte',\n",
       " 'neutrophil',\n",
       " 'nk_cell',\n",
       " 'pericyte',\n",
       " 't_cell']"
      ]
     },
     "execution_count": 6,
     "metadata": {},
     "output_type": "execute_result"
    }
   ],
   "source": [
    "sorted(adata_sc.obs.cluster.unique())"
   ]
  },
  {
   "cell_type": "code",
   "execution_count": 7,
   "id": "bb3616bd",
   "metadata": {},
   "outputs": [
    {
     "data": {
      "text/plain": [
       "['ASPC',\n",
       " 'LEC',\n",
       " 'SMC',\n",
       " 'b_cell',\n",
       " 'dendritic_cell',\n",
       " 'endometrium',\n",
       " 'endothelial',\n",
       " 'macrophage',\n",
       " 'mast_cell',\n",
       " 'monocyte',\n",
       " 'neutrophil',\n",
       " 'nk_cell',\n",
       " 'pericyte',\n",
       " 't_cell']"
      ]
     },
     "execution_count": 7,
     "metadata": {},
     "output_type": "execute_result"
    }
   ],
   "source": [
    "sorted(adata_sc.obs.cluster.unique())"
   ]
  },
  {
   "cell_type": "markdown",
   "id": "c4481099-3124-4ed9-93d4-e1dec3cac2d2",
   "metadata": {},
   "source": [
    "Joint adata"
   ]
  },
  {
   "cell_type": "code",
   "execution_count": 8,
   "id": "d5a8ce78",
   "metadata": {},
   "outputs": [
    {
     "data": {
      "text/plain": [
       "AnnData object with n_obs × n_vars = 86064 × 1346\n",
       "    obs: 'system', 'donor_id', 'cluster', 'subcluster'\n",
       "    layers: 'counts'"
      ]
     },
     "execution_count": 8,
     "metadata": {},
     "output_type": "execute_result"
    }
   ],
   "source": [
    "# Subset to shraed HVGs and concat\n",
    "adata=sc.concat([adata_sc[:,shared_hvgs], adata_sn[:,shared_hvgs]],\n",
    "                join='outer',\n",
    "                index_unique='_', keys=['sc','sn'])\n",
    "adata"
   ]
  },
  {
   "cell_type": "markdown",
   "id": "498c9eb9-a653-4992-996e-61c9a8c59f54",
   "metadata": {},
   "source": [
    "Add PCA for scGLUE "
   ]
  },
  {
   "cell_type": "code",
   "execution_count": 6,
   "id": "cc64b52b-0c44-4d60-8c19-4242a9db3bea",
   "metadata": {
    "tags": []
   },
   "outputs": [],
   "source": [
    "# PCA and clusters per system\n",
    "n_pcs=15\n",
    "X_pca_system=[]\n",
    "for system in adata.obs.system.unique():\n",
    "    adata_sub=adata[adata.obs.system==system,:].copy()\n",
    "    sc.pp.scale(adata_sub)\n",
    "    sc.pp.pca(adata_sub, n_comps=n_pcs)\n",
    "    X_pca_system.append(pd.DataFrame(adata_sub.obsm['X_pca'],index=adata_sub.obs_names))\n",
    "del adata_sub\n",
    "X_pca_system=pd.concat(X_pca_system)\n",
    "adata.obsm['X_pca_system']=X_pca_system.loc[adata.obs_names,:].values"
   ]
  },
  {
   "cell_type": "markdown",
   "id": "6d32eba1-16dd-4571-9c66-961aff3813fe",
   "metadata": {
    "tags": []
   },
   "source": [
    "### Save"
   ]
  },
  {
   "cell_type": "code",
   "execution_count": 7,
   "id": "f8af1c7a-6975-4d35-a645-846fd2695192",
   "metadata": {
    "tags": []
   },
   "outputs": [
    {
     "data": {
      "text/plain": [
       "AnnData object with n_obs × n_vars = 86064 × 1346\n",
       "    obs: 'system', 'donor_id', 'cluster', 'subcluster'\n",
       "    obsm: 'X_pca_system'\n",
       "    layers: 'counts'"
      ]
     },
     "execution_count": 7,
     "metadata": {},
     "output_type": "execute_result"
    }
   ],
   "source": [
    "adata"
   ]
  },
  {
   "cell_type": "code",
   "execution_count": 9,
   "id": "94d64f76",
   "metadata": {},
   "outputs": [],
   "source": [
    "adata.write(path_save+'adiposeHsSAT_sc_sn.h5ad')"
   ]
  },
  {
   "cell_type": "code",
   "execution_count": 3,
   "id": "9c7fcf2b-4a73-493a-8295-4cf77dfbef67",
   "metadata": {
    "tags": []
   },
   "outputs": [],
   "source": [
    "#adata=sc.read(path_save+'adiposeHsSAT_sc_sn.h5ad')"
   ]
  },
  {
   "cell_type": "markdown",
   "id": "fb578919-8507-4494-bc40-e5c6f3e61b0e",
   "metadata": {},
   "source": [
    "# Non-integrated embedding"
   ]
  },
  {
   "cell_type": "code",
   "execution_count": 4,
   "id": "cfa296d1-045d-4555-b727-f82c7110413e",
   "metadata": {
    "tags": []
   },
   "outputs": [
    {
     "name": "stderr",
     "output_type": "stream",
     "text": [
      "/net/bmc-lab5/data/kellis/users/khrovati/miniconda/envs/analysis/lib/python3.10/site-packages/tqdm/auto.py:21: TqdmWarning: IProgress not found. Please update jupyter and ipywidgets. See https://ipywidgets.readthedocs.io/en/stable/user_install.html\n",
      "  from .autonotebook import tqdm as notebook_tqdm\n"
     ]
    }
   ],
   "source": [
    "# Non-integrated embedding\n",
    "n_pcs=15\n",
    "cells_eval=np.random.RandomState(seed=0).permutation(adata.obs_names)[:100000]\n",
    "adata_temp=adata[cells_eval,:].copy()\n",
    "sc.pp.scale(adata_temp)\n",
    "sc.pp.pca(adata_temp, n_comps=n_pcs)\n",
    "sc.pp.neighbors(adata_temp, use_rep='X_pca')\n",
    "sc.tl.umap(adata_temp)"
   ]
  },
  {
   "cell_type": "code",
   "execution_count": 5,
   "id": "242d468b-d44e-4f2c-80b4-b935daedc10a",
   "metadata": {
    "tags": []
   },
   "outputs": [
    {
     "data": {
      "text/plain": [
       "AnnData object with n_obs × n_vars = 86064 × 15\n",
       "    obs: 'system', 'donor_id', 'cluster', 'subcluster'\n",
       "    uns: 'pca', 'neighbors', 'umap'\n",
       "    obsm: 'X_umap'\n",
       "    obsp: 'distances', 'connectivities'"
      ]
     },
     "metadata": {},
     "output_type": "display_data"
    }
   ],
   "source": [
    "# Slimmed down data for saving\n",
    "adata_embed=sc.AnnData(adata_temp.obsm['X_pca'],obs=adata_temp.obs)\n",
    "for k in ['pca','neighbors','umap']:\n",
    "    adata_embed.uns[k]=adata_temp.uns[k]\n",
    "adata_embed.obsm['X_umap']=adata_temp.obsm['X_umap']\n",
    "for k in ['distances', 'connectivities']:\n",
    "    adata_embed.obsp[k]=adata_temp.obsp[k]\n",
    "display(adata_embed)"
   ]
  },
  {
   "cell_type": "code",
   "execution_count": 6,
   "id": "78391700-c7d0-4e53-9a6f-0bd6f1ad3eb0",
   "metadata": {
    "tags": []
   },
   "outputs": [],
   "source": [
    "# Save\n",
    "adata_embed.write(path_save+'adiposeHsSAT_sc_sn_embed.h5ad')"
   ]
  },
  {
   "cell_type": "markdown",
   "id": "1268961d-18f7-4221-b427-92dd0a22c1d1",
   "metadata": {},
   "source": [
    "# Integration metrics on non-integrated data"
   ]
  },
  {
   "cell_type": "code",
   "execution_count": 3,
   "id": "e7780fe4-e1be-4d23-bb9e-03c3a441b0cf",
   "metadata": {
    "tags": []
   },
   "outputs": [],
   "source": [
    "# Reload\n",
    "adata_embed=sc.read(path_save+'adiposeHsSAT_sc_sn_embed.h5ad')"
   ]
  },
  {
   "cell_type": "code",
   "execution_count": 14,
   "id": "62a69677-11e0-4d54-9c7f-250dfb469c54",
   "metadata": {
    "tags": []
   },
   "outputs": [
    {
     "data": {
      "text/plain": [
       "Text(0.5, 0, 'PCs')"
      ]
     },
     "execution_count": 14,
     "metadata": {},
     "output_type": "execute_result"
    },
    {
     "data": {
      "image/png": "[encoded data removed]",
      "text/plain": [
       "<Figure size 600x200 with 1 Axes>"
      ]
     },
     "metadata": {},
     "output_type": "display_data"
    }
   ],
   "source": [
    "# Check ranges of individual PCs\n",
    "rcParams['figure.figsize']=(6,2)\n",
    "_=plt.boxplot(adata_embed.X)\n",
    "plt.ylabel('PCA value')\n",
    "plt.xlabel('PCs')"
   ]
  },
  {
   "cell_type": "code",
   "execution_count": 5,
   "id": "051f530f-2b0a-4be0-bcd0-99d822ce0969",
   "metadata": {
    "tags": []
   },
   "outputs": [],
   "source": [
    "# Compute ASW\n",
    "asw, asw_macro, asw_data_label=asw_batch(\n",
    "    X=adata_embed.X,\n",
    "    batches=adata_embed.obs['system'], \n",
    "    labels=adata_embed.obs['cluster'])"
   ]
  },
  {
   "cell_type": "code",
   "execution_count": 7,
   "id": "59caa782-0b3d-4dc6-ab81-0021886f2d45",
   "metadata": {
    "tags": []
   },
   "outputs": [
    {
     "name": "stdout",
     "output_type": "stream",
     "text": [
      "asw_micro\n",
      "0.3634098\n",
      "\n",
      "\n",
      "asw_macro\n",
      "0.36087975\n",
      "\n",
      "\n",
      "asw_data_label\n",
      "ASPC              0.367984\n",
      "LEC               0.374995\n",
      "SMC               0.388620\n",
      "b_cell            0.347361\n",
      "dendritic_cell    0.337995\n",
      "endothelial       0.454070\n",
      "macrophage        0.274568\n",
      "mast_cell         0.387643\n",
      "monocyte          0.321394\n",
      "neutrophil        0.441439\n",
      "nk_cell           0.333198\n",
      "pericyte          0.317447\n",
      "t_cell            0.344722\n",
      "dtype: float32\n",
      "\n",
      "\n"
     ]
    }
   ],
   "source": [
    "asws={\n",
    "    'asw_micro':asw,\n",
    "    'asw_macro':asw_macro,\n",
    "    'asw_data_label':asw_data_label\n",
    "}\n",
    "for k,v in asws.items():\n",
    "    print(k)\n",
    "    print(v)\n",
    "    print('\\n')"
   ]
  },
  {
   "cell_type": "code",
   "execution_count": 8,
   "id": "49fe7da2-57ca-4640-ba71-bbfbd7e2ea4e",
   "metadata": {
    "tags": []
   },
   "outputs": [],
   "source": [
    "pkl.dump({'asw_batch':asws},open(path_save+'adiposeHsSAT_sc_sn_embed_integrationMetrics.pkl','wb'))"
   ]
  },
  {
   "cell_type": "markdown",
   "id": "031a06d4-7696-4118-b5ab-8ac7d8cf8999",
   "metadata": {
    "tags": []
   },
   "source": [
    "# Moran's I for eval\n",
    "Find genes that would be appropriate for computing Moran's I on for evaluation in every sample-cell type group (of appropriate size) by computing Moran's I on per-sample non integrated data. This can then also be used as a reference later on to compute relative preservation of Moran's I.\n"
   ]
  },
  {
   "cell_type": "code",
   "execution_count": 4,
   "id": "0a55a469-6d7f-44c6-9afe-7f77bd03b8ba",
   "metadata": {
    "tags": []
   },
   "outputs": [],
   "source": [
    "adata=sc.read(path_save+'adiposeHsSAT_sc_sn.h5ad')"
   ]
  },
  {
   "cell_type": "code",
   "execution_count": 12,
   "id": "b842ba45-6a7e-4e66-b365-db471daea918",
   "metadata": {
    "tags": []
   },
   "outputs": [
    {
     "data": {
      "text/html": [
       "<div>\n",
       "<style scoped>\n",
       "    .dataframe tbody tr th:only-of-type {\n",
       "        vertical-align: middle;\n",
       "    }\n",
       "\n",
       "    .dataframe tbody tr th {\n",
       "        vertical-align: top;\n",
       "    }\n",
       "\n",
       "    .dataframe thead th {\n",
       "        text-align: right;\n",
       "    }\n",
       "</style>\n",
       "<table border=\"1\" class=\"dataframe\">\n",
       "  <thead>\n",
       "    <tr style=\"text-align: right;\">\n",
       "      <th>cluster</th>\n",
       "      <th>ASPC</th>\n",
       "      <th>LEC</th>\n",
       "      <th>SMC</th>\n",
       "      <th>adipocyte</th>\n",
       "      <th>b_cell</th>\n",
       "      <th>dendritic_cell</th>\n",
       "      <th>endometrium</th>\n",
       "      <th>endothelial</th>\n",
       "      <th>macrophage</th>\n",
       "      <th>mast_cell</th>\n",
       "      <th>monocyte</th>\n",
       "      <th>neutrophil</th>\n",
       "      <th>nk_cell</th>\n",
       "      <th>pericyte</th>\n",
       "      <th>t_cell</th>\n",
       "    </tr>\n",
       "    <tr>\n",
       "      <th>donor_id</th>\n",
       "      <th></th>\n",
       "      <th></th>\n",
       "      <th></th>\n",
       "      <th></th>\n",
       "      <th></th>\n",
       "      <th></th>\n",
       "      <th></th>\n",
       "      <th></th>\n",
       "      <th></th>\n",
       "      <th></th>\n",
       "      <th></th>\n",
       "      <th></th>\n",
       "      <th></th>\n",
       "      <th></th>\n",
       "      <th></th>\n",
       "    </tr>\n",
       "  </thead>\n",
       "  <tbody>\n",
       "    <tr>\n",
       "      <th>EPI235</th>\n",
       "      <td>5107</td>\n",
       "      <td>48</td>\n",
       "      <td>5</td>\n",
       "      <td>0</td>\n",
       "      <td>21</td>\n",
       "      <td>647</td>\n",
       "      <td>1</td>\n",
       "      <td>107</td>\n",
       "      <td>373</td>\n",
       "      <td>0</td>\n",
       "      <td>339</td>\n",
       "      <td>2</td>\n",
       "      <td>364</td>\n",
       "      <td>3</td>\n",
       "      <td>575</td>\n",
       "    </tr>\n",
       "    <tr>\n",
       "      <th>EPI236</th>\n",
       "      <td>4557</td>\n",
       "      <td>11</td>\n",
       "      <td>2</td>\n",
       "      <td>0</td>\n",
       "      <td>6</td>\n",
       "      <td>65</td>\n",
       "      <td>2</td>\n",
       "      <td>38</td>\n",
       "      <td>28</td>\n",
       "      <td>8</td>\n",
       "      <td>34</td>\n",
       "      <td>0</td>\n",
       "      <td>56</td>\n",
       "      <td>3</td>\n",
       "      <td>178</td>\n",
       "    </tr>\n",
       "    <tr>\n",
       "      <th>EPI237</th>\n",
       "      <td>1007</td>\n",
       "      <td>37</td>\n",
       "      <td>25</td>\n",
       "      <td>0</td>\n",
       "      <td>6</td>\n",
       "      <td>30</td>\n",
       "      <td>0</td>\n",
       "      <td>79</td>\n",
       "      <td>8</td>\n",
       "      <td>0</td>\n",
       "      <td>24</td>\n",
       "      <td>0</td>\n",
       "      <td>40</td>\n",
       "      <td>4</td>\n",
       "      <td>92</td>\n",
       "    </tr>\n",
       "    <tr>\n",
       "      <th>EPI238</th>\n",
       "      <td>3028</td>\n",
       "      <td>31</td>\n",
       "      <td>10</td>\n",
       "      <td>0</td>\n",
       "      <td>11</td>\n",
       "      <td>325</td>\n",
       "      <td>0</td>\n",
       "      <td>68</td>\n",
       "      <td>150</td>\n",
       "      <td>22</td>\n",
       "      <td>207</td>\n",
       "      <td>0</td>\n",
       "      <td>164</td>\n",
       "      <td>7</td>\n",
       "      <td>532</td>\n",
       "    </tr>\n",
       "    <tr>\n",
       "      <th>EPI239</th>\n",
       "      <td>3082</td>\n",
       "      <td>21</td>\n",
       "      <td>17</td>\n",
       "      <td>0</td>\n",
       "      <td>6</td>\n",
       "      <td>223</td>\n",
       "      <td>0</td>\n",
       "      <td>167</td>\n",
       "      <td>908</td>\n",
       "      <td>20</td>\n",
       "      <td>67</td>\n",
       "      <td>0</td>\n",
       "      <td>14</td>\n",
       "      <td>15</td>\n",
       "      <td>67</td>\n",
       "    </tr>\n",
       "    <tr>\n",
       "      <th>EPI240</th>\n",
       "      <td>407</td>\n",
       "      <td>0</td>\n",
       "      <td>0</td>\n",
       "      <td>0</td>\n",
       "      <td>0</td>\n",
       "      <td>0</td>\n",
       "      <td>0</td>\n",
       "      <td>0</td>\n",
       "      <td>0</td>\n",
       "      <td>0</td>\n",
       "      <td>0</td>\n",
       "      <td>0</td>\n",
       "      <td>0</td>\n",
       "      <td>0</td>\n",
       "      <td>0</td>\n",
       "    </tr>\n",
       "    <tr>\n",
       "      <th>EPI242</th>\n",
       "      <td>2844</td>\n",
       "      <td>68</td>\n",
       "      <td>29</td>\n",
       "      <td>0</td>\n",
       "      <td>0</td>\n",
       "      <td>78</td>\n",
       "      <td>0</td>\n",
       "      <td>225</td>\n",
       "      <td>125</td>\n",
       "      <td>9</td>\n",
       "      <td>15</td>\n",
       "      <td>0</td>\n",
       "      <td>10</td>\n",
       "      <td>31</td>\n",
       "      <td>66</td>\n",
       "    </tr>\n",
       "    <tr>\n",
       "      <th>EPI248</th>\n",
       "      <td>654</td>\n",
       "      <td>0</td>\n",
       "      <td>0</td>\n",
       "      <td>0</td>\n",
       "      <td>5</td>\n",
       "      <td>67</td>\n",
       "      <td>0</td>\n",
       "      <td>0</td>\n",
       "      <td>30</td>\n",
       "      <td>23</td>\n",
       "      <td>48</td>\n",
       "      <td>0</td>\n",
       "      <td>82</td>\n",
       "      <td>0</td>\n",
       "      <td>138</td>\n",
       "    </tr>\n",
       "    <tr>\n",
       "      <th>EPI249</th>\n",
       "      <td>270</td>\n",
       "      <td>0</td>\n",
       "      <td>0</td>\n",
       "      <td>0</td>\n",
       "      <td>1</td>\n",
       "      <td>35</td>\n",
       "      <td>0</td>\n",
       "      <td>0</td>\n",
       "      <td>37</td>\n",
       "      <td>7</td>\n",
       "      <td>12</td>\n",
       "      <td>0</td>\n",
       "      <td>13</td>\n",
       "      <td>0</td>\n",
       "      <td>42</td>\n",
       "    </tr>\n",
       "    <tr>\n",
       "      <th>EPI266</th>\n",
       "      <td>1534</td>\n",
       "      <td>90</td>\n",
       "      <td>311</td>\n",
       "      <td>1369</td>\n",
       "      <td>2</td>\n",
       "      <td>13</td>\n",
       "      <td>0</td>\n",
       "      <td>1774</td>\n",
       "      <td>264</td>\n",
       "      <td>27</td>\n",
       "      <td>19</td>\n",
       "      <td>46</td>\n",
       "      <td>24</td>\n",
       "      <td>121</td>\n",
       "      <td>61</td>\n",
       "    </tr>\n",
       "    <tr>\n",
       "      <th>TP01</th>\n",
       "      <td>8283</td>\n",
       "      <td>305</td>\n",
       "      <td>837</td>\n",
       "      <td>7937</td>\n",
       "      <td>85</td>\n",
       "      <td>250</td>\n",
       "      <td>0</td>\n",
       "      <td>4324</td>\n",
       "      <td>4398</td>\n",
       "      <td>366</td>\n",
       "      <td>270</td>\n",
       "      <td>50</td>\n",
       "      <td>546</td>\n",
       "      <td>307</td>\n",
       "      <td>1034</td>\n",
       "    </tr>\n",
       "    <tr>\n",
       "      <th>TP02</th>\n",
       "      <td>1354</td>\n",
       "      <td>21</td>\n",
       "      <td>119</td>\n",
       "      <td>1502</td>\n",
       "      <td>25</td>\n",
       "      <td>38</td>\n",
       "      <td>0</td>\n",
       "      <td>999</td>\n",
       "      <td>929</td>\n",
       "      <td>163</td>\n",
       "      <td>70</td>\n",
       "      <td>7</td>\n",
       "      <td>165</td>\n",
       "      <td>63</td>\n",
       "      <td>256</td>\n",
       "    </tr>\n",
       "    <tr>\n",
       "      <th>TP04</th>\n",
       "      <td>523</td>\n",
       "      <td>19</td>\n",
       "      <td>100</td>\n",
       "      <td>297</td>\n",
       "      <td>30</td>\n",
       "      <td>31</td>\n",
       "      <td>0</td>\n",
       "      <td>466</td>\n",
       "      <td>254</td>\n",
       "      <td>49</td>\n",
       "      <td>27</td>\n",
       "      <td>8</td>\n",
       "      <td>48</td>\n",
       "      <td>16</td>\n",
       "      <td>171</td>\n",
       "    </tr>\n",
       "    <tr>\n",
       "      <th>UP1005-S</th>\n",
       "      <td>101</td>\n",
       "      <td>4</td>\n",
       "      <td>5</td>\n",
       "      <td>104</td>\n",
       "      <td>4</td>\n",
       "      <td>6</td>\n",
       "      <td>0</td>\n",
       "      <td>68</td>\n",
       "      <td>65</td>\n",
       "      <td>14</td>\n",
       "      <td>14</td>\n",
       "      <td>3</td>\n",
       "      <td>30</td>\n",
       "      <td>7</td>\n",
       "      <td>50</td>\n",
       "    </tr>\n",
       "    <tr>\n",
       "      <th>UP1008-B</th>\n",
       "      <td>152</td>\n",
       "      <td>3</td>\n",
       "      <td>6</td>\n",
       "      <td>355</td>\n",
       "      <td>1</td>\n",
       "      <td>11</td>\n",
       "      <td>0</td>\n",
       "      <td>67</td>\n",
       "      <td>79</td>\n",
       "      <td>2</td>\n",
       "      <td>2</td>\n",
       "      <td>0</td>\n",
       "      <td>8</td>\n",
       "      <td>11</td>\n",
       "      <td>30</td>\n",
       "    </tr>\n",
       "    <tr>\n",
       "      <th>UP1009-S</th>\n",
       "      <td>615</td>\n",
       "      <td>5</td>\n",
       "      <td>8</td>\n",
       "      <td>591</td>\n",
       "      <td>10</td>\n",
       "      <td>20</td>\n",
       "      <td>0</td>\n",
       "      <td>102</td>\n",
       "      <td>257</td>\n",
       "      <td>20</td>\n",
       "      <td>75</td>\n",
       "      <td>0</td>\n",
       "      <td>93</td>\n",
       "      <td>4</td>\n",
       "      <td>266</td>\n",
       "    </tr>\n",
       "    <tr>\n",
       "      <th>UP1010-S</th>\n",
       "      <td>1257</td>\n",
       "      <td>14</td>\n",
       "      <td>93</td>\n",
       "      <td>1237</td>\n",
       "      <td>48</td>\n",
       "      <td>58</td>\n",
       "      <td>0</td>\n",
       "      <td>471</td>\n",
       "      <td>759</td>\n",
       "      <td>48</td>\n",
       "      <td>151</td>\n",
       "      <td>3</td>\n",
       "      <td>196</td>\n",
       "      <td>63</td>\n",
       "      <td>407</td>\n",
       "    </tr>\n",
       "    <tr>\n",
       "      <th>UP1018-S</th>\n",
       "      <td>3061</td>\n",
       "      <td>169</td>\n",
       "      <td>88</td>\n",
       "      <td>1004</td>\n",
       "      <td>89</td>\n",
       "      <td>49</td>\n",
       "      <td>0</td>\n",
       "      <td>802</td>\n",
       "      <td>782</td>\n",
       "      <td>113</td>\n",
       "      <td>263</td>\n",
       "      <td>7</td>\n",
       "      <td>213</td>\n",
       "      <td>65</td>\n",
       "      <td>424</td>\n",
       "    </tr>\n",
       "  </tbody>\n",
       "</table>\n",
       "</div>"
      ],
      "text/plain": [
       "cluster   ASPC  LEC  SMC  adipocyte  b_cell  dendritic_cell  endometrium  \\\n",
       "donor_id                                                                   \n",
       "EPI235    5107   48    5          0      21             647            1   \n",
       "EPI236    4557   11    2          0       6              65            2   \n",
       "EPI237    1007   37   25          0       6              30            0   \n",
       "EPI238    3028   31   10          0      11             325            0   \n",
       "EPI239    3082   21   17          0       6             223            0   \n",
       "EPI240     407    0    0          0       0               0            0   \n",
       "EPI242    2844   68   29          0       0              78            0   \n",
       "EPI248     654    0    0          0       5              67            0   \n",
       "EPI249     270    0    0          0       1              35            0   \n",
       "EPI266    1534   90  311       1369       2              13            0   \n",
       "TP01      8283  305  837       7937      85             250            0   \n",
       "TP02      1354   21  119       1502      25              38            0   \n",
       "TP04       523   19  100        297      30              31            0   \n",
       "UP1005-S   101    4    5        104       4               6            0   \n",
       "UP1008-B   152    3    6        355       1              11            0   \n",
       "UP1009-S   615    5    8        591      10              20            0   \n",
       "UP1010-S  1257   14   93       1237      48              58            0   \n",
       "UP1018-S  3061  169   88       1004      89              49            0   \n",
       "\n",
       "cluster   endothelial  macrophage  mast_cell  monocyte  neutrophil  nk_cell  \\\n",
       "donor_id                                                                      \n",
       "EPI235            107         373          0       339           2      364   \n",
       "EPI236             38          28          8        34           0       56   \n",
       "EPI237             79           8          0        24           0       40   \n",
       "EPI238             68         150         22       207           0      164   \n",
       "EPI239            167         908         20        67           0       14   \n",
       "EPI240              0           0          0         0           0        0   \n",
       "EPI242            225         125          9        15           0       10   \n",
       "EPI248              0          30         23        48           0       82   \n",
       "EPI249              0          37          7        12           0       13   \n",
       "EPI266           1774         264         27        19          46       24   \n",
       "TP01             4324        4398        366       270          50      546   \n",
       "TP02              999         929        163        70           7      165   \n",
       "TP04              466         254         49        27           8       48   \n",
       "UP1005-S           68          65         14        14           3       30   \n",
       "UP1008-B           67          79          2         2           0        8   \n",
       "UP1009-S          102         257         20        75           0       93   \n",
       "UP1010-S          471         759         48       151           3      196   \n",
       "UP1018-S          802         782        113       263           7      213   \n",
       "\n",
       "cluster   pericyte  t_cell  \n",
       "donor_id                    \n",
       "EPI235           3     575  \n",
       "EPI236           3     178  \n",
       "EPI237           4      92  \n",
       "EPI238           7     532  \n",
       "EPI239          15      67  \n",
       "EPI240           0       0  \n",
       "EPI242          31      66  \n",
       "EPI248           0     138  \n",
       "EPI249           0      42  \n",
       "EPI266         121      61  \n",
       "TP01           307    1034  \n",
       "TP02            63     256  \n",
       "TP04            16     171  \n",
       "UP1005-S         7      50  \n",
       "UP1008-B        11      30  \n",
       "UP1009-S         4     266  \n",
       "UP1010-S        63     407  \n",
       "UP1018-S        65     424  "
      ]
     },
     "execution_count": 12,
     "metadata": {},
     "output_type": "execute_result"
    }
   ],
   "source": [
    "# Potential groups to compute Moran's I on (batch-system and group)\n",
    "pd.crosstab(adata.obs.donor_id,adata.obs.cluster)"
   ]
  },
  {
   "cell_type": "code",
   "execution_count": 24,
   "id": "1db9fa41-5c2e-473d-bb38-0539bb45c90e",
   "metadata": {
    "tags": []
   },
   "outputs": [
    {
     "data": {
      "text/plain": [
       "cluster         system  donor_id\n",
       "ASPC            0       EPI235      5107\n",
       "                        EPI236      4557\n",
       "                        EPI237      1007\n",
       "                        EPI238      3028\n",
       "                        EPI239      3082\n",
       "                        EPI242      2844\n",
       "                        EPI248       654\n",
       "                1       EPI266      1534\n",
       "                        TP01        8283\n",
       "                        TP02        1354\n",
       "                        TP04         523\n",
       "                        UP1009-S     615\n",
       "                        UP1010-S    1257\n",
       "                        UP1018-S    3061\n",
       "SMC             1       TP01         837\n",
       "adipocyte       1       EPI266      1369\n",
       "                        TP01        7937\n",
       "                        TP02        1502\n",
       "                        UP1009-S     591\n",
       "                        UP1010-S    1237\n",
       "                        UP1018-S    1004\n",
       "dendritic_cell  0       EPI235       647\n",
       "endothelial     1       EPI266      1774\n",
       "                        TP01        4324\n",
       "                        TP02         999\n",
       "                        UP1018-S     802\n",
       "macrophage      0       EPI239       908\n",
       "                1       TP01        4398\n",
       "                        TP02         929\n",
       "                        UP1010-S     759\n",
       "                        UP1018-S     782\n",
       "nk_cell         1       TP01         546\n",
       "t_cell          0       EPI235       575\n",
       "                        EPI238       532\n",
       "                1       TP01        1034\n",
       "dtype: int64"
      ]
     },
     "metadata": {},
     "output_type": "display_data"
    },
    {
     "name": "stdout",
     "output_type": "stream",
     "text": [
      "N cell types 8\n"
     ]
    }
   ],
   "source": [
    "# Filtered groups based on N cells\n",
    "groups=adata.obs.groupby(['cluster','system','donor_id']).size()\n",
    "groups=groups[groups>=500]\n",
    "display(groups)\n",
    "print('N cell types',groups.index.get_level_values('cluster').nunique())"
   ]
  },
  {
   "cell_type": "code",
   "execution_count": 35,
   "id": "d9b22360-c05b-4166-9dcd-604f9efcf72d",
   "metadata": {
    "tags": []
   },
   "outputs": [
    {
     "name": "stdout",
     "output_type": "stream",
     "text": [
      "('ASPC', 0, 'EPI235')\n"
     ]
    },
    {
     "name": "stderr",
     "output_type": "stream",
     "text": [
      "/net/bmc-lab5/data/kellis/users/khrovati/miniconda/envs/analysis/lib/python3.10/site-packages/tqdm/auto.py:21: TqdmWarning: IProgress not found. Please update jupyter and ipywidgets. See https://ipywidgets.readthedocs.io/en/stable/user_install.html\n",
      "  from .autonotebook import tqdm as notebook_tqdm\n"
     ]
    },
    {
     "name": "stdout",
     "output_type": "stream",
     "text": [
      "('ASPC', 0, 'EPI236')\n",
      "('ASPC', 0, 'EPI237')\n",
      "('ASPC', 0, 'EPI238')\n",
      "('ASPC', 0, 'EPI239')\n",
      "('ASPC', 0, 'EPI242')\n",
      "('ASPC', 0, 'EPI248')\n",
      "('ASPC', 1, 'EPI266')\n",
      "('ASPC', 1, 'TP01')\n",
      "('ASPC', 1, 'TP02')\n",
      "('ASPC', 1, 'TP04')\n",
      "('ASPC', 1, 'UP1009-S')\n",
      "('ASPC', 1, 'UP1010-S')\n",
      "('ASPC', 1, 'UP1018-S')\n",
      "('SMC', 1, 'TP01')\n",
      "('adipocyte', 1, 'EPI266')\n",
      "('adipocyte', 1, 'TP01')\n",
      "('adipocyte', 1, 'TP02')\n",
      "('adipocyte', 1, 'UP1009-S')\n",
      "('adipocyte', 1, 'UP1010-S')\n",
      "('adipocyte', 1, 'UP1018-S')\n",
      "('dendritic_cell', 0, 'EPI235')\n",
      "('endothelial', 1, 'EPI266')\n",
      "('endothelial', 1, 'TP01')\n",
      "('endothelial', 1, 'TP02')\n",
      "('endothelial', 1, 'UP1018-S')\n",
      "('macrophage', 0, 'EPI239')\n",
      "('macrophage', 1, 'TP01')\n",
      "('macrophage', 1, 'TP02')\n",
      "('macrophage', 1, 'UP1010-S')\n",
      "('macrophage', 1, 'UP1018-S')\n",
      "('nk_cell', 1, 'TP01')\n",
      "('t_cell', 0, 'EPI235')\n",
      "('t_cell', 0, 'EPI238')\n",
      "('t_cell', 1, 'TP01')\n"
     ]
    }
   ],
   "source": [
    "# Compute Moran's I per group\n",
    "data=[]\n",
    "for group in groups.index:\n",
    "    # Group adata\n",
    "    print(group)\n",
    "    adata_sub=adata[\n",
    "        (adata.obs.cluster==group[0]).values&\\\n",
    "        (adata.obs.system==group[1]).values&\\\n",
    "        (adata.obs.donor_id==group[2]).values,:].copy()\n",
    "    # Remove lowly expr genes before Moran's I computation as they will be less likely relevant\n",
    "    # As this is done per small cell group within sample+cell type and HVGs there is not many genes (200-500)\n",
    "    # so all can be used for Moran's I computation\n",
    "    sc.pp.filter_genes(adata_sub, min_cells=adata_sub.shape[0]*0.1) \n",
    "    # Compute embedding of group\n",
    "    sc.pp.pca(adata_sub, n_comps=15)\n",
    "    sc.pp.neighbors(adata_sub, n_pcs=15)\n",
    "    # Compute I\n",
    "    morans_i=sc.metrics._morans_i._morans_i(\n",
    "        g=adata_sub.obsp['connectivities'],\n",
    "        vals=adata_sub.X.T)\n",
    "    # Save data\n",
    "    morans_i=pd.DataFrame({'morans_i':morans_i},index=adata_sub.var_names)\n",
    "    morans_i['group']=group[0]\n",
    "    morans_i['system']=group[1]\n",
    "    morans_i['batch']=group[2]\n",
    "    data.append(morans_i)\n",
    "data=pd.concat(data,axis=0)"
   ]
  },
  {
   "cell_type": "code",
   "execution_count": 44,
   "id": "9a558cdf-d02a-4ba7-ba93-a01db7ecae8e",
   "metadata": {
    "tags": []
   },
   "outputs": [
    {
     "data": {
      "text/plain": [
       "<seaborn.axisgrid.FacetGrid at 0x7fb64a345300>"
      ]
     },
     "execution_count": 44,
     "metadata": {},
     "output_type": "execute_result"
    },
    {
     "data": {
      "image/png": "[encoded data removed]",
      "text/plain": [
       "<Figure size 661.111x2400 with 8 Axes>"
      ]
     },
     "metadata": {},
     "output_type": "display_data"
    }
   ],
   "source": [
    "# Moran's I distn accross groups\n",
    "sb.catplot(x='batch',y='morans_i',hue='system',row='group',data=data,kind='violin',\n",
    "           inner=None,height=3,aspect=2)"
   ]
  },
  {
   "cell_type": "code",
   "execution_count": null,
   "id": "413f9a72-5b80-461d-aeab-87ed3c729431",
   "metadata": {},
   "outputs": [],
   "source": [
    "# Moran's I thr\n",
    "thr_mi=0.2"
   ]
  },
  {
   "cell_type": "code",
   "execution_count": 47,
   "id": "9f9e9891-7a25-40c3-8a04-d09ecc52aa40",
   "metadata": {
    "tags": []
   },
   "outputs": [
    {
     "data": {
      "text/plain": [
       "group           system  batch   \n",
       "ASPC            0       EPI235       39\n",
       "                        EPI236       23\n",
       "                        EPI237       37\n",
       "                        EPI238       41\n",
       "                        EPI239       45\n",
       "                        EPI242       44\n",
       "                        EPI248       39\n",
       "                1       EPI266       38\n",
       "                        TP01        109\n",
       "                        TP02         62\n",
       "                        TP04         86\n",
       "                        UP1009-S     45\n",
       "                        UP1010-S     89\n",
       "                        UP1018-S     74\n",
       "SMC             1       TP01         70\n",
       "adipocyte       1       EPI266       26\n",
       "                        TP01         88\n",
       "                        TP02         37\n",
       "                        UP1009-S     36\n",
       "                        UP1010-S     39\n",
       "                        UP1018-S     30\n",
       "dendritic_cell  0       EPI235       56\n",
       "endothelial     1       EPI266      126\n",
       "                        TP01        140\n",
       "                        TP02        119\n",
       "                        UP1018-S    107\n",
       "macrophage      0       EPI239       86\n",
       "                1       TP01        105\n",
       "                        TP02         44\n",
       "                        UP1010-S    118\n",
       "                        UP1018-S     46\n",
       "nk_cell         1       TP01         40\n",
       "t_cell          0       EPI235       19\n",
       "                        EPI238       19\n",
       "                1       TP01         77\n",
       "dtype: int64"
      ]
     },
     "execution_count": 47,
     "metadata": {},
     "output_type": "execute_result"
    }
   ],
   "source": [
    "# N genes per group at certain thr\n",
    "data.groupby(['group','system','batch']).apply(lambda x: (x['morans_i']>=thr_mi).sum())"
   ]
  },
  {
   "cell_type": "code",
   "execution_count": 68,
   "id": "854b1758-1fb8-497c-be16-e1aa2baa5750",
   "metadata": {
    "tags": []
   },
   "outputs": [
    {
     "data": {
      "image/png": "[encoded data removed]",
      "text/plain": [
       "<Figure size 400x400 with 1 Axes>"
      ]
     },
     "metadata": {},
     "output_type": "display_data"
    }
   ],
   "source": [
    "# N genes vs N cells in group\n",
    "rcParams['figure.figsize']=(4,4)\n",
    "sb.scatterplot(x='N cells',y='N genes',hue='level_0',style='system',\n",
    "           data=pd.concat(\n",
    "    [data.groupby(['group','system','batch']).apply(lambda x: (x['morans_i']>=thr_mi).sum()).rename('N genes'),\n",
    "    groups.rename('N cells')],axis=1).reset_index())\n",
    "plt.legend(bbox_to_anchor=(1,1))\n",
    "plt.xscale('log')"
   ]
  },
  {
   "cell_type": "markdown",
   "id": "8e34c2a4-cee1-4dc6-813e-e4d5431e740d",
   "metadata": {},
   "source": [
    "C: Thr of 0.2 seems to separate in general approximately between highly and lowly variable genes and has at least some genes for every group and not too many in any of the groups.\n",
    "\n",
    "C: There is no clear bias between N cells in group and N genes.\n",
    "\n",
    "C: Selected genes may not be diverse though - they may capture the same pattern and maybe more subtle patterns are at lower Moran's I."
   ]
  },
  {
   "cell_type": "code",
   "execution_count": 87,
   "id": "89abaf3f-51c7-49d8-b86a-d2134b1fa191",
   "metadata": {
    "tags": []
   },
   "outputs": [],
   "source": [
    "# Prepare selected genes for saving (fileterd genes&I per group)\n",
    "selected=list()\n",
    "for group,data_sub in data.groupby(['group','system','batch']):\n",
    "    group=dict(zip(['group','system','batch'],group))\n",
    "    group['genes']=(data_sub.query('morans_i>=@thr_mi')['morans_i']+1)/2\n",
    "    selected.append(group)"
   ]
  },
  {
   "cell_type": "code",
   "execution_count": 7,
   "id": "50d718ba-47ff-471d-9e93-0f45278cd079",
   "metadata": {
    "tags": []
   },
   "outputs": [],
   "source": [
    "# Save\n",
    "pkl.dump(selected,open(path_save+'adiposeHsSAT_sc_sn_moransiGenes.pkl','wb'))"
   ]
  },
  {
   "cell_type": "markdown",
   "id": "42869e90-bfad-438d-803f-19a3379b4f6f",
   "metadata": {
    "tags": []
   },
   "source": [
    "# Batch effects within and between systems"
   ]
  },
  {
   "cell_type": "code",
   "execution_count": 3,
   "id": "7292a623-5d0e-412f-a845-c3007193423b",
   "metadata": {
    "tags": []
   },
   "outputs": [],
   "source": [
    "adata=sc.read(path_save+'adiposeHsSAT_sc_sn.h5ad')"
   ]
  },
  {
   "cell_type": "code",
   "execution_count": 10,
   "id": "041cf108-949b-43f9-bd2c-9058eeeda0a0",
   "metadata": {
    "tags": []
   },
   "outputs": [],
   "source": [
    "# Compute PCA on the whole data\n",
    "adata_scl=adata.copy()\n",
    "sc.pp.scale(adata_scl)\n",
    "n_pcs=15\n",
    "sc.pp.pca(adata_scl, n_comps=n_pcs)\n",
    "pca=pd.DataFrame(adata_scl.obsm['X_pca'],index=adata_scl.obs_names)\n",
    "del adata_scl"
   ]
  },
  {
   "cell_type": "code",
   "execution_count": 66,
   "id": "fdfecd7b-575f-4ae6-a09d-8982597f80a8",
   "metadata": {
    "tags": []
   },
   "outputs": [],
   "source": [
    "# Average PCA accross system-batch-group pseudobulks. \n",
    "# Only use pseudobulks with at least 50 cells\n",
    "# Only use cell types with at least 3 samples per system\n",
    "pca[['system','batch','group']]=adata.obs[['system', 'donor_id', 'cluster']]\n",
    "pca_pb=pca.groupby(['system','batch','group'])\n",
    "pca_mean=pca_pb.mean()\n",
    "pb_size=pca_pb.size()\n",
    "# Remove samples with too little cells\n",
    "filtered_pb=pb_size.index[pb_size>=50]\n",
    "# Get pbs/cts where both systems have enough samples\n",
    "n_samples_system=filtered_pb.to_frame().rename({'group':'group_col'},axis=1).groupby(\n",
    "    'group_col',observed=True)['system'].value_counts().rename('n_samples').reset_index()\n",
    "cts=set(n_samples_system.query('system==0 & n_samples>=3').group_col)&\\\n",
    "    set(n_samples_system.query('system==1 & n_samples>=3').group_col)\n",
    "filtered_pb=filtered_pb[filtered_pb.get_level_values(2).isin(cts)]\n",
    "pca_mean=pca_mean.loc[filtered_pb,:]"
   ]
  },
  {
   "cell_type": "code",
   "execution_count": 101,
   "id": "52481e50-bd72-4c0f-aded-13132414244e",
   "metadata": {
    "tags": []
   },
   "outputs": [],
   "source": [
    "# Compute per-ct distances of samples within and between systems\n",
    "distances={}\n",
    "for ct in cts:\n",
    "    pca_s0=pca_mean[(pca_mean.index.get_level_values(0)==0) &\n",
    "                    (pca_mean.index.get_level_values(2)==ct)]\n",
    "    pca_s1=pca_mean[(pca_mean.index.get_level_values(0)==1) &\n",
    "                    (pca_mean.index.get_level_values(2)==ct)]\n",
    "    d_s0=euclidean_distances(pca_s0)[np.triu_indices(pca_s0.shape[0],k=1)]\n",
    "    d_s1=euclidean_distances(pca_s1)[np.triu_indices(pca_s1.shape[0],k=1)]\n",
    "    d_s0s1=euclidean_distances(pca_s0,pca_s1).ravel()\n",
    "    distances[ct]={'s0':d_s0,'s1':d_s1,'s0s1':d_s0s1}"
   ]
  },
  {
   "cell_type": "code",
   "execution_count": 106,
   "id": "def870d5-ac78-43eb-83cf-df1cc0c23499",
   "metadata": {
    "tags": []
   },
   "outputs": [],
   "source": [
    "# Save distances\n",
    "pkl.dump(distances,open(path_save+'adiposeHsSAT_sc_sn_PcaSysBatchDist.pkl','wb'))"
   ]
  },
  {
   "cell_type": "code",
   "execution_count": 3,
   "id": "fa467472-2df2-49bf-8cde-7dd17b0bd46e",
   "metadata": {
    "tags": []
   },
   "outputs": [],
   "source": [
    "#distances=pkl.load(open(path_save+'adiposeHsSAT_sc_sn_PcaSysBatchDist.pkl','rb'))"
   ]
  },
  {
   "cell_type": "code",
   "execution_count": 112,
   "id": "387e608e-2f58-4748-a3d7-c73223addcf0",
   "metadata": {
    "tags": []
   },
   "outputs": [],
   "source": [
    "# Prepare df for plotting\n",
    "plot=[]\n",
    "for ct,dat in distances.items():\n",
    "    for comparison,dist in dat.items():\n",
    "        dist=pd.DataFrame(dist,columns=['dist'])\n",
    "        dist['group']=ct\n",
    "        dist['comparison']=comparison\n",
    "        plot.append(dist)\n",
    "plot=pd.concat(plot)"
   ]
  },
  {
   "cell_type": "code",
   "execution_count": 138,
   "id": "dafab305-6611-43f6-b8a6-9ad10bb3bfdc",
   "metadata": {
    "tags": []
   },
   "outputs": [
    {
     "name": "stderr",
     "output_type": "stream",
     "text": [
      "/net/bmc-lab5/data/kellis/users/khrovati/miniconda/envs/analysis/lib/python3.10/site-packages/seaborn/categorical.py:3544: UserWarning: 9.9% of the points cannot be placed; you may want to decrease the size of the markers or use stripplot.\n",
      "  warnings.warn(msg, UserWarning)\n"
     ]
    },
    {
     "data": {
      "text/plain": [
       "<seaborn.axisgrid.FacetGrid at 0x7f1b55a993c0>"
      ]
     },
     "execution_count": 138,
     "metadata": {},
     "output_type": "execute_result"
    },
    {
     "name": "stderr",
     "output_type": "stream",
     "text": [
      "/net/bmc-lab5/data/kellis/users/khrovati/miniconda/envs/analysis/lib/python3.10/site-packages/seaborn/categorical.py:3544: UserWarning: 21.0% of the points cannot be placed; you may want to decrease the size of the markers or use stripplot.\n",
      "  warnings.warn(msg, UserWarning)\n",
      "/net/bmc-lab5/data/kellis/users/khrovati/miniconda/envs/analysis/lib/python3.10/site-packages/seaborn/categorical.py:3544: UserWarning: 11.1% of the points cannot be placed; you may want to decrease the size of the markers or use stripplot.\n",
      "  warnings.warn(msg, UserWarning)\n",
      "/net/bmc-lab5/data/kellis/users/khrovati/miniconda/envs/analysis/lib/python3.10/site-packages/seaborn/categorical.py:3544: UserWarning: 8.3% of the points cannot be placed; you may want to decrease the size of the markers or use stripplot.\n",
      "  warnings.warn(msg, UserWarning)\n",
      "/net/bmc-lab5/data/kellis/users/khrovati/miniconda/envs/analysis/lib/python3.10/site-packages/seaborn/categorical.py:3544: UserWarning: 14.3% of the points cannot be placed; you may want to decrease the size of the markers or use stripplot.\n",
      "  warnings.warn(msg, UserWarning)\n"
     ]
    },
    {
     "data": {
      "image/png": "[encoded data removed]",
      "text/plain": [
       "<Figure size 1500x250 with 6 Axes>"
      ]
     },
     "metadata": {},
     "output_type": "display_data"
    }
   ],
   "source": [
    "# Plot distances\n",
    "sb.catplot(x='comparison',y='dist',col='group',\n",
    "           data=plot.reset_index(drop=True),kind='swarm',\n",
    "           sharey=False, height=2.5,aspect=1 )"
   ]
  },
  {
   "cell_type": "markdown",
   "id": "8eba62ea-5883-4149-98c1-a117ae2868c8",
   "metadata": {},
   "source": [
    "Evaluate statisticsal significance"
   ]
  },
  {
   "cell_type": "code",
   "execution_count": 20,
   "id": "09feefef-774d-4513-9949-2d37649f12be",
   "metadata": {
    "tags": []
   },
   "outputs": [],
   "source": [
    "# Compute significance of differences within and accross systems\n",
    "signif=[]\n",
    "for ct,dat in distances.items():\n",
    "    for ref in ['s0','s1']:\n",
    "        u,p=mannwhitneyu( dat[ref],dat['s0s1'],alternative='less')\n",
    "        signif.append(dict( cell_type=ct,system=ref, u=u,pval=p,\n",
    "                           n_system=dat[ref].shape[0],n_crossystem=dat['s0s1'].shape[0]))\n",
    "signif=pd.DataFrame(signif)\n",
    "signif['padj']=multipletests(signif['pval'],method='fdr_bh')[1]"
   ]
  },
  {
   "cell_type": "code",
   "execution_count": 21,
   "id": "8f7a12d7-9e49-40c9-bd66-897d76f7de6d",
   "metadata": {
    "tags": []
   },
   "outputs": [
    {
     "data": {
      "text/html": [
       "<div>\n",
       "<style scoped>\n",
       "    .dataframe tbody tr th:only-of-type {\n",
       "        vertical-align: middle;\n",
       "    }\n",
       "\n",
       "    .dataframe tbody tr th {\n",
       "        vertical-align: top;\n",
       "    }\n",
       "\n",
       "    .dataframe thead th {\n",
       "        text-align: right;\n",
       "    }\n",
       "</style>\n",
       "<table border=\"1\" class=\"dataframe\">\n",
       "  <thead>\n",
       "    <tr style=\"text-align: right;\">\n",
       "      <th></th>\n",
       "      <th>cell_type</th>\n",
       "      <th>system</th>\n",
       "      <th>u</th>\n",
       "      <th>pval</th>\n",
       "      <th>n_system</th>\n",
       "      <th>n_crossystem</th>\n",
       "      <th>padj</th>\n",
       "    </tr>\n",
       "  </thead>\n",
       "  <tbody>\n",
       "    <tr>\n",
       "      <th>0</th>\n",
       "      <td>nk_cell</td>\n",
       "      <td>s0</td>\n",
       "      <td>0.0</td>\n",
       "      <td>4.343483e-06</td>\n",
       "      <td>6</td>\n",
       "      <td>20</td>\n",
       "      <td>6.515224e-06</td>\n",
       "    </tr>\n",
       "    <tr>\n",
       "      <th>1</th>\n",
       "      <td>nk_cell</td>\n",
       "      <td>s1</td>\n",
       "      <td>0.0</td>\n",
       "      <td>6.004721e-06</td>\n",
       "      <td>10</td>\n",
       "      <td>20</td>\n",
       "      <td>7.205665e-06</td>\n",
       "    </tr>\n",
       "    <tr>\n",
       "      <th>2</th>\n",
       "      <td>ASPC</td>\n",
       "      <td>s0</td>\n",
       "      <td>89.0</td>\n",
       "      <td>3.194510e-16</td>\n",
       "      <td>36</td>\n",
       "      <td>81</td>\n",
       "      <td>1.916706e-15</td>\n",
       "    </tr>\n",
       "    <tr>\n",
       "      <th>3</th>\n",
       "      <td>ASPC</td>\n",
       "      <td>s1</td>\n",
       "      <td>80.0</td>\n",
       "      <td>2.062908e-16</td>\n",
       "      <td>36</td>\n",
       "      <td>81</td>\n",
       "      <td>1.916706e-15</td>\n",
       "    </tr>\n",
       "    <tr>\n",
       "      <th>4</th>\n",
       "      <td>macrophage</td>\n",
       "      <td>s0</td>\n",
       "      <td>6.0</td>\n",
       "      <td>5.718876e-06</td>\n",
       "      <td>6</td>\n",
       "      <td>36</td>\n",
       "      <td>7.205665e-06</td>\n",
       "    </tr>\n",
       "    <tr>\n",
       "      <th>5</th>\n",
       "      <td>macrophage</td>\n",
       "      <td>s1</td>\n",
       "      <td>0.0</td>\n",
       "      <td>1.523170e-13</td>\n",
       "      <td>36</td>\n",
       "      <td>36</td>\n",
       "      <td>6.092682e-13</td>\n",
       "    </tr>\n",
       "    <tr>\n",
       "      <th>6</th>\n",
       "      <td>endothelial</td>\n",
       "      <td>s0</td>\n",
       "      <td>14.0</td>\n",
       "      <td>2.179505e-06</td>\n",
       "      <td>10</td>\n",
       "      <td>45</td>\n",
       "      <td>3.736295e-06</td>\n",
       "    </tr>\n",
       "    <tr>\n",
       "      <th>7</th>\n",
       "      <td>endothelial</td>\n",
       "      <td>s1</td>\n",
       "      <td>84.0</td>\n",
       "      <td>2.684430e-12</td>\n",
       "      <td>36</td>\n",
       "      <td>45</td>\n",
       "      <td>6.442633e-12</td>\n",
       "    </tr>\n",
       "    <tr>\n",
       "      <th>8</th>\n",
       "      <td>t_cell</td>\n",
       "      <td>s0</td>\n",
       "      <td>0.0</td>\n",
       "      <td>9.107229e-12</td>\n",
       "      <td>21</td>\n",
       "      <td>56</td>\n",
       "      <td>1.821446e-11</td>\n",
       "    </tr>\n",
       "    <tr>\n",
       "      <th>9</th>\n",
       "      <td>t_cell</td>\n",
       "      <td>s1</td>\n",
       "      <td>30.0</td>\n",
       "      <td>4.346527e-13</td>\n",
       "      <td>28</td>\n",
       "      <td>56</td>\n",
       "      <td>1.303958e-12</td>\n",
       "    </tr>\n",
       "    <tr>\n",
       "      <th>10</th>\n",
       "      <td>monocyte</td>\n",
       "      <td>s0</td>\n",
       "      <td>0.0</td>\n",
       "      <td>1.225490e-03</td>\n",
       "      <td>3</td>\n",
       "      <td>15</td>\n",
       "      <td>1.225490e-03</td>\n",
       "    </tr>\n",
       "    <tr>\n",
       "      <th>11</th>\n",
       "      <td>monocyte</td>\n",
       "      <td>s1</td>\n",
       "      <td>0.0</td>\n",
       "      <td>1.794065e-05</td>\n",
       "      <td>10</td>\n",
       "      <td>15</td>\n",
       "      <td>1.957162e-05</td>\n",
       "    </tr>\n",
       "  </tbody>\n",
       "</table>\n",
       "</div>"
      ],
      "text/plain": [
       "      cell_type system     u          pval  n_system  n_crossystem  \\\n",
       "0       nk_cell     s0   0.0  4.343483e-06         6            20   \n",
       "1       nk_cell     s1   0.0  6.004721e-06        10            20   \n",
       "2          ASPC     s0  89.0  3.194510e-16        36            81   \n",
       "3          ASPC     s1  80.0  2.062908e-16        36            81   \n",
       "4    macrophage     s0   6.0  5.718876e-06         6            36   \n",
       "5    macrophage     s1   0.0  1.523170e-13        36            36   \n",
       "6   endothelial     s0  14.0  2.179505e-06        10            45   \n",
       "7   endothelial     s1  84.0  2.684430e-12        36            45   \n",
       "8        t_cell     s0   0.0  9.107229e-12        21            56   \n",
       "9        t_cell     s1  30.0  4.346527e-13        28            56   \n",
       "10     monocyte     s0   0.0  1.225490e-03         3            15   \n",
       "11     monocyte     s1   0.0  1.794065e-05        10            15   \n",
       "\n",
       "            padj  \n",
       "0   6.515224e-06  \n",
       "1   7.205665e-06  \n",
       "2   1.916706e-15  \n",
       "3   1.916706e-15  \n",
       "4   7.205665e-06  \n",
       "5   6.092682e-13  \n",
       "6   3.736295e-06  \n",
       "7   6.442633e-12  \n",
       "8   1.821446e-11  \n",
       "9   1.303958e-12  \n",
       "10  1.225490e-03  \n",
       "11  1.957162e-05  "
      ]
     },
     "execution_count": 21,
     "metadata": {},
     "output_type": "execute_result"
    }
   ],
   "source": [
    "signif"
   ]
  },
  {
   "cell_type": "code",
   "execution_count": 22,
   "id": "9f96f1b2-63c5-42e3-a55f-a7daedb42d0a",
   "metadata": {
    "tags": []
   },
   "outputs": [],
   "source": [
    "# Save signif\n",
    "signif.to_csv(path_save+'adiposeHsSAT_sc_sn_PcaSysBatchDist_Signif.tsv',sep='\\t',index=False)"
   ]
  },
  {
   "cell_type": "code",
   "execution_count": null,
   "id": "8b5914e5-9046-4dac-886c-043640c56013",
   "metadata": {},
   "outputs": [],
   "source": []
  }
 ],
 "metadata": {
  "jupytext": {
   "formats": "ipynb,py:percent"
  },
  "kernelspec": {
   "display_name": "analysis",
   "language": "python",
   "name": "analysis"
  },
  "language_info": {
   "codemirror_mode": {
    "name": "ipython",
    "version": 3
   },
   "file_extension": ".py",
   "mimetype": "text/x-python",
   "name": "python",
   "nbconvert_exporter": "python",
   "pygments_lexer": "ipython3",
   "version": "3.10.9"
  }
 },
 "nbformat": 4,
 "nbformat_minor": 5
}
