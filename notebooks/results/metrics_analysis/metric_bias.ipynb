{
 "cells": [
  {
   "cell_type": "code",
   "execution_count": 1,
   "id": "66ac2a1e-e056-47ba-b926-23189646a8e2",
   "metadata": {},
   "outputs": [],
   "source": [
    "import numpy as np\n",
    "import scib_metrics as sm\n",
    "import pandas as pd\n",
    "import scanpy as sc\n",
    "\n",
    "import seaborn as sb\n",
    "from matplotlib import rcParams\n",
    "import matplotlib.pyplot as plt"
   ]
  },
  {
   "cell_type": "code",
   "execution_count": 2,
   "id": "9fd80d07-0b73-4035-aa65-e21ea8e30ca3",
   "metadata": {},
   "outputs": [],
   "source": [
    "path_fig='/om2/user/khrovati/data/cross_system_integration/figures/'"
   ]
  },
  {
   "cell_type": "markdown",
   "id": "4d01c821-115b-4945-bb25-36f147f50922",
   "metadata": {},
   "source": [
    "## Graph (LISI) vs distance metrics (ASW)"
   ]
  },
  {
   "cell_type": "code",
   "execution_count": 3,
   "id": "d3b9a602-956a-4c01-bc9d-4323fabb79a9",
   "metadata": {},
   "outputs": [],
   "source": [
    "# Prepare mock data\n",
    "n_noise=15\n",
    "n=100\n",
    "group=np.array(['a']*n+['b']*n) # Batch of cell type\n",
    "group2=np.array(['l']*2*n) # Needed for batch metrics - all cells same label\n",
    "np.random.seed(0)\n",
    "xs=[]\n",
    "for i in range (10):\n",
    "    x_diff=np.concatenate(\n",
    "        [np.random.normal(0,1,size=(n,1)),\n",
    "         np.random.normal(1,1,size=(n,1))])\n",
    "    x_noise=np.random.normal(0,1,size=(2*n,n_noise))\n",
    "    x=np.concatenate([x_diff,x_noise],axis=1)\n",
    "    xs.append(x)"
   ]
  },
  {
   "cell_type": "code",
   "execution_count": 4,
   "id": "6a186620-6624-41ee-9491-8f413c169ba7",
   "metadata": {},
   "outputs": [
    {
     "name": "stderr",
     "output_type": "stream",
     "text": [
      "No GPU/TPU found, falling back to CPU. (Set TF_CPP_MIN_LOG_LEVEL=0 and rerun for more info.)\n"
     ]
    },
    {
     "name": "stdout",
     "output_type": "stream",
     "text": [
      "0\n"
     ]
    },
    {
     "name": "stderr",
     "output_type": "stream",
     "text": [
      "/om2/user/khrovati/miniconda/envs/csi/lib/python3.9/site-packages/umap/distances.py:1063: NumbaDeprecationWarning: \u001b[1mThe 'nopython' keyword argument was not supplied to the 'numba.jit' decorator. The implicit default value for this argument is currently False, but it will be changed to True in Numba 0.59.0. See https://numba.readthedocs.io/en/stable/reference/deprecation.html#deprecation-of-object-mode-fall-back-behaviour-when-using-jit for details.\u001b[0m\n",
      "  @numba.jit()\n",
      "/om2/user/khrovati/miniconda/envs/csi/lib/python3.9/site-packages/umap/distances.py:1071: NumbaDeprecationWarning: \u001b[1mThe 'nopython' keyword argument was not supplied to the 'numba.jit' decorator. The implicit default value for this argument is currently False, but it will be changed to True in Numba 0.59.0. See https://numba.readthedocs.io/en/stable/reference/deprecation.html#deprecation-of-object-mode-fall-back-behaviour-when-using-jit for details.\u001b[0m\n",
      "  @numba.jit()\n",
      "/om2/user/khrovati/miniconda/envs/csi/lib/python3.9/site-packages/umap/distances.py:1086: NumbaDeprecationWarning: \u001b[1mThe 'nopython' keyword argument was not supplied to the 'numba.jit' decorator. The implicit default value for this argument is currently False, but it will be changed to True in Numba 0.59.0. See https://numba.readthedocs.io/en/stable/reference/deprecation.html#deprecation-of-object-mode-fall-back-behaviour-when-using-jit for details.\u001b[0m\n",
      "  @numba.jit()\n",
      "/om2/user/khrovati/miniconda/envs/csi/lib/python3.9/site-packages/umap/umap_.py:660: NumbaDeprecationWarning: \u001b[1mThe 'nopython' keyword argument was not supplied to the 'numba.jit' decorator. The implicit default value for this argument is currently False, but it will be changed to True in Numba 0.59.0. See https://numba.readthedocs.io/en/stable/reference/deprecation.html#deprecation-of-object-mode-fall-back-behaviour-when-using-jit for details.\u001b[0m\n",
      "  @numba.jit()\n"
     ]
    },
    {
     "name": "stdout",
     "output_type": "stream",
     "text": [
      "3\n",
      "6\n",
      "9\n",
      "12\n",
      "15\n"
     ]
    }
   ],
   "source": [
    "res=[]\n",
    "for n_small in range(0,n_noise+1,3):\n",
    "    print(n_small)\n",
    "    for i,x in enumerate(xs):\n",
    "        # Make some noise features smaller\n",
    "        x_sub=x.copy()\n",
    "        x_sub[:,1:n_small+1]=x_sub[:,1:n_small+1]/10\n",
    "\n",
    "        # Metrics\n",
    "        asw_batch=sm.silhouette_batch( X=x_sub, labels=group2, batch=group, rescale = True)\n",
    "        asw_label=sm.silhouette_label(X=x_sub, labels=group, rescale = True)\n",
    "        adata=sc.AnnData(x_sub)\n",
    "        sc.pp.neighbors(adata,use_rep='X')\n",
    "        ilisi=sm.ilisi_knn(X=adata.obsp['distances'], batches=group, scale=True)\n",
    "        clisi=sm.clisi_knn(X=adata.obsp['distances'], labels=group, scale= True)\n",
    "        for metric,bio_batch,value in [\n",
    "            ('asw','batch',asw_batch),\n",
    "            ('asw','bio',asw_label),\n",
    "            ('lisi','batch',ilisi),\n",
    "            ('lisi','bio',clisi)\n",
    "        ]:\n",
    "            res.append({'i':i,'N low var. noise feats.':n_small,'metric':metric,'type':bio_batch,'value':value})\n",
    "res=pd.DataFrame(res)"
   ]
  },
  {
   "cell_type": "code",
   "execution_count": 5,
   "id": "27fd65e1-b918-43c8-ba04-1bf62e9b02ac",
   "metadata": {},
   "outputs": [
    {
     "data": {
      "image/png": "[encoded data removed]",
      "text/plain": [
       "<Figure size 450x300 with 4 Axes>"
      ]
     },
     "metadata": {
      "needs_background": "light"
     },
     "output_type": "display_data"
    }
   ],
   "source": [
    "g=sb.catplot(x='N low var. noise feats.',y='value',col='metric',row='type',data=res,kind='swarm',\n",
    "           sharey=False,height=1.5,aspect=1.5,s=3)\n",
    "for ax in g.axes.ravel():\n",
    "    text=ax.title.get_text()\n",
    "    if text=='type = batch | metric = asw':\n",
    "        ax.set_title('ASW',fontsize=10)\n",
    "        ax.set_ylabel('Batch score')\n",
    "    elif text=='type = bio | metric = asw':\n",
    "        ax.set_ylabel('Bio score')\n",
    "        ax.set_title(None)\n",
    "    elif text=='type = batch | metric = lisi':\n",
    "        ax.set_title('LISI',fontsize=10)\n",
    "    else:\n",
    "        ax.set_title(None)\n",
    "    ax.set(facecolor = (0,0,0,0))\n",
    "g.fig.set(facecolor = (0,0,0,0))\n",
    "plt.tight_layout()\n",
    "plt.savefig(path_fig+'metric_bias-n_noise_ASW_LISI-swarm.pdf',dpi=300,bbox_inches='tight')\n",
    "plt.savefig(path_fig+'metric_bias-n_noise_ASW_LISI-swarm.png',dpi=300,bbox_inches='tight')"
   ]
  },
  {
   "cell_type": "markdown",
   "id": "a758e9c8-42cb-43ff-9bf0-c53ce5d6cf57",
   "metadata": {},
   "source": [
    "C: The background is set as non-transparent in jupyter lab, but is in fact transparent (e.g. if you copy the plot)"
   ]
  },
  {
   "cell_type": "code",
   "execution_count": null,
   "id": "2d663032-4c37-47ce-bc38-fd967102c68b",
   "metadata": {},
   "outputs": [],
   "source": []
  }
 ],
 "metadata": {
  "jupytext": {
   "formats": "ipynb,py:percent"
  },
  "kernelspec": {
   "display_name": "csi",
   "language": "python",
   "name": "csi"
  },
  "language_info": {
   "codemirror_mode": {
    "name": "ipython",
    "version": 3
   },
   "file_extension": ".py",
   "mimetype": "text/x-python",
   "name": "python",
   "nbconvert_exporter": "python",
   "pygments_lexer": "ipython3",
   "version": "3.9.16"
  }
 },
 "nbformat": 4,
 "nbformat_minor": 5
}
