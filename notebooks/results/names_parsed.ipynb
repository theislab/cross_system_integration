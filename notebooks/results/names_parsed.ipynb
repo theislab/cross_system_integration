{
 "cells": [
  {
   "cell_type": "markdown",
   "id": "7d34b7ee-6ea1-4397-bf82-0e4681a663ab",
   "metadata": {},
   "source": [
    "# Set names and cmaps for plotting"
   ]
  },
  {
   "cell_type": "code",
   "execution_count": 2,
   "id": "62898fa1-d44e-48f2-bf6c-b475b2e42691",
   "metadata": {},
   "outputs": [],
   "source": [
    "import pickle as pkl"
   ]
  },
  {
   "cell_type": "code",
   "execution_count": 3,
   "id": "47ab55e6-de42-4100-9533-9871a70370de",
   "metadata": {
    "lines_to_next_cell": 2
   },
   "outputs": [],
   "source": [
    "path_data='/om2/user/khrovati/data/cross_system_integration/'\n",
    "path_save=path_data+'names_parsed/'"
   ]
  },
  {
   "cell_type": "markdown",
   "id": "c44fe9f6-2bdd-44fc-92c6-96b97cce892d",
   "metadata": {},
   "source": [
    "## Names"
   ]
  },
  {
   "cell_type": "code",
   "execution_count": 19,
   "id": "67a0e37c-71e5-4f5f-8110-27b8da11d2ec",
   "metadata": {},
   "outputs": [],
   "source": [
    "# Models\n",
    "model_map={\n",
    "    'non-integrated':'Non-integrated',\n",
    "    'vamp': 'VAMP',\n",
    "    'cycle': 'CYC',\n",
    "    'vamp_cycle':'VAMP+CYC',\n",
    "    'cVAE': 'cVAE',\n",
    "    'scvi': 'scVI',\n",
    "    'scglue': 'GLUE',\n",
    "    'saturn': 'SATURN',\n",
    "    'saturn_super': 'SATURN-CT'\n",
    "}\n",
    "pkl.dump(model_map,open(path_save+'models.pkl','wb'))"
   ]
  },
  {
   "cell_type": "code",
   "execution_count": 4,
   "id": "88a8d77d-8a60-46b8-83ab-a4992f43afdf",
   "metadata": {},
   "outputs": [],
   "source": [
    "# Models\n",
    "model_map_additional={\n",
    "    'vamp_fixed': 'VAMP - FP',\n",
    "    'gmm':'GMM',\n",
    "    'gmm_ri':'GMM - RPI',\n",
    "    'gmm_fixed':'GMM - FP',\n",
    "    'scgen_sample':'scGEN - sample',\n",
    "    'scgen_system':'scGEN - system',\n",
    "}\n",
    "pkl.dump(model_map_additional,open(path_save+'models_additional.pkl','wb'))"
   ]
  },
  {
   "cell_type": "code",
   "execution_count": 10,
   "id": "e5194d5b-cace-42a6-a067-e8f756ae58ff",
   "metadata": {},
   "outputs": [],
   "source": [
    "# Metrics\n",
    "metric_map={\n",
    "    'nmi_opt':'NMI',\n",
    "    'moransi':\"Moran's I\",\n",
    "    'ilisi_system':'iLISI',\n",
    "}\n",
    "pkl.dump(metric_map,open(path_save+'metrics.pkl','wb'))"
   ]
  },
  {
   "cell_type": "code",
   "execution_count": 18,
   "id": "10063598-76e0-4d4e-af8f-ad436e8aec49",
   "metadata": {},
   "outputs": [],
   "source": [
    "# Metrics meaning\n",
    "metric_meaning_map={\n",
    "    'nmi_opt':'Bio (coarse)',\n",
    "    'moransi':\"Bio (fine)\",\n",
    "    'ilisi_system':'Batch',\n",
    "}\n",
    "pkl.dump(metric_meaning_map,open(path_save+'metric_meanings.pkl','wb'))"
   ]
  },
  {
   "cell_type": "code",
   "execution_count": 9,
   "id": "ed52951d-1b13-4524-a4c8-30220b215181",
   "metadata": {},
   "outputs": [],
   "source": [
    "# Datasets\n",
    "dataset_map={\n",
    "    'pancreas_conditions_MIA_HPAP2':'Mouse-Human',\n",
    "    'retina_adult_organoid':'Organoid-Tissue',\n",
    "    'adipose_sc_sn_updated':'Cell-Nuclei',\n",
    "}\n",
    "pkl.dump(dataset_map,open(path_save+'datasets.pkl','wb'))"
   ]
  },
  {
   "cell_type": "code",
   "execution_count": 7,
   "id": "e1c66ca1-1475-4247-8f80-d38716e234ea",
   "metadata": {},
   "outputs": [],
   "source": [
    "# Optimized parameter values to be used alongside relevant models\n",
    "param_vals=[\n",
    "    (['cVAE'],[\n",
    "        ('kl_weight',[1.0, 1.5, 2.0, 5.0]) ]),\n",
    "    (['scvi'],[\n",
    "        ('kl_weight',[0.5,1.0, 1.5, 2.0]) ]),\n",
    "    (['scglue'],[\n",
    "        ('lam_align',[0.0005, 0.005, 0.05, 0.5]),\n",
    "        ('lam_graph',[0.005, 0.1, 0.5, 2.0]),\n",
    "        ('rel_gene_weight',[0.4, 0.6, 0.8, 1.0]) ]),\n",
    "    (['vamp'],[\n",
    "        #('n_prior_components',[10.0, 100.0, 1000.0, 5000.0]),\n",
    "        ('kl_weight',[1.0, 1.5, 2.0, 5]) \n",
    "    ]),\n",
    "    (['saturn','saturn_super'],[\n",
    "        ('pe_sim_penalty',[0.01, 0.1, 1.0, 10.0]) ]),\n",
    "    (['cycle', 'vamp_cycle'],[\n",
    "        ('z_distance_cycle_weight',[2.0, 5.0, 10.0, 50.0]) ]),\n",
    "] \n",
    "\n",
    "pkl.dump(param_vals,open(path_save+'optimized_parameter_values.pkl','wb'))"
   ]
  },
  {
   "cell_type": "code",
   "execution_count": 5,
   "id": "3ebe0c17-a11b-48f1-86dc-00ddb6565282",
   "metadata": {},
   "outputs": [],
   "source": [
    "# Optimized parameter values to be used alongside relevant models\n",
    "param_vals_additional=[\n",
    "    (['vamp','vamp_fixed','gmm','gmm_fixed','gmm_ri'],[\n",
    "        ('n_prior_components',[1.0,2.0,5.0,10.0, 100.0, 5000.0]),\n",
    "    ]),\n",
    "    (['vamp'],[\n",
    "        ('prior_components_group', [ 'BALANCED','beta', 'alpha', 'acinar','schwann', 'immune']),\n",
    "        ('prior_components_system',[-1, 0, 1]),\n",
    "    ])\n",
    "] \n",
    "\n",
    "pkl.dump(param_vals_additional,open(path_save+'optimized_parameter_values_additional.pkl','wb'))"
   ]
  },
  {
   "cell_type": "code",
   "execution_count": 7,
   "id": "4a9df251-0e2b-4f95-ba42-39ec41d3995b",
   "metadata": {},
   "outputs": [],
   "source": [
    "# Map params_opt to model name\n",
    "params_opt_map={\n",
    "     'kl_weight':'cVAE',\n",
    "     'saturn_pe_sim_penalty':'saturn',\n",
    "     'saturn_pe_sim_penalty_no':'saturn',\n",
    "     'saturn_pe_sim_penalty_super':'saturn_super',\n",
    "     'saturn_pe_sim_penalty_super_no':'saturn_super',\n",
    "     'scglue_lam_align':'scglue',\n",
    "     'scglue_lam_align_no':'scglue',\n",
    "     'scglue_lam_graph':'scglue',\n",
    "     'scglue_lam_graph_no':'scglue',\n",
    "     'scglue_rel_gene_weight':'scglue',\n",
    "     'scglue_rel_gene_weight_no':'scglue',\n",
    "     'scvi_kl_anneal':'scvi',\n",
    "     'vamp_z_distance_cycle_weight_std_eval':'vamp_cycle',\n",
    "     'vamp_kl_weight_eval':'vamp',\n",
    "     'z_distance_cycle_weight_std':'cycle',\n",
    "    }\n",
    "pkl.dump(params_opt_map,open(path_save+'params_opt_model.pkl','wb'))"
   ]
  },
  {
   "cell_type": "code",
   "execution_count": 6,
   "id": "174006dd-2c76-4d3e-8aac-362a1f37e782",
   "metadata": {},
   "outputs": [],
   "source": [
    "# Params opt \n",
    "params_opt_map_additional={\n",
    "     'vamp_eval':'vamp',\n",
    "     'vamp_eval_fixed':'vamp_fixed',\n",
    "     'gmm_eval':'gmm',\n",
    "     'gmm_eval_fixed':'gmm_fixed',\n",
    "     'gmm_eval_ri':'gmm_ri',\n",
    "     'prior_group':'vamp', \n",
    "     'prior_system':'vamp', \n",
    "    }\n",
    "pkl.dump(params_opt_map_additional,open(path_save+'params_opt_model_additional.pkl','wb'))"
   ]
  },
  {
   "cell_type": "code",
   "execution_count": 6,
   "id": "6f0ae6d1-5d78-4732-93c0-df418b5d3f08",
   "metadata": {},
   "outputs": [],
   "source": [
    "# Map param names to pretty names\n",
    "param_names={\n",
    " 'n_prior_components':'N priors',\n",
    " 'z_distance_cycle_weight':'Cycle LW',\n",
    " 'kl_weight':'KL LW',\n",
    " 'lam_graph':'Graph LW',\n",
    " 'lam_align':'Alignment LW',\n",
    " 'rel_gene_weight':'Graph W',\n",
    " 'pe_sim_penalty':'Protein sim. LW',\n",
    "  None:'None',  \n",
    "}\n",
    "pkl.dump(param_names,open(path_save+'params.pkl','wb'))"
   ]
  },
  {
   "cell_type": "code",
   "execution_count": 11,
   "id": "6ec05f4a-061e-4616-bf56-d949d4999afc",
   "metadata": {},
   "outputs": [],
   "source": [
    "# Map param names to pretty names\n",
    "param_names_additional={\n",
    "    'prior_components_group':'Prior init. cell type',\n",
    "    'prior_components_system':'Prior init. system',\n",
    "}\n",
    "pkl.dump(param_names_additional,open(path_save+'params_additional.pkl','wb'))"
   ]
  },
  {
   "cell_type": "code",
   "execution_count": 5,
   "id": "16ffe27a-115e-4033-9647-2f3f0d5b9d1b",
   "metadata": {},
   "outputs": [],
   "source": [
    "# Map params_opt to gene relationship type\n",
    "params_opt_gene_map={\n",
    "     'kl_weight':'OTO',\n",
    "     'saturn_pe_sim_penalty':'OTO',\n",
    "     'saturn_pe_sim_penalty_no':'FO',\n",
    "     'saturn_pe_sim_penalty_super':'OTO',\n",
    "     'saturn_pe_sim_penalty_super_no':'FO',\n",
    "     'scglue_lam_align':'OTO',\n",
    "     'scglue_lam_align_no':'FO',\n",
    "     'scglue_lam_graph':'OTO',\n",
    "     'scglue_lam_graph_no':'FO',\n",
    "     'scglue_rel_gene_weight':'OTO',\n",
    "     'scglue_rel_gene_weight_no':'FO',\n",
    "     'scvi_kl_anneal':'OTO',\n",
    "     'vamp_kl_weight_eval':'OTO',\n",
    "     'vamp_z_distance_cycle_weight_std_eval':'OTO',\n",
    "     'z_distance_cycle_weight_std':'OTO',\n",
    "    }\n",
    "pkl.dump(params_opt_gene_map,open(path_save+'params_opt_genes.pkl','wb'))"
   ]
  },
  {
   "cell_type": "code",
   "execution_count": 8,
   "id": "d529bc09-7151-4cdd-bc64-7a781dbb3caf",
   "metadata": {},
   "outputs": [],
   "source": [
    "# System 0-1 to name mapping\n",
    "system_map={\n",
    "    'pancreas_conditions_MIA_HPAP2':{'0':'Mouse','1':'Human'},\n",
    "    'retina_adult_organoid':{'0':'Organoid','1':'Tissue'},\n",
    "    'adipose_sc_sn_updated':{'0':'Cell','1':'Nuclei'},\n",
    "}\n",
    "pkl.dump(system_map,open(path_save+'systems.pkl','wb'))"
   ]
  },
  {
   "cell_type": "code",
   "execution_count": 15,
   "id": "8dd2de6d-c74b-4409-a5b8-f453a58db1b4",
   "metadata": {},
   "outputs": [],
   "source": [
    "# Cell type labels\n",
    "cell_type_map={\n",
    "    'pancreas_conditions_MIA_HPAP2':{\n",
    "        'acinar': 'Acinar', \n",
    "        'alpha': 'Alpha', \n",
    "        'alpha+beta': 'Alpha+Beta', \n",
    "        'alpha+delta': 'Alpha+Delta', \n",
    "        'beta': 'Beta', \n",
    "        'beta+delta': 'Beta+Delta', \n",
    "        'beta+gamma': 'Beta+Gamma', \n",
    "        'delta': 'Delta', \n",
    "        'delta+gamma': 'Delta+Gamma', \n",
    "        'ductal': 'Ductal', \n",
    "        'endo. prolif.': 'Endo. prolif.', \n",
    "        'endothelial': 'Endothelial', \n",
    "        'gamma': 'Gamma', \n",
    "        'immune': 'Immune', \n",
    "        'schwann': 'Schwann', \n",
    "        'stellate a.': 'Stellate a.', \n",
    "        'stellate q.': 'Stellate q.'\n",
    "    },\n",
    "    'retina_adult_organoid':{\n",
    "        'B cell': 'B cell', \n",
    "        'Mueller cell': 'Mueller cell', \n",
    "        'OFF-bipolar cell': 'OFF-bipolar cell', \n",
    "        'ON-bipolar cell': 'ON-bipolar cell', \n",
    "        'T cell': 'T cell', \n",
    "        'amacrine cell': 'Amacrine cell', \n",
    "        'astrocyte': 'Astrocyte', \n",
    "        'endothelial cell of vascular tree': 'Endothelial cell of vascular tree', \n",
    "        'fibroblast': 'Fibroblast', \n",
    "        'mast cell': 'Mast cell', \n",
    "        'melanocyte': 'Melanocyte', \n",
    "        'microglial cell': 'Microglial cell', \n",
    "        'monocyte': 'Monocyte', \n",
    "        'natural killer cell': 'Natural killer cell', \n",
    "        'pericyte': 'Pericyte', \n",
    "        'retina horizontal cell': 'Retina horizontal cell', \n",
    "        'retinal cone cell': 'Retinal cone cell', \n",
    "        'retinal ganglion cell': 'Retinal ganglion cell', \n",
    "        'retinal pigment epithelial cell': 'Retinal pigment epithelial cell', \n",
    "        'retinal rod cell': 'Retinal rod cell', \n",
    "        'rod bipolar cell': 'Rod bipolar cell'\n",
    "    },\n",
    "    'adipose_sc_sn_updated':{\n",
    "        'ASPC': 'ASPC', \n",
    "        'LEC': 'LEC', \n",
    "        'SMC': 'SMC', \n",
    "        'adipocyte': 'Adipocyte', \n",
    "        'b_cell': 'B cell', \n",
    "        'dendritic_cell': 'Dendritic cell', \n",
    "        'endometrium': 'Endometrium', \n",
    "        'endothelial': 'Endothelial', \n",
    "        'macrophage': 'Macrophage', \n",
    "        'mast_cell': 'Mast cell', \n",
    "        'monocyte': 'Monocyte', \n",
    "        'neutrophil': 'Neutrophil', \n",
    "        'nk_cell': 'NK cell', \n",
    "        'pericyte': 'Pericyte', \n",
    "        't_cell': 'T cell' \n",
    "    }\n",
    "}\n",
    "pkl.dump(cell_type_map,open(path_save+'cell_types.pkl','wb'))"
   ]
  },
  {
   "cell_type": "code",
   "execution_count": 13,
   "id": "8ed30029-1476-45df-883f-d76052c73079",
   "metadata": {},
   "outputs": [],
   "source": [
    "prior_init_map={\n",
    "    'prior_components_group':{'BALANCED':'Balanced'},\n",
    "    'prior_components_system':{'-1':'Balanced'},\n",
    "}\n",
    "pkl.dump(prior_init_map,open(path_save+'prior_init.pkl','wb'))"
   ]
  },
  {
   "cell_type": "markdown",
   "id": "3602e1c4-bbdd-4ea9-8b22-88a3e95f8ca2",
   "metadata": {},
   "source": [
    "## Cmaps"
   ]
  },
  {
   "cell_type": "code",
   "execution_count": 11,
   "id": "cc60127f-cbc6-4a05-a6a1-c8397ee9cebf",
   "metadata": {},
   "outputs": [],
   "source": [
    "import scanpy as sc\n",
    "import pandas as pd\n",
    "from collections import defaultdict\n",
    "import matplotlib.colors as mcolors\n",
    "import seaborn as sb\n",
    "import numpy as np"
   ]
  },
  {
   "cell_type": "code",
   "execution_count": 20,
   "id": "b4b9426e-d2e7-4cd5-8801-863de23e3305",
   "metadata": {},
   "outputs": [],
   "source": [
    "# Model colors\n",
    "models=[m for m in model_map.values() if m!='non-integrated']\n",
    "colors =[mcolors.to_hex(color) for color in sb.color_palette(\"colorblind\")]\n",
    "palette=dict(zip(models,colors[:len(models)]))\n",
    "pkl.dump(palette,open(path_save+'model_cmap.pkl','wb'))"
   ]
  },
  {
   "cell_type": "code",
   "execution_count": 54,
   "id": "0a6800ec-d2e4-46c8-b4df-41ed8561ea1c",
   "metadata": {},
   "outputs": [],
   "source": [
    "# UMAP col colloring for datasets\n",
    "cmaps=defaultdict(dict)\n",
    "for fn,cols in [\n",
    "    ('adipose_sc_sn_updated/adiposeHsSAT_sc_sn.h5ad',\n",
    "     ['cluster','system','donor_id']),\n",
    "    ('pancreas_conditions_MIA_HPAP2/combined_orthologuesHVG.h5ad',\n",
    "     ['cell_type_eval','system','batch','leiden_system']),\n",
    "    ('retina_adult_organoid/combined_HVG.h5ad',\n",
    "     ['cell_type','system','sample_id'])\n",
    "]:\n",
    "    dataset=fn.split('/')[0]\n",
    "    adata=sc.read(path_data+fn,backed='r')\n",
    "    for col in cols:\n",
    "        adata.obs[col]=adata.obs[col].astype(str)\n",
    "        adata.obs[col]=pd.Categorical(values=adata.obs[col],\n",
    "                                      categories=sorted(adata.obs[col].unique()),\n",
    "                                      ordered=True)\n",
    "        cmap=sc.pl._tools.scatterplots._get_palette(adata, col)\n",
    "        if len(set(cmap.values()))<len(cmap):\n",
    "            np.random.seed(0)\n",
    "            colors = ['#%06X' % np.random.randint(0, 0xFFFFFF) for i in range(len(cmap))]\n",
    "            cmap=dict(zip(cmap.keys(),colors))\n",
    "        cmaps[dataset][col]=cmap       \n",
    "pkl.dump(cmaps,open(path_save+'obs_col_cmap.pkl','wb'))"
   ]
  },
  {
   "cell_type": "code",
   "execution_count": 67,
   "id": "84382cf9-a6bf-4f55-abe3-44c5fb22ddef",
   "metadata": {},
   "outputs": [],
   "source": [
    "# Metric background colors\n",
    "palette={'ilisi_system':'#F9F3F3',\n",
    "             'moransi':'#EAF0F5',\n",
    "             'nmi_opt':'#EFF9FB'}\n",
    "pkl.dump(palette,open(path_save+'metric_background_cmap.pkl','wb'))"
   ]
  },
  {
   "cell_type": "code",
   "execution_count": 6,
   "id": "6c22c6d5-4f4d-4db7-b634-8cabb3aa470f",
   "metadata": {},
   "outputs": [],
   "source": [
    "# Dataset colors\n",
    "palette={\n",
    "    'pancreas_conditions_MIA_HPAP2':'#8a9e59',\n",
    "    'retina_adult_organoid':'#c97fac',\n",
    "    'adipose_sc_sn_updated':'#92C2D0',\n",
    "}\n",
    "pkl.dump(palette,open(path_save+'dataset_cmap.pkl','wb'))"
   ]
  },
  {
   "cell_type": "code",
   "execution_count": null,
   "id": "193bae7e-fa83-4d99-be30-aa8ae805f703",
   "metadata": {},
   "outputs": [],
   "source": []
  }
 ],
 "metadata": {
  "jupytext": {
   "formats": "ipynb,py:percent"
  },
  "kernelspec": {
   "display_name": "csi",
   "language": "python",
   "name": "csi"
  },
  "language_info": {
   "codemirror_mode": {
    "name": "ipython",
    "version": 3
   },
   "file_extension": ".py",
   "mimetype": "text/x-python",
   "name": "python",
   "nbconvert_exporter": "python",
   "pygments_lexer": "ipython3",
   "version": "3.9.16"
  }
 },
 "nbformat": 4,
 "nbformat_minor": 5
}
