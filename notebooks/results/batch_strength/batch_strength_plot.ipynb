{
 "cells": [
  {
   "cell_type": "code",
   "execution_count": 4,
   "id": "e03dc62f",
   "metadata": {},
   "outputs": [],
   "source": [
    "import numpy as np\n",
    "import pandas as pd\n",
    "import scanpy as sc\n",
    "import pickle as pkl\n",
    "\n",
    "import seaborn as sb\n",
    "from matplotlib import rcParams\n",
    "import matplotlib.pyplot as plt"
   ]
  },
  {
   "cell_type": "code",
   "execution_count": 5,
   "id": "91de2f04",
   "metadata": {},
   "outputs": [],
   "source": [
    "path_data='/om2/user/khrovati/data/cross_system_integration/'\n",
    "path_res_panc=path_data+'pancreas_conditions_MIA_HPAP2/'"
   ]
  },
  {
   "cell_type": "code",
   "execution_count": 6,
   "id": "09d76ae8",
   "metadata": {},
   "outputs": [],
   "source": [
    "path_fig=path_data+'figures/'"
   ]
  },
  {
   "cell_type": "code",
   "execution_count": 7,
   "id": "ac871a2e",
   "metadata": {},
   "outputs": [],
   "source": [
    "# Load distances from mouse-human dataset\n",
    "distances=pkl.load(open(path_res_panc+'combined_orthologuesHVG_PcaSysBatchDist.pkl','rb'))"
   ]
  },
  {
   "cell_type": "code",
   "execution_count": 8,
   "id": "c81de4b2",
   "metadata": {},
   "outputs": [],
   "source": [
    "# Prepare df for plotting (focus on delta cells)\n",
    "plot=[]\n",
    "ct='delta'\n",
    "dat=distances[ct]\n",
    "y_col='Compared samples'\n",
    "for comparison,dist in dat.items():\n",
    "    dist=pd.DataFrame(dist,columns=['dist'])\n",
    "    dist['group']=ct\n",
    "    dist[y_col]=comparison\n",
    "    plot.append(dist)\n",
    "plot=pd.concat(plot)"
   ]
  },
  {
   "cell_type": "code",
   "execution_count": 9,
   "id": "4bbc42b3",
   "metadata": {},
   "outputs": [],
   "source": [
    "# Make data names prettier\n",
    "plot.rename({'dist':'Distance'},axis=1,inplace=True)\n",
    "plot.replace({'s0_within':'Mouse\\n(within datasets)',\n",
    "              's0_between':'Mouse\\n(between datasets)',\n",
    "              's1':'Human',\n",
    "              's0s1':'Mouse vs human'},inplace=True)"
   ]
  },
  {
   "cell_type": "code",
   "execution_count": 10,
   "id": "ff516dd3",
   "metadata": {},
   "outputs": [
    {
     "data": {
      "image/png": "[encoded data removed]",
      "text/plain": [
       "<Figure size 150x200 with 1 Axes>"
      ]
     },
     "metadata": {
      "needs_background": "light"
     },
     "output_type": "display_data"
    }
   ],
   "source": [
    "# Plot\n",
    "fig,ax=plt.subplots(figsize=(1.5,2))\n",
    "sb.violinplot(y=y_col,x='Distance',data=plot,inner=None,linewidth=0.5,ax=ax)\n",
    "fig.set(facecolor = (0,0,0,0))\n",
    "ax.set(facecolor = (0,0,0,0))\n",
    "ax.spines['top'].set_visible(False)\n",
    "ax.spines['right'].set_visible(False)\n",
    "plt.savefig(path_fig+f'batch_strength-pancreas_{ct}-violin.pdf',dpi=300,bbox_inches='tight')\n",
    "plt.savefig(path_fig+f'batch_strength-pancreas_{ct}-violin.png',dpi=300,bbox_inches='tight')"
   ]
  },
  {
   "cell_type": "code",
   "execution_count": 11,
   "id": "d4893660",
   "metadata": {},
   "outputs": [
    {
     "data": {
      "text/plain": [
       "Compared samples\n",
       "Human                         136\n",
       "Mouse\\n(between datasets)    1010\n",
       "Mouse\\n(within datasets)      166\n",
       "Mouse vs human                833\n",
       "dtype: int64"
      ]
     },
     "execution_count": 11,
     "metadata": {},
     "output_type": "execute_result"
    }
   ],
   "source": [
    "# N comparisons (samples) per group\n",
    "plot.groupby(y_col).size()"
   ]
  },
  {
   "cell_type": "code",
   "execution_count": null,
   "id": "8791c988",
   "metadata": {},
   "outputs": [],
   "source": []
  }
 ],
 "metadata": {
  "jupytext": {
   "formats": "ipynb,py:percent"
  },
  "kernelspec": {
   "display_name": "csi",
   "language": "python",
   "name": "csi"
  },
  "language_info": {
   "codemirror_mode": {
    "name": "ipython",
    "version": 3
   },
   "file_extension": ".py",
   "mimetype": "text/x-python",
   "name": "python",
   "nbconvert_exporter": "python",
   "pygments_lexer": "ipython3",
   "version": "3.9.16"
  }
 },
 "nbformat": 4,
 "nbformat_minor": 5
}
