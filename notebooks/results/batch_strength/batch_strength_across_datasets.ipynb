{
 "cells": [
  {
   "cell_type": "code",
   "execution_count": 40,
   "id": "5af23672-a470-40a7-821c-0d0581f3f142",
   "metadata": {},
   "outputs": [],
   "source": [
    "import numpy as np\n",
    "import pandas as pd\n",
    "import scanpy as sc\n",
    "import pickle as pkl\n",
    "\n",
    "from scipy.stats import mannwhitneyu\n",
    "\n",
    "import seaborn as sb\n",
    "from matplotlib import rcParams\n",
    "import matplotlib.pyplot as plt"
   ]
  },
  {
   "cell_type": "code",
   "execution_count": 20,
   "id": "4a103ee1-fe02-4464-a9f0-7441ee7de74b",
   "metadata": {},
   "outputs": [],
   "source": [
    "path_data='/om2/user/khrovati/data/cross_system_integration/'\n",
    "path_names=path_data+'names_parsed/'\n",
    "path_fig=path_data+'figures/'"
   ]
  },
  {
   "cell_type": "code",
   "execution_count": 21,
   "id": "967c1b93-e54f-40c8-9786-2afe17c448a5",
   "metadata": {},
   "outputs": [],
   "source": [
    "# Names\n",
    "model_map=pkl.load(open(path_names+'models.pkl','rb'))\n",
    "param_map=pkl.load(open(path_names+'params.pkl','rb'))\n",
    "metric_map=pkl.load(open(path_names+'metrics.pkl','rb'))\n",
    "# Here NMI fixed is used\n",
    "metric_map=dict([(k,v) if k!='nmi_opt' else ('nmi','NMI fixed') for k,v in metric_map.items() ])\n",
    "dataset_map=pkl.load(open(path_names+'datasets.pkl','rb'))\n",
    "metric_meaning_map=pkl.load(open(path_names+'metric_meanings.pkl','rb'))\n",
    "metric_meaning_map['nmi']=metric_meaning_map['nmi_opt']\n",
    "metric_map_rev=dict(zip(metric_map.values(),metric_map.keys()))\n",
    "dataset_map_rev=dict(zip(dataset_map.values(),dataset_map.keys()))\n",
    "system_map=pkl.load(open(path_names+'systems.pkl','rb'))\n",
    "params_opt_map=pkl.load(open(path_names+'params_opt_model.pkl','rb'))\n",
    "params_opt_gene_map=pkl.load(open(path_names+'params_opt_genes.pkl','rb'))\n",
    "param_opt_vals=pkl.load(open(path_names+'optimized_parameter_values.pkl','rb'))\n",
    "cell_type_map=pkl.load(open(path_names+'cell_types.pkl','rb'))\n",
    "\n",
    "# cmap\n",
    "model_cmap=pkl.load(open(path_names+'model_cmap.pkl','rb'))\n",
    "obs_col_cmap=pkl.load(open(path_names+'obs_col_cmap.pkl','rb'))\n",
    "metric_background_cmap=pkl.load(open(path_names+'metric_background_cmap.pkl','rb'))\n",
    "metric_background_cmap['nmi']=metric_background_cmap['nmi_opt']"
   ]
  },
  {
   "cell_type": "code",
   "execution_count": 30,
   "id": "3c15de24-f9d5-47e0-b575-29418c41af0b",
   "metadata": {},
   "outputs": [],
   "source": [
    "# Load results\n",
    "dataset_metric_fns={\n",
    "    'pancreas_conditions_MIA_HPAP2':'combined_orthologuesHVG',\n",
    "    'retina_adult_organoid':'combined_HVG',\n",
    "    'adipose_sc_sn_updated':'adiposeHsSAT_sc_sn',\n",
    "}\n",
    "res={}\n",
    "for dataset,fn_part in dataset_metric_fns.items():\n",
    "    res[dataset]=pkl.load(open(f'{path_data}{dataset}/{fn_part}_embed_integrationMetrics.pkl','rb'\n",
    "                              ))['asw_batch']['asw_data_label'].values"
   ]
  },
  {
   "cell_type": "code",
   "execution_count": 31,
   "id": "5e3c6ef9-7351-4ccc-a639-235d700300dd",
   "metadata": {},
   "outputs": [],
   "source": [
    "# Make DF from results for plotting/analysis\n",
    "score_name='ASW system'\n",
    "ds_name='Dataset'\n",
    "res=pd.Series(res).explode().rename(score_name).reset_index().rename({'index':'dataset'},axis=1)\n",
    "res[ds_name]=res['dataset'].map(dataset_map)"
   ]
  },
  {
   "cell_type": "code",
   "execution_count": 39,
   "id": "34d149f5-ba5d-4128-9a87-f49eafc430a8",
   "metadata": {},
   "outputs": [
    {
     "data": {
      "image/png": "[encoded data removed]",
      "text/plain": [
       "<Figure size 100x100 with 1 Axes>"
      ]
     },
     "metadata": {
      "needs_background": "light"
     },
     "output_type": "display_data"
    }
   ],
   "source": [
    "fig,ax=plt.subplots(figsize=(1,1))\n",
    "sb.swarmplot(x=score_name,y=ds_name,data=res,s=3,c='k')\n",
    "ax.set(facecolor = (0,0,0,0))\n",
    "ax.spines['top'].set_visible(False)\n",
    "ax.spines['right'].set_visible(False)           \n",
    "fig.set(facecolor = (0,0,0,0))\n",
    "plt.subplots_adjust( wspace=0.1)\n",
    "\n",
    "plt.savefig(path_fig+'batch_strength_datasets-asw_label-swarm.pdf',\n",
    "            dpi=300,bbox_inches='tight')\n",
    "plt.savefig(path_fig+'batch_strength_datasets-asw_label-swarm.png',\n",
    "            dpi=300,bbox_inches='tight')"
   ]
  },
  {
   "cell_type": "code",
   "execution_count": 50,
   "id": "029b3ce4-8125-4ed1-b730-49e69b5759e0",
   "metadata": {},
   "outputs": [
    {
     "name": "stdout",
     "output_type": "stream",
     "text": [
      "adipose_sc_sn_updated VS pancreas_conditions_MIA_HPAP2\n",
      "p-value = 2.1e-03 u=135.0\n",
      "adipose_sc_sn_updated VS retina_adult_organoid\n",
      "p-value = 3.9e-03 u=112.0\n",
      "pancreas_conditions_MIA_HPAP2 VS retina_adult_organoid\n",
      "p-value = 3.7e-01 u=46.0\n"
     ]
    }
   ],
   "source": [
    "dss=sorted(res['dataset'].unique())\n",
    "for i in range(len(dss)-1):\n",
    "    for j in range(i+1,len(dss)):\n",
    "        ds_i=dss[i]\n",
    "        ds_j=dss[j]\n",
    "        u,p=mannwhitneyu(\n",
    "            res.query('dataset==@ds_i')[score_name].astype(float), \n",
    "            res.query('dataset==@ds_j')[score_name].astype(float))\n",
    "        print(ds_i,'VS',ds_j)\n",
    "        print(f'p-value = {p:.1e} u={u}')"
   ]
  },
  {
   "cell_type": "code",
   "execution_count": null,
   "id": "9b66f2fe-b1cf-48d5-8d8a-41179207de8d",
   "metadata": {},
   "outputs": [],
   "source": []
  }
 ],
 "metadata": {
  "jupytext": {
   "formats": "ipynb,auto:percent"
  },
  "kernelspec": {
   "display_name": "csi",
   "language": "python",
   "name": "csi"
  },
  "language_info": {
   "codemirror_mode": {
    "name": "ipython",
    "version": 3
   },
   "file_extension": ".py",
   "mimetype": "text/x-python",
   "name": "python",
   "nbconvert_exporter": "python",
   "pygments_lexer": "ipython3",
   "version": "3.9.16"
  }
 },
 "nbformat": 4,
 "nbformat_minor": 5
}
