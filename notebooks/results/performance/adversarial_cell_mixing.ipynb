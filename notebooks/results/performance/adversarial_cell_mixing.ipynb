{
 "cells": [
  {
   "cell_type": "code",
   "execution_count": 8,
   "id": "81c00313-b3a1-41af-b4ac-310efd21e114",
   "metadata": {
    "lines_to_next_cell": 2
   },
   "outputs": [
    {
     "name": "stdout",
     "output_type": "stream",
     "text": [
      "The rpy2.ipython extension is already loaded. To reload it, use:\n",
      "  %reload_ext rpy2.ipython\n"
     ]
    }
   ],
   "source": [
    "import pandas as pd\n",
    "import numpy as np\n",
    "import glob\n",
    "import pickle as pkl\n",
    "import os\n",
    "import itertools\n",
    "import scanpy as sc\n",
    "import gc\n",
    "\n",
    "from matplotlib import rcParams\n",
    "import matplotlib.pyplot as plt\n",
    "import seaborn as sb\n",
    "import matplotlib.image as mpimg\n",
    "import matplotlib.colors as mcolors\n",
    "\n",
    "import rpy2.robjects as ro\n",
    "from rpy2.robjects import pandas2ri\n",
    "pandas2ri.activate()\n",
    "%load_ext rpy2.ipython\n",
    "\n",
    "import rpy2.rinterface_lib.callbacks\n",
    "import logging\n",
    "rpy2.rinterface_lib.callbacks.logger.setLevel(logging.ERROR)\n",
    "\n",
    "import sys\n",
    "sys.path.append('/'.join(os.getcwd().split('/')[:-2]+['eval','cleaned','']))\n",
    "from params_opt_maps import *"
   ]
  },
  {
   "cell_type": "code",
   "execution_count": 3,
   "id": "7d3f4c66-8d8c-4018-97d2-7cbb77eff96f",
   "metadata": {},
   "outputs": [],
   "source": [
    "%%R\n",
    "library('ComplexHeatmap')\n",
    "library(viridis)\n",
    "library(circlize)"
   ]
  },
  {
   "cell_type": "code",
   "execution_count": 4,
   "id": "2ec90260-311b-40a0-980e-7b5e485b8651",
   "metadata": {},
   "outputs": [],
   "source": [
    "path_data='/om2/user/khrovati/data/cross_system_integration/'\n",
    "path_names=path_data+'names_parsed/'\n",
    "path_fig=path_data+'figures/'"
   ]
  },
  {
   "cell_type": "code",
   "execution_count": 5,
   "id": "cabcd4e1-eccd-4788-8a83-202d1b815e4f",
   "metadata": {},
   "outputs": [],
   "source": [
    "# Names\n",
    "model_map=pkl.load(open(path_names+'models.pkl','rb'))\n",
    "param_map=pkl.load(open(path_names+'params.pkl','rb'))\n",
    "metric_map=pkl.load(open(path_names+'metrics.pkl','rb'))\n",
    "dataset_map=pkl.load(open(path_names+'datasets.pkl','rb'))\n",
    "metric_meaning_map=pkl.load(open(path_names+'metric_meanings.pkl','rb'))\n",
    "metric_map_rev=dict(zip(metric_map.values(),metric_map.keys()))\n",
    "dataset_map_rev=dict(zip(dataset_map.values(),dataset_map.keys()))\n",
    "system_map=pkl.load(open(path_names+'systems.pkl','rb'))\n",
    "params_opt_map=pkl.load(open(path_names+'params_opt_model.pkl','rb'))\n",
    "params_opt_gene_map=pkl.load(open(path_names+'params_opt_genes.pkl','rb'))\n",
    "param_opt_vals=pkl.load(open(path_names+'optimized_parameter_values.pkl','rb'))\n",
    "cell_type_map=pkl.load(open(path_names+'cell_types.pkl','rb'))\n",
    "\n",
    "# cmap\n",
    "model_cmap=pkl.load(open(path_names+'model_cmap.pkl','rb'))\n",
    "obs_col_cmap=pkl.load(open(path_names+'obs_col_cmap.pkl','rb'))\n",
    "metric_background_cmap=pkl.load(open(path_names+'metric_background_cmap.pkl','rb'))"
   ]
  },
  {
   "cell_type": "code",
   "execution_count": 12,
   "id": "7f94a489-2c6f-4c2b-92ea-8ff0064aeef9",
   "metadata": {},
   "outputs": [
    {
     "name": "stdout",
     "output_type": "stream",
     "text": [
      "Mouse-Human\n",
      "(36, 72)\n",
      "0\n"
     ]
    },
    {
     "data": {
      "text/plain": [
       "model_parsed  param_parsed  genes_parsed\n",
       "CYC           Cycle LW      OTO             12\n",
       "GLUE          Alignment LW  OTO             12\n",
       "              Graph W       OTO             12\n",
       "dtype: int64"
      ]
     },
     "metadata": {},
     "output_type": "display_data"
    },
    {
     "name": "stdout",
     "output_type": "stream",
     "text": [
      "Organoid-Tissue\n",
      "(36, 70)\n",
      "0\n"
     ]
    },
    {
     "data": {
      "text/plain": [
       "model_parsed  param_parsed  genes_parsed\n",
       "CYC           Cycle LW      OTO             12\n",
       "GLUE          Alignment LW  OTO             12\n",
       "              Graph W       OTO             12\n",
       "dtype: int64"
      ]
     },
     "metadata": {},
     "output_type": "display_data"
    },
    {
     "name": "stdout",
     "output_type": "stream",
     "text": [
      "Cell-Nuclei\n",
      "(39, 72)\n",
      "0\n"
     ]
    },
    {
     "data": {
      "text/plain": [
       "model_parsed  param_parsed  genes_parsed\n",
       "CYC           Cycle LW      OTO             12\n",
       "GLUE          Alignment LW  OTO             12\n",
       "              Graph W       OTO             12\n",
       "dtype: int64"
      ]
     },
     "metadata": {},
     "output_type": "display_data"
    },
    {
     "name": "stderr",
     "output_type": "stream",
     "text": [
      "/tmp/ipykernel_662647/3836627330.py:86: FutureWarning: In a future version, object-dtype columns with all-bool values will not be included in reductions with bool_only=True. Explicitly cast to bool dtype instead.\n",
      "  ress=pd.concat(ress)\n"
     ]
    }
   ],
   "source": [
    "# Load data and keep relevant runs\n",
    "ress=[]\n",
    "metrics_data=[]\n",
    "for dataset,dataset_name in dataset_map.items():\n",
    "    print(dataset_name)\n",
    "    path_integration=f'{path_data}eval/{dataset}/integration/'\n",
    "    res=[]\n",
    "    for run in glob.glob(path_integration+'*/'):\n",
    "        if os.path.exists(run+'args.pkl') and \\\n",
    "            os.path.exists(run+'scib_metrics.pkl') and \\\n",
    "            os.path.exists(run+'scib_metrics_data.pkl'):\n",
    "            args=pd.Series(vars(pkl.load(open(run+'args.pkl','rb'))))\n",
    "            if args.params_opt in [\n",
    "                'scglue_rel_gene_weight','scglue_lam_align','z_distance_cycle_weight_std']:\n",
    "                metrics=pd.Series(pkl.load(open(run+'scib_metrics.pkl','rb')))\n",
    "                data=pd.concat([args,metrics])\n",
    "                name=run.split('/')[-2]\n",
    "                data.name=name\n",
    "                res.append(data)\n",
    "    res=pd.concat(res,axis=1).T\n",
    "    print(res.shape)\n",
    "    print(len(metrics_data))\n",
    "    # Parse res table\n",
    "\n",
    "    # Parse params\n",
    "    # Parse params\n",
    "    res['params_opt']=res.params_opt.replace(params_opt_correct_map)\n",
    "    res['param_opt_col']=res.params_opt.replace(param_opt_col_map)\n",
    "    res['param_opt_val']=res.apply(\n",
    "        lambda x: (x[x['param_opt_col']] if not isinstance(x[x['param_opt_col']],dict)\n",
    "                  else x[x['param_opt_col']]['weight_end']) \n",
    "                  if x['param_opt_col'] is not None else 0,axis=1)\n",
    "    # param opt val for plotting - converted to str categ below\n",
    "    res['param_opt_val_str']=res.apply(\n",
    "        lambda x: x[x['param_opt_col']] if x['param_opt_col'] is not None else np.nan,axis=1)\n",
    "    \n",
    "    res['params_opt']=pd.Categorical(res['params_opt'],sorted(res['params_opt'].unique()), True)\n",
    "\n",
    "    # Keep relevant params and name model\n",
    "    params_opt_vals=set(params_opt_map.keys())\n",
    "    res_sub=res.query('params_opt in @params_opt_vals').copy()\n",
    "    res_sub['model']=res_sub.params_opt.replace(params_opt_map).astype(str)   \n",
    "    # Models present in data but have no params opt\n",
    "    nonopt_models=list(\n",
    "        (set(params_opt_map.values()) & set(res_sub['model'].unique()))-set(\n",
    "        [model for models,params_vals in param_opt_vals for model in models]))\n",
    "    # Query: model not opt OR model belongs to one of the models that have opt params\n",
    "    # and if given param is opt then it is within list of param values\n",
    "    res_query=[f'model in {nonopt_models}']\n",
    "    # Models with opt params\n",
    "    for models,params_vals in param_opt_vals:\n",
    "        res_query_sub=[]\n",
    "        # Param value in vals if param was optimised\n",
    "        for param,vals in params_vals:\n",
    "            # For param check if it was opt in data as else there will be no col for it\n",
    "            if param in res_sub.columns:\n",
    "                res_query_sub.append(f'({param} in {vals} & \"{param}\"==param_opt_col)')\n",
    "        # Only add to query models for which any param was opt\n",
    "        if len(res_query_sub)>0:\n",
    "            res_query_sub='(('+' | '.join(res_query_sub)+f') & model in {models})'\n",
    "            res_query.append(res_query_sub)\n",
    "    res_query=' | '.join(res_query)\n",
    "    #print(res_query)\n",
    "    res_sub=res_sub.query(res_query).copy()\n",
    "\n",
    "    # Add pretty model names\n",
    "    res_sub['model_parsed']=pd.Categorical(\n",
    "        values=res_sub['model'].map(model_map),\n",
    "        categories=model_map.values(), ordered=True)\n",
    "    # Add prety param names\n",
    "    res_sub['param_parsed']=pd.Categorical(\n",
    "        values=res_sub['param_opt_col'].map(param_map),\n",
    "        categories=param_map.values(), ordered=True)\n",
    "    # Add gene names\n",
    "    res_sub['genes_parsed']=pd.Categorical(\n",
    "        values=res_sub['params_opt'].map(params_opt_gene_map),\n",
    "         categories=list(dict.fromkeys(params_opt_gene_map.values())), ordered=True)\n",
    "    \n",
    "    display(res_sub.groupby(['model_parsed','param_parsed','genes_parsed'],observed=True).size())\n",
    "    \n",
    "    # Store\n",
    "    res_sub['dataset']=dataset\n",
    "    res_sub['dataset_parsed']=dataset_name\n",
    "    ress.append(res_sub)\n",
    "    \n",
    "ress=pd.concat(ress)\n",
    "ress['dataset_parsed']=pd.Categorical(\n",
    "    values=ress['dataset_parsed'],\n",
    "    categories=list(dataset_map.values()), ordered=True)\n",
    "\n",
    "# plotting param vals\n",
    "ress['param_opt_val_str']=pd.Categorical(\n",
    "    values=ress['param_opt_val_str'].fillna('none').astype(str),\n",
    "    categories=[str(i) for i in \n",
    "                sorted([i for i in ress['param_opt_val_str'].unique() if not np.isnan(i)])\n",
    "               ]+['none'],\n",
    "    ordered=True)"
   ]
  },
  {
   "cell_type": "code",
   "execution_count": 13,
   "id": "80309402-abd8-4c8f-897b-384395962ef3",
   "metadata": {},
   "outputs": [
    {
     "name": "stdout",
     "output_type": "stream",
     "text": [
      "108\n"
     ]
    }
   ],
   "source": [
    "# Load metrics data for retained runs\n",
    "metrics_datas={}\n",
    "for run,dataset in zip(ress.index,ress.dataset):\n",
    "    metrics_data_sub=pkl.load(open(\n",
    "        f'{path_data}eval/{dataset}/integration/{run}/scib_metrics_data.pkl','rb'))\n",
    "    metrics_data_sub['name']=run\n",
    "    metrics_datas[run]=metrics_data_sub\n",
    "print(len(metrics_datas))"
   ]
  },
  {
   "cell_type": "code",
   "execution_count": 21,
   "id": "3d34e3a2-93c6-475c-94ec-4fd84d5df504",
   "metadata": {},
   "outputs": [],
   "source": [
    "# Load ct proportions\n",
    "ct_counts={}\n",
    "for dataset,file,group_key in [\n",
    "    ('pancreas_conditions_MIA_HPAP2','combined_orthologuesHVG.h5ad','cell_type_eval'),\n",
    "    ('retina_adult_organoid','combined_HVG.h5ad','cell_type'),\n",
    "    ('adipose_sc_sn_updated','adiposeHsSAT_sc_sn.h5ad','cluster'),\n",
    "]:\n",
    "    ct_counts[dataset]=sc.read(f'{path_data}{dataset}/{file}', backed='r'\n",
    "                             ).obs.groupby(['system',group_key]).size().\\\n",
    "                            rename('n_cells').reset_index().\\\n",
    "                            rename({group_key:'group'},axis=1)\n",
    "    \n",
    "    gc.collect()"
   ]
  },
  {
   "cell_type": "code",
   "execution_count": 22,
   "id": "f80d5ec4-723b-4ed5-b46b-429f9dec199f",
   "metadata": {},
   "outputs": [
    {
     "data": {
      "text/plain": [
       "Index(['beta', 'alpha', 'immune', 'gamma', 'delta', 'ductal', 'acinar',\n",
       "       'endo. prolif.', 'stellate a.', 'stellate q.', 'endothelial',\n",
       "       'delta+gamma', 'alpha+beta', 'alpha+delta', 'beta+delta', 'beta+gamma',\n",
       "       'schwann'],\n",
       "      dtype='object')"
      ]
     },
     "execution_count": 22,
     "metadata": {},
     "output_type": "execute_result"
    }
   ],
   "source": [
    "dat.columns"
   ]
  },
  {
   "cell_type": "code",
   "execution_count": 23,
   "id": "9d7f301e-c5c2-49c6-8be0-07cec749d21b",
   "metadata": {},
   "outputs": [],
   "source": [
    "# heatmap per dataset\n",
    "for dataset,dataset_name in dataset_map.items():\n",
    "    metric='jaccard_label'\n",
    "    # Dataset data subset\n",
    "    res=ress.query('dataset_parsed==@dataset_name')\n",
    "    metrics_data=[metrics_datas[run] for run in res.index]\n",
    "\n",
    "    # metric data\n",
    "    dat={}\n",
    "    for metrics_res in metrics_data:\n",
    "        dat[metrics_res['name']]=metrics_res[metric]\n",
    "    dat=pd.DataFrame(dat).T\n",
    "    # Run order applied to cell metric data and batch score\n",
    "    run_order=res.sort_values(['model_parsed','param_parsed','param_opt_val','ilisi_system']).index\n",
    "    dat=dat.loc[run_order,:]\n",
    "    batch_score=res.loc[run_order,'ilisi_system']\n",
    "    params_opt=res.loc[run_order,'params_opt']\n",
    "    params_opt_parsed=dat.index.map(\n",
    "        lambda x:  f\"{res.at[x,'model_parsed']}: {res.at[x,'param_parsed']}\")\n",
    "    params_opt_colors=[model_cmap[i.split(':')[0]] for i in list(dict.fromkeys(params_opt_parsed))]\n",
    "    run_names=dat.index.map(lambda x: res.at[x,'param_opt_val_str'])\n",
    "    # Max scale metric data by ct\n",
    "    dat=dat/np.clip(dat.max(axis=0),a_min=1e-3, a_max=None)\n",
    "\n",
    "    # Cell type prportions and max N cells per system\n",
    "    ct_prop=ct_counts[dataset_map_rev[dataset_name]].groupby('group')['n_cells'].apply(\n",
    "                lambda x: x.min()/x.max())\n",
    "    ct_max=np.log10(ct_counts[dataset_map_rev[dataset_name]].groupby('group')['n_cells'].max())\n",
    "    # Sort cell types by cell proportion and then max\n",
    "    ct_order=pd.concat([ct_prop.rename('prop'),ct_max.rename('max')],axis=1\n",
    "                      ).sort_values(['prop','max']).index\n",
    "    ct_prop=ct_prop.loc[ct_order]\n",
    "    ct_max=ct_max.loc[ct_order]\n",
    "    dat=dat.loc[:,ct_prop.index]\n",
    "    # Now replace cell types after matching has ben done on non-parsed cell type names\n",
    "    dat.rename(cell_type_map[dataset],axis=1,inplace=True)\n",
    "\n",
    "\n",
    "    # Add data to R\n",
    "    ro.globalenv['x']=dat\n",
    "    ro.globalenv['rownames']=list(run_names)\n",
    "    ro.globalenv['row_blocks']=list(params_opt)\n",
    "    ro.globalenv['row_blocks_order']=list(dict.fromkeys(params_opt))\n",
    "    ro.globalenv['row_blocks_parsed_order']=list(dict.fromkeys(params_opt_parsed))\n",
    "    ro.globalenv['row_blocks_colors']=params_opt_colors\n",
    "    ro.globalenv['batch_score']=list(batch_score)\n",
    "    ro.globalenv['ct_prop']=list(ct_prop)\n",
    "    ro.globalenv['ct_max']=list(ct_max)\n",
    "    batch_score_name=metric_map['ilisi_system']\n",
    "    ro.globalenv['batch_score_name']=batch_score_name\n",
    "    ct_prop_name='Cells\\nsystem\\nmin/max'\n",
    "    ro.globalenv['ct_prop_name']=ct_prop_name\n",
    "    ct_max_name='log10\\nN cells\\nsystem\\nmax'\n",
    "    ro.globalenv['ct_max_name']=ct_max_name\n",
    "    ro.globalenv['fig_fn']=path_fig+f'adversarial_ctmix-jaccard_ct_{dataset}-heatmap.pdf'\n",
    "\n",
    "\n",
    "    r_command=f\"\"\"\n",
    "    # Process data for R\n",
    "    rownames<-unlist(rownames)\n",
    "    row_blocks<-unlist(row_blocks)\n",
    "    row_blocks_order<-unlist(row_blocks_order)\n",
    "    row_blocks_parsed_order<-unlist(row_blocks_parsed_order)\n",
    "    row_blocks_colors<-unlist(row_blocks_colors)\n",
    "    batch_score<-unlist(batch_score)\n",
    "    ct_prop<-as.vector(unlist(ct_prop))\n",
    "    ct_max<-as.vector(unlist(ct_max))\n",
    "    batch_score_name<-unlist(batch_score_name)[1]\n",
    "\n",
    "    # Param opt rowsplit and batch score anno\n",
    "    row_anno = rowAnnotation(\n",
    "        params_opt = anno_block(\n",
    "            gp = gpar(fill = row_blocks_colors, col='white'),\n",
    "            labels = row_blocks_parsed_order, \n",
    "            labels_gp = gpar(col = \"black\", fontsize=12)\n",
    "        ),\n",
    "        {batch_score_name}=batch_score,\n",
    "        annotation_legend_param =list(\n",
    "            {batch_score_name}=list(\n",
    "                title=paste0(batch_score_name,'\\n'),\n",
    "                title_gp=gpar(fontsize=12),\n",
    "                labels_gp=gpar(fontsize=12)\n",
    "            )\n",
    "        ),\n",
    "        col = list(\n",
    "            {batch_score_name} = colorRamp2(\n",
    "                seq(min(batch_score), max(batch_score), \n",
    "                by = (max(batch_score)-min(batch_score))/4), \n",
    "                cividis(5))\n",
    "        ),\n",
    "        annotation_name_gp = gpar(fontsize=12),\n",
    "        annotation_height = list(\n",
    "            {batch_score_name}=unit(5, \"mm\")\n",
    "        )\n",
    "    )\n",
    "    row_splits<-factor(row_blocks,levels =row_blocks_order)\n",
    "    \n",
    "    # Cell type anno\n",
    "    col_anno=columnAnnotation(\n",
    "        ct_prop=ct_prop,\n",
    "        ct_max=ct_max,\n",
    "        col = list(\n",
    "            ct_max = colorRamp2(\n",
    "                seq(min(ct_max), max(ct_max), \n",
    "                by = (max(ct_max)-min(ct_max))/4), \n",
    "                mako(5)),\n",
    "            ct_prop = colorRamp2(\n",
    "                seq(min(ct_prop), max(ct_prop), \n",
    "                by = (max(ct_prop)-min(ct_prop))/4), \n",
    "                magma(5))\n",
    "        ),\n",
    "        annotation_legend_param =list(\n",
    "            ct_prop=list(\n",
    "                title=paste0(ct_prop_name,'\\n'),\n",
    "                title_gp=gpar(fontsize=12),\n",
    "                labels_gp=gpar(fontsize=12)\n",
    "            ),\n",
    "            ct_max=list(\n",
    "                title=paste0(ct_max_name,'\\n'),\n",
    "                title_gp=gpar(fontsize=12),\n",
    "                labels_gp=gpar(fontsize=12)\n",
    "            )\n",
    "        ),\n",
    "        annotation_label=c( \"System cell ratio\", \"N cells\"),\n",
    "        annotation_name_gp = gpar(fontsize=12),\n",
    "        height = 2*unit(5, \"mm\"),width=ncol(x)*unit(5,\"mm\")\n",
    "    )\n",
    "\n",
    "    h<-Heatmap(x,col=viridis(256),\n",
    "           row_labels = rownames,\n",
    "           cluster_columns = FALSE, cluster_rows = FALSE,\n",
    "           show_column_names = TRUE, show_row_names = TRUE,\n",
    "           row_title =\"Parameter value\",\n",
    "           bottom_annotation=col_anno,\n",
    "           left_annotation=row_anno,\n",
    "           row_split =row_splits,\n",
    "           column_title = 'Cell type',\n",
    "           row_names_side = \"left\",\n",
    "           column_names_side = \"bottom\",\n",
    "           column_title_side=\"bottom\",\n",
    "           heatmap_legend_param = list( title = \"Relative\\nJaccard\\nindex\\n\", \n",
    "                                       title_gp=gpar( fontsize = 12),\n",
    "                                       labels_gp = gpar( fontsize = 12)\n",
    "                                       ),\n",
    "           row_names_gp=gpar(fontsize = 12),  \n",
    "           column_names_gp=gpar( fontsize = 12), \n",
    "           row_title_gp=gpar(fontsize = 12),\n",
    "           column_title_gp=gpar(fontsize = 12),\n",
    "           row_gap = unit(1, \"mm\"),\n",
    "           width = ncol(x)*unit(5, \"mm\"),height = nrow(x)*unit(5, \"mm\"),\n",
    "           show_row_dend = FALSE, \n",
    "           )\n",
    "    \n",
    "    # Save\n",
    "    pdf(file=fig_fn, width=10, height=15)\n",
    "    draw(h)\n",
    "    dev.off()\n",
    "\n",
    "    NULL\n",
    "    \"\"\"\n",
    "\n",
    "    _=ro.r(r_command)\n",
    "\n"
   ]
  },
  {
   "cell_type": "code",
   "execution_count": 24,
   "id": "e4bd359d-5cf3-4bda-8e51-8bab59df849c",
   "metadata": {},
   "outputs": [
    {
     "data": {
      "image/png": "[encoded data removed]",
      "text/plain": [
       "<IPython.core.display.Image object>"
      ]
     },
     "metadata": {},
     "output_type": "display_data"
    }
   ],
   "source": [
    "%%R  -w 600 -h 800\n",
    "# Draw out one example\n",
    "draw(h)"
   ]
  },
  {
   "cell_type": "code",
   "execution_count": null,
   "id": "f9e3ee36-c360-4701-b9db-114e8a2d96d7",
   "metadata": {},
   "outputs": [],
   "source": []
  }
 ],
 "metadata": {
  "jupytext": {
   "formats": "ipynb,py:percent"
  },
  "kernelspec": {
   "display_name": "csi",
   "language": "python",
   "name": "csi"
  },
  "language_info": {
   "codemirror_mode": {
    "name": "ipython",
    "version": 3
   },
   "file_extension": ".py",
   "mimetype": "text/x-python",
   "name": "python",
   "nbconvert_exporter": "python",
   "pygments_lexer": "ipython3",
   "version": "3.9.16"
  }
 },
 "nbformat": 4,
 "nbformat_minor": 5
}
