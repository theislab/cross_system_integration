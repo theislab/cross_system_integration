{
 "cells": [
  {
   "cell_type": "code",
   "execution_count": null,
   "id": "225ea04c",
   "metadata": {},
   "outputs": [],
   "source": [
    "import scanpy as sc\n",
    "import pickle as pkl\n",
    "import pandas as pd\n",
    "import numpy as np\n",
    "# Make random number for seed before scvi import sets seed to 0\n",
    "seed=np.random.randint(0,1000000)\n",
    "import argparse\n",
    "import os\n",
    "import string\n",
    "import subprocess\n",
    "\n",
    "from matplotlib.pyplot import rcParams\n",
    "import matplotlib.pyplot as plt\n",
    "import seaborn as sb\n",
    "\n",
    "import scvi\n",
    "import pytorch_lightning as pl\n",
    "\n",
    "# Otherwise the seed remains constant\n",
    "from scvi._settings import ScviConfig\n",
    "config=ScviConfig()\n",
    "config.seed=seed"
   ]
  },
  {
   "cell_type": "code",
   "execution_count": 19,
   "id": "920d66af",
   "metadata": {
    "lines_to_next_cell": 0
   },
   "outputs": [
    {
     "data": {
      "text/plain": [
       "_StoreAction(option_strings=['-t', '--testing'], dest='testing', nargs=None, const=None, default='0', type=<function intstr_to_bool at 0x14ee603269d0>, choices=None, required=False, help='Testing mode', metavar=None)"
      ]
     },
     "execution_count": 19,
     "metadata": {},
     "output_type": "execute_result"
    }
   ],
   "source": [
    "parser = argparse.ArgumentParser()\n",
    "def intstr_to_bool(x):\n",
    "    return bool(int(x))\n",
    "def str_to_float_zeronone(x):\n",
    "    if x is None or x==\"0\":\n",
    "        return None\n",
    "    else:\n",
    "        return float(x)\n",
    "parser.add_argument('-n', '--name', required=False, type=str, default=None,\n",
    "                    help='name of replicate, if unspecified set to rSEED if seed is given '+\\\n",
    "                    'and else to blank string')\n",
    "parser.add_argument('-s', '--seed', required=False, type=int, default=None,\n",
    "                    help='random seed, if none it is randomly generated')\n",
    "parser.add_argument('-po', '--params_opt', required=False, type=str, default='',\n",
    "                    help='name of optimized params/test purpose')\n",
    "parser.add_argument('-pa', '--path_adata', required=True, type=str,\n",
    "                    help='full path to adata obj')\n",
    "parser.add_argument('-ps', '--path_save', required=True, type=str,\n",
    "                    help='directory path for saving, creates subdir within it')\n",
    "parser.add_argument('-sk', '--system_key', required=True, type=str,\n",
    "                    help='obs col with system info')\n",
    "parser.add_argument('-gk', '--group_key', required=True, type=str,\n",
    "                    help='obs col with group info')\n",
    "parser.add_argument('-bk', '--batch_key', required=True, type=str,\n",
    "                    help='obs col with batch info')\n",
    "parser.add_argument('-me', '--max_epochs', required=False, type=int,default=50,\n",
    "                    help='max_epochs for training')\n",
    "parser.add_argument('-uskw', '--use_n_steps_kl_warmup', \n",
    "                    required=False, type=intstr_to_bool,  default='0',\n",
    "                    help='use suggested n_steps_kl_warmup instead of default n_epochs_kl_warmup')\n",
    "parser.add_argument('-edp', '--epochs_detail_plot', required=False, type=int, default=20,\n",
    "                    help='Loss subplot from this epoch on')\n",
    "parser.add_argument('-kw', '--kl_weight', required=False, type=float, default=1.0,\n",
    "                    help='max_kl_weight for trainingsplan')\n",
    "parser.add_argument('-nce', '--n_cells_eval', required=False, type=int, default=-1,  \n",
    "                    help='Max cells to be used for eval, if -1 use all cells. '+\\\n",
    "                   'For cell subsetting seed 0 is always used to be reproducible accros '+\\\n",
    "                   'runs with different seeds.')\n",
    "\n",
    "parser.add_argument('-t', '--testing', required=False, type=intstr_to_bool,default='0',\n",
    "                    help='Testing mode')"
   ]
  },
  {
   "cell_type": "code",
   "execution_count": 20,
   "id": "e7ff4e0b",
   "metadata": {},
   "outputs": [
    {
     "name": "stdout",
     "output_type": "stream",
     "text": [
      "Namespace(name=None, seed=1, params_opt='', path_adata='/om2/user/khrovati/data/cross_species_prediction/pancreas_healthy/combined_orthologuesHVG2000.h5ad', path_save='/om2/user/khrovati/data/cross_system_integration/eval/test/integration/', system_key='system', group_key='cell_type', batch_key='sample', max_epochs=2, use_n_steps_kl_warmup=False, epochs_detail_plot=0, kl_weight=1.0, n_cells_eval=1000, testing=True)\n"
     ]
    }
   ],
   "source": [
    "# Set args for manual testing\n",
    "if False:\n",
    "    args= parser.parse_args(args=[\n",
    "        '-pa','/om2/user/khrovati/data/cross_species_prediction/pancreas_healthy/combined_orthologuesHVG2000.h5ad',\n",
    "        #'-fmi','/om2/user/khrovati/data/cross_system_integration/eval/test/integration/example/moransiGenes_mock.pkl',\n",
    "        '-ps','/om2/user/khrovati/data/cross_system_integration/eval/test/integration/',\n",
    "        '-sk','system',\n",
    "        '-gk','cell_type',\n",
    "        '-bk','sample',\n",
    "        '-me','2',\n",
    "        '-edp','0',\n",
    "        '-uskw','0',\n",
    "        \n",
    "        '-s','1',\n",
    "                \n",
    "        '-nce','1000',\n",
    "        \n",
    "        '-t','1'\n",
    "    ])\n",
    "# Read command line args\n",
    "else:\n",
    "    args, args_unknown = parser.parse_known_args()\n",
    "    \n",
    "print(args)\n",
    "\n",
    "TESTING=args.testing\n",
    "\n",
    "if args.name is None:\n",
    "    if args.seed is not None:\n",
    "        args.name='r'+str(args.seed)"
   ]
  },
  {
   "cell_type": "code",
   "execution_count": 6,
   "id": "d5da5b9f",
   "metadata": {},
   "outputs": [
    {
     "name": "stdout",
     "output_type": "stream",
     "text": [
      "PATH_SAVE= /om2/user/khrovati/data/cross_system_integration/eval/test/integration/scvi_CSUgZRhi-TEST/\n"
     ]
    }
   ],
   "source": [
    "# Make folder for saving\n",
    "path_save=args.path_save+'scvi'+\\\n",
    "    '_'+''.join(np.random.permutation(list(string.ascii_letters)+list(string.digits))[:8])+\\\n",
    "    ('-TEST' if TESTING else '')+\\\n",
    "    os.sep\n",
    "\n",
    "os.mkdir(path_save)\n",
    "print(\"PATH_SAVE=\",path_save)"
   ]
  },
  {
   "cell_type": "code",
   "execution_count": 7,
   "id": "a6a20505",
   "metadata": {},
   "outputs": [
    {
     "name": "stderr",
     "output_type": "stream",
     "text": [
      "Global seed set to 1\n"
     ]
    }
   ],
   "source": [
    "# Set seed for eval\n",
    "# Set only here below as need randomness for generation of out directory name (above)\n",
    "if args.seed is not None:\n",
    "    config.seed=args.seed"
   ]
  },
  {
   "cell_type": "code",
   "execution_count": 8,
   "id": "86cc0dd2",
   "metadata": {},
   "outputs": [],
   "source": [
    "# Save args\n",
    "pkl.dump(args,open(path_save+'args.pkl','wb'))"
   ]
  },
  {
   "cell_type": "markdown",
   "id": "d238321f",
   "metadata": {},
   "source": [
    "## Integration"
   ]
  },
  {
   "cell_type": "markdown",
   "id": "16eb6bf2",
   "metadata": {},
   "source": [
    "### Prepare data"
   ]
  },
  {
   "cell_type": "code",
   "execution_count": 9,
   "id": "b0defa44",
   "metadata": {},
   "outputs": [],
   "source": [
    "# Load data\n",
    "adata=sc.read(args.path_adata)"
   ]
  },
  {
   "cell_type": "code",
   "execution_count": 10,
   "id": "0ec4302b",
   "metadata": {},
   "outputs": [
    {
     "name": "stdout",
     "output_type": "stream",
     "text": [
      "(5000, 1060)\n"
     ]
    }
   ],
   "source": [
    "if TESTING:\n",
    "    # Make data smaller if testing the script\n",
    "    random_idx=np.random.permutation(adata.obs_names)[:5000]\n",
    "    adata=adata[random_idx,:].copy()\n",
    "    print(adata.shape)"
   ]
  },
  {
   "cell_type": "markdown",
   "id": "e70b37a4",
   "metadata": {},
   "source": [
    "### Training"
   ]
  },
  {
   "cell_type": "code",
   "execution_count": 11,
   "id": "1b4ecf58",
   "metadata": {},
   "outputs": [
    {
     "name": "stdout",
     "output_type": "stream",
     "text": [
      "Train\n"
     ]
    }
   ],
   "source": [
    "print('Train')"
   ]
  },
  {
   "cell_type": "code",
   "execution_count": 21,
   "id": "4c6a9104",
   "metadata": {},
   "outputs": [],
   "source": [
    "# Setup adata\n",
    "adata_training = adata\n",
    "scvi.model.SCVI.setup_anndata(\n",
    "    adata_training, \n",
    "    layer=\"counts\", \n",
    "    batch_key=args.system_key,\n",
    "    categorical_covariate_keys=[args.batch_key])"
   ]
  },
  {
   "cell_type": "code",
   "execution_count": 22,
   "id": "c671c199",
   "metadata": {},
   "outputs": [
    {
     "name": "stderr",
     "output_type": "stream",
     "text": [
      "/om2/user/khrovati/miniconda/envs/csi/lib/python3.9/site-packages/scvi/model/base/_training_mixin.py:60: UserWarning: max_epochs=3 is less than n_epochs_kl_warmup=400. The max_kl_weight will not be reached during training.\n",
      "  warnings.warn(\n",
      "GPU available: False, used: False\n",
      "TPU available: False, using: 0 TPU cores\n",
      "IPU available: False, using: 0 IPUs\n",
      "HPU available: False, using: 0 HPUs\n"
     ]
    },
    {
     "name": "stdout",
     "output_type": "stream",
     "text": [
      "Epoch 3/3: 100%|██████████| 3/3 [00:16<00:00,  5.59s/it, loss=410, v_num=1]\n"
     ]
    }
   ],
   "source": [
    "model = scvi.model.SCVI(adata_training, \n",
    "                        n_layers=2, n_hidden=256, n_latent=15, \n",
    "                        gene_likelihood=\"nb\")\n",
    "\n",
    "max_epochs=args.max_epochs if not TESTING else 3\n",
    "model.train(\n",
    "    max_epochs = max_epochs,\n",
    "    # Uses n_steps_kl_warmup (128*5000/400) if n_epochs_kl_warmup is not set\n",
    "    plan_kwargs=dict(\n",
    "        n_epochs_kl_warmup = 400 if not args.use_n_steps_kl_warmup else None,\n",
    "        n_steps_kl_warmup = 1600,\n",
    "        max_kl_weight=args.kl_weight,\n",
    "    ),\n",
    "    log_every_n_steps=1,\n",
    "    check_val_every_n_epoch=1,\n",
    "    callbacks=[pl.callbacks.LearningRateMonitor(logging_interval='epoch')] \n",
    ")"
   ]
  },
  {
   "cell_type": "markdown",
   "id": "a7b27541",
   "metadata": {},
   "source": [
    "### Eval"
   ]
  },
  {
   "cell_type": "markdown",
   "id": "e0468cb1",
   "metadata": {},
   "source": [
    "#### Losses"
   ]
  },
  {
   "cell_type": "code",
   "execution_count": 12,
   "id": "aacaea51",
   "metadata": {},
   "outputs": [
    {
     "name": "stdout",
     "output_type": "stream",
     "text": [
      "Plot losses\n"
     ]
    }
   ],
   "source": [
    "print('Plot losses')"
   ]
  },
  {
   "cell_type": "code",
   "execution_count": 13,
   "id": "793d0cb3",
   "metadata": {},
   "outputs": [],
   "source": [
    "# Save losses\n",
    "pkl.dump(model.trainer.logger.history,open(path_save+'losses.pkl','wb'))"
   ]
  },
  {
   "cell_type": "code",
   "execution_count": 14,
   "id": "c056a0b5",
   "metadata": {
    "scrolled": true
   },
   "outputs": [
    {
     "data": {
      "image/png": "[encoded data removed]",
      "text/plain": [
       "<Figure size 1512x288 with 14 Axes>"
      ]
     },
     "metadata": {
      "needs_background": "light"
     },
     "output_type": "display_data"
    }
   ],
   "source": [
    "# Plot all loses\n",
    "steps_detail_plot = args.epochs_detail_plot*int(\n",
    "    model.trainer.logger.history['validation_loss'].shape[0]/max_epochs)\n",
    "detail_plot= steps_detail_plot\n",
    "losses=[k for k in model.trainer.logger.history.keys() \n",
    "        if #'_step' not in k and '_epoch' not in k and \n",
    "        ('validation' not in k or 'eval' in k)]\n",
    "fig,axs=plt.subplots(2,len(losses),figsize=(len(losses)*3,4))\n",
    "for ax_i,l_train in enumerate(losses):\n",
    "    if 'lr-' not in l_train and '_eval' not in l_train and 'train_' not in l_train:\n",
    "        l_val=l_train.replace('_train','_validation')\n",
    "        l_name=l_train.replace('_train','')\n",
    "        # Change idx of epochs to start with 1 so that below adjustment when \n",
    "        # train on step which only works for val leads to appropriate multiplication\n",
    "        l_val_values=model.trainer.logger.history[l_val].copy()\n",
    "        l_val_values.index=l_val_values.index+1\n",
    "        l_train_values=model.trainer.logger.history[l_train].copy()\n",
    "        l_train_values.index=l_train_values.index+1\n",
    "        # This happens if log on step as currently this works only for val loss\n",
    "        if l_train_values.shape[0]<l_val_values.shape[0]:\n",
    "            l_train_values.index=\\\n",
    "                l_train_values.index*int(l_val_values.shape[0]/l_train_values.shape[0])\n",
    "        for l_values,c,alpha,dp in [\n",
    "            # train loss logged on epoch in either case now\n",
    "            (l_train_values,'tab:blue',1,args.epochs_detail_plot),\n",
    "            (l_val_values,'tab:orange',0.5, detail_plot)]:\n",
    "            axs[0,ax_i].plot( l_values.index,l_values.values.ravel(),c=c,alpha=alpha)\n",
    "            axs[0,ax_i].set_title(l_name)\n",
    "            axs[1,ax_i].plot(l_values.index[dp:],\n",
    "                             l_values.values.ravel()[dp:],c=c,alpha=alpha)\n",
    "    else:\n",
    "        l_values=model.trainer.logger.history[l_train].copy()\n",
    "        l_values.index=l_values.index+1\n",
    "        axs[0,ax_i].plot(l_values.index,l_values.values.ravel())\n",
    "        axs[0,ax_i].set_title(l_train.replace('_validation_eval',''))\n",
    "        # Lr has index of steps but logged number of epochs\n",
    "        dp= args.epochs_detail_plot if 'lr-' in l_train else detail_plot\n",
    "        axs[1,ax_i].plot(l_values.index[dp:],l_values.values.ravel()[dp:])\n",
    "        if 'lr' in l_train:\n",
    "            axs[0,ax_i].set_yscale('log')\n",
    "            axs[1,ax_i].set_yscale('log')\n",
    "fig.tight_layout()\n",
    "plt.savefig(path_save+'losses.png',dpi=300,bbox_inches='tight')"
   ]
  },
  {
   "cell_type": "markdown",
   "id": "547f2977",
   "metadata": {
    "tags": []
   },
   "source": [
    "#### Embedding"
   ]
  },
  {
   "cell_type": "code",
   "execution_count": 1,
   "id": "5a3e7394-21df-4a92-bc5a-9390fc3654e7",
   "metadata": {},
   "outputs": [
    {
     "name": "stdout",
     "output_type": "stream",
     "text": [
      "Get embedding\n"
     ]
    }
   ],
   "source": [
    "print('Get embedding')"
   ]
  },
  {
   "cell_type": "code",
   "execution_count": null,
   "id": "34c66e23-eb3b-49a5-8ebd-08d2a73e9c18",
   "metadata": {},
   "outputs": [],
   "source": [
    "# Compute and save whole embedding\n",
    "if args.n_cells_eval!=-1:\n",
    "    embed_full = model.get_latent_representation(\n",
    "        adata=adata_training,\n",
    "        indices=None,\n",
    "        batch_size=None, )\n",
    "    embed_full=sc.AnnData(embed_full,obs=adata_training.obs)\n",
    "    # Make system categorical for eval as below\n",
    "    embed_full.obs[args.system_key]=embed_full.obs[args.system_key].astype(str)\n",
    "    # Save full embed\n",
    "    embed_full.write(path_save+'embed_full.h5ad')\n",
    "    del embed_full"
   ]
  },
  {
   "cell_type": "code",
   "execution_count": 16,
   "id": "bdffb2af",
   "metadata": {},
   "outputs": [
    {
     "name": "stdout",
     "output_type": "stream",
     "text": [
      "N cells for eval: 1000\n",
      "\u001b[34mINFO    \u001b[0m Received view of anndata, making copy.                                              \n",
      "\u001b[34mINFO    \u001b[0m Input AnnData not setup with scvi-tools. attempting to transfer AnnData setup       \n"
     ]
    }
   ],
   "source": [
    "# Compute embedding\n",
    "cells_eval=adata_training.obs_names if args.n_cells_eval==-1 else \\\n",
    "    np.random.RandomState(seed=0).permutation(adata_training.obs_names)[:args.n_cells_eval]\n",
    "print('N cells for eval:',cells_eval.shape[0])\n",
    "embed = model.get_latent_representation(\n",
    "    adata=adata_training[cells_eval,:],\n",
    "    indices=None,\n",
    "    batch_size=None, )\n",
    "embed=sc.AnnData(embed,obs=adata_training[cells_eval,:].obs)\n",
    "# Make system categorical for metrics and plotting\n",
    "embed.obs[args.system_key]=embed.obs[args.system_key].astype(str)\n",
    "# Save embed\n",
    "embed.write(path_save+'embed.h5ad')\n",
    "del embed"
   ]
  },
  {
   "cell_type": "code",
   "execution_count": null,
   "id": "fe367e75-120c-4779-a6b0-615d758bc1ef",
   "metadata": {},
   "outputs": [],
   "source": [
    "del adata\n",
    "del adata_training"
   ]
  },
  {
   "cell_type": "markdown",
   "id": "78bcbcf9",
   "metadata": {},
   "source": [
    "# End"
   ]
  },
  {
   "cell_type": "code",
   "execution_count": 27,
   "id": "ac1e1a95",
   "metadata": {},
   "outputs": [
    {
     "name": "stdout",
     "output_type": "stream",
     "text": [
      "Finished!\n"
     ]
    }
   ],
   "source": [
    "print('Finished integration!')"
   ]
  },
  {
   "cell_type": "code",
   "execution_count": null,
   "id": "9a08db74",
   "metadata": {},
   "outputs": [],
   "source": []
  }
 ],
 "metadata": {
  "jupytext": {
   "formats": "ipynb,py:percent"
  },
  "kernelspec": {
   "display_name": "csi",
   "language": "python",
   "name": "csi"
  },
  "language_info": {
   "codemirror_mode": {
    "name": "ipython",
    "version": 3
   },
   "file_extension": ".py",
   "mimetype": "text/x-python",
   "name": "python",
   "nbconvert_exporter": "python",
   "pygments_lexer": "ipython3",
   "version": "3.9.16"
  }
 },
 "nbformat": 4,
 "nbformat_minor": 5
}
