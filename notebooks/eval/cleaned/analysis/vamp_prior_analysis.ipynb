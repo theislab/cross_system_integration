{
 "cells": [
  {
   "cell_type": "code",
   "execution_count": null,
   "id": "cc43d41f-bab9-4594-b852-12a613ebac02",
   "metadata": {},
   "outputs": [],
   "source": [
    "%load_ext autoreload\n",
    "%autoreload 2"
   ]
  },
  {
   "cell_type": "code",
   "execution_count": null,
   "id": "7235a0be",
   "metadata": {},
   "outputs": [],
   "source": [
    "import os\n",
    "import sys\n",
    "import argparse\n",
    "\n",
    "import anndata as ad\n",
    "import scanpy as sc\n",
    "import pickle as pkl\n",
    "import pandas as pd\n",
    "from scipy.sparse import csr_matrix, find\n",
    "import numpy as np\n",
    "from sklearn.preprocessing import minmax_scale\n",
    "from scipy.stats import entropy\n",
    "from sklearn.cluster import MiniBatchKMeans\n",
    "\n",
    "import gc\n",
    "\n",
    "from matplotlib.pyplot import rcParams\n",
    "import matplotlib.pyplot as plt\n",
    "import seaborn as sns"
   ]
  },
  {
   "cell_type": "code",
   "execution_count": null,
   "id": "6ba64ef8",
   "metadata": {},
   "outputs": [],
   "source": [
    "import torch\n",
    "from cross_system_integration.model._xxjointmodel import XXJointModel\n",
    "from pytorch_lightning.callbacks.base import Callback"
   ]
  },
  {
   "cell_type": "markdown",
   "id": "0c9eda90-b479-417d-b6cd-00b2df29e8b6",
   "metadata": {},
   "source": [
    "## Config & utils"
   ]
  },
  {
   "cell_type": "code",
   "execution_count": null,
   "id": "34e3d919-ba61-4eea-8565-9ff06e77fd5b",
   "metadata": {},
   "outputs": [],
   "source": [
    "SYSTEM_KEY = 'system'\n",
    "BATCH_KEYS = ['batch']\n",
    "CT_KEY = 'cell_type_eval'"
   ]
  },
  {
   "cell_type": "code",
   "execution_count": null,
   "id": "b8241667-8dc2-41ce-8e5d-94dc80e80920",
   "metadata": {},
   "outputs": [],
   "source": [
    "parser = argparse.ArgumentParser()\n",
    "parser.add_argument('-e', '--max-epochs', type=int, default=50)\n",
    "parser.add_argument('-n', '--n-priors', type=int, default=100)\n",
    "parser.add_argument('-m', '--n-cell_plot', type=int, default=None)\n",
    "parser.add_argument('-f', '--fixed-priors', action='store_true')\n",
    "parser.add_argument('-i', '--init-method', default='default', choices=['default', 'random', 'system_0', 'system_1', 'most_balanced'])\n",
    "\n",
    "if hasattr(sys, 'ps1'):\n",
    "    args = parser.parse_args([\n",
    "        '-e', '50',\n",
    "        '-n', '10',\n",
    "        # '-m', '10000',\n",
    "        # '-f',\n",
    "        '-i', 'system_0',\n",
    "    ])\n",
    "else:\n",
    "    args = parser.parse_args()\n",
    "print(args)"
   ]
  },
  {
   "cell_type": "code",
   "execution_count": null,
   "id": "cb1b8fea-2c3b-4907-860c-088bdcb77a9d",
   "metadata": {},
   "outputs": [],
   "source": [
    "MAX_EPOCHS = args.max_epochs\n",
    "TRAINABLE_PRIORS = not args.fixed_priors\n",
    "N_PRIOR_COMPONENTS = args.n_priors\n",
    "N_SAMPLES_TO_PLOT = args.n_cell_plot\n",
    "INIT_METHOD = args.init_method"
   ]
  },
  {
   "cell_type": "code",
   "execution_count": null,
   "id": "1f1b9e6b",
   "metadata": {},
   "outputs": [],
   "source": [
    "path_data = os.path.expanduser(\"~/data/cs_integration/combined_orthologuesHVG.h5ad\")\n",
    "output_filename = os.path.expanduser(f\"~/io/cs_integration/vamp_testing_pancreas_combined_orthologuesHVG_n_prior_{N_PRIOR_COMPONENTS}_trainable_prior_{TRAINABLE_PRIORS}_init_{INIT_METHOD}\")\n",
    "sc.settings.figdir = output_filename"
   ]
  },
  {
   "cell_type": "code",
   "execution_count": null,
   "id": "9b68954c-a2f6-47e3-9fcd-326b4b41daa1",
   "metadata": {},
   "outputs": [],
   "source": [
    "print(f\"Output {'already exists' if os.path.exists(output_filename) else 'does not exist'}\")"
   ]
  },
  {
   "cell_type": "markdown",
   "id": "8ee93b5f-3955-44cf-9b20-e15eb1c44e80",
   "metadata": {},
   "source": [
    "## Some Utils"
   ]
  },
  {
   "cell_type": "code",
   "execution_count": null,
   "id": "cb185d50-ef77-4c73-a19c-be67b613afbf",
   "metadata": {},
   "outputs": [],
   "source": [
    "class PriorInspectionCallback(Callback):\n",
    "    def __init__(self):\n",
    "        super().__init__()\n",
    "        self.prior_history = []\n",
    "\n",
    "    def _log_priors(self, trainer, pl_module):\n",
    "        self.prior_history.append(tuple([\n",
    "            pl_module.module.prior.u.detach().cpu().numpy(),\n",
    "            pl_module.module.prior.u_cov.detach().cpu().numpy()\n",
    "        ]))\n",
    "    \n",
    "    def on_train_start(self, trainer, pl_module):\n",
    "        self._log_priors(trainer, pl_module)\n",
    "\n",
    "    def on_train_epoch_end(self, trainer, pl_module):\n",
    "        self._log_priors(trainer, pl_module)"
   ]
  },
  {
   "cell_type": "code",
   "execution_count": null,
   "id": "4684b618-6d1a-4f2c-88ac-e654ab04997f",
   "metadata": {},
   "outputs": [],
   "source": [
    "def random_init_algorithm(adata, n_priors):\n",
    "    return np.random.choice(np.arange(adata.n_obs), size=n_priors, replace=False)\n",
    "\n",
    "\n",
    "def random_from_system_i(adata, n_priors, i=0):\n",
    "    obs = adata.obs.copy()\n",
    "    obs['uid'] = np.arange(obs.shape[0])\n",
    "    return obs[obs[SYSTEM_KEY] == i]['uid'].sample(N_PRIOR_COMPONENTS, replace=False).to_numpy()\n",
    "\n",
    "\n",
    "def most_balanced_algorithm(adata, n_priors):\n",
    "    system_keys = adata.obs[SYSTEM_KEY].unique()\n",
    "    assert len(system_keys) == 2\n",
    "    assert 0 in system_keys\n",
    "    assert 1 in system_keys\n",
    "\n",
    "    obs = adata.obs.copy()\n",
    "    obs['uid'] = np.arange(obs.shape[0])\n",
    "\n",
    "    return np.where(\n",
    "        np.arange(N_PRIOR_COMPONENTS) % 2 == 0,\n",
    "        obs[obs[SYSTEM_KEY] == 0]['uid'].sample(N_PRIOR_COMPONENTS, replace=False).to_numpy(),\n",
    "        obs[obs[SYSTEM_KEY] == 1]['uid'].sample(N_PRIOR_COMPONENTS, replace=False).to_numpy(),\n",
    "    )\n",
    "    \n",
    "\n",
    "INIT_ALGORITHMS = {\n",
    "    'default': lambda adata, n_priors: None,\n",
    "    'random': random_init_algorithm,\n",
    "    'system_0': lambda adata, n_priors: random_from_system_i(adata, n_priors, 0),\n",
    "    'system_1': lambda adata, n_priors: random_from_system_i(adata, n_priors, 1),\n",
    "    'most_balanced': most_balanced_algorithm,\n",
    "}"
   ]
  },
  {
   "cell_type": "code",
   "execution_count": null,
   "id": "2d33bbac",
   "metadata": {},
   "outputs": [],
   "source": [
    "adata=sc.read(path_data)\n",
    "adata"
   ]
  },
  {
   "cell_type": "markdown",
   "id": "ae0406b5-85c2-41c9-a266-ba31473f47f1",
   "metadata": {},
   "source": [
    "## Train model (inlc. saving prior components positions)"
   ]
  },
  {
   "cell_type": "code",
   "execution_count": null,
   "id": "f921dd03-646c-434e-a742-3b0de278a29a",
   "metadata": {},
   "outputs": [],
   "source": [
    "adata_training = adata.copy()"
   ]
  },
  {
   "cell_type": "code",
   "execution_count": null,
   "id": "e618d59e-fe3d-4e99-8c72-57ef9d8110cb",
   "metadata": {},
   "outputs": [],
   "source": [
    "print(f\"Target: {output_filename}\")\n",
    "\n",
    "if os.path.exists(output_filename):\n",
    "    model = XXJointModel.load(output_filename, adata=adata_training)\n",
    "else:\n",
    "    XXJointModel.setup_anndata(\n",
    "        adata=adata_training,\n",
    "        system_key=SYSTEM_KEY,\n",
    "        #class_key=CT_KEY,\n",
    "        categorical_covariate_keys=BATCH_KEYS,\n",
    "    )\n",
    "    \n",
    "    model = XXJointModel(adata=adata_training, prior='vamp', \n",
    "                         n_prior_components=N_PRIOR_COMPONENTS,\n",
    "                         pseudoinputs_data_init=True,\n",
    "                         pseudoinputs_data_indices=INIT_ALGORITHMS[INIT_METHOD](adata_training, N_PRIOR_COMPONENTS),\n",
    "                         trainable_priors=TRAINABLE_PRIORS,\n",
    "                         encode_pseudoinputs_on_eval_mode=True,)\n",
    "    # Inspect prior component movement during training\n",
    "    prior_inspection_callback = PriorInspectionCallback()\n",
    "    model.train(max_epochs=MAX_EPOCHS,\n",
    "                check_val_every_n_epoch=1,\n",
    "                plan_kwargs={'loss_weights':{\n",
    "                    'reconstruction_mixup_weight':0,\n",
    "                    'reconstruction_cycle_weight':0,\n",
    "                    'kl_cycle_weight':0,\n",
    "                    'z_distance_cycle_weight':0,\n",
    "                    'translation_corr_weight':0,\n",
    "                    'z_contrastive_weight':0,\n",
    "                }},\n",
    "                callbacks=[prior_inspection_callback])\n",
    "    model.train_logger_history_ = model.trainer.logger.history\n",
    "    model.train_prior_history_ = prior_inspection_callback.prior_history\n",
    "    model.save(output_filename, overwrite=True)"
   ]
  },
  {
   "cell_type": "code",
   "execution_count": null,
   "id": "556ea327-22e1-4553-922f-938345b4e4f1",
   "metadata": {
    "scrolled": true
   },
   "outputs": [],
   "source": [
    "# Plot all loses\n",
    "logger_history = model.train_logger_history_\n",
    "losses = [k for k in logger_history.keys() \n",
    "        if '_step' not in k and '_epoch' not in k]\n",
    "fig,axs = plt.subplots(2,len(losses),figsize=(len(losses)*3,4))\n",
    "for ax_i,l in enumerate(losses):\n",
    "    axs[0,ax_i].plot(\n",
    "        logger_history[l].index,\n",
    "        logger_history[l][l])\n",
    "    axs[0,ax_i].set_title(l)\n",
    "    axs[1,ax_i].plot(\n",
    "        logger_history[l].index[20:],\n",
    "        logger_history[l][l][20:])\n",
    "plt.savefig(os.path.join(output_filename, 'losses.png'))\n",
    "fig.tight_layout()"
   ]
  },
  {
   "cell_type": "markdown",
   "id": "b197220f-efd0-4e77-abd7-081ec870952f",
   "metadata": {},
   "source": [
    "## Latent data representation"
   ]
  },
  {
   "cell_type": "code",
   "execution_count": null,
   "id": "4e066109-3b7e-43d1-ba51-ad13a02ccc8d",
   "metadata": {},
   "outputs": [],
   "source": [
    "# Get latent rep\n",
    "embed = model.embed(\n",
    "        adata=adata_training,\n",
    "        indices=None,\n",
    "        batch_size=None,\n",
    "        as_numpy=True)\n",
    "\n",
    "embed = sc.AnnData(embed, obs=adata_training.obs)\n",
    "embed.obs['species'] = embed.obs[SYSTEM_KEY].map({0:'mm', 1:'hs'})\n",
    "\n",
    "np.random.seed(0)\n",
    "random_indices = np.random.permutation(list(range(embed.shape[0])))\n",
    "embed = embed[random_indices, :]\n",
    "if N_SAMPLES_TO_PLOT is not None:\n",
    "     embed = embed[:N_SAMPLES_TO_PLOT, :]\n",
    "embed = embed.copy()"
   ]
  },
  {
   "cell_type": "code",
   "execution_count": null,
   "id": "53dc161d-6977-4001-ba4e-3be9cfaa02ce",
   "metadata": {},
   "outputs": [],
   "source": [
    "sc.pp.neighbors(embed, use_rep='X')\n",
    "sc.tl.pca(embed)\n",
    "sc.tl.umap(embed)\n",
    "embed.write(os.path.join(output_filename, 'embed.h5ad'))"
   ]
  },
  {
   "cell_type": "code",
   "execution_count": null,
   "id": "4f5ccb3d-d438-4057-8123-5f885af73760",
   "metadata": {},
   "outputs": [],
   "source": [
    "embed = sc.read(os.path.join(output_filename, 'embed.h5ad'))"
   ]
  },
  {
   "cell_type": "code",
   "execution_count": null,
   "id": "6ecbedef-d15d-436a-94a0-9353246576a9",
   "metadata": {},
   "outputs": [],
   "source": [
    "# Most probable prior\n",
    "prior_probs = ad.AnnData(\n",
    "    model.get_prior_probs(\n",
    "        adata=adata_training,\n",
    "        indices=None,\n",
    "        batch_size=None,\n",
    "        as_numpy=True),\n",
    "    obs=adata_training.obs\n",
    ")\n",
    "prior_probs"
   ]
  },
  {
   "cell_type": "code",
   "execution_count": null,
   "id": "c6f1f16a-548c-4efd-be50-e153e2f7c2f6",
   "metadata": {},
   "outputs": [],
   "source": [
    "embed.obsm['prior_probs'] = prior_probs[embed.obs.index].X\n",
    "embed.obs['most_probable_prior_p'] = embed.obsm['prior_probs'].max(axis=1)\n",
    "embed.obs['most_probable_prior_id'] = pd.Categorical(embed.obsm['prior_probs'].argmax(axis=1))"
   ]
  },
  {
   "cell_type": "code",
   "execution_count": null,
   "id": "c3bfd880-7c77-49d4-8384-9cf2031ab31e",
   "metadata": {},
   "outputs": [],
   "source": [
    "embed.write(os.path.join(output_filename, 'embed.h5ad'))"
   ]
  },
  {
   "cell_type": "code",
   "execution_count": null,
   "id": "a1049737-4ad3-4a8b-aa16-5d12140a8c21",
   "metadata": {},
   "outputs": [],
   "source": [
    "rcParams['figure.figsize']=(8,8)\n",
    "sc.pl.umap(embed, color=[CT_KEY, *BATCH_KEYS, 'species', 'most_probable_prior_p', 'most_probable_prior_id'], s=10, wspace=0.5, \n",
    "           save='_umap_cells.png', ncols=1)"
   ]
  },
  {
   "cell_type": "code",
   "execution_count": null,
   "id": "2aa60007-b927-48f9-9e40-c799a129b90a",
   "metadata": {},
   "outputs": [],
   "source": [
    "rcParams['figure.figsize']=(5,3)\n",
    "_=plt.violinplot(embed.to_df())\n",
    "plt.savefig(os.path.join(output_filename, 'latent_violin.png'))\n",
    "plt.show()"
   ]
  },
  {
   "cell_type": "code",
   "execution_count": null,
   "id": "287795c3-7359-463e-8efb-7f6533a82042",
   "metadata": {},
   "outputs": [],
   "source": [
    "rcParams['figure.figsize']=(8,8)\n",
    "sc.pl.pca(embed, color=[CT_KEY, *BATCH_KEYS, 'species','most_probable_prior_p', 'most_probable_prior_id',], \n",
    "          s=10, wspace=0.5, components=['1,2', '3,4', '5,6', '7,8'], ncols=4,\n",
    "          save='_pca_all.png'\n",
    "         )"
   ]
  },
  {
   "cell_type": "markdown",
   "id": "3ab49690-c1f5-47f0-96c6-8609ec73b869",
   "metadata": {},
   "source": [
    "## Pseudoinputs embedding"
   ]
  },
  {
   "cell_type": "code",
   "execution_count": null,
   "id": "e8d9e009-3480-41f4-9473-d3f7a5fbb5ae",
   "metadata": {},
   "outputs": [],
   "source": [
    "# Encode pseudoinputs\n",
    "prior_history = model.train_prior_history_\n",
    "n_steps = len(prior_history)\n",
    "n_points = prior_history[0][0].shape[0]\n",
    "\n",
    "prior_x = np.concatenate([x[0] for x in prior_history])\n",
    "prior_cov = np.concatenate([x[1] for x in prior_history])\n",
    "\n",
    "embed_pseudoinputs = model.module.encoder(x=torch.tensor(prior_x, device=model.module.device),\n",
    "                                          cov=torch.tensor(prior_cov, device=model.module.device))['y_m'].detach().cpu().numpy()\n",
    "embed_pseudoinputs = sc.AnnData(embed_pseudoinputs)\n",
    "embed_pseudoinputs.obs['pseudoinput_id'] = [i % n_points for i in range(n_steps * n_points)]\n",
    "embed_pseudoinputs.obs['pseudoinput_time'] = [i // n_points for i in range(n_steps * n_points)]"
   ]
  },
  {
   "cell_type": "code",
   "execution_count": null,
   "id": "ea671ee5-c477-4b34-9b88-f7c86e2c3586",
   "metadata": {},
   "outputs": [],
   "source": [
    "embed.obs['input_type'] = 'expr'\n",
    "embed_pseudoinputs.obs['input_type'] = 'pseudo'\n",
    "embed_all = sc.concat([embed, embed_pseudoinputs], merge='unique', join='outer')"
   ]
  },
  {
   "cell_type": "code",
   "execution_count": null,
   "id": "25da1cfa-3efe-45bd-b4ed-26daef4d1ecc",
   "metadata": {},
   "outputs": [],
   "source": [
    "sc.pp.neighbors(embed_all, use_rep='X')\n",
    "sc.tl.pca(embed_all)\n",
    "sc.tl.umap(embed_all)\n",
    "embed_all.write(os.path.join(output_filename, 'embed_all.h5ad'))"
   ]
  },
  {
   "cell_type": "code",
   "execution_count": null,
   "id": "09d09b3a-ca99-4f44-b38c-4a212a3be7ea",
   "metadata": {},
   "outputs": [],
   "source": [
    "embed_all = sc.read(os.path.join(output_filename, 'embed_all.h5ad'))"
   ]
  },
  {
   "cell_type": "code",
   "execution_count": null,
   "id": "a1d36b2b-77c5-484f-ad2e-946b9410a431",
   "metadata": {},
   "outputs": [],
   "source": [
    "embed_final = embed_all[embed_all.obs['pseudoinput_time'].isna() | (embed_all.obs['pseudoinput_time'] == n_steps - 1)]"
   ]
  },
  {
   "cell_type": "code",
   "execution_count": null,
   "id": "857f247a-2f4e-4884-bfe2-bc8df3f1ac2f",
   "metadata": {},
   "outputs": [],
   "source": [
    "rcParams['figure.figsize']=(8,8)\n",
    "sc.pl.pca(embed_final, color=['input_type', CT_KEY, *BATCH_KEYS, 'species',\n",
    "                              'most_probable_prior_p', 'most_probable_prior_id',\n",
    "                             ], s=10, wspace=0.5, components=['1,2', '3,4', '5,6', '7,8'], ncols=4,\n",
    "          save='_pca_all.png'\n",
    "         )"
   ]
  },
  {
   "cell_type": "code",
   "execution_count": null,
   "id": "b0bdfff9-ad8d-4e9f-8ca9-f9ad7531d825",
   "metadata": {},
   "outputs": [],
   "source": [
    "rcParams['figure.figsize']=(8,8)\n",
    "sc.pl.umap(embed_final, color=['input_type', CT_KEY, *BATCH_KEYS, 'species',\n",
    "                               'most_probable_prior_p', 'most_probable_prior_id',\n",
    "                              ], s=10, wspace=0.5,\n",
    "           save='_umap_all.png'\n",
    "          )"
   ]
  },
  {
   "cell_type": "code",
   "execution_count": null,
   "id": "e3120566-1d30-4c8c-a3a9-9bc187761708",
   "metadata": {},
   "outputs": [],
   "source": [
    "rcParams['figure.figsize']=(8,8)\n",
    "sc.pl.pca(embed_all, color=['input_type', 'pseudoinput_time', 'pseudoinput_id',\n",
    "                            'most_probable_prior_p', 'most_probable_prior_id',], s=10, wspace=0.5, components=['1,2', '3,4', '5,6', '7,8'], ncols=4,\n",
    "          save='_pca_pseudoinput_time.png'\n",
    "         )"
   ]
  },
  {
   "cell_type": "code",
   "execution_count": null,
   "id": "5eaa2fe8-594d-4117-b89c-06f80eb5b06e",
   "metadata": {},
   "outputs": [],
   "source": [
    "rcParams['figure.figsize']=(8,8)\n",
    "sc.pl.umap(embed_all, color=['input_type', 'pseudoinput_time', 'pseudoinput_id',\n",
    "                             'most_probable_prior_p', 'most_probable_prior_id'], s=10, wspace=0.5,\n",
    "           save='_umap_pseudoinput_time.png'\n",
    "          )"
   ]
  },
  {
   "cell_type": "raw",
   "id": "6e816ca3-b9f6-4b01-8f4c-2287df37acd8",
   "metadata": {},
   "source": []
  },
  {
   "cell_type": "code",
   "execution_count": null,
   "id": "4f737ae2-9ba6-400d-a098-2e4ad9a2834c",
   "metadata": {},
   "outputs": [],
   "source": []
  }
 ],
 "metadata": {
  "jupytext": {
   "formats": "ipynb,py:percent"
  },
  "kernelspec": {
   "display_name": "cs_integration",
   "language": "python",
   "name": "cs_integration"
  },
  "language_info": {
   "codemirror_mode": {
    "name": "ipython",
    "version": 3
   },
   "file_extension": ".py",
   "mimetype": "text/x-python",
   "name": "python",
   "nbconvert_exporter": "python",
   "pygments_lexer": "ipython3",
   "version": "3.10.12"
  }
 },
 "nbformat": 4,
 "nbformat_minor": 5
}
