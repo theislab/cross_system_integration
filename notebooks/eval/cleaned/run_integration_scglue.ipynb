{
 "cells": [
  {
   "cell_type": "code",
   "execution_count": 2,
   "id": "7660e110",
   "metadata": {},
   "outputs": [
    {
     "name": "stderr",
     "output_type": "stream",
     "text": [
      "/om2/user/khrovati/miniconda/envs/scglue/lib/python3.9/site-packages/tqdm/auto.py:21: TqdmWarning: IProgress not found. Please update jupyter and ipywidgets. See https://ipywidgets.readthedocs.io/en/stable/user_install.html\n",
      "  from .autonotebook import tqdm as notebook_tqdm\n"
     ]
    }
   ],
   "source": [
    "import anndata as ad\n",
    "import scanpy as sc\n",
    "import pickle as pkl\n",
    "import pandas as pd\n",
    "import numpy as np\n",
    "import argparse\n",
    "import os\n",
    "import string\n",
    "import subprocess\n",
    "\n",
    "from matplotlib.pyplot import rcParams\n",
    "import matplotlib.pyplot as plt\n",
    "import seaborn as sns\n",
    "\n",
    "import torch\n",
    "import random\n",
    "import scglue\n",
    "import networkx as nx"
   ]
  },
  {
   "cell_type": "code",
   "execution_count": 2,
   "id": "3f9d3445",
   "metadata": {
    "lines_to_next_cell": 0
   },
   "outputs": [
    {
     "data": {
      "text/plain": [
       "_StoreAction(option_strings=['--lam_align'], dest='lam_align', nargs=None, const=None, default=0.05, type=<class 'float'>, choices=None, required=False, help='lam_align in scGLUE', metavar=None)"
      ]
     },
     "execution_count": 2,
     "metadata": {},
     "output_type": "execute_result"
    }
   ],
   "source": [
    "parser = argparse.ArgumentParser()\n",
    "def intstr_to_bool(x):\n",
    "    return bool(int(x))\n",
    "def str_to_float_zeronone(x):\n",
    "    if x is None or x==\"0\":\n",
    "        return None\n",
    "    else:\n",
    "        return float(x)\n",
    "parser.add_argument('-n', '--name', required=False, type=str, default=None,\n",
    "                    help='name of replicate, if unspecified set to rSEED if seed is given '+\\\n",
    "                    'and else to blank string')\n",
    "parser.add_argument('-s', '--seed', required=False, type=int, default=None,\n",
    "                    help='random seed, if none it is randomly generated')\n",
    "parser.add_argument('-po', '--params_opt', required=False, type=str, default='',\n",
    "                    help='name of optimized params/test purpose')\n",
    "parser.add_argument('-pa', '--path_adata', required=True, type=str,\n",
    "                    help='full path to adata obj')\n",
    "parser.add_argument('-pa2', '--path_adata_2', required=False, type=str, default=\"\",\n",
    "                    help='full path to second adata obj')\n",
    "parser.add_argument('-gg', '--gene_graph', required=False, type=str, default=\"\",\n",
    "                    help='path to tsv containing gene graph. columns are accessed by numbers and in the same order as given system_key in adata files.')\n",
    "parser.add_argument('-ps', '--path_save', required=True, type=str,\n",
    "                    help='directory path for saving, creates subdir within it')\n",
    "parser.add_argument('-sk', '--system_key', required=True, type=str,\n",
    "                    help='obs col with system info')\n",
    "parser.add_argument('-gk', '--group_key', required=True, type=str,\n",
    "                    help='obs col with group info')\n",
    "parser.add_argument('-bk', '--batch_key', required=True, type=str,\n",
    "                    help='obs col with batch info')\n",
    "parser.add_argument('-pk', '--pca_key', required=False, type=str, default=\"\",\n",
    "                    help='key to obsm that contains X_pca calculated to each system.')\n",
    "parser.add_argument('-me', '--max_epochs', required=False, type=int, default=-1,\n",
    "                    help='max_epochs for training. -1 for AUTO detection by scGLUE.')\n",
    "parser.add_argument('-edp', '--epochs_detail_plot', required=False, type=int, default=20,\n",
    "                    help='Loss subplot from this epoch on')\n",
    "\n",
    "parser.add_argument('-nce', '--n_cells_eval', required=False, type=int, default=-1,  \n",
    "                    help='Max cells to be used for eval, if -1 use all cells. '+\\\n",
    "                   'For cell subsetting seed 0 is always used to be reproducible accros '+\\\n",
    "                   'runs with different seeds.')\n",
    "\n",
    "parser.add_argument('-t', '--testing', required=False, type=intstr_to_bool,default='0',\n",
    "                    help='Testing mode')\n",
    "\n",
    "\n",
    "\n",
    "parser.add_argument('--rel_gene_weight', required=False, type=float, default=1.,\n",
    "                    help='Weight to connect a gene to another relevant gene in scGLUE')\n",
    "parser.add_argument('--n_latent', required=False, type=int, default=50,\n",
    "                    help='Latent dim in scGLUE')\n",
    "parser.add_argument('--n_layers', required=False, type=int, default=2,\n",
    "                    help='depth of encoder in scGLUE')\n",
    "parser.add_argument('--n_hidden', required=False, type=int, default=256,\n",
    "                    help='Dim of hidden layers in encoder of scGLUE')\n",
    "\n",
    "parser.add_argument('--lam_data', required=False, type=float, default=1.0,\n",
    "                    help='lam_data in scGLUE')\n",
    "parser.add_argument('--lam_kl', required=False, type=float, default=1.0,\n",
    "                    help='lam_kl in scGLUE')\n",
    "parser.add_argument('--lam_graph', required=False, type=float, default=0.02,\n",
    "                    help='lam_graph in scGLUE')\n",
    "parser.add_argument('--lam_align', required=False, type=float, default=0.05,\n",
    "                    help='lam_align in scGLUE')"
   ]
  },
  {
   "cell_type": "code",
   "execution_count": 3,
   "id": "6217afc8",
   "metadata": {},
   "outputs": [
    {
     "name": "stdout",
     "output_type": "stream",
     "text": [
      "Namespace(name=None, seed=1, params_opt='', path_adata='/om2/user/khrovati/data/cross_system_integration/pancreas_conditions_MIA_HPAP2/test/combined_orthologuesHVG.h5ad', path_adata_2='', gene_graph='/om2/user/khrovati/data/cross_system_integration/pancreas_conditions_MIA_HPAP2/combined_orthologuesHVG_geneMapping.tsv', path_save='/om2/user/khrovati/data/cross_system_integration/eval/test/integration/', system_key='system', group_key='cell_type_eval', batch_key='batch', pca_key='', max_epochs=2, epochs_detail_plot=0, n_cells_eval=1000, testing=True, rel_gene_weight=1.0, latent_dim=50, h_depth=2, h_dim=256, lam_data=1.0, lam_kl=1.0, lam_graph=0.02, lam_align=0.05)\n"
     ]
    }
   ],
   "source": [
    "if False:\n",
    "    args= parser.parse_args(args=[\n",
    "        # Amir\n",
    "        # With one data with common vars\n",
    "        # '-pa','/Users/amirali.moinfar/Downloads/pancreas_conditions_MIA_HPAP2/combined_orthologuesHVG.h5ad',\n",
    "        # With two data with gene graph\n",
    "        #'-pa','/Users/amirali.moinfar/Downloads/pancreas_conditions_MIA_HPAP2/combined-hsPart_nonortholHVG.h5ad',\n",
    "        #'-pa2','/Users/amirali.moinfar/Downloads/pancreas_conditions_MIA_HPAP2/combined-mmPart_nonortholHVG.h5ad',\n",
    "        #'-gg','/Users/amirali.moinfar/Downloads/pancreas_conditions_MIA_HPAP2/combined_nonortholHVG_geneMapping.tsv',\n",
    "        #'-ps','/Users/amirali.moinfar/tmp/cross_species_prediction/eval/test/integration/',\n",
    "        \n",
    "        # Karin\n",
    "        '-ps','/om2/user/khrovati/data/cross_system_integration/eval/test/integration/',\n",
    "        # 1 adata\n",
    "        '-pa','/om2/user/khrovati/data/cross_system_integration/pancreas_conditions_MIA_HPAP2/test/combined_orthologuesHVG.h5ad',\n",
    "        '-gg','/om2/user/khrovati/data/cross_system_integration/pancreas_conditions_MIA_HPAP2/combined_orthologuesHVG_geneMapping.tsv',\n",
    "        # 2 adatas\n",
    "        # '-pa','/om2/user/khrovati/data/cross_system_integration/pancreas_conditions_MIA_HPAP2/test/combined-mmPart_nonortholHVG.h5ad',\n",
    "        # '-pa2','/om2/user/khrovati/data/cross_system_integration/pancreas_conditions_MIA_HPAP2/test/combined-hsPart_nonortholHVG.h5ad',\n",
    "        # '-gg','/om2/user/khrovati/data/cross_system_integration/pancreas_conditions_MIA_HPAP2/combined_nonortholHVG_geneMapping.tsv',\n",
    "        \n",
    "        '-sk','system',\n",
    "        '-gk','cell_type_eval',\n",
    "        '-bk','batch',\n",
    "        '-me','2',\n",
    "        '-edp','0',\n",
    "        \n",
    "        '-s','1',\n",
    "                \n",
    "        '-nce','1000',\n",
    "        \n",
    "        '-t','1'\n",
    "    ])\n",
    "# Read command line args\n",
    "else:\n",
    "    args, args_unknown = parser.parse_known_args()\n",
    "    \n",
    "print(args)\n",
    "\n",
    "TESTING=args.testing\n",
    "\n",
    "if args.name is None:\n",
    "    if args.seed is not None:\n",
    "        args.name='r'+str(args.seed)"
   ]
  },
  {
   "cell_type": "code",
   "execution_count": 4,
   "id": "68c55c50",
   "metadata": {},
   "outputs": [],
   "source": [
    "SINGLE_ADATA = True\n",
    "if args.path_adata_2 != \"\":\n",
    "    assert args.gene_graph != \"\"\n",
    "    SINGLE_ADATA = False"
   ]
  },
  {
   "cell_type": "code",
   "execution_count": 5,
   "id": "ba403cc8",
   "metadata": {},
   "outputs": [],
   "source": [
    "# scglue params\n",
    "rel_gene_weight = args.rel_gene_weight\n",
    "latent_dim=args.n_latent\n",
    "h_depth=args.n_layers\n",
    "h_dim=args.n_hidden\n",
    "\n",
    "lam_data=args.lam_data\n",
    "lam_kl=args.lam_kl\n",
    "lam_graph=args.lam_graph\n",
    "lam_align=args.lam_align"
   ]
  },
  {
   "cell_type": "code",
   "execution_count": 6,
   "id": "c091e0fd",
   "metadata": {},
   "outputs": [
    {
     "name": "stdout",
     "output_type": "stream",
     "text": [
      "/om2/user/khrovati/data/cross_system_integration/eval/test/integration/scglue_z84a1iZo-TEST/\n"
     ]
    }
   ],
   "source": [
    "# Make folder for saving\n",
    "path_save=args.path_save+'scglue'+\\\n",
    "    '_'+''.join(np.random.permutation(list(string.ascii_letters)+list(string.digits))[:8])+\\\n",
    "    ('-TEST' if TESTING else '')+\\\n",
    "    os.sep\n",
    "\n",
    "os.mkdir(path_save)\n",
    "print(\"PATH_SAVE=\",path_save)"
   ]
  },
  {
   "cell_type": "code",
   "execution_count": 7,
   "id": "2d705146",
   "metadata": {},
   "outputs": [],
   "source": [
    "# Set seed for eval\n",
    "# Set only here below as need randomness for generation of out directory name (above)\n",
    "if args.seed is not None:\n",
    "    torch.manual_seed(args.seed)\n",
    "    random.seed(args.seed)\n",
    "    np.random.seed(args.seed)"
   ]
  },
  {
   "cell_type": "code",
   "execution_count": 8,
   "id": "f2d33866",
   "metadata": {},
   "outputs": [],
   "source": [
    "# Save args\n",
    "pkl.dump(args,open(path_save+'args.pkl','wb'))"
   ]
  },
  {
   "cell_type": "markdown",
   "id": "8c284b36",
   "metadata": {},
   "source": [
    "## Integration"
   ]
  },
  {
   "cell_type": "markdown",
   "id": "ff0109bd",
   "metadata": {},
   "source": [
    "### Prepare data"
   ]
  },
  {
   "cell_type": "code",
   "execution_count": 9,
   "id": "28b0ee1d",
   "metadata": {},
   "outputs": [],
   "source": [
    "# Load data\n",
    "adata=sc.read(args.path_adata)\n",
    "adata.obs[args.system_key] = adata.obs[args.system_key].astype(\"str\")\n",
    "# print('adata')\n",
    "# print(adata)"
   ]
  },
  {
   "cell_type": "code",
   "execution_count": 10,
   "id": "6a58bed2",
   "metadata": {},
   "outputs": [],
   "source": [
    "adata_2 = None\n",
    "if not SINGLE_ADATA:\n",
    "    adata_2=sc.read(args.path_adata_2)\n",
    "    adata_2.obs[args.system_key] = adata_2.obs[args.system_key].astype(\"str\")\n",
    "# print('adata 2')\n",
    "# print(adata_2)"
   ]
  },
  {
   "cell_type": "code",
   "execution_count": 11,
   "id": "ba8895f0",
   "metadata": {},
   "outputs": [],
   "source": [
    "given_gene_graph = None\n",
    "if not SINGLE_ADATA:\n",
    "    given_gene_graph = pd.read_csv(args.gene_graph, sep=\"\\t\")\n",
    "#given_gene_graph"
   ]
  },
  {
   "cell_type": "code",
   "execution_count": 12,
   "id": "0b960339",
   "metadata": {},
   "outputs": [],
   "source": [
    "if TESTING:\n",
    "    # Make data smaller if testing the script\n",
    "    random_idx=np.random.permutation(adata.obs_names)[:5000]\n",
    "    adata=adata[random_idx,:].copy()\n",
    "    # Set some groups to nan for testing if this works\n",
    "    adata.obs[args.group_key]=[np.nan]*10+list(adata.obs[args.group_key].iloc[10:])\n",
    "\n",
    "    if not SINGLE_ADATA:\n",
    "        adata=adata[:2500, :].copy()\n",
    "        random_idx=np.random.permutation(adata_2.obs_names)[:2500]\n",
    "        adata_2=adata_2[random_idx,:].copy()\n",
    "        # Set some groups to nan for testing if this works\n",
    "        adata_2.obs[args.group_key]=[np.nan]*10+list(adata_2.obs[args.group_key].iloc[10:])"
   ]
  },
  {
   "cell_type": "code",
   "execution_count": 13,
   "id": "dbcafadf",
   "metadata": {},
   "outputs": [],
   "source": [
    "if SINGLE_ADATA:\n",
    "    total_mods = list(adata.obs[args.system_key].unique())\n",
    "else:\n",
    "    total_mods = list(sorted(\n",
    "        list(adata.obs[args.system_key].unique()) +\n",
    "        list(adata_2.obs[args.system_key].unique())))\n",
    "\n",
    "#total_mods"
   ]
  },
  {
   "cell_type": "code",
   "execution_count": 14,
   "id": "4bca9892",
   "metadata": {},
   "outputs": [
    {
     "name": "stdout",
     "output_type": "stream",
     "text": [
      "mod: 0\n",
      " AnnData object with n_obs × n_vars = 3587 × 1768\n",
      "    obs: 'batch', 'mm_study', 'mm_sex', 'mm_age', 'mm_study_sample_design', 'mm_hc_gene_programs_parsed', 'mm_leiden_r1.5_parsed', 'cell_type_eval', 'system', 'hs_Sex', 'hs_Diabetes Status', 'leiden_system'\n",
      "    var: 'gs_mm', 'gs_hs', 'original_index'\n",
      "    obsm: 'X_pca_system'\n",
      "    layers: 'counts'\n",
      "mod: 1\n",
      " AnnData object with n_obs × n_vars = 1413 × 1768\n",
      "    obs: 'batch', 'mm_study', 'mm_sex', 'mm_age', 'mm_study_sample_design', 'mm_hc_gene_programs_parsed', 'mm_leiden_r1.5_parsed', 'cell_type_eval', 'system', 'hs_Sex', 'hs_Diabetes Status', 'leiden_system'\n",
      "    var: 'gs_mm', 'gs_hs', 'original_index'\n",
      "    obsm: 'X_pca_system'\n",
      "    layers: 'counts'\n"
     ]
    },
    {
     "name": "stderr",
     "output_type": "stream",
     "text": [
      "/tmp/ipykernel_9624/3885559174.py:5: ImplicitModificationWarning: Trying to modify attribute `.var` of view, initializing view as actual.\n",
      "  mods_adata[mod].var['original_index'] = mods_adata[mod].var.index\n",
      "/tmp/ipykernel_9624/3885559174.py:5: ImplicitModificationWarning: Trying to modify attribute `.var` of view, initializing view as actual.\n",
      "  mods_adata[mod].var['original_index'] = mods_adata[mod].var.index\n"
     ]
    }
   ],
   "source": [
    "mods_adata = {}\n",
    "if SINGLE_ADATA:\n",
    "    for mod in total_mods:\n",
    "        mods_adata[mod] = adata[adata.obs[args.system_key] == mod]\n",
    "        mods_adata[mod].var['original_index'] = mods_adata[mod].var.index\n",
    "        mods_adata[mod].var.index = mods_adata[mod].var.index + f'-{mod}'\n",
    "        print(f\"mod: {mod}\\n\", mods_adata[mod])\n",
    "else:\n",
    "    for adata_current in [adata, adata_2]:\n",
    "        mod = adata_current.obs[args.system_key].unique()[0]\n",
    "        mods_adata[mod] = adata_current\n",
    "        mods_adata[mod].var['original_index'] = mods_adata[mod].var.index\n",
    "        mods_adata[mod].var.index = mods_adata[mod].var.index + f'-{mod}'\n",
    "        print(f\"mod: {mod}\\n\", mods_adata[mod])"
   ]
  },
  {
   "cell_type": "markdown",
   "id": "119c168f",
   "metadata": {},
   "source": [
    "### Training"
   ]
  },
  {
   "cell_type": "code",
   "execution_count": 15,
   "id": "b1beab19",
   "metadata": {},
   "outputs": [
    {
     "name": "stdout",
     "output_type": "stream",
     "text": [
      "Train\n"
     ]
    }
   ],
   "source": [
    "print('Train')"
   ]
  },
  {
   "cell_type": "code",
   "execution_count": 16,
   "id": "ec0e9ffc",
   "metadata": {},
   "outputs": [],
   "source": [
    "for adata_spc in mods_adata.values():\n",
    "    if args.pca_key == \"\":\n",
    "        # X contains normalized+log data\n",
    "        # adata_spc.X = adata_spc.layers['counts'].copy()\n",
    "        # sc.pp.normalize_total(adata_spc)\n",
    "        # sc.pp.log1p(adata_spc)\n",
    "        sc.pp.scale(adata_spc)\n",
    "        sc.tl.pca(adata_spc)\n",
    "        pca_key = \"X_pca\"\n",
    "    else:\n",
    "        pca_key = args.pca_key\n",
    "    \n",
    "    scglue.models.configure_dataset(\n",
    "        adata_spc, \"NB\", use_highly_variable=False, use_batch=args.batch_key,\n",
    "        use_layer=\"counts\", use_rep=pca_key,\n",
    "    )"
   ]
  },
  {
   "cell_type": "code",
   "execution_count": 17,
   "id": "d09657ed",
   "metadata": {},
   "outputs": [
    {
     "name": "stdout",
     "output_type": "stream",
     "text": [
      "connecting 0 to itself\n",
      "connecting 1 to itself\n",
      "connecting 0 to 1\n",
      "connecting 1 to 0\n",
      "Done\n"
     ]
    }
   ],
   "source": [
    "my_guidance = nx.DiGraph()\n",
    "for mod in total_mods:\n",
    "    adata_mod = mods_adata[mod]\n",
    "    print(f\"connecting {mod} to itself\")\n",
    "    for g in adata_mod.var.index:\n",
    "        my_guidance.add_node(g)\n",
    "        my_guidance.add_edge(g, g, **{'weight': 1.0, 'sign': 1, 'type': 'loop', 'id': '0'})\n",
    "\n",
    "for i, mod in enumerate(total_mods):\n",
    "    adata_mod = mods_adata[mod]\n",
    "    for j, omod in enumerate(total_mods):\n",
    "        if i == j:\n",
    "            continue\n",
    "        adata_omod = mods_adata[omod]\n",
    "        print(f\"connecting {mod} to {omod}\")\n",
    "        if SINGLE_ADATA:\n",
    "            for g in adata_mod.var.index:\n",
    "                my_guidance.add_edge(g, g.split(\"-\")[0]+f\"-{omod}\", **{'weight': rel_gene_weight, 'sign': 1, 'type': 'normal', 'id': '0'})\n",
    "        else:\n",
    "            # Attention: we access columns of graph df by numbers (system_key in adatas should be given in the correct order)\n",
    "            edge_mod = given_gene_graph[given_gene_graph.columns[i]] + f\"-{mod}\"\n",
    "            edge_omod = given_gene_graph[given_gene_graph.columns[j]] + f\"-{omod}\"\n",
    "\n",
    "            assert np.all(edge_mod.isin(adata_mod.var.index))\n",
    "            assert np.all(edge_omod.isin(adata_omod.var.index))\n",
    "\n",
    "            for g1, g2 in zip(list(edge_mod), list(edge_omod)):\n",
    "                my_guidance.add_edge(g1, g2, **{'weight': rel_gene_weight, 'sign': 1, 'type': 'normal', 'id': '0'})\n",
    "print(\"Done\")"
   ]
  },
  {
   "cell_type": "code",
   "execution_count": 18,
   "id": "e5732673",
   "metadata": {},
   "outputs": [],
   "source": [
    "filename = path_save + \"scglue_model\""
   ]
  },
  {
   "cell_type": "code",
   "execution_count": 19,
   "id": "caacde05",
   "metadata": {},
   "outputs": [
    {
     "name": "stdout",
     "output_type": "stream",
     "text": [
      "[INFO] fit_SCGLUE: Pretraining SCGLUE model...\n",
      "[INFO] autodevice: Using CPU as computation device.\n",
      "[INFO] SCGLUEModel: Setting `graph_batch_size` = 2431\n",
      "[INFO] SCGLUEModel: Setting `patience` = 57\n",
      "[INFO] SCGLUEModel: Setting `reduce_lr_patience` = 29\n",
      "[INFO] SCGLUETrainer: Using training directory: \"glue/pretrain\"\n",
      "[INFO] EarlyStopping: No usable checkpoint found. Skipping checkpoint restoration.\n",
      "[INFO] fit_SCGLUE: Estimating balancing weight...\n",
      "[INFO] estimate_balancing_weight: Clustering cells...\n"
     ]
    },
    {
     "name": "stderr",
     "output_type": "stream",
     "text": [
      "/om2/user/khrovati/miniconda/envs/scglue/lib/python3.9/site-packages/umap/distances.py:1063: NumbaDeprecationWarning: The 'nopython' keyword argument was not supplied to the 'numba.jit' decorator. The implicit default value for this argument is currently False, but it will be changed to True in Numba 0.59.0. See https://numba.readthedocs.io/en/stable/reference/deprecation.html#deprecation-of-object-mode-fall-back-behaviour-when-using-jit for details.\n",
      "  @numba.jit()\n",
      "/om2/user/khrovati/miniconda/envs/scglue/lib/python3.9/site-packages/umap/distances.py:1071: NumbaDeprecationWarning: The 'nopython' keyword argument was not supplied to the 'numba.jit' decorator. The implicit default value for this argument is currently False, but it will be changed to True in Numba 0.59.0. See https://numba.readthedocs.io/en/stable/reference/deprecation.html#deprecation-of-object-mode-fall-back-behaviour-when-using-jit for details.\n",
      "  @numba.jit()\n",
      "/om2/user/khrovati/miniconda/envs/scglue/lib/python3.9/site-packages/umap/distances.py:1086: NumbaDeprecationWarning: The 'nopython' keyword argument was not supplied to the 'numba.jit' decorator. The implicit default value for this argument is currently False, but it will be changed to True in Numba 0.59.0. See https://numba.readthedocs.io/en/stable/reference/deprecation.html#deprecation-of-object-mode-fall-back-behaviour-when-using-jit for details.\n",
      "  @numba.jit()\n",
      "/om2/user/khrovati/miniconda/envs/scglue/lib/python3.9/site-packages/umap/umap_.py:660: NumbaDeprecationWarning: The 'nopython' keyword argument was not supplied to the 'numba.jit' decorator. The implicit default value for this argument is currently False, but it will be changed to True in Numba 0.59.0. See https://numba.readthedocs.io/en/stable/reference/deprecation.html#deprecation-of-object-mode-fall-back-behaviour-when-using-jit for details.\n",
      "  @numba.jit()\n"
     ]
    },
    {
     "name": "stdout",
     "output_type": "stream",
     "text": [
      "[INFO] estimate_balancing_weight: Matching clusters...\n",
      "[INFO] estimate_balancing_weight: Matching array shape = (19, 12)...\n",
      "[INFO] estimate_balancing_weight: Estimating balancing weight...\n",
      "[INFO] fit_SCGLUE: Fine-tuning SCGLUE model...\n",
      "[INFO] SCGLUEModel: Setting `graph_batch_size` = 2431\n",
      "[INFO] SCGLUEModel: Setting `align_burnin` = 114\n",
      "[INFO] SCGLUEModel: Setting `patience` = 57\n",
      "[INFO] SCGLUEModel: Setting `reduce_lr_patience` = 29\n",
      "[INFO] SCGLUETrainer: Using training directory: \"glue/fine-tune\"\n",
      "[INFO] EarlyStopping: No usable checkpoint found. Skipping checkpoint restoration.\n"
     ]
    }
   ],
   "source": [
    "max_epochs = args.max_epochs\n",
    "if max_epochs == -1:\n",
    "    max_epochs = scglue.utils.AUTO\n",
    "\n",
    "glue = scglue.models.fit_SCGLUE(\n",
    "    mods_adata, my_guidance,\n",
    "    init_kws=dict(latent_dim=latent_dim, h_depth=h_depth, h_dim=h_dim, random_seed=args.seed),\n",
    "    fit_kws={\n",
    "        # Setting dir causes error as multiple runs want to be saved in the same dir\n",
    "        #\"directory\": \"glue\", \n",
    "        # The below would likely work\n",
    "        \"directory\": path_save+'glue_logs',\n",
    "        \"max_epochs\": max_epochs},\n",
    "    compile_kws=dict(lam_data=lam_data, lam_kl=lam_kl, lam_graph=lam_graph, lam_align=lam_align), \n",
    "    balance_kws=None,\n",
    ")\n",
    "\n",
    "#glue.save(filename)"
   ]
  },
  {
   "cell_type": "code",
   "execution_count": 20,
   "id": "f271b219",
   "metadata": {},
   "outputs": [],
   "source": [
    "# glue = scglue.models.load_model(filename)"
   ]
  },
  {
   "cell_type": "code",
   "execution_count": 21,
   "id": "1851abe9",
   "metadata": {},
   "outputs": [
    {
     "name": "stdout",
     "output_type": "stream",
     "text": [
      "[INFO] get_metacells: Clustering metacells...\n",
      "[INFO] get_metacells: Aggregating metacells...\n",
      "[INFO] metacell_corr: Computing correlation on 4 common metacells...\n"
     ]
    },
    {
     "name": "stderr",
     "output_type": "stream",
     "text": [
      "/om2/user/khrovati/miniconda/envs/scglue/lib/python3.9/site-packages/scglue/data.py:599: RuntimeWarning: invalid value encountered in scalar divide\n",
      "  ((X[s] * X[t]).mean() - mean[s] * mean[t]) / (std[s] * std[t])\n"
     ]
    },
    {
     "name": "stdout",
     "output_type": "stream",
     "text": [
      "[INFO] get_metacells: Clustering metacells...\n",
      "[INFO] get_metacells: Aggregating metacells...\n",
      "[INFO] metacell_corr: Computing correlation on 4 common metacells...\n"
     ]
    },
    {
     "name": "stderr",
     "output_type": "stream",
     "text": [
      "/om2/user/khrovati/miniconda/envs/scglue/lib/python3.9/site-packages/scglue/data.py:599: RuntimeWarning: invalid value encountered in scalar divide\n",
      "  ((X[s] * X[t]).mean() - mean[s] * mean[t]) / (std[s] * std[t])\n"
     ]
    },
    {
     "name": "stdout",
     "output_type": "stream",
     "text": [
      "[INFO] get_metacells: Clustering metacells...\n",
      "[INFO] get_metacells: Aggregating metacells...\n",
      "[INFO] metacell_corr: Computing correlation on 5 common metacells...\n"
     ]
    },
    {
     "name": "stderr",
     "output_type": "stream",
     "text": [
      "/om2/user/khrovati/miniconda/envs/scglue/lib/python3.9/site-packages/scglue/data.py:599: RuntimeWarning: invalid value encountered in scalar divide\n",
      "  ((X[s] * X[t]).mean() - mean[s] * mean[t]) / (std[s] * std[t])\n"
     ]
    },
    {
     "name": "stdout",
     "output_type": "stream",
     "text": [
      "[INFO] get_metacells: Clustering metacells...\n",
      "[INFO] get_metacells: Aggregating metacells...\n",
      "[INFO] metacell_corr: Computing correlation on 4 common metacells...\n"
     ]
    },
    {
     "name": "stderr",
     "output_type": "stream",
     "text": [
      "/om2/user/khrovati/miniconda/envs/scglue/lib/python3.9/site-packages/scglue/data.py:599: RuntimeWarning: invalid value encountered in scalar divide\n",
      "  ((X[s] * X[t]).mean() - mean[s] * mean[t]) / (std[s] * std[t])\n"
     ]
    },
    {
     "name": "stdout",
     "output_type": "stream",
     "text": [
      "[INFO] get_metacells: Clustering metacells...\n",
      "[INFO] get_metacells: Aggregating metacells...\n",
      "[INFO] metacell_corr: Computing correlation on 5 common metacells...\n"
     ]
    },
    {
     "name": "stderr",
     "output_type": "stream",
     "text": [
      "WARNING clustering 5000 points to 200 centroids: please provide at least 7800 training points\n",
      "/om2/user/khrovati/miniconda/envs/scglue/lib/python3.9/site-packages/scglue/data.py:599: RuntimeWarning: invalid value encountered in scalar divide\n",
      "  ((X[s] * X[t]).mean() - mean[s] * mean[t]) / (std[s] * std[t])\n"
     ]
    },
    {
     "name": "stdout",
     "output_type": "stream",
     "text": [
      "Consistency scores with min: -0.10075974581278545\n",
      "   n_meta  consistency\n",
      "0      10     0.437115\n",
      "1      20     0.286349\n",
      "2      50     0.180374\n",
      "3     100     0.163815\n",
      "4     200    -0.100760\n"
     ]
    }
   ],
   "source": [
    "if False:\n",
    "    try:\n",
    "        mods_adata_temp={}\n",
    "        for k, a in mods_adata.items():\n",
    "            a=a.copy()\n",
    "            a.X=a.layers['counts']\n",
    "            mods_adata_temp[k]=a\n",
    "        del a\n",
    "        dx = scglue.models.integration_consistency(\n",
    "            glue, mods_adata_temp, my_guidance\n",
    "        )\n",
    "        del mods_adata_temp\n",
    "        #_ = sns.lineplot(x=\"n_meta\", y=\"consistency\", data=dx).axhline(y=0.05, c=\"darkred\", ls=\"--\")\n",
    "        print('Consistency scores with min:', dx['consistency'].min())\n",
    "        print(dx)\n",
    "        with open(path_save + \"integration_consistency.pkl\", 'wb') as f:\n",
    "            pkl.dump(dx, f)\n",
    "    except Exception as e:\n",
    "        print(\"Error:\", e)"
   ]
  },
  {
   "cell_type": "markdown",
   "id": "da04b9e8",
   "metadata": {},
   "source": [
    "### Eval"
   ]
  },
  {
   "cell_type": "markdown",
   "id": "e0a21672",
   "metadata": {},
   "source": [
    "#### Losses"
   ]
  },
  {
   "cell_type": "markdown",
   "id": "3d7053d0",
   "metadata": {},
   "source": [
    "#### Embedding"
   ]
  },
  {
   "cell_type": "code",
   "execution_count": 22,
   "id": "54d5a2eb",
   "metadata": {},
   "outputs": [
    {
     "name": "stdout",
     "output_type": "stream",
     "text": [
      "Get embedding\n"
     ]
    }
   ],
   "source": [
    "print('Get embedding')"
   ]
  },
  {
   "cell_type": "code",
   "execution_count": 23,
   "id": "f10a38e5",
   "metadata": {},
   "outputs": [],
   "source": [
    "for mod, adata_mod in mods_adata.items():\n",
    "    adata_mod.obsm[\"X_glue\"] = glue.encode_data(mod, adata_mod)\n",
    "combined = ad.concat(mods_adata.values())"
   ]
  },
  {
   "cell_type": "code",
   "execution_count": 24,
   "id": "6502da41",
   "metadata": {},
   "outputs": [
    {
     "name": "stdout",
     "output_type": "stream",
     "text": [
      "N cells for eval: 1000\n"
     ]
    }
   ],
   "source": [
    "# Compute embedding\n",
    "if SINGLE_ADATA:\n",
    "    all_obs_names = list(adata.obs_names)\n",
    "else:\n",
    "    all_obs_names = list(adata.obs_names) + list(adata_2.obs_names)\n",
    "\n",
    "embed_full = sc.AnnData(combined[all_obs_names].obsm['X_glue'], obs=combined[all_obs_names,:].obs.copy())\n",
    "cells_eval = all_obs_names if args.n_cells_eval==-1 else \\\n",
    "    np.random.RandomState(seed=0).permutation(all_obs_names)[:args.n_cells_eval]\n",
    "print('N cells for eval:',cells_eval.shape[0])\n",
    "embed = embed_full[cells_eval].copy()"
   ]
  },
  {
   "cell_type": "code",
   "execution_count": 25,
   "id": "a1125611",
   "metadata": {},
   "outputs": [],
   "source": [
    "# Make system categorical, also for metrics below\n",
    "embed.obs[args.system_key]=embed.obs[args.system_key].astype(str)\n",
    "embed_full.obs[args.system_key]=embed_full.obs[args.system_key].astype(str)"
   ]
  },
  {
   "cell_type": "code",
   "execution_count": 26,
   "id": "ceebfcaa",
   "metadata": {
    "lines_to_next_cell": 0
   },
   "outputs": [],
   "source": [
    "# Save embed\n",
    "embed.write(path_save+'embed.h5ad')\n",
    "embed_full.write(path_save+'embed_full.h5ad')\n",
    "\n",
    "# "
   ]
  },
  {
   "cell_type": "code",
   "execution_count": 27,
   "id": "b15929e0",
   "metadata": {},
   "outputs": [
    {
     "name": "stdout",
     "output_type": "stream",
     "text": [
      "Finished integration!\n"
     ]
    }
   ],
   "source": [
    "print('Finished integration!')"
   ]
  }
 ],
 "metadata": {
  "jupytext": {
   "formats": "ipynb,py:percent"
  },
  "kernelspec": {
   "display_name": "scglue",
   "language": "python",
   "name": "scglue"
  },
  "language_info": {
   "codemirror_mode": {
    "name": "ipython",
    "version": 3
   },
   "file_extension": ".py",
   "mimetype": "text/x-python",
   "name": "python",
   "nbconvert_exporter": "python",
   "pygments_lexer": "ipython3",
   "version": "3.9.17"
  }
 },
 "nbformat": 4,
 "nbformat_minor": 5
}
