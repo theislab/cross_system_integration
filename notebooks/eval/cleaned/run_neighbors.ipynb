{
 "cells": [
  {
   "cell_type": "code",
   "execution_count": 11,
   "id": "2c241406-c83d-4748-83c8-0f03f493ac8b",
   "metadata": {},
   "outputs": [],
   "source": [
    "import scanpy as sc\n",
    "import argparse\n",
    "\n",
    "from matplotlib.pyplot import rcParams\n",
    "import matplotlib.pyplot as plt"
   ]
  },
  {
   "cell_type": "code",
   "execution_count": 2,
   "id": "a967815e-c840-4a98-a561-8ded76784c98",
   "metadata": {},
   "outputs": [
    {
     "data": {
      "text/plain": [
       "_StoreAction(option_strings=['-bk', '--batch_key'], dest='batch_key', nargs=None, const=None, default=None, type=<class 'str'>, choices=None, required=True, help='obs col with batch info', metavar=None)"
      ]
     },
     "execution_count": 2,
     "metadata": {},
     "output_type": "execute_result"
    }
   ],
   "source": [
    "parser = argparse.ArgumentParser()\n",
    "def intstr_to_bool(x):\n",
    "    return bool(int(x))\n",
    "parser.add_argument('-p', '--path', required=True, type=str,\n",
    "                    help='directory path for reading embed from and saving results')\n",
    "parser.add_argument('-sk', '--system_key', required=True, type=str,\n",
    "                    help='obs col with system info')\n",
    "parser.add_argument('-gk', '--group_key', required=True, type=str,\n",
    "                    help='obs col with group info')\n",
    "parser.add_argument('-bk', '--batch_key', required=True, type=str,\n",
    "                    help='obs col with batch info')\n",
    "parser.add_argument('-t', '--testing', required=False, type=intstr_to_bool,default='0',\n",
    "                    help='Testing mode')"
   ]
  },
  {
   "cell_type": "code",
   "execution_count": 12,
   "id": "ab35ddcb-9ef1-4b77-9c39-f8487328d7b0",
   "metadata": {},
   "outputs": [
    {
     "name": "stdout",
     "output_type": "stream",
     "text": [
      "Namespace(path='/om2/user/khrovati/data/cross_system_integration/eval/test/integration/example/', system_key='system', group_key='cell_type', batch_key='sample')\n"
     ]
    }
   ],
   "source": [
    "if False:\n",
    "    args= parser.parse_args(args=[\n",
    "        '-p','/om2/user/khrovati/data/cross_system_integration/eval/test/integration/example/',\n",
    "        '-sk','system',\n",
    "        '-gk','cell_type',\n",
    "        '-bk','sample',\n",
    "        '-t','1',\n",
    "    ])\n",
    "# Read command line args\n",
    "else:\n",
    "    args = parser.parse_args()\n",
    "TESTING=args.testing  \n",
    "print(args)"
   ]
  },
  {
   "cell_type": "code",
   "execution_count": 14,
   "id": "ff2a91cb-d9ae-4885-b82f-7679c692500a",
   "metadata": {},
   "outputs": [],
   "source": [
    "# only save if something was changed\n",
    "save=False"
   ]
  },
  {
   "cell_type": "code",
   "execution_count": 18,
   "id": "61b5c7ea-5780-4ebf-ad2f-cbb9761d0d79",
   "metadata": {},
   "outputs": [],
   "source": [
    "# Load embed\n",
    "embed=sc.read(args.path+'embed.h5ad')"
   ]
  },
  {
   "cell_type": "code",
   "execution_count": null,
   "id": "b8388d60-2ac1-4e02-8a05-a393da99f998",
   "metadata": {},
   "outputs": [],
   "source": [
    "if 'neighbors' not in embed.uns:\n",
    "    save=True\n",
    "    print('Computing embedding')\n",
    "    # Use 90 neighbours so that this can be also used for lisi metrics\n",
    "    # Scanpy umap and neihgbors have random seed set in params \n",
    "    #  so they shouldn't be affected by the global one\n",
    "    sc.pp.neighbors(embed, use_rep='X', n_neighbors=90)\n",
    "    sc.tl.umap(embed)\n",
    "    \n",
    "    # Plot embedding\n",
    "    rcParams['figure.figsize']=(8,8)\n",
    "    cols=[args.system_key,args.group_key,args.batch_key]\n",
    "    fig,axs=plt.subplots(len(cols),1,figsize=(8,8*len(cols)))\n",
    "    for col,ax in zip(cols,axs):\n",
    "        sc.pl.embedding(embed,'X_umap',color=col,s=10,ax=ax,show=False,sort_order=False)\n",
    "    plt.savefig(args.path+'umap.png',dpi=300,bbox_inches='tight')"
   ]
  },
  {
   "cell_type": "code",
   "execution_count": 4,
   "id": "77131efd-e8b6-477b-81b2-0b0d69fed4b8",
   "metadata": {
    "lines_to_next_cell": 2
   },
   "outputs": [],
   "source": [
    "# Prepare scaled data if not yet present in adata\n",
    "if 'scaled_neighbors' not in embed.uns:\n",
    "    save=True\n",
    "    print('Computing scaled embedding')\n",
    "    \n",
    "    # Scaled embed\n",
    "    embed_scl=embed.copy()\n",
    "    sc.pp.scale(embed_scl)\n",
    "    # Use 90 neighbours so that this can be also used for lisi metrics\n",
    "    sc.pp.neighbors(embed_scl, use_rep='X', n_neighbors=90,key_added='scaled')\n",
    "    sc.tl.umap(embed_scl,neighbors_key='scaled')\n",
    "    # Add back to embed\n",
    "    embed.uns['scaled_neighbors']=embed_scl.uns['scaled']\n",
    "    embed.obsp['scaled_connectivities']=embed_scl.obsp['scaled_connectivities']\n",
    "    embed.obsp['scaled_distances']=embed_scl.obsp['scaled_distances']\n",
    "    embed.obsm['X_umap_scaled']=embed_scl.obsm['X_umap']\n",
    "    del embed_scl\n",
    "    \n",
    "    # Plot scaled embedding\n",
    "    rcParams['figure.figsize']=(8,8)\n",
    "    cols=[args.system_key,args.group_key,args.batch_key]\n",
    "    fig,axs=plt.subplots(len(cols),1,figsize=(8,8*len(cols)))\n",
    "    for col,ax in zip(cols,axs):\n",
    "        sc.pl.embedding(embed,'X_umap_scaled',color=col,s=10,ax=ax,show=False,sort_order=False)\n",
    "    plt.savefig(args.path+'umap_scaled.png',dpi=300,bbox_inches='tight')"
   ]
  },
  {
   "cell_type": "code",
   "execution_count": 20,
   "id": "5f7dcbf4-74bd-45d1-b612-7d857fb45b33",
   "metadata": {},
   "outputs": [],
   "source": [
    "# Compute clusters\n",
    "if 'leiden' not in embed.obs.columns:\n",
    "    save=True\n",
    "    print('Computing leiden')\n",
    "    sc.tl.leiden(embed, resolution=2, key_added='leiden', neighbors_key=None)\n",
    "if 'scaled_leiden' not in embed.obs.columns:\n",
    "    save=True\n",
    "    print('Computing scaled leiden')\n",
    "    sc.tl.leiden(embed, resolution=2, key_added='scaled_leiden', neighbors_key='scaled_neighbors')"
   ]
  },
  {
   "cell_type": "code",
   "execution_count": 9,
   "id": "ea10ded5-40a7-4d99-9136-ec26680b3cb7",
   "metadata": {},
   "outputs": [],
   "source": [
    "# Save embed\n",
    "if save:\n",
    "    print('Saving')\n",
    "    embed.write(args.path+'embed.h5ad')"
   ]
  },
  {
   "cell_type": "code",
   "execution_count": 9,
   "id": "1c5b8992-b327-4b4e-a334-79ada47fb40a",
   "metadata": {},
   "outputs": [
    {
     "name": "stdout",
     "output_type": "stream",
     "text": [
      "Finished!\n"
     ]
    }
   ],
   "source": [
    "print('Finished!')"
   ]
  },
  {
   "cell_type": "code",
   "execution_count": null,
   "id": "2cbcff0e-3b70-443d-a151-3ba6e4e7bc66",
   "metadata": {},
   "outputs": [],
   "source": []
  }
 ],
 "metadata": {
  "jupytext": {
   "formats": "ipynb,py:percent"
  },
  "kernelspec": {
   "display_name": "csi",
   "language": "python",
   "name": "csi"
  },
  "language_info": {
   "codemirror_mode": {
    "name": "ipython",
    "version": 3
   },
   "file_extension": ".py",
   "mimetype": "text/x-python",
   "name": "python",
   "nbconvert_exporter": "python",
   "pygments_lexer": "ipython3",
   "version": "3.9.16"
  }
 },
 "nbformat": 4,
 "nbformat_minor": 5
}
