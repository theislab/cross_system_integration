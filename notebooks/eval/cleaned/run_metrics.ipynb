{
 "cells": [
  {
   "cell_type": "code",
   "execution_count": 1,
   "id": "ddb87c1c-888a-435c-8229-ebd5fe1e29b9",
   "metadata": {
    "tags": []
   },
   "outputs": [],
   "source": [
    "import scanpy as sc\n",
    "import pickle as pkl\n",
    "import argparse\n",
    "import pandas as pd\n",
    "import numpy as np\n",
    "import os\n",
    "from collections import defaultdict\n",
    "\n",
    "from metrics import ilisi, clisi, asw_label, cluster_classification,\\\n",
    "cluster_classification_optimized, knn_purity\n",
    "import scib_metrics as sm"
   ]
  },
  {
   "cell_type": "code",
   "execution_count": 2,
   "id": "c91b0251-c50b-471a-bbd1-3b4f6a20d285",
   "metadata": {
    "tags": []
   },
   "outputs": [
    {
     "data": {
      "text/plain": [
       "_StoreAction(option_strings=['-t', '--testing'], dest='testing', nargs=None, const=None, default='0', type=<function intstr_to_bool at 0x2b017db879d0>, choices=None, required=False, help='Testing mode', metavar=None)"
      ]
     },
     "execution_count": 2,
     "metadata": {},
     "output_type": "execute_result"
    }
   ],
   "source": [
    "parser = argparse.ArgumentParser()\n",
    "def intstr_to_bool(x):\n",
    "    return bool(int(x))\n",
    "parser.add_argument('-p', '--path', required=True, type=str,\n",
    "                    help='directory path for reading embed from and saving results')\n",
    "parser.add_argument('-fe', '--fn_expr', required=True, type=str,\n",
    "                    help='file name for reading adata with expression information')\n",
    "parser.add_argument('-fmi', '--fn_moransi', required=True, type=str,\n",
    "                    help='file name for reading Morans I information')\n",
    "parser.add_argument('-sk', '--system_key', required=True, type=str,\n",
    "                    help='obs col with system info')\n",
    "parser.add_argument('-gk', '--group_key', required=True, type=str,\n",
    "                    help='obs col with group info')\n",
    "parser.add_argument('-bk', '--batch_key', required=True, type=str,\n",
    "                    help='obs col with batch info')\n",
    "parser.add_argument('-s', '--scaled', required=False, type=intstr_to_bool, default='0',\n",
    "                    help='Should scaled X be used. Assumes X in embed data is still unscaled. '+\n",
    "                    'Assumes there are neighbors with prefix '+\n",
    "                    'scaled_ (for dist, conn) in the embedding.')\n",
    "parser.add_argument('-co', '--cluster_optimized', required=False, type=intstr_to_bool, default='1',\n",
    "                    help='Should clustering metrics on optimized clustering resolution be computed')\n",
    "parser.add_argument('-t', '--testing', required=False, type=intstr_to_bool,default='0',\n",
    "                    help='Testing mode')"
   ]
  },
  {
   "cell_type": "code",
   "execution_count": 3,
   "id": "923bd818-e5dd-4a83-a03a-6d63b02213e9",
   "metadata": {
    "tags": []
   },
   "outputs": [
    {
     "name": "stdout",
     "output_type": "stream",
     "text": [
      "Namespace(path='/om2/user/khrovati/data/cross_system_integration/eval/test/integration/example/', fn_expr='/om2/user/khrovati/data/cross_species_prediction/pancreas_healthy/combined_orthologuesHVG2000.h5ad', fn_moransi='/om2/user/khrovati/data/cross_system_integration/eval/test/integration/example/moransiGenes_mock.pkl', system_key='system', group_key='cell_type', batch_key='sample', scaled=True, cluster_optimized=True, testing=True)\n"
     ]
    }
   ],
   "source": [
    "# Set args for manual testing\n",
    "if False:\n",
    "    args= parser.parse_args(args=[\n",
    "        '-p','/om2/user/khrovati/data/cross_system_integration/eval/test/integration/example/',\n",
    "        '-fe','/om2/user/khrovati/data/cross_species_prediction/pancreas_healthy/combined_orthologuesHVG2000.h5ad',\n",
    "        '-fmi','/om2/user/khrovati/data/cross_system_integration/eval/test/integration/example/moransiGenes_mock.pkl',\n",
    "        '-sk','system',\n",
    "        '-gk','cell_type',\n",
    "        '-bk','sample',\n",
    "        '-s','1',\n",
    "        '-co','1',\n",
    "        '-t','1',\n",
    "    ])\n",
    "# Read command line args\n",
    "else:\n",
    "    args = parser.parse_args()\n",
    "TESTING=args.testing    \n",
    "print(args)"
   ]
  },
  {
   "cell_type": "code",
   "execution_count": 4,
   "id": "d83c3e34-c9c0-4579-bbcb-acac9ef4e86a",
   "metadata": {
    "tags": []
   },
   "outputs": [],
   "source": [
    "# Load embedding (embed - subset for eval, \n",
    "# embed_full is loaded below - all cells from integration data)\n",
    "embed = sc.read(args.path+'embed.h5ad')"
   ]
  },
  {
   "cell_type": "code",
   "execution_count": 5,
   "id": "c75bde59-613d-4a51-ab7a-095ea7c59066",
   "metadata": {},
   "outputs": [],
   "source": [
    "# Prepare for scaled/unscaled setting\n",
    "if args.scaled:\n",
    "    sc.pp.scale(embed)\n",
    "    neigh_prefix='scaled_'\n",
    "else:\n",
    "    neigh_prefix=''"
   ]
  },
  {
   "cell_type": "code",
   "execution_count": 6,
   "id": "488c4895-a318-4682-9d4a-19f06dad2b96",
   "metadata": {},
   "outputs": [],
   "source": [
    "# Which cells have group info - if nan dont use them for metrics computation \n",
    "# Used only for testing - otherwise this would require recomputing neighbors here which \n",
    "# would be inefficient\n",
    "if embed.obs[args.group_key].isna().any():\n",
    "    if TESTING:\n",
    "        embed_group=embed\n",
    "        embed_group.obs[args.group_key]=embed_group.obs[args.group_key].astype(str).fillna('NA')\n",
    "    else:\n",
    "        raise ValueError('nan group cells in adata')\n",
    "else:\n",
    "    embed_group=embed"
   ]
  },
  {
   "cell_type": "code",
   "execution_count": 7,
   "id": "19166fe0-f692-40b4-9fd0-ad59952963f2",
   "metadata": {},
   "outputs": [],
   "source": [
    "# Dict for saving metrics\n",
    "fn_scaled='_scaled' if args.scaled else ''\n",
    "fn_metrics=args.path+f'scib_metrics{fn_scaled}.pkl'\n",
    "if os.path.exists(fn_metrics):\n",
    "    metrics=pkl.load(open(fn_metrics,'rb'))\n",
    "else:\n",
    "    metrics={}\n",
    "\n",
    "# Dict for saving extra metric data\n",
    "fn_metrics_data=args.path+f'scib_metrics_data{fn_scaled}.pkl'\n",
    "if os.path.exists(fn_metrics_data):\n",
    "    metrics_data=pkl.load(open(fn_metrics_data,'rb'))\n",
    "else:\n",
    "    metrics_data={}"
   ]
  },
  {
   "cell_type": "code",
   "execution_count": 8,
   "id": "027c48b8-c3c1-419f-b1d1-47c085591876",
   "metadata": {},
   "outputs": [],
   "source": [
    "# Which metrics to compute\n",
    "# For now only computes metrics that are not yet computed\n",
    "if 'asw_group' in metrics and 'asw_group_label' in metrics_data:\n",
    "    ASW_GROUP=False\n",
    "else:\n",
    "    ASW_GROUP=True\n",
    "\n",
    "if 'clisi' in metrics and 'clisi_label' in metrics_data:\n",
    "    CLISI=False\n",
    "else:\n",
    "    CLISI=True  \n",
    "\n",
    "if 'ilisi_system' in metrics and 'ilisi_system_label' in metrics_data:\n",
    "    ILISI_SYSTEM=False\n",
    "else:\n",
    "    ILISI_SYSTEM=True  \n",
    "\n",
    "if 'nmi' in metrics and 'ari' in metrics and\\\n",
    "    'jaccard' in metrics and 'jaccard_label' in metrics_data:\n",
    "    CLUSTER_CLASSIFICATION=False\n",
    "else:\n",
    "    CLUSTER_CLASSIFICATION=True  \n",
    "\n",
    "if not(('nmi_opt' not in metrics or 'ari_opt' not in metrics) and args.cluster_optimized):\n",
    "    CLUSTER_OPTIMIZED=False\n",
    "else:\n",
    "    CLUSTER_OPTIMIZED=True\n",
    "    \n",
    "if 'knn_purity_macro' in metrics and 'knn_purity' in metrics_data:\n",
    "    KNN_PURITY=False\n",
    "else:\n",
    "    KNN_PURITY=True  \n",
    "\n",
    "if 'moransi' in metrics and 'moransi_label' in metrics_data and 'moransi_data' in metrics_data:\n",
    "    MORANSI=False\n",
    "else:\n",
    "    MORANSI=True   \n",
    "\n",
    "if all(['ilisi_batch_system-'+system in metrics and \n",
    "    'ilisi_batch_label_system-'+system in metrics_data\n",
    "    for system in embed_group.obs[args.system_key].unique() ]):\n",
    "    ILISI_BATCH_SYSTEM=False\n",
    "else:\n",
    "    ILISI_BATCH_SYSTEM=True"
   ]
  },
  {
   "cell_type": "code",
   "execution_count": 9,
   "id": "326a5761-9644-4f81-a91a-00ac2bf910f2",
   "metadata": {},
   "outputs": [
    {
     "name": "stderr",
     "output_type": "stream",
     "text": [
      "No GPU/TPU found, falling back to CPU. (Set TF_CPP_MIN_LOG_LEVEL=0 and rerun for more info.)\n"
     ]
    },
    {
     "name": "stdout",
     "output_type": "stream",
     "text": [
      "ilisi system\n",
      "clisi\n",
      "asw_group\n",
      "cluster_classification\n",
      "cluster_optmimized\n",
      "knn_purity\n"
     ]
    }
   ],
   "source": [
    "# System and group lisi\n",
    "if ILISI_SYSTEM or TESTING:\n",
    "    print('ilisi system')\n",
    "    metrics['ilisi_system'], metrics['ilisi_system_macro'], metrics_data[\n",
    "        'ilisi_system_label']=ilisi(\n",
    "        X=embed_group.obsp[neigh_prefix+'distances'],\n",
    "        batches=embed_group.obs[args.system_key], \n",
    "        labels=embed_group.obs[args.group_key])\n",
    "if CLISI or TESTING:\n",
    "    print('clisi')\n",
    "    metrics['clisi'], metrics['clisi_macro'], metrics_data['clisi_label']=clisi(\n",
    "        X=embed_group.obsp[neigh_prefix+'distances'],\n",
    "        labels=embed_group.obs[args.group_key])\n",
    "# Group asw\n",
    "if ASW_GROUP or TESTING:\n",
    "    print('asw_group')\n",
    "    metrics['asw_group'], metrics['asw_group_macro'], metrics_data['asw_group_label']= asw_label(\n",
    "        X=embed_group.X, \n",
    "        labels=embed_group.obs[args.group_key])\n",
    "\n",
    "# Cluster classification\n",
    "if CLUSTER_CLASSIFICATION or TESTING:\n",
    "    print('cluster_classification')\n",
    "    metrics['nmi'], metrics['ari'], \\\n",
    "    metrics['jaccard'], metrics['jaccard_macro'], metrics_data['jaccard_label']=\\\n",
    "    cluster_classification(\n",
    "        labels=embed_group.obs[args.group_key],\n",
    "        clusters=embed_group.obs[neigh_prefix+'leiden'])\n",
    "\n",
    "if CLUSTER_OPTIMIZED or TESTING:\n",
    "    print('cluster_optmimized')\n",
    "    metrics['nmi_opt'], metrics['ari_opt'] =\\\n",
    "    cluster_classification_optimized(\n",
    "        X=embed_group.obsp[neigh_prefix+'connectivities'], \n",
    "        labels=embed_group.obs[args.group_key])\n",
    "\n",
    "if KNN_PURITY or TESTING:\n",
    "    print('knn_purity')\n",
    "    metrics['knn_purity_macro'],metrics_data['knn_purity']=\\\n",
    "    knn_purity(\n",
    "        distances=embed_group.obsp[neigh_prefix+'distances'],\n",
    "        labels=embed_group.obs[args.group_key])"
   ]
  },
  {
   "cell_type": "code",
   "execution_count": 10,
   "id": "9f2e8f35-3f07-4e25-8e00-1ad068b2a714",
   "metadata": {},
   "outputs": [
    {
     "name": "stdout",
     "output_type": "stream",
     "text": [
      "Full embedding equals eval embedding\n",
      "moransi\n"
     ]
    },
    {
     "name": "stderr",
     "output_type": "stream",
     "text": [
      "/om2/user/khrovati/miniconda/envs/csi/lib/python3.9/site-packages/umap/distances.py:1063: NumbaDeprecationWarning: \u001b[1mThe 'nopython' keyword argument was not supplied to the 'numba.jit' decorator. The implicit default value for this argument is currently False, but it will be changed to True in Numba 0.59.0. See https://numba.readthedocs.io/en/stable/reference/deprecation.html#deprecation-of-object-mode-fall-back-behaviour-when-using-jit for details.\u001b[0m\n",
      "  @numba.jit()\n",
      "/om2/user/khrovati/miniconda/envs/csi/lib/python3.9/site-packages/umap/distances.py:1071: NumbaDeprecationWarning: \u001b[1mThe 'nopython' keyword argument was not supplied to the 'numba.jit' decorator. The implicit default value for this argument is currently False, but it will be changed to True in Numba 0.59.0. See https://numba.readthedocs.io/en/stable/reference/deprecation.html#deprecation-of-object-mode-fall-back-behaviour-when-using-jit for details.\u001b[0m\n",
      "  @numba.jit()\n",
      "/om2/user/khrovati/miniconda/envs/csi/lib/python3.9/site-packages/umap/distances.py:1086: NumbaDeprecationWarning: \u001b[1mThe 'nopython' keyword argument was not supplied to the 'numba.jit' decorator. The implicit default value for this argument is currently False, but it will be changed to True in Numba 0.59.0. See https://numba.readthedocs.io/en/stable/reference/deprecation.html#deprecation-of-object-mode-fall-back-behaviour-when-using-jit for details.\u001b[0m\n",
      "  @numba.jit()\n",
      "/om2/user/khrovati/miniconda/envs/csi/lib/python3.9/site-packages/umap/umap_.py:660: NumbaDeprecationWarning: \u001b[1mThe 'nopython' keyword argument was not supplied to the 'numba.jit' decorator. The implicit default value for this argument is currently False, but it will be changed to True in Numba 0.59.0. See https://numba.readthedocs.io/en/stable/reference/deprecation.html#deprecation-of-object-mode-fall-back-behaviour-when-using-jit for details.\u001b[0m\n",
      "  @numba.jit()\n"
     ]
    }
   ],
   "source": [
    "# Moran's I\n",
    "if MORANSI or  TESTING:\n",
    "    # Load adata with expression and Moran's I base values and full embedding\n",
    "    adata_expr=sc.read(args.fn_expr)\n",
    "    moransi_base=pkl.load(open(args.fn_moransi,'rb'))\n",
    "    if os.path.exists(args.path+'embed_full.h5ad'):\n",
    "        embed_full=sc.read(args.path+'embed_full.h5ad')\n",
    "    else:\n",
    "        embed_full=embed.copy()\n",
    "        print('Full embedding equals eval embedding')\n",
    "    # Prepare for scaled/unscaled setting\n",
    "    if args.scaled:\n",
    "        # This could be done only in the case where embed_full is loaded anew as\n",
    "        # embed is already scaled. But it doesnt change much if normal-scaling 2x\n",
    "        sc.pp.scale(embed_full)\n",
    "    \n",
    "    # Compute Moran's I per celltype-sample group and obtain difference with base level\n",
    "    if MORANSI or TESTING:\n",
    "        print('moransi')\n",
    "        moransi_data=[]\n",
    "        for group_mi in moransi_base:\n",
    "            res=dict(group=group_mi['group'],\n",
    "                     system=group_mi['system'],\n",
    "                     batch=group_mi['batch'])\n",
    "            embed_sub=embed_full[\n",
    "                (embed_full.obs[args.group_key]==group_mi['group']).values&\n",
    "                (embed_full.obs[args.system_key]==str(group_mi['system'])).values&\n",
    "                (embed_full.obs[args.batch_key]==group_mi['batch']).values,:].copy()\n",
    "            # Check that there are enough cells for testing\n",
    "            if not TESTING or embed_sub.shape[0]>50:\n",
    "                sc.pp.neighbors(embed_sub, use_rep='X')\n",
    "                genes=group_mi['genes'].index\n",
    "                res['moransi_genes']=pd.Series(\n",
    "                    (sc.metrics._morans_i._morans_i(\n",
    "                        g=embed_sub.obsp['connectivities'],\n",
    "                        vals=adata_expr[embed_sub.obs_names,genes].X.T)+1)/2,\n",
    "                    index=genes)\n",
    "                res['moransi_diff']=(res['moransi_genes']/group_mi['genes']).mean()\n",
    "                moransi_data.append(res)\n",
    "        metrics_data['moransi_data']=moransi_data\n",
    "\n",
    "        # Average MI diffs across samples per cell type\n",
    "        metrics_data['moransi_label']=pd.DataFrame([\n",
    "            {'label':i['group'],'moransi':i['moransi_diff']} for i in moransi_data\n",
    "        ]).groupby('label').mean()\n",
    "        # Average MI diffs accross cell types\n",
    "        metrics['moransi']=metrics_data['moransi_label'].mean()[0]"
   ]
  },
  {
   "cell_type": "code",
   "execution_count": 11,
   "id": "4390bc34-6694-4cdc-bc8f-aa28b41a1df2",
   "metadata": {},
   "outputs": [
    {
     "name": "stdout",
     "output_type": "stream",
     "text": [
      "ilisi_batch_system\n"
     ]
    }
   ],
   "source": [
    "# Compute batch lisi metrics per system as else it would be confounded by system\n",
    "if ILISI_BATCH_SYSTEM or TESTING:\n",
    "    print('ilisi_batch_system')\n",
    "    for system in sorted(embed_group.obs[args.system_key].unique()):\n",
    "        embed_sub=embed_group[embed_group.obs[args.system_key]==system,:].copy()\n",
    "        sc.pp.neighbors(embed_sub, use_rep='X', n_neighbors=90)\n",
    "        metrics['ilisi_batch_system-'+system], metrics[\n",
    "            'ilisi_batch_macro_system-'+system], metrics_data[\n",
    "            'ilisi_batch_label_system-'+system]=ilisi(\n",
    "            X=embed_sub.obsp['distances'], \n",
    "            batches=embed_sub.obs[args.batch_key],\n",
    "            labels=embed_sub.obs[args.group_key])"
   ]
  },
  {
   "cell_type": "code",
   "execution_count": 12,
   "id": "b38bc0f7-8dca-4f54-a53b-48b090793026",
   "metadata": {},
   "outputs": [
    {
     "name": "stdout",
     "output_type": "stream",
     "text": [
      "{'ilisi_system': 0.07167578, 'clisi': 0.98681706, 'asw_group': 0.50798136, 'moransi': 0.5233653775476746, 'ilisi_batch_system-0': 0.36600846, 'ilisi_batch_system-1': 0.21113113, 'ilisi_system_macro': 0.18929459, 'clisi_macro': 0.90912515, 'asw_group_macro': 0.49831486, 'nmi': 0.6617105990443408, 'ari': 0.7529764239128652, 'jaccard': 0.7268798617113224, 'jaccard_macro': 0.37002375421600564, 'ilisi_batch_macro_system-0': 0.44049066, 'ilisi_batch_macro_system-1': 0.20440179, 'nmi_opt': 0.565943121476445, 'ari_opt': 0.4573503406259866, 'knn_purity': 0.38053909652329926, 'knn_purity_macro': 0.38053909652329926}\n"
     ]
    }
   ],
   "source": [
    "print(metrics)"
   ]
  },
  {
   "cell_type": "code",
   "execution_count": 16,
   "id": "427fed7d-bad3-4ed6-9274-4c16f906c7de",
   "metadata": {},
   "outputs": [],
   "source": [
    "# Save metricsß\n",
    "pkl.dump(metrics,open(fn_metrics,'wb'))\n",
    "pkl.dump(metrics_data,open(fn_metrics_data,'wb'))"
   ]
  },
  {
   "cell_type": "markdown",
   "id": "dfc863ac-6ee9-4dfe-95c0-6419355b114c",
   "metadata": {},
   "source": [
    "# End"
   ]
  },
  {
   "cell_type": "code",
   "execution_count": 14,
   "id": "936d22d9-90db-457d-9750-824bd6f7ec60",
   "metadata": {},
   "outputs": [
    {
     "name": "stdout",
     "output_type": "stream",
     "text": [
      "Finished metrics!\n"
     ]
    }
   ],
   "source": [
    "print('Finished metrics!')"
   ]
  },
  {
   "cell_type": "code",
   "execution_count": null,
   "id": "898fb40e-a994-4fc9-aee4-fa45d04196fc",
   "metadata": {},
   "outputs": [],
   "source": []
  }
 ],
 "metadata": {
  "jupytext": {
   "formats": "ipynb,py:percent"
  },
  "kernelspec": {
   "display_name": "csi",
   "language": "python",
   "name": "csi"
  },
  "language_info": {
   "codemirror_mode": {
    "name": "ipython",
    "version": 3
   },
   "file_extension": ".py",
   "mimetype": "text/x-python",
   "name": "python",
   "nbconvert_exporter": "python",
   "pygments_lexer": "ipython3",
   "version": "3.9.16"
  }
 },
 "nbformat": 4,
 "nbformat_minor": 5
}
