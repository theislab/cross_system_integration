{
 "cells": [
  {
   "cell_type": "code",
   "execution_count": 66,
   "id": "3aef4fb7",
   "metadata": {},
   "outputs": [],
   "source": [
    "import anndata as ad\n",
    "import scanpy as sc\n",
    "import pickle as pkl\n",
    "import pandas as pd\n",
    "import numpy as np\n",
    "import argparse\n",
    "import os\n",
    "import string\n",
    "import subprocess\n",
    "from pathlib import Path\n",
    "import glob\n",
    "import shutil\n",
    "\n",
    "from matplotlib.pyplot import rcParams\n",
    "import matplotlib.pyplot as plt\n",
    "import seaborn as sns\n",
    "\n",
    "import torch\n",
    "import random"
   ]
  },
  {
   "cell_type": "code",
   "execution_count": 97,
   "id": "44e1998d",
   "metadata": {
    "lines_to_next_cell": 0
   },
   "outputs": [
    {
     "data": {
      "text/plain": [
       "_StoreAction(option_strings=['--conda_env'], dest='conda_env', nargs=None, const=None, default=None, type=<class 'str'>, choices=None, required=True, help='Path to the conda env saturn is runnable in.', metavar=None)"
      ]
     },
     "execution_count": 97,
     "metadata": {},
     "output_type": "execute_result"
    }
   ],
   "source": [
    "parser = argparse.ArgumentParser()\n",
    "def intstr_to_bool(x):\n",
    "    return bool(int(x))\n",
    "def str_to_float_zeronone(x):\n",
    "    if x is None or x==\"0\":\n",
    "        return None\n",
    "    else:\n",
    "        return float(x)\n",
    "parser.add_argument('-n', '--name', required=False, type=str, default=None,\n",
    "                    help='name of replicate, if unspecified set to rSEED if seed is given '+\\\n",
    "                    'and else to blank string')\n",
    "parser.add_argument('-s', '--seed', required=False, type=int, default=None,\n",
    "                    help='random seed, if none it is randomly generated')\n",
    "parser.add_argument('-po', '--params_opt', required=False, type=str, default='',\n",
    "                    help='name of optimized params/test purpose')\n",
    "parser.add_argument('-pa', '--path_adata', required=True, type=str,\n",
    "                    help='full path to adata obj')\n",
    "parser.add_argument('-pa2', '--path_adata_2', required=False, type=str, default=\"\",\n",
    "                    help='full path to second adata obj')\n",
    "parser.add_argument('-ps', '--path_save', required=True, type=str,\n",
    "                    help='directory path for saving, creates subdir within it')\n",
    "parser.add_argument('-sk', '--system_key', required=True, type=str,\n",
    "                    help='obs col with system info')\n",
    "parser.add_argument('-sv', '--system_values', required=True, type=str,\n",
    "                    help='real titles corresponding to system indicators (e.g. species).'+\\\n",
    "                    'Given as dash-separated list, eg. \"mouse-human\"'+\\\n",
    "                   'If 1 adata: order is based on sorting system column values as strings.'+\\\n",
    "                   'If 2 adatas: system value for 1st is mapped to first val here'+\\\n",
    "                   'and second dataset to 2nd val.')\n",
    "parser.add_argument('-vnk', '--var_name_keys', required=False, type=str,default=None,\n",
    "                    help='Var name col with gene names. If None use var_names directly.'+\\\n",
    "                   'Given as dash separated list to be used in species 1 and 2 adatas, e.g.'+\\\n",
    "                   '\"gs_mm-gs_hs\".')\n",
    "parser.add_argument('-gk', '--group_key', required=True, type=str,\n",
    "                    help='obs col with group info')\n",
    "parser.add_argument('-bk', '--batch_key', required=True, type=str,\n",
    "                    help='obs col with batch info')\n",
    "parser.add_argument('-ck', '--cluster_key', required=True, type=str,\n",
    "                    help='key to obs that contains clusters for each system.'+\\\n",
    "                    ' If empty str will recompute')\n",
    "# Maybe change to 40+10 for 450k and 150+30 for 90k data\n",
    "parser.add_argument('-me', '--max_epochs', required=False, type=int,default=250,\n",
    "                    help='max_epochs for training. For 350k data 60 for 50k data 250.')\n",
    "parser.add_argument('-edp', '--epochs_detail_plot', required=False, type=int, default=60,\n",
    "                    help='Loss subplot from this epoch on')\n",
    "\n",
    "parser.add_argument('-nce', '--n_cells_eval', required=False, type=int, default=-1,  \n",
    "                    help='Max cells to be used for eval, if -1 use all cells. '+\\\n",
    "                   'For cell subsetting seed 0 is always used to be reproducible accros '+\\\n",
    "                   'runs with different seeds.')\n",
    "\n",
    "parser.add_argument('-t', '--testing', required=False, type=intstr_to_bool,default='0',\n",
    "                    help='Testing mode')\n",
    "\n",
    "\n",
    "\n",
    "parser.add_argument('--num_macrogenes', required=False, type=int, default=1500,\n",
    "                    help='Number of macrogenes')\n",
    "parser.add_argument('--hv_genes', required=False, type=int, default=6000,\n",
    "                    help='Number of HVG genes to be limited to in SATURN')\n",
    "parser.add_argument('--hv_span', required=False, type=float, default=0.3,\n",
    "                    help='hv_span parameter for seurat_v3 HVG selection.')\n",
    "parser.add_argument('-nl','--n_latent', required=False, type=int, default=32,\n",
    "                    help='Latent dim in SATURN')\n",
    "parser.add_argument('-nh','--n_hidden', required=False, type=int, default=256,\n",
    "                    help='Dim of hidden layers in SATURN')\n",
    "parser.add_argument('-mep','--max_epochs_pretrain', required=False, type=int, default=50,\n",
    "                    help='Pretrain Epochs. For 350k data 50, for 50k data 200.')\n",
    "parser.add_argument('--pe_sim_penalty',required=False, type=float, default=1.0,\n",
    "                    help='Protein Embedding similarity to Macrogene loss weight for Saturn.')\n",
    "\n",
    "# SATURN INDEPENDENT CODE & ENV INFO\n",
    "parser.add_argument('--saturn_emb', required=True, type=str,\n",
    "                    help='Path to saturn emb. For example: .../protein_embeddings_export/ESM2/...')\n",
    "parser.add_argument('--saturn_code', required=True, type=str,\n",
    "                    help='Path to saturn cloned code from git. Please use the fixed repo.')\n",
    "parser.add_argument('--conda_env', required=True, type=str,\n",
    "                    help='Path to the conda env saturn is runnable in.')"
   ]
  },
  {
   "cell_type": "code",
   "execution_count": 98,
   "id": "28470b7b",
   "metadata": {},
   "outputs": [
    {
     "name": "stdout",
     "output_type": "stream",
     "text": [
      "Namespace(name=None, seed=1, params_opt='', path_adata='/om2/user/khrovati/data/cross_system_integration/pancreas_conditions_MIA_HPAP2/test/combined-mmPart_nonortholHVG.h5ad', path_adata_2='/om2/user/khrovati/data/cross_system_integration/pancreas_conditions_MIA_HPAP2/test/combined-hsPart_nonortholHVG.h5ad', path_save='/om2/user/khrovati/data/cross_system_integration/eval/test/integration/', system_key='system', system_values='mouse|human', var_name_keys=None, group_key='cell_type_eval', batch_key='batch', cluster_key='leiden_system', max_epochs=2, epochs_detail_plot=0, n_cells_eval=1000, testing=True, num_macrogenes=500, hv_genes=1000, hv_span=1.0, n_latent=32, n_hidden=256, max_epochs_pretrain=1, pe_sim_penalty=1.0, saturn_emb='/om2/user/khrovati/data/saturn/protein_embeddings_export/ESM2/', saturn_code='/om2/user/khrovati/miniconda/envs/saturn/lib/python3.9/site-packages/SATURN_fix/', conda_env='saturn')\n"
     ]
    }
   ],
   "source": [
    "# Set args for manual testing\n",
    "if False:\n",
    "    args= parser.parse_args(args=[\n",
    "        # Amir\n",
    "        # With one data with common vars\n",
    "        # '-pa','/Users/amirali.moinfar/Downloads/pancreas_conditions_MIA_HPAP2/combined_orthologuesHVG.h5ad',\n",
    "        # With two data with gene graph\n",
    "        # '-pa','/Users/amirali.moinfar/Downloads/pancreas_conditions_MIA_HPAP2/combined-mmPart_nonortholHVG.h5ad',\n",
    "        # '-pa2','/Users/amirali.moinfar/Downloads/pancreas_conditions_MIA_HPAP2/combined-hsPart_nonortholHVG.h5ad',\n",
    "        # '-ps','/Users/amirali.moinfar/tmp/cross_species_prediction/eval/test/integration/',\n",
    "        # Env info\n",
    "        # '--saturn_emb', os.path.expanduser(\"~/Downloads/protein_embeddings_export/ESM2/\"),\n",
    "        # '--saturn_code', os.path.expanduser(\"~/projects/clones/SATURN/\"),\n",
    "        # '--conda_env', \"cs_integration_saturn\",\n",
    "        \n",
    "        # Karin\n",
    "        '-ps','/om2/user/khrovati/data/cross_system_integration/eval/test/integration/',\n",
    "        # 1 adata\n",
    "        # '-pa','/om2/user/khrovati/data/cross_system_integration/pancreas_conditions_MIA_HPAP2/test/combined_orthologuesHVG.h5ad',\n",
    "        # '--var_name_keys','gs_mm-gs_hs',\n",
    "        # 2 adatas\n",
    "        '-pa','/om2/user/khrovati/data/cross_system_integration/pancreas_conditions_MIA_HPAP2/test/combined-mmPart_nonortholHVG.h5ad',\n",
    "        '-pa2','/om2/user/khrovati/data/cross_system_integration/pancreas_conditions_MIA_HPAP2/test/combined-hsPart_nonortholHVG.h5ad',\n",
    "        # Env info\n",
    "        '--saturn_emb', '/om2/user/khrovati/data/saturn/protein_embeddings_export/ESM2/',\n",
    "        '--saturn_code', \"/om2/user/khrovati/miniconda/envs/saturn/lib/python3.9/site-packages/SATURN_fix/\",\n",
    "        '--conda_env', 'saturn',\n",
    "        \n",
    "        '-sk','system',\n",
    "        '-sv','mouse-human',\n",
    "        '-gk','cell_type_eval',\n",
    "        '-bk','batch',\n",
    "        '-ck','leiden_system',\n",
    "        '-me','2',\n",
    "        '-edp','0',\n",
    "        \n",
    "        \n",
    "        '-s','1',\n",
    "                \n",
    "        '-nce','1000',\n",
    "        \n",
    "        '-t','1',\n",
    "\n",
    "        '--max_epochs_pretrain', '1',\n",
    "        '--hv_genes', '1000',\n",
    "        '--num_macrogenes', '500',\n",
    "        '--hv_span', '1.',  # Otherwise we get error on sc.pp.highly_variable_genes in SATURN because some batches have a few cells\n",
    "\n",
    "    ])\n",
    "# Read command line args\n",
    "else:\n",
    "    args, args_unknown = parser.parse_known_args()\n",
    "    \n",
    "print(args)\n",
    "\n",
    "TESTING=args.testing\n",
    "\n",
    "if args.name is None:\n",
    "    if args.seed is not None:\n",
    "        args.name='r'+str(args.seed)"
   ]
  },
  {
   "cell_type": "code",
   "execution_count": 69,
   "id": "2432cade",
   "metadata": {},
   "outputs": [],
   "source": [
    "# Saturn params\n",
    "SATURN_EMB_PATH = args.saturn_emb\n",
    "SATURN_GIT_LOCATION = args.saturn_code\n",
    "SATURN_CONDA_ENV = args.conda_env"
   ]
  },
  {
   "cell_type": "code",
   "execution_count": 70,
   "id": "e14d9fc7",
   "metadata": {},
   "outputs": [],
   "source": [
    "# Will data be loaded form 1 or 2 adata files\n",
    "SINGLE_ADATA = True\n",
    "if args.path_adata_2 != \"\":\n",
    "    SINGLE_ADATA = False"
   ]
  },
  {
   "cell_type": "code",
   "execution_count": 71,
   "id": "99c0f4ba",
   "metadata": {},
   "outputs": [],
   "source": [
    "# saturn params\n",
    "num_macrogenes = args.num_macrogenes\n",
    "hv_genes = args.hv_genes\n",
    "latent_dim = args.n_latent\n",
    "hidden_dim = args.n_hidden\n",
    "\n",
    "pretrain_epochs = args.max_epochs_pretrain\n",
    "epochs = args.max_epochs - pretrain_epochs\n",
    "assert epochs > 0"
   ]
  },
  {
   "cell_type": "code",
   "execution_count": 73,
   "id": "a7c32f74",
   "metadata": {},
   "outputs": [
    {
     "name": "stdout",
     "output_type": "stream",
     "text": [
      "PATH_SAVE= /om2/user/khrovati/data/cross_system_integration/eval/test/integration/saturn_1T52vRcM-TEST/\n"
     ]
    }
   ],
   "source": [
    "# Make folder for saving\n",
    "path_save=args.path_save+'saturn'+\\\n",
    "    '_'+''.join(np.random.permutation(list(string.ascii_letters)+list(string.digits))[:8])+\\\n",
    "    ('-TEST' if TESTING else '')+\\\n",
    "    os.sep\n",
    "\n",
    "Path(path_save).mkdir(parents=True, exist_ok=False)\n",
    "print(\"PATH_SAVE=\",path_save)"
   ]
  },
  {
   "cell_type": "code",
   "execution_count": 74,
   "id": "80b7663a",
   "metadata": {},
   "outputs": [],
   "source": [
    "# Set seed for eval\n",
    "# Set only here below as need randomness for generation of out directory name (above)\n",
    "if args.seed is not None:\n",
    "    torch.manual_seed(args.seed)\n",
    "    random.seed(args.seed)\n",
    "    np.random.seed(args.seed)"
   ]
  },
  {
   "cell_type": "code",
   "execution_count": 75,
   "id": "614ef2c7",
   "metadata": {},
   "outputs": [],
   "source": [
    "# Save args\n",
    "pkl.dump(args,open(path_save+'args.pkl','wb'))"
   ]
  },
  {
   "cell_type": "markdown",
   "id": "9da75380",
   "metadata": {},
   "source": [
    "## Integration"
   ]
  },
  {
   "cell_type": "markdown",
   "id": "f016884f",
   "metadata": {},
   "source": [
    "### Prepare data"
   ]
  },
  {
   "cell_type": "code",
   "execution_count": 76,
   "id": "80020c7a",
   "metadata": {},
   "outputs": [
    {
     "data": {
      "text/plain": [
       "(AnnData object with n_obs × n_vars = 28977 × 3000\n",
       "     obs: 'batch', 'mm_study', 'mm_sex', 'mm_age', 'mm_study_sample_design', 'mm_hc_gene_programs_parsed', 'mm_leiden_r1.5_parsed', 'cell_type_eval', 'system', 'leiden_system'\n",
       "     obsm: 'X_pca_system'\n",
       "     layers: 'counts',\n",
       " AnnData object with n_obs × n_vars = 11345 × 3000\n",
       "     obs: 'batch', 'hs_Sex', 'hs_Diabetes Status', 'cell_type_eval', 'system', 'leiden_system'\n",
       "     obsm: 'X_pca_system'\n",
       "     layers: 'counts',\n",
       " {'spc_0': 'mouse', 'spc_1': 'human'})"
      ]
     },
     "execution_count": 76,
     "metadata": {},
     "output_type": "execute_result"
    }
   ],
   "source": [
    "adata=sc.read(args.path_adata)\n",
    "# Since SATURN interface is csv file and it only accepts str as species, we have to change this column.\n",
    "adata.obs[args.system_key] = \"spc_\" + adata.obs[args.system_key].astype(\"str\")\n",
    "if SINGLE_ADATA:\n",
    "    adata_2 = None\n",
    "    system_val_dict = dict(zip(sorted(adata.obs[args.system_key].unique()), args.system_values.split(\"-\")))\n",
    "else:\n",
    "    adata_2 = sc.read(args.path_adata_2)\n",
    "    adata_2.obs[args.system_key] = \"spc_\" + adata_2.obs[args.system_key].astype(\"str\")\n",
    "    system_val_dict = {\n",
    "        adata.obs[args.system_key].unique()[0]: args.system_values.split(\"-\")[0],\n",
    "        adata_2.obs[args.system_key].unique()[0]: args.system_values.split(\"-\")[1],\n",
    "    }\n",
    "adata, adata_2, system_val_dict"
   ]
  },
  {
   "cell_type": "code",
   "execution_count": 77,
   "id": "102ae74f",
   "metadata": {},
   "outputs": [],
   "source": [
    "if TESTING:\n",
    "    # Make data smaller if testing the script\n",
    "    random_idx=np.random.permutation(adata.obs_names)[:5000]\n",
    "    adata=adata[random_idx,:].copy()\n",
    "    # Set some groups to nan for testing if this works\n",
    "    adata.obs[args.group_key]=[np.nan]*10+list(adata.obs[args.group_key].iloc[10:])\n",
    "    \n",
    "    if not SINGLE_ADATA:\n",
    "        adata=adata[:2500, :].copy()\n",
    "        random_idx=np.random.permutation(adata_2.obs_names)[:2500]\n",
    "        adata_2=adata_2[random_idx,:].copy()\n",
    "        # Set some groups to nan for testing if this works\n",
    "        adata_2.obs[args.group_key]=[np.nan]*10+list(adata_2.obs[args.group_key].iloc[10:])"
   ]
  },
  {
   "cell_type": "code",
   "execution_count": 78,
   "id": "c9425f78",
   "metadata": {},
   "outputs": [
    {
     "data": {
      "text/plain": [
       "['spc_0', 'spc_1']"
      ]
     },
     "execution_count": 78,
     "metadata": {},
     "output_type": "execute_result"
    }
   ],
   "source": [
    "# List systems\n",
    "if SINGLE_ADATA:\n",
    "    total_mods = list(adata.obs[args.system_key].unique())\n",
    "else:\n",
    "    total_mods = list(sorted(\n",
    "        list(adata.obs[args.system_key].unique()) +\n",
    "        list(adata_2.obs[args.system_key].unique())))\n",
    "\n",
    "total_mods"
   ]
  },
  {
   "cell_type": "code",
   "execution_count": 79,
   "id": "61640f17",
   "metadata": {},
   "outputs": [],
   "source": [
    "def prepare_adata(adata_mod, cluster_key=\"\", leiden_resolution=1., n_neighbors=15,\n",
    "                  var_name_key=None):\n",
    "    if cluster_key == \"\":\n",
    "        adata_mod.X = adata_mod.layers['counts'].copy()\n",
    "        sc.pp.normalize_total(adata_mod)\n",
    "        sc.pp.log1p(adata_mod)\n",
    "        sc.pp.scale(adata_mod)\n",
    "        sc.pp.pca(adata_mod)\n",
    "        sc.pp.neighbors(adata_mod, n_neighbors=n_neighbors, use_rep='X_pca')\n",
    "        sc.tl.leiden(adata_mod, resolution=leiden_resolution)\n",
    "        adata_mod.obs['leiden'] = (\n",
    "            adata_mod.obs[args.system_key].astype(str) +\n",
    "            adata_mod.obs['leiden'].astype(str)).astype('category')\n",
    "        \n",
    "    adata_mod.X = adata_mod.layers['counts'].copy()\n",
    "    # Attention: we assume var.index of dataframes have correct gene symbols\n",
    "    # assert adata_mod.var['gs_mm'].is_unique\n",
    "    # adata_mod.var.index = adata_mod.var['gs_mm']\n",
    "    if var_name_key is not None:\n",
    "        adata_mod.var_names=adata_mod.var[var_name_key]"
   ]
  },
  {
   "cell_type": "code",
   "execution_count": 80,
   "id": "ae77e3a1",
   "metadata": {},
   "outputs": [],
   "source": [
    "# Prepare adata\n",
    "mods_adata = {}\n",
    "if SINGLE_ADATA:\n",
    "    for mod in total_mods:\n",
    "        mods_adata[mod] = adata[adata.obs[args.system_key] == mod]\n",
    "        #print(f\"mod: {mod}\\n\", mods_adata[mod])\n",
    "else:\n",
    "    for adata_current in [adata, adata_2]:\n",
    "        mod = adata_current.obs[args.system_key].unique()[0]\n",
    "        mods_adata[mod] = adata_current\n",
    "        #print(f\"mod: {mod}\\n\", mods_adata[mod])"
   ]
  },
  {
   "cell_type": "code",
   "execution_count": 81,
   "id": "a2a0506c",
   "metadata": {},
   "outputs": [
    {
     "name": "stdout",
     "output_type": "stream",
     "text": [
      "mod: spc_0\n",
      " AnnData object with n_obs × n_vars = 2500 × 3000\n",
      "    obs: 'batch', 'mm_study', 'mm_sex', 'mm_age', 'mm_study_sample_design', 'mm_hc_gene_programs_parsed', 'mm_leiden_r1.5_parsed', 'cell_type_eval', 'system', 'leiden_system'\n",
      "    obsm: 'X_pca_system'\n",
      "    layers: 'counts'\n",
      "/om2/user/khrovati/data/cross_system_integration/eval/test/integration/saturn_1T52vRcM-TEST/mod_spc_0.h5ad\n",
      "/om2/user/khrovati/data/saturn/protein_embeddings_export/ESM2/mouse_embedding.torch\n",
      "mod: spc_1\n",
      " AnnData object with n_obs × n_vars = 2500 × 3000\n",
      "    obs: 'batch', 'hs_Sex', 'hs_Diabetes Status', 'cell_type_eval', 'system', 'leiden_system'\n",
      "    obsm: 'X_pca_system'\n",
      "    layers: 'counts'\n",
      "/om2/user/khrovati/data/cross_system_integration/eval/test/integration/saturn_1T52vRcM-TEST/mod_spc_1.h5ad\n",
      "/om2/user/khrovati/data/saturn/protein_embeddings_export/ESM2/human_embedding.torch\n"
     ]
    }
   ],
   "source": [
    "# Prepare data\n",
    "species = []\n",
    "paths = []\n",
    "prot_embs = []\n",
    "var_name_keys=dict(zip(total_mods,\n",
    "                       args.var_name_keys.split('-') if args.var_name_keys is not None \n",
    "                       else (None,None)))\n",
    "for mod in total_mods:\n",
    "    adata_mod = mods_adata[mod].copy()\n",
    "    prepare_adata(adata_mod, cluster_key=args.cluster_key,var_name_key=var_name_keys[mod])\n",
    "    print(f\"mod: {mod}\\n\", adata_mod)\n",
    "    saturn_adata_path = os.path.join(path_save, f\"mod_{mod}.h5ad\")\n",
    "    adata_mod.write(saturn_adata_path)\n",
    "    mods_adata[mod] = adata_mod\n",
    "    species.append(mod)\n",
    "    paths.append(saturn_adata_path)\n",
    "    prot_emb_path=os.path.join(SATURN_EMB_PATH, f\"{system_val_dict[mod]}_embedding.torch\")\n",
    "    prot_embs.append(prot_emb_path)\n",
    "    print(saturn_adata_path)\n",
    "    print(prot_emb_path)\n",
    "\n",
    "df = pd.DataFrame(columns=[\"path\", \"species\", \"embedding_path\"])\n",
    "df[\"species\"] = species\n",
    "df[\"path\"] = paths\n",
    "df[\"embedding_path\"] = prot_embs"
   ]
  },
  {
   "cell_type": "code",
   "execution_count": 82,
   "id": "5e9afd41",
   "metadata": {},
   "outputs": [],
   "source": [
    "run_info_path = os.path.join(path_save, \"run_info_for_saturn.csv\")\n",
    "df.to_csv(run_info_path, index=False)"
   ]
  },
  {
   "cell_type": "markdown",
   "id": "d9d673f4",
   "metadata": {},
   "source": [
    "### Training"
   ]
  },
  {
   "cell_type": "code",
   "execution_count": 83,
   "id": "e8e3ff58",
   "metadata": {},
   "outputs": [],
   "source": [
    "# The following lines are changes in SATURN:\n",
    "# 1. https://github.com/snap-stanford/SATURN/blame/main/model/saturn_model.py#L215\n",
    "# >> idx1 = torch.randint(low=0, high=embeddings.shape[1], size=(x1.shape[0],)) \n",
    "# << idx1 = torch.randint(low=0, high=x1.shape[0], size=(x1.shape[0],)) "
   ]
  },
  {
   "cell_type": "code",
   "execution_count": 84,
   "id": "0d470ad6",
   "metadata": {},
   "outputs": [
    {
     "name": "stdout",
     "output_type": "stream",
     "text": [
      "Train\n"
     ]
    }
   ],
   "source": [
    "print('Train')"
   ]
  },
  {
   "cell_type": "code",
   "execution_count": 99,
   "id": "e1227a0e",
   "metadata": {},
   "outputs": [],
   "source": [
    "# Saturn process params\n",
    "saturn_label_key = args.cluster_key or \"leiden\"\n",
    "saturn_wcd = os.path.join(path_save, \"saturn_wcd\")\n",
    "Path(saturn_wcd).mkdir(parents=True, exist_ok=True)\n",
    "command = (\n",
    "    f\"conda run -n {SATURN_CONDA_ENV} --live-stream\".split(\" \") +\n",
    "    [\"python\", \"train-saturn.py\", \n",
    "     \"--in_data\", run_info_path, \"--in_label_col\", saturn_label_key, \"--ref_label_col\", saturn_label_key, \n",
    "     \"--non_species_batch_col\", args.batch_key,\n",
    "     \"--work_dir\", saturn_wcd,\n",
    "     \"--centroids_init_path\", os.path.join(saturn_wcd, \"centroids_init_path.pkl\"),\n",
    "     \"--num_macrogenes\", str(num_macrogenes), \"--hv_genes\", str(hv_genes), \"--hv_span\", str(args.hv_span), \n",
    "     \"--pe_sim_penalty\",str(args.pe_sim_penalty),\n",
    "     \"--model_dim\", str(latent_dim), \"--hidden_dim\", str(hidden_dim),\n",
    "     \"--pretrain_epochs\", str(pretrain_epochs), \"--epochs\", str(epochs),\n",
    "     *([\"--pretrain\"] if pretrain_epochs > 0 else []), '--seed', str(args.seed)]\n",
    ")"
   ]
  },
  {
   "cell_type": "code",
   "execution_count": 100,
   "id": "077eeaed",
   "metadata": {},
   "outputs": [
    {
     "name": "stdout",
     "output_type": "stream",
     "text": [
      "conda run -n saturn --live-stream python train-saturn.py --in_data /om2/user/khrovati/data/cross_system_integration/eval/test/integration/saturn_1T52vRcM-TEST/run_info_for_saturn.csv --in_label_col leiden_system --ref_label_col leiden_system --non_species_batch_col batch --work_dir /om2/user/khrovati/data/cross_system_integration/eval/test/integration/saturn_1T52vRcM-TEST/saturn_wcd --centroids_init_path /om2/user/khrovati/data/cross_system_integration/eval/test/integration/saturn_1T52vRcM-TEST/saturn_wcd/centroids_init_path.pkl --num_macrogenes 500 --hv_genes 1000 --hv_span 1.0 --pe_sim_penalty 1.0 --model_dim 32 --hidden_dim 256 --pretrain_epochs 1 --epochs 1 --pretrain --seed 1\n"
     ]
    }
   ],
   "source": [
    "print(\" \".join(command))"
   ]
  },
  {
   "cell_type": "code",
   "execution_count": 87,
   "id": "32de2748",
   "metadata": {},
   "outputs": [
    {
     "name": "stdout",
     "output_type": "stream",
     "text": [
      "Epoch 1: L1 Loss 0.0 Rank Loss 17.6165828704834, Avg Loss spc_0: 942, Avg Loss spc_1: 1885: 100%|██████████| 1/1 [00:00<00:00,  1.60it/s]\n",
      "100%|██████████| 5/5 [00:01<00:00,  4.34it/s]\n",
      "100%|██████████| 5/5 [00:00<00:00, 14.80it/s]\n",
      "Using Device 0\n",
      "Set seed to 1\n",
      "Using Batch Labels, 4\n",
      "After loading the anndata spc_0 View of AnnData object with n_obs × n_vars = 2500 × 2904\n",
      "    obs: 'batch', 'mm_study', 'mm_sex', 'mm_age', 'mm_study_sample_design', 'mm_hc_gene_programs_parsed', 'mm_leiden_r1.5_parsed', 'cell_type_eval', 'system', 'leiden_system', 'species', 'species_type_label', 'truth_labels', 'batch_labels', 'ref_labels'\n",
      "    obsm: 'X_pca_system'\n",
      "    layers: 'counts'\n",
      "After loading the anndata spc_1 View of AnnData object with n_obs × n_vars = 2500 × 2673\n",
      "    obs: 'batch', 'hs_Sex', 'hs_Diabetes Status', 'cell_type_eval', 'system', 'leiden_system', 'species', 'species_type_label', 'truth_labels', 'batch_labels', 'ref_labels'\n",
      "    obsm: 'X_pca_system'\n",
      "    layers: 'counts'\n",
      "Making Centroids\n",
      "Saved centroids to /om2/user/khrovati/data/cross_system_integration/eval/test/integration/saturn_1T52vRcM-TEST/saturn_wcd/centroids_init_path.pkl\n",
      "Pretraining...\n",
      "Saving Pretrain AnnData\n",
      "-----------------------------\n",
      "***STARTING METRIC LEARNING***\n",
      "***STARTING METRIC TRAINING***\n",
      "Epoch 1 Iteration 0: Loss = 0.10346388071775436, Number of mined triplets = 341137\n",
      "Saving Final AnnData\n",
      "Final AnnData Path: /om2/user/khrovati/data/cross_system_integration/eval/test/integration/saturn_1T52vRcM-TEST/saturn_wcd/saturn_results/test32_data_mod_spc_0_mod_spc_1_org_saturn_seed_1.h5ad\n",
      "Final Triplets csv Path: /om2/user/khrovati/data/cross_system_integration/eval/test/integration/saturn_1T52vRcM-TEST/saturn_wcd/saturn_results/test32_data_mod_spc_0_mod_spc_1_org_saturn_seed_1_triplets.csv\n",
      "Final Epoch scores csv Path: /om2/user/khrovati/data/cross_system_integration/eval/test/integration/saturn_1T52vRcM-TEST/saturn_wcd/saturn_results/test32_data_mod_spc_0_mod_spc_1_org_saturn_seed_1_epoch_scores.csv\n",
      "Final celltype_id Path: /om2/user/khrovati/data/cross_system_integration/eval/test/integration/saturn_1T52vRcM-TEST/saturn_wcd/saturn_results/test32_data_mod_spc_0_mod_spc_1_org_saturn_seed_1_celltype_id.pkl\n",
      "\n"
     ]
    }
   ],
   "source": [
    "# Train saturn\n",
    "process_saturn = subprocess.Popen(command, cwd=SATURN_GIT_LOCATION,\n",
    "                          stdout=subprocess.PIPE, stderr=subprocess.STDOUT)\n",
    "# Make sure that process has finished\n",
    "res=process_saturn.communicate()\n",
    "# Save stdout from the child script\n",
    "for line in res[0].decode(encoding='utf-8').split('\\n'):\n",
    "     print(line)\n",
    "# Check that child process did not fail - if this was not checked then\n",
    "# the status of the whole job would be succesfull \n",
    "# even if the child failed as error wouldn be passed upstream\n",
    "if process_saturn.returncode != 0:\n",
    "    raise ValueError('Process saturn integration failed with', process_saturn.returncode)"
   ]
  },
  {
   "cell_type": "code",
   "execution_count": 88,
   "id": "282acb72",
   "metadata": {},
   "outputs": [
    {
     "data": {
      "text/plain": [
       "'test32_data_mod_spc_0_mod_spc_1_org_saturn_seed_1'"
      ]
     },
     "execution_count": 88,
     "metadata": {},
     "output_type": "execute_result"
    }
   ],
   "source": [
    "# Get saved output files\n",
    "h5ad_output_filename = glob.glob(os.path.join(saturn_wcd, \"saturn_results\", f\"*_seed_{args.seed}.h5ad\"))\n",
    "assert len(h5ad_output_filename) == 1\n",
    "h5ad_output_filename = h5ad_output_filename[0]\n",
    "run_name = h5ad_output_filename.split(\"/\")[-1].split(\".h5ad\")[0]\n",
    "run_name"
   ]
  },
  {
   "cell_type": "markdown",
   "id": "29fe9b32",
   "metadata": {},
   "source": [
    "### Eval"
   ]
  },
  {
   "cell_type": "markdown",
   "id": "ceae42fb",
   "metadata": {},
   "source": [
    "#### Losses"
   ]
  },
  {
   "cell_type": "markdown",
   "id": "acefd9fc",
   "metadata": {},
   "source": [
    "#### Embedding"
   ]
  },
  {
   "cell_type": "code",
   "execution_count": 89,
   "id": "d00b5985",
   "metadata": {},
   "outputs": [
    {
     "name": "stdout",
     "output_type": "stream",
     "text": [
      "Get embedding\n"
     ]
    }
   ],
   "source": [
    "print('Get embedding')"
   ]
  },
  {
   "cell_type": "code",
   "execution_count": 90,
   "id": "c1356e78",
   "metadata": {},
   "outputs": [
    {
     "data": {
      "text/plain": [
       "AnnData object with n_obs × n_vars = 5000 × 32\n",
       "    obs: 'labels', 'labels2', 'ref_labels', 'species', 'batch_labels'\n",
       "    obsm: 'macrogenes'"
      ]
     },
     "execution_count": 90,
     "metadata": {},
     "output_type": "execute_result"
    }
   ],
   "source": [
    "latent = ad.read(h5ad_output_filename)\n",
    "latent"
   ]
  },
  {
   "cell_type": "code",
   "execution_count": 91,
   "id": "b4ad710e",
   "metadata": {},
   "outputs": [
    {
     "name": "stdout",
     "output_type": "stream",
     "text": [
      "N cells for eval: 1000\n"
     ]
    }
   ],
   "source": [
    "# Prepare embedding adatas\n",
    "if SINGLE_ADATA:\n",
    "    all_obs_names = list(adata.obs_names)\n",
    "    obs = adata.obs\n",
    "else:\n",
    "    all_obs_names = list(adata.obs_names) + list(adata_2.obs_names)\n",
    "    obs = pd.concat([adata.obs, adata_2.obs], axis=0)\n",
    "\n",
    "embed_full = sc.AnnData(latent[all_obs_names].X, obs=obs.loc[all_obs_names,:].copy())\n",
    "embed_full.obs[args.system_key] = embed_full.obs[args.system_key].str.split(\"spc_\").str[1]\n",
    "cells_eval = all_obs_names if args.n_cells_eval==-1 else \\\n",
    "    np.random.RandomState(seed=0).permutation(all_obs_names)[:args.n_cells_eval]\n",
    "print('N cells for eval:',cells_eval.shape[0])\n",
    "embed = embed_full[cells_eval].copy()"
   ]
  },
  {
   "cell_type": "code",
   "execution_count": 92,
   "id": "ef8485a9",
   "metadata": {},
   "outputs": [],
   "source": [
    "# Make system categorical, also for metrics below\n",
    "embed.obs[args.system_key]=embed.obs[args.system_key].astype(str)\n",
    "embed_full.obs[args.system_key]=embed_full.obs[args.system_key].astype(str)"
   ]
  },
  {
   "cell_type": "code",
   "execution_count": 93,
   "id": "a1c29937",
   "metadata": {},
   "outputs": [],
   "source": [
    "# Save embed\n",
    "embed.write(path_save+'embed.h5ad')\n",
    "embed_full.write(path_save+'embed_full.h5ad')"
   ]
  },
  {
   "cell_type": "code",
   "execution_count": 94,
   "id": "cc3ba239-05c3-4b72-be8d-0de2dcee4c60",
   "metadata": {},
   "outputs": [],
   "source": [
    "# Clean up unnecesary data\n",
    "for saturn_adata_path in df['path']:\n",
    "    os.remove(saturn_adata_path)\n",
    "del latent.X\n",
    "latent.write(h5ad_output_filename)\n",
    "os.remove(h5ad_output_filename.replace('.h5ad','_pretrain.h5ad'))"
   ]
  },
  {
   "cell_type": "code",
   "execution_count": 95,
   "id": "d4629757",
   "metadata": {},
   "outputs": [
    {
     "name": "stdout",
     "output_type": "stream",
     "text": [
      "Finished integration!\n"
     ]
    }
   ],
   "source": [
    "print('Finished integration!')"
   ]
  },
  {
   "cell_type": "code",
   "execution_count": null,
   "id": "d4d80c47-2c86-4b63-a27b-ca576ced4865",
   "metadata": {},
   "outputs": [],
   "source": []
  }
 ],
 "metadata": {
  "jupytext": {
   "formats": "ipynb,py:percent"
  },
  "kernelspec": {
   "display_name": "saturn",
   "language": "python",
   "name": "saturn"
  },
  "language_info": {
   "codemirror_mode": {
    "name": "ipython",
    "version": 3
   },
   "file_extension": ".py",
   "mimetype": "text/x-python",
   "name": "python",
   "nbconvert_exporter": "python",
   "pygments_lexer": "ipython3",
   "version": "3.9.17"
  }
 },
 "nbformat": 4,
 "nbformat_minor": 5
}
